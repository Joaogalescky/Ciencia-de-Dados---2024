{
  "cells": [
    {
      "cell_type": "markdown",
      "metadata": {
        "id": "view-in-github",
        "colab_type": "text"
      },
      "source": [
        "<a href=\"https://colab.research.google.com/github/Joaogalescky/Ciencia-de-Dados---2024/blob/main/01_Sequencias_listas.ipynb\" target=\"_parent\"><img src=\"https://colab.research.google.com/assets/colab-badge.svg\" alt=\"Open In Colab\"/></a>"
      ]
    },
    {
      "cell_type": "markdown",
      "metadata": {
        "id": "s-yOOtmANRZe"
      },
      "source": [
        "# Listas\n",
        "\n",
        "Uma lista é um conjunto de elementos, que podem ser de qualquer tipo. Uma lista é definida por elementos entre colchetes (ou parênteses angulares, rs) (`[` `]`), separados por vírgulas. Também pode-se criar uma lista utilizando a função `list()`.\n",
        "\n",
        "**Exemplo**\n",
        "\n",
        "Uma lista com números inteiros. Observe o tipo da variável `li`, e veja que cada elemento pode ser acessado pela sua posição.\n",
        "```python\n",
        "li = [1,2,3,4,5]\n",
        "print(type(li)) #retorna list\n",
        "print(li[0]) #1\n",
        "print(li[1]) #2\n",
        "print(li[4]) #5\n",
        "```\n",
        "\n",
        "**Atividade**\n",
        "\n",
        "- Execute o exemplo acima."
      ]
    },
    {
      "cell_type": "code",
      "execution_count": null,
      "metadata": {
        "id": "z5LpUwxkNRZh",
        "colab": {
          "base_uri": "https://localhost:8080/"
        },
        "outputId": "aecfd482-db84-4dcb-bfea-f645e6e1a930"
      },
      "outputs": [
        {
          "output_type": "stream",
          "name": "stdout",
          "text": [
            "<class 'list'>\n",
            "1\n",
            "2\n",
            "5\n"
          ]
        }
      ],
      "source": [
        "li = [1, 2, 3, 4, 5]\n",
        "print(type(li)) #retorna list\n",
        "print(li[0]) #1\n",
        "print(li[1]) #2\n",
        "print(li[4]) #5"
      ]
    },
    {
      "cell_type": "markdown",
      "metadata": {
        "id": "EirMHkToNRZi"
      },
      "source": [
        "**Exemplo**\n",
        "\n",
        "Uma lista com strings. Observe que o tipo da variável `ls` não é influenciado pelo tipo de dado que a lista armazena.\n",
        "```python\n",
        "ls = ['abc','def','ghi']\n",
        "print(type(ls)) #continua retornando list\n",
        "print(ls[0])\n",
        "print(ls[1])\n",
        "print(ls[2])\n",
        "```\n",
        "\n",
        "**Atividade**\n",
        "\n",
        "- Execute o exemplo acima."
      ]
    },
    {
      "cell_type": "code",
      "execution_count": null,
      "metadata": {
        "id": "swZ85UElNRZi",
        "colab": {
          "base_uri": "https://localhost:8080/"
        },
        "outputId": "6cadb8f5-ae98-49bd-e825-127fdf68d6d4"
      },
      "outputs": [
        {
          "output_type": "stream",
          "name": "stdout",
          "text": [
            "<class 'list'>\n",
            "abc\n",
            "def\n",
            "ghi\n"
          ]
        }
      ],
      "source": [
        "ls = ['abc','def','ghi']\n",
        "print(type(ls)) #continua retornando list\n",
        "print(ls[0])\n",
        "print(ls[1])\n",
        "print(ls[2])"
      ]
    },
    {
      "cell_type": "markdown",
      "metadata": {
        "id": "H4CtSmIoNRZi"
      },
      "source": [
        "Uma lista pode conter elementos de diferentes tipos.  \n",
        "\n",
        "**Exemplo**\n",
        "- Observe a lista `lvar`, e o tipo de cada elemento nela armazenado.\n",
        "```python\n",
        "lvar=[10,'dez',2.5, True]\n",
        "print(type(lvar))\n",
        "print(type(lvar[0]))\n",
        "print(type(lvar[1]))\n",
        "print(type(lvar[2]))\n",
        "print(type(lvar[3]))\n",
        "```\n",
        "\n",
        "**Atividade**\n",
        "\n",
        "- Execute o exemplo acima e observe cada tipo de dado apresentado."
      ]
    },
    {
      "cell_type": "code",
      "execution_count": null,
      "metadata": {
        "id": "GqZ-JaOQNRZi",
        "colab": {
          "base_uri": "https://localhost:8080/"
        },
        "outputId": "e407e12f-01fc-448c-f2c6-072fe2c4edb1"
      },
      "outputs": [
        {
          "output_type": "stream",
          "name": "stdout",
          "text": [
            "<class 'list'>\n",
            "<class 'int'>\n",
            "<class 'str'>\n",
            "<class 'float'>\n",
            "<class 'bool'>\n"
          ]
        }
      ],
      "source": [
        "lvar=[10,'dez',2.5, True]\n",
        "print(type(lvar))\n",
        "print(type(lvar[0]))\n",
        "print(type(lvar[1]))\n",
        "print(type(lvar[2]))\n",
        "print(type(lvar[3]))"
      ]
    },
    {
      "cell_type": "markdown",
      "metadata": {
        "id": "3c6_TurANRZj"
      },
      "source": [
        "Inclusive, uma lista pode conter outras listas.  \n",
        "\n",
        "**Exemplo**\n",
        "-  Observe a saída de cada função `print()`:\n",
        "```python\n",
        "ll = [[1,2,3],[False, False, True]]\n",
        "print(ll[0])\n",
        "print(ll[0][1])\n",
        "print(ll[1])\n",
        "print(ll[1][2])\n",
        "type(ll[0])\n",
        "type(ll[0][1])\n",
        "```\n",
        "\n",
        "**Atividade**\n",
        "\n",
        "- Execute o exemplo acima."
      ]
    },
    {
      "cell_type": "code",
      "execution_count": null,
      "metadata": {
        "id": "pjc8y_hgNRZj",
        "colab": {
          "base_uri": "https://localhost:8080/"
        },
        "outputId": "fc0c45fc-7db3-4281-e38c-fb2f52c71f6c"
      },
      "outputs": [
        {
          "output_type": "stream",
          "name": "stdout",
          "text": [
            "[1, 2, 3]\n",
            "2\n",
            "[False, False, True]\n",
            "True\n"
          ]
        },
        {
          "output_type": "execute_result",
          "data": {
            "text/plain": [
              "int"
            ]
          },
          "metadata": {},
          "execution_count": 6
        }
      ],
      "source": [
        "ll = [[1,2,3],[False, False, True]]\n",
        "print(ll[0])\n",
        "print(ll[0][1])\n",
        "print(ll[1])\n",
        "print(ll[1][2])\n",
        "type(ll[0])\n",
        "type(ll[0][1])"
      ]
    },
    {
      "cell_type": "markdown",
      "metadata": {
        "id": "PrnKE0VyNRZj"
      },
      "source": [
        "**Exercício**\n",
        "\n",
        "- Crie uma lista com nomes de pelo menos três pessoas\n",
        "- Crie uma lista que contenha nomes de frutas\n",
        "- Crie uma lista com os números primos de 1 a 10."
      ]
    },
    {
      "cell_type": "code",
      "execution_count": null,
      "metadata": {
        "id": "bOJ9nSytNRZj",
        "colab": {
          "base_uri": "https://localhost:8080/"
        },
        "outputId": "1ebc5d6d-e8c9-4dab-e2a2-6ef3cb5d3563"
      },
      "outputs": [
        {
          "output_type": "stream",
          "name": "stdout",
          "text": [
            "['João', 'Ana', 'Pedro']\n",
            "João\n",
            "Pedro\n"
          ]
        }
      ],
      "source": [
        "list = ['João', 'Ana', 'Pedro']\n",
        "print(list)\n",
        "print(list[0])\n",
        "print(list[2])"
      ]
    },
    {
      "cell_type": "code",
      "source": [
        "list = ['Maça', 'Banana', 'Melão']\n",
        "print(list[0])\n",
        "print(list[1])\n",
        "print(list[2])"
      ],
      "metadata": {
        "colab": {
          "base_uri": "https://localhost:8080/"
        },
        "id": "hf0vtUA15ViP",
        "outputId": "b4f2b68e-2652-4d1e-935f-3e11b8c9fafa"
      },
      "execution_count": null,
      "outputs": [
        {
          "output_type": "stream",
          "name": "stdout",
          "text": [
            "Maça\n",
            "Banana\n",
            "Melão\n"
          ]
        }
      ]
    },
    {
      "cell_type": "code",
      "source": [
        "list = [2, 3, 5, 7]\n",
        "print(list[0])\n",
        "print(list[1])\n",
        "print(list[2])\n",
        "print(list[3])"
      ],
      "metadata": {
        "colab": {
          "base_uri": "https://localhost:8080/"
        },
        "id": "KsLfqVaf5VWg",
        "outputId": "ce206b27-c569-4fb9-edd5-85f7aeff7158"
      },
      "execution_count": null,
      "outputs": [
        {
          "output_type": "stream",
          "name": "stdout",
          "text": [
            "2\n",
            "3\n",
            "5\n",
            "7\n"
          ]
        }
      ]
    },
    {
      "cell_type": "markdown",
      "metadata": {
        "id": "qB7rUVSRNRZj"
      },
      "source": [
        "## Funções\n",
        "\n",
        "Algumas operações podem ser aplicadas sobre qualquer tipo de sequência, como\n",
        "- `len()`: retorna a quantidade de elementos de uma sequência;\n",
        "- `min()`: retorna o menor valor;\n",
        "- `max()`: retorna o maior valor;\n",
        "- `sorted()`: retorna uma lista, contendo a sequência ordenada;\n",
        "- `reversed()` : obtém um iterador (*iterator*), contendo os valores da sequência, em ordem inversa.\n",
        "\n",
        "**Exemplo**\n",
        "\n",
        "Execute os códigos abaixo, e observe seus resultados.\n",
        "```python\n",
        "estado=['P','a','r','a','n','á']\n",
        "print(estado)\n",
        "print('len(estado)   :', len(estado))\n",
        "print('min(estado)   :', min(estado))\n",
        "print('max(estado)   :', max(estado))\n",
        "print('sorted(estado):', sorted(estado))\n",
        "for i in reversed(estado):\n",
        "    print(i)\n",
        "```\n",
        "**Atividade**\n",
        "\n",
        "- Execute o exemplo acima, e observe os resultados.\n",
        "    - Explique os resultados das operações `min(estado)` e `max(estado)`.\n",
        "    - Explique o resultado da operação `sorted(estado)`."
      ]
    },
    {
      "cell_type": "code",
      "execution_count": null,
      "metadata": {
        "id": "Qvjd_zXENRZj",
        "colab": {
          "base_uri": "https://localhost:8080/"
        },
        "outputId": "e26922b3-77c4-49f1-9c58-c47f6670c2ef"
      },
      "outputs": [
        {
          "output_type": "stream",
          "name": "stdout",
          "text": [
            "['P', 'a', 'r', 'a', 'n', 'á']\n",
            "len(estado)   : 6\n",
            "min(estado)   : P\n",
            "max(estado)   : á\n",
            "sorted(estado): ['P', 'a', 'a', 'n', 'r', 'á']\n",
            "á\n",
            "n\n",
            "a\n",
            "r\n",
            "a\n",
            "P\n"
          ]
        }
      ],
      "source": [
        "estado=['P','a','r','a','n','á']\n",
        "print(estado)\n",
        "print('len(estado)   :', len(estado))\n",
        "print('min(estado)   :', min(estado))\n",
        "print('max(estado)   :', max(estado))\n",
        "print('sorted(estado):', sorted(estado))\n",
        "for i in reversed(estado):\n",
        "    print(i)"
      ]
    },
    {
      "cell_type": "markdown",
      "metadata": {
        "id": "CIjSe3QSNRZk"
      },
      "source": [
        "> **Observação**\n",
        ">\n",
        "> Repare quendo os elementos são do tipo *string*, os caracteres são comparados de acordo com seu valor na tabela ASCII, onde letras maiúsculas, minúsculas e acentuadas possuem valores distintos. Perceba que quando a *string* 'Paraná' foi ordenada, o caractere 'P' aparece como primeira letra, e o caractere 'á' como último.\n"
      ]
    },
    {
      "cell_type": "markdown",
      "metadata": {
        "id": "ooN2AyEGNRZk"
      },
      "source": [
        "**Exercício**\n",
        "- [Beecrowd 1013 - O Maior](https://www.beecrowd.com.br/judge/pt/problems/view/1013)"
      ]
    },
    {
      "cell_type": "code",
      "source": [],
      "metadata": {
        "id": "62xK9JPyCKz-"
      },
      "execution_count": null,
      "outputs": []
    },
    {
      "cell_type": "markdown",
      "metadata": {
        "id": "xojWcHbZNRZk"
      },
      "source": [
        "**Exemplo**\n",
        "\n",
        "```python\n",
        "tamanhos=['p','m','g']\n",
        "print(tamanhos)\n",
        "print('len(tamanhos)   :', len(tamanhos))\n",
        "print('min(tamanhos)   :', min(tamanhos))\n",
        "print('max(tamanhos)   :', max(tamanhos))\n",
        "print('sorted(tamanhos):',sorted(tamanhos))\n",
        "for i in reversed(tamanhos):\n",
        "    print(i)\n",
        "```\n",
        "\n",
        "**Atividade**\n",
        "\n",
        "- Execute o exemplo acima."
      ]
    },
    {
      "cell_type": "code",
      "execution_count": null,
      "metadata": {
        "id": "3jW4mirsNRZk",
        "colab": {
          "base_uri": "https://localhost:8080/"
        },
        "outputId": "92e1a604-cec0-4090-ea71-649936e107d5"
      },
      "outputs": [
        {
          "output_type": "stream",
          "name": "stdout",
          "text": [
            "['p', 'm', 'g']\n",
            "len(tamanhos)   : 3\n",
            "min(tamanhos)   : g\n",
            "max(tamanhos)   : p\n",
            "sorted(tamanhos): ['g', 'm', 'p']\n",
            "g\n",
            "m\n",
            "p\n"
          ]
        }
      ],
      "source": [
        "tamanhos=['p','m','g']\n",
        "print(tamanhos)\n",
        "print('len(tamanhos)   :', len(tamanhos))\n",
        "print('min(tamanhos)   :', min(tamanhos))\n",
        "print('max(tamanhos)   :', max(tamanhos))\n",
        "print('sorted(tamanhos):',sorted(tamanhos))\n",
        "for i in reversed(tamanhos):\n",
        "    print(i)"
      ]
    },
    {
      "cell_type": "markdown",
      "metadata": {
        "id": "aO6WCSR8NRZk"
      },
      "source": [
        "**Exemplo**\n",
        "\n",
        "```python\n",
        "idades = [23,11,50,4,12,37,35]\n",
        "print(idades)\n",
        "print('len(idades):', len(idades))\n",
        "print('min(idades)', min(idades))\n",
        "print('max(idades)',max(idades))\n",
        "print('sorted(idades):',sorted(idades))\n",
        "for i in reversed(idades): print(i)\n",
        "```\n",
        "\n",
        "**Atividade**\n",
        "\n",
        "- Execute o exemplo acima."
      ]
    },
    {
      "cell_type": "code",
      "execution_count": null,
      "metadata": {
        "id": "PbE6aZDcNRZk",
        "colab": {
          "base_uri": "https://localhost:8080/"
        },
        "outputId": "2dc7ee2c-ee7c-4e12-f65b-3087f93fdfb0"
      },
      "outputs": [
        {
          "output_type": "stream",
          "name": "stdout",
          "text": [
            "[23, 11, 50, 4, 12, 37, 35]\n",
            "len(idades): 7\n",
            "min(idades) 4\n",
            "max(idades) 50\n",
            "sorted(idades): [4, 11, 12, 23, 35, 37, 50]\n",
            "35\n",
            "37\n",
            "12\n",
            "4\n",
            "50\n",
            "11\n",
            "23\n"
          ]
        }
      ],
      "source": [
        "idades = [23,11,50,4,12,37,35]\n",
        "print(idades)\n",
        "print('len(idades):', len(idades))\n",
        "print('min(idades)', min(idades))\n",
        "print('max(idades)',max(idades))\n",
        "print('sorted(idades):',sorted(idades))\n",
        "for i in reversed(idades): print(i)"
      ]
    },
    {
      "cell_type": "markdown",
      "metadata": {
        "id": "MT3tCBWHNRZk"
      },
      "source": [
        "**Exemplo**\n",
        "\n",
        "```python\n",
        "indices = [88,34,12,43,20]\n",
        "print(indices)\n",
        "print('len(indices):', len(indices))\n",
        "print('min(indices)', min(indices))\n",
        "print('max(indices)',max(indices))\n",
        "print('sorted(indices):',sorted(indices))\n",
        "for i in reversed(indices): print(i)\n",
        "```\n",
        "\n",
        "**Atividade**\n",
        "\n",
        "- Execute o exemplo acima."
      ]
    },
    {
      "cell_type": "code",
      "execution_count": null,
      "metadata": {
        "id": "7EKX2W1SNRZk",
        "colab": {
          "base_uri": "https://localhost:8080/"
        },
        "outputId": "73b1e0b3-e552-4aaf-fb8a-4ab76a16d397"
      },
      "outputs": [
        {
          "output_type": "stream",
          "name": "stdout",
          "text": [
            "[88, 34, 12, 43, 20]\n",
            "len(indices): 5\n",
            "min(indices) 12\n",
            "max(indices) 88\n",
            "sorted(indices): [12, 20, 34, 43, 88]\n",
            "20\n",
            "43\n",
            "12\n",
            "34\n",
            "88\n"
          ]
        }
      ],
      "source": [
        "indices = [88,34,12,43,20]\n",
        "print(indices)\n",
        "print('len(indices):', len(indices))\n",
        "print('min(indices)', min(indices))\n",
        "print('max(indices)',max(indices))\n",
        "print('sorted(indices):',sorted(indices))\n",
        "for i in reversed(indices): print(i)"
      ]
    },
    {
      "cell_type": "markdown",
      "metadata": {
        "id": "yafCwATgNRZk"
      },
      "source": [
        "## Índices\n",
        "\n",
        "**Índices negativos**\n",
        "\n",
        "É possível acessar um elemento de uma sequência em ordem inversa. Basta utilizar índices negativos. O índice -1 indica o último elemento, -2 o penúltimo e assim sucessivamente.  \n",
        "\n",
        "**Exemplo**\n",
        "\n",
        "```python\n",
        "vogais=['a','b','c']\n",
        "print(vogais[-1])\n",
        "print(vogais[-2])\n",
        "print(vogais[-3])\n",
        "```\n",
        "\n",
        "**Atividade**\n",
        "\n",
        "- Execute o exemplo acima."
      ]
    },
    {
      "cell_type": "code",
      "execution_count": null,
      "metadata": {
        "id": "2Hgim9LENRZl",
        "colab": {
          "base_uri": "https://localhost:8080/"
        },
        "outputId": "0a6bafc8-471f-4efc-ca08-e8c88f7bc878"
      },
      "outputs": [
        {
          "output_type": "stream",
          "name": "stdout",
          "text": [
            "c\n",
            "b\n",
            "a\n"
          ]
        }
      ],
      "source": [
        "vogais=['a','b','c']\n",
        "print(vogais[-1])\n",
        "print(vogais[-2])\n",
        "print(vogais[-3])"
      ]
    },
    {
      "cell_type": "markdown",
      "metadata": {
        "id": "NIm_ZoP6NRZl"
      },
      "source": [
        "### Acesso a índices não existentes\n",
        "Cada elemento em uma sequência pode ser acessado utilizando seu índice, como já mostrado anteriormente. Porém, perceba que acessar um elemento em uma posição que não existe indica um erro do tipo *index out of range*, tanto para operações de leitura como escrita do dado.  \n",
        "\n",
        "**Exemplo**  \n",
        "Acessar as posições 3, 4 e -4 da lista `valores` acarreta em erros, visto que estas posições são inexistentes na lista.\n",
        "```python\n",
        "valores=[10,20,30]\n",
        "print(valores[3])\n",
        "valores[4]=0\n",
        "print(valores[-4])\n",
        "```\n",
        "**Atividade**\n",
        "\n",
        "- Execute o exemplo acima."
      ]
    },
    {
      "cell_type": "code",
      "execution_count": null,
      "metadata": {
        "id": "KPxhF1z8NRZl",
        "colab": {
          "base_uri": "https://localhost:8080/",
          "height": 263
        },
        "outputId": "a27539b6-30fc-435d-d77b-b6a790ccfb2d"
      },
      "outputs": [
        {
          "output_type": "error",
          "ename": "IndexError",
          "evalue": "list index out of range",
          "traceback": [
            "\u001b[0;31m---------------------------------------------------------------------------\u001b[0m",
            "\u001b[0;31mIndexError\u001b[0m                                Traceback (most recent call last)",
            "\u001b[0;32m<ipython-input-5-311253be00c1>\u001b[0m in \u001b[0;36m<cell line: 2>\u001b[0;34m()\u001b[0m\n\u001b[1;32m      1\u001b[0m \u001b[0mvalores\u001b[0m\u001b[0;34m=\u001b[0m\u001b[0;34m[\u001b[0m\u001b[0;36m10\u001b[0m\u001b[0;34m,\u001b[0m\u001b[0;36m20\u001b[0m\u001b[0;34m,\u001b[0m\u001b[0;36m30\u001b[0m\u001b[0;34m]\u001b[0m\u001b[0;34m\u001b[0m\u001b[0;34m\u001b[0m\u001b[0m\n\u001b[0;32m----> 2\u001b[0;31m \u001b[0mprint\u001b[0m\u001b[0;34m(\u001b[0m\u001b[0mvalores\u001b[0m\u001b[0;34m[\u001b[0m\u001b[0;36m3\u001b[0m\u001b[0;34m]\u001b[0m\u001b[0;34m)\u001b[0m\u001b[0;34m\u001b[0m\u001b[0;34m\u001b[0m\u001b[0m\n\u001b[0m\u001b[1;32m      3\u001b[0m \u001b[0mvalores\u001b[0m\u001b[0;34m[\u001b[0m\u001b[0;36m4\u001b[0m\u001b[0;34m]\u001b[0m\u001b[0;34m=\u001b[0m\u001b[0;36m0\u001b[0m\u001b[0;34m\u001b[0m\u001b[0;34m\u001b[0m\u001b[0m\n\u001b[1;32m      4\u001b[0m \u001b[0mprint\u001b[0m\u001b[0;34m(\u001b[0m\u001b[0mvalores\u001b[0m\u001b[0;34m[\u001b[0m\u001b[0;34m-\u001b[0m\u001b[0;36m4\u001b[0m\u001b[0;34m]\u001b[0m\u001b[0;34m)\u001b[0m\u001b[0;34m\u001b[0m\u001b[0;34m\u001b[0m\u001b[0m\n",
            "\u001b[0;31mIndexError\u001b[0m: list index out of range"
          ]
        }
      ],
      "source": [
        "valores=[10,20,30]\n",
        "print(valores[3])\n",
        "valores[4]=0\n",
        "print(valores[-4])"
      ]
    },
    {
      "cell_type": "markdown",
      "metadata": {
        "id": "xQWPEQhSNRZl"
      },
      "source": [
        "## Fatiamento\n",
        "Em sequências, é possível acessar um intervalo de elementos de uma única vez, utilizando o operador `:` no índice da sequência. Este operador pode ser utilizado da seguinte maneira:  \n",
        "\n",
        "|Formato|Resultado|\n",
        "|--|--|\n",
        "|`[:]`|Todos os elementos da sequência|\n",
        "|`[a:b]`| Da posição `a` até `b-1`|\n",
        "|`[a:]`|Da posição `a` até a posição final|\n",
        "|`[:b]`|Da posição inicial até a posição `b-1`|\n",
        "|`[a:b:c]`| Da posição `a` até a posição `b-1`, com incremento de `c`|\n",
        "\n",
        "**Observação**\n",
        "\n",
        "A posição final não é incluída, sendo apenas até seu elemento anterior.\n",
        "\n",
        "**Exemplo**\n",
        "\n",
        "```python\n",
        "letras=['a','b','c','d','e','f','g','h','i','j']\n",
        "print('[:]     :' , letras[:])    #Todos os elementos\n",
        "print('[:3]    :' , letras[:3])   # 'abc' (posições 0, 1 e 2)\n",
        "print('[5:]    :' , letras[5:])   # 'fghij' (posições 5, 6, 7, 8 e 9)\n",
        "print('[3:8]   :' , letras[3:8])  # 'defgh' (posições 3, 4, 5, 6 e 7)\n",
        "print('[2:9:2] :' , letras[2:9:2]) # 'cegi' (posições 2, 4, 6 e 8)\n",
        "```\n",
        "\n",
        "**Atividade**\n",
        "\n",
        "- Execute o exemplo acima."
      ]
    },
    {
      "cell_type": "code",
      "execution_count": null,
      "metadata": {
        "id": "FIRF2T9dNRZl",
        "colab": {
          "base_uri": "https://localhost:8080/"
        },
        "outputId": "053705a3-4d27-48fe-f406-f1f0f35d2d5f"
      },
      "outputs": [
        {
          "output_type": "stream",
          "name": "stdout",
          "text": [
            "[:]     : ['a', 'b', 'c', 'd', 'e', 'f', 'g', 'h', 'i', 'j']\n",
            "[:3]    : ['a', 'b', 'c']\n",
            "[5:]    : ['f', 'g', 'h', 'i', 'j']\n",
            "[3:8]   : ['d', 'e', 'f', 'g', 'h']\n",
            "[2:9:2] : ['c', 'e', 'g', 'i']\n"
          ]
        }
      ],
      "source": [
        "letras=['a','b','c','d','e','f','g','h','i','j']\n",
        "print('[:]     :' , letras[:])    #Todos os elementos\n",
        "print('[:3]    :' , letras[:3])   # 'abc' (posições 0, 1 e 2)\n",
        "print('[5:]    :' , letras[5:])   # 'fghij' (posições 5, 6, 7, 8 e 9)\n",
        "print('[3:8]   :' , letras[3:8])  # 'defgh' (posições 3, 4, 5, 6 e 7)\n",
        "print('[2:9:2] :' , letras[2:9:2]) # 'cegi' (posições 2, 4, 6 e 8)"
      ]
    },
    {
      "cell_type": "markdown",
      "metadata": {
        "id": "e3jASxgyNRZl"
      },
      "source": [
        "Também é possível modificar diversos elementos, informando o que será inserido em cada posição.  \n",
        "\n",
        "**Exemplo**\n",
        "\n",
        "```python\n",
        "numeros=[1,2,3,4,5]\n",
        "numeros[:3] = [10,20,30]\n",
        "print(numeros)\n",
        "```\n",
        "\n",
        "**Atividade**\n",
        "\n",
        "- Execute o exemplo acima."
      ]
    },
    {
      "cell_type": "code",
      "execution_count": null,
      "metadata": {
        "id": "WTsx2X4XNRZl",
        "colab": {
          "base_uri": "https://localhost:8080/"
        },
        "outputId": "cb2fd703-39e9-464b-985a-e38fa577b47b"
      },
      "outputs": [
        {
          "output_type": "stream",
          "name": "stdout",
          "text": [
            "[10, 20, 30, 4, 5]\n"
          ]
        }
      ],
      "source": [
        "numeros=[1,2,3,4,5]\n",
        "numeros[:3] = [10,20,30]\n",
        "print(numeros)"
      ]
    },
    {
      "cell_type": "markdown",
      "metadata": {
        "id": "lmDv574VNRZl"
      },
      "source": [
        "## Iteráveis\n",
        "Uma sequência pode ser utilizada como iterável (*iterable*), ou seja, podemos utilizar uma estrutura de repetição **for** para percorrer cada elemento da sequência, onde a variável de controle assume os elementos da sequência a cada iteração.  \n",
        "\n",
        "**Exemplo**\n",
        "\n",
        "```python\n",
        "nomes=['Jonas', 'João', 'Márcio']\n",
        "for i in nomes:\n",
        "    print(i)\n",
        "    \n",
        "primos = [2,3,5,7,11,13,17,19]\n",
        "for p in primos :\n",
        "    print(p)\n",
        "```\n",
        "\n",
        "**Atividade**\n",
        "\n",
        "- Execute os exemplos acima."
      ]
    },
    {
      "cell_type": "code",
      "execution_count": 1,
      "metadata": {
        "id": "gIRhOLdINRZm",
        "colab": {
          "base_uri": "https://localhost:8080/"
        },
        "outputId": "925999dd-7616-4d97-eac7-f69fbd6d2125"
      },
      "outputs": [
        {
          "output_type": "stream",
          "name": "stdout",
          "text": [
            "Jonas\n",
            "João\n",
            "Márcio\n",
            "2\n",
            "3\n",
            "5\n",
            "7\n",
            "11\n",
            "13\n",
            "17\n",
            "19\n"
          ]
        }
      ],
      "source": [
        "nomes=['Jonas', 'João', 'Márcio']\n",
        "for i in nomes:\n",
        "    print(i)\n",
        "\n",
        "primos = [2,3,5,7,11,13,17,19]\n",
        "for p in primos :\n",
        "    print(p)"
      ]
    },
    {
      "cell_type": "markdown",
      "metadata": {
        "id": "oojnMddJNRZt"
      },
      "source": [
        "## Operações específicas\n",
        "Algumas sequências possuem métodos específicos. A lista completa de métodos é descrita na [API](https://docs.python.org/3/library/stdtypes.html) do Python"
      ]
    },
    {
      "cell_type": "markdown",
      "metadata": {
        "id": "T-BTxGN0NRZt"
      },
      "source": [
        "**Listas**\n",
        "\n",
        "|Método|Descrição|\n",
        "|------|---------|\n",
        "|`.append(e)`  | Adiciona o elemento `e` ao final da lista|\n",
        "|`.insert(p,e)`| Adiciona na posição `p` da lista o elemento `e`|\n",
        "|`.extend(s)`| Adiciona à lista os elementos da sequência `s`|\n",
        "|`.pop()`| Retira o último elemento da lista|\n",
        "|`.remove(e)`| Remove da lista o elemento `e`|\n",
        "|`.count(e)`| Obtém o número de de vezes em que o elemento `e` aparece na lista|\n",
        "|`.index(e)`| Obtém a primeira posição em que o elemento `e` aparece|\n",
        "|`.sort()`| Ordena a lista|\n",
        "|`.reverse()`| Inverte a ordem dos elementos na lista|\n",
        "|`.clear()`| |\n",
        "|`.copy()`| obtém uma cópia dos elementos na lista|"
      ]
    },
    {
      "cell_type": "markdown",
      "metadata": {
        "id": "7pA7AWmANRZt"
      },
      "source": [
        "**Exemplo**\n",
        "- `.append()`\n",
        "\n",
        "```python\n",
        "l = [1,3,5,7]\n",
        "l.append(9)\n",
        "print(l)\n",
        "```\n",
        "\n",
        "**Atividade**\n",
        "\n",
        "- Execute o exemplo acima."
      ]
    },
    {
      "cell_type": "code",
      "execution_count": null,
      "metadata": {
        "id": "Ue3OCw-eNRZu",
        "colab": {
          "base_uri": "https://localhost:8080/"
        },
        "outputId": "0ce340a7-c025-47e6-9cce-5061060e61b1"
      },
      "outputs": [
        {
          "output_type": "stream",
          "name": "stdout",
          "text": [
            "[1, 3, 5, 7, 9]\n"
          ]
        }
      ],
      "source": [
        "l = [1, 3, 5, 7]\n",
        "l.append(9)\n",
        "print(l)"
      ]
    },
    {
      "cell_type": "markdown",
      "metadata": {
        "id": "HiMfNhGVNRZu"
      },
      "source": [
        "**Exemplo**\n",
        "- `.insert()`\n",
        "\n",
        "```python\n",
        "l = [1,3,5,7]\n",
        "l.insert(1,9) #Insere o elemento 9 na posição 1\n",
        "print(l)\n",
        "```\n",
        "\n",
        "**Atividade**\n",
        "\n",
        "- Execute o exemplo acima."
      ]
    },
    {
      "cell_type": "code",
      "execution_count": 2,
      "metadata": {
        "id": "raF6r57YNRZu",
        "colab": {
          "base_uri": "https://localhost:8080/"
        },
        "outputId": "0a94a60b-fc01-4a08-e4c9-42e9bba4c73b"
      },
      "outputs": [
        {
          "output_type": "stream",
          "name": "stdout",
          "text": [
            "[1, 9, 3, 5, 7]\n"
          ]
        }
      ],
      "source": [
        "l = [1,3,5,7]\n",
        "l.insert(1,9) #Insere o elemento 9 na posição 1\n",
        "print(l)"
      ]
    },
    {
      "cell_type": "markdown",
      "metadata": {
        "id": "xJw_z8bFNRZu"
      },
      "source": [
        "**Exemplo**\n",
        "- `.extend()`\n",
        "\n",
        "Observe a diferença entre as funções `.append()` e `.extend()`:\n",
        "```python\n",
        "l=[1,2,3]\n",
        "m=[10,11,12]\n",
        "print('l          :', l)\n",
        "print('m          :', m)\n",
        "l.append(m)\n",
        "print('l.append(m):', l)\n",
        "l=[1,2,3]\n",
        "m=[10,11,12]\n",
        "l.extend(m)\n",
        "print('l.extend(m):',l)\n",
        "```\n",
        "\n",
        "**Atividade**\n",
        "\n",
        "- Execute o exemplo acima\n",
        "    - qual é a diferença entre os resultados?"
      ]
    },
    {
      "cell_type": "code",
      "execution_count": null,
      "metadata": {
        "id": "YujcokEHNRZu",
        "colab": {
          "base_uri": "https://localhost:8080/"
        },
        "outputId": "eb13caed-b9e8-4b67-c4a2-d1a045e0262a"
      },
      "outputs": [
        {
          "output_type": "stream",
          "name": "stdout",
          "text": [
            "l          : [1, 2, 3]\n",
            "m          : [10, 11, 12]\n",
            "l.append(m): [1, 2, 3, [10, 11, 12]]\n",
            "l.extend(m): [1, 2, 3, 10, 11, 12]\n"
          ]
        }
      ],
      "source": [
        "l = [1, 2, 3]\n",
        "m = [10, 11, 12]\n",
        "print('l          :', l)\n",
        "print('m          :', m)\n",
        "l.append(m)\n",
        "print('l.append(m):', l)\n",
        "l=[1, 2, 3]\n",
        "m=[10, 11, 12]\n",
        "l.extend(m)\n",
        "print('l.extend(m):',l)"
      ]
    },
    {
      "cell_type": "markdown",
      "metadata": {
        "id": "eTc_BTYQNRZu"
      },
      "source": [
        "**Exemplo**\n",
        "- `.pop()`\n",
        "\n",
        "```python\n",
        "frutas=['banana', 'melancia', 'caju']\n",
        "print(frutas)\n",
        "frutas.pop()\n",
        "print(frutas)\n",
        "frutas.pop()\n",
        "print(frutas)\n",
        "```\n",
        "\n",
        "**Atividade**\n",
        "\n",
        "- Execute o exemplo acima."
      ]
    },
    {
      "cell_type": "code",
      "execution_count": 3,
      "metadata": {
        "id": "sP8Rg7zONRZu",
        "colab": {
          "base_uri": "https://localhost:8080/"
        },
        "outputId": "02279c3e-1a83-43bc-b36b-efe7a6c89df0"
      },
      "outputs": [
        {
          "output_type": "stream",
          "name": "stdout",
          "text": [
            "['banana', 'melancia', 'caju']\n",
            "['banana', 'melancia']\n",
            "['banana']\n"
          ]
        }
      ],
      "source": [
        "frutas=['banana', 'melancia', 'caju']\n",
        "print(frutas)\n",
        "frutas.pop()\n",
        "print(frutas)\n",
        "frutas.pop()\n",
        "print(frutas)"
      ]
    },
    {
      "cell_type": "markdown",
      "metadata": {
        "id": "zzQUhNVpNRZu"
      },
      "source": [
        "**Exemplo**\n",
        "- `.remove()`\n",
        "\n",
        "```python\n",
        "frutas=['banana', 'melancia', 'caju']\n",
        "frutas.remove('melancia')\n",
        "print(frutas)\n",
        "```\n",
        "\n",
        "**Atividade**\n",
        "\n",
        "- Execute o exemplo acima."
      ]
    },
    {
      "cell_type": "code",
      "execution_count": 4,
      "metadata": {
        "id": "OW-slho5NRZu",
        "colab": {
          "base_uri": "https://localhost:8080/"
        },
        "outputId": "ec0216e5-25d2-4d29-b90b-234752c2ea2a"
      },
      "outputs": [
        {
          "output_type": "stream",
          "name": "stdout",
          "text": [
            "['banana', 'caju']\n"
          ]
        }
      ],
      "source": [
        "frutas=['banana', 'melancia', 'caju']\n",
        "frutas.remove('melancia')\n",
        "print(frutas)"
      ]
    },
    {
      "cell_type": "markdown",
      "metadata": {
        "id": "HyZaL2BqNRZu"
      },
      "source": [
        "**Exemplo**\n",
        "- `.count()`\n",
        "\n",
        "```python\n",
        "valores=[1,4,3,1,1,2,4,6,3,6,8,1,5,8,7,9,7,7,5,4,2]\n",
        "print(valores.count(1)) #Número de vezes em que o elemento 1 aparece na lista\n",
        "```\n",
        "\n",
        "**Atividade**\n",
        "\n",
        "- Execute o exemplo acima."
      ]
    },
    {
      "cell_type": "code",
      "execution_count": 5,
      "metadata": {
        "id": "L-ovGzAANRZv",
        "colab": {
          "base_uri": "https://localhost:8080/"
        },
        "outputId": "649b5f31-0574-4185-f61f-cff1ed628ce0"
      },
      "outputs": [
        {
          "output_type": "stream",
          "name": "stdout",
          "text": [
            "4\n"
          ]
        }
      ],
      "source": [
        "valores = [1, 4, 3, 1, 1, 2, 4, 6, 3, 6, 8, 1, 5, 8, 7, 9, 7, 7, 5, 4, 2]\n",
        "print(valores.count(1)) #Número de vezes em que o elemento 1 aparece na lista"
      ]
    },
    {
      "cell_type": "markdown",
      "metadata": {
        "id": "yuQg6DADNRZv"
      },
      "source": [
        "**Exemplo**\n",
        "- `.index()`\n",
        "\n",
        "```python\n",
        "alunos=['Maria', 'João', 'José', 'Vinícius']\n",
        "print(alunos.index('José'))\n",
        "```\n",
        "\n",
        "**Atividade**\n",
        "\n",
        "- Execute o exemplo acima."
      ]
    },
    {
      "cell_type": "code",
      "execution_count": 6,
      "metadata": {
        "id": "jYXkwznWNRZv",
        "colab": {
          "base_uri": "https://localhost:8080/"
        },
        "outputId": "ce293995-edcb-4853-dde6-cc7f43731884"
      },
      "outputs": [
        {
          "output_type": "stream",
          "name": "stdout",
          "text": [
            "2\n"
          ]
        }
      ],
      "source": [
        "alunos = ['Maria', 'João', 'José', 'Vinícius']\n",
        "print(alunos.index('José'))"
      ]
    },
    {
      "cell_type": "markdown",
      "metadata": {
        "id": "rys2oydCNRZv"
      },
      "source": [
        "**Exemplo**\n",
        "- `.sort()`\n",
        "\n",
        "```python\n",
        "valores=[1,4,3,1,1,2,4,6,3,6,8,1,5,8,7,9,7,7,5,4,2]\n",
        "valores.sort()\n",
        "print(valores)\n",
        "```\n",
        "\n",
        "**Atividade**\n",
        "\n",
        "- Execute o exemplo acima."
      ]
    },
    {
      "cell_type": "code",
      "execution_count": 7,
      "metadata": {
        "id": "e0T2lYqUNRZv",
        "colab": {
          "base_uri": "https://localhost:8080/"
        },
        "outputId": "374cf71a-8617-4686-98b5-db0c2f344828"
      },
      "outputs": [
        {
          "output_type": "stream",
          "name": "stdout",
          "text": [
            "[1, 1, 1, 1, 2, 2, 3, 3, 4, 4, 4, 5, 5, 6, 6, 7, 7, 7, 8, 8, 9]\n"
          ]
        }
      ],
      "source": [
        "valores =[1, 4, 3, 1, 1, 2, 4, 6, 3, 6, 8, 1, 5, 8, 7, 9, 7, 7, 5, 4, 2]\n",
        "valores.sort()\n",
        "print(valores)"
      ]
    },
    {
      "cell_type": "markdown",
      "metadata": {
        "id": "pYkLGyDDNRZv"
      },
      "source": [
        "**Exemplo**\n",
        "- `.reverse()`\n",
        "\n",
        "```python\n",
        "seq = [1,5,2,7]\n",
        "seq.reverse()\n",
        "print(seq)\n",
        "```\n",
        "\n",
        "**Atividade**\n",
        "\n",
        "- Execute o exemplo acima."
      ]
    },
    {
      "cell_type": "code",
      "execution_count": 8,
      "metadata": {
        "id": "eykqzRTbNRZv",
        "colab": {
          "base_uri": "https://localhost:8080/"
        },
        "outputId": "ffffdc66-9192-4460-9c27-ac0c2b705e24"
      },
      "outputs": [
        {
          "output_type": "stream",
          "name": "stdout",
          "text": [
            "[7, 2, 5, 1]\n"
          ]
        }
      ],
      "source": [
        "seq = [1, 5, 2, 7]\n",
        "seq.reverse()\n",
        "print(seq)"
      ]
    },
    {
      "cell_type": "markdown",
      "metadata": {
        "id": "GvjyS3I9NRZv"
      },
      "source": [
        "**Exemplo**\n",
        "- `.clear()`\n",
        "\n",
        "```python\n",
        "val = [5,8,8,1]\n",
        "print('val possui ', len(val), 'elementos')\n",
        "val.clear()\n",
        "print('val possui ', len(val), 'elementos')\n",
        "```\n",
        "\n",
        "**Atividade**\n",
        "\n",
        "- Execute o exemplo acima."
      ]
    },
    {
      "cell_type": "code",
      "execution_count": 9,
      "metadata": {
        "id": "tzgdx5LENRZv",
        "colab": {
          "base_uri": "https://localhost:8080/"
        },
        "outputId": "8be6a4b2-f4ef-4890-fcc5-901875ae0b5f"
      },
      "outputs": [
        {
          "output_type": "stream",
          "name": "stdout",
          "text": [
            "val possui  4 elementos\n",
            "val possui  0 elementos\n"
          ]
        }
      ],
      "source": [
        "val = [5 , 8, 8, 1]\n",
        "print('val possui ', len(val), 'elementos')\n",
        "val.clear()\n",
        "print('val possui ', len(val), 'elementos')"
      ]
    },
    {
      "cell_type": "markdown",
      "metadata": {
        "id": "3GNX4nSQNRZv"
      },
      "source": [
        "**Exemplo**\n",
        "- `.copy()`\n",
        "\n",
        "O método `.copy()` torna-se necessário para manter o conteúdo da lista original, visto que o operador de atribuição realiza apenas uma **referência** à lista original. Este assunto será discutido com mais detalhes adiante.\n",
        "```python\n",
        "original = [1,2,3,4,5]\n",
        "ref = original #aqui ref é uma referência\n",
        "ref[0]=0\n",
        "print(original,'original') #Perceba que a lista original foi modificada\n",
        "print(ref,'ref')  #Original e referencia possuem o mesmo conteúdo. Alterar uma lista significa alterar a outra\n",
        "```\n",
        "\n",
        "```python\n",
        "original = [1,2,3,4,5]\n",
        "copia = original.copy() #aqui é realizada uma cópia dos elementos\n",
        "copia[0]=0\n",
        "print(original,'original') #Perceba que a lista original não foi foi modificada\n",
        "print(copia,'cópia') #original e copia são listas distintas\n",
        "```\n",
        "\n",
        "**Atividade**\n",
        "\n",
        "- Execute os exemplos acima e observe as diferenças."
      ]
    },
    {
      "cell_type": "code",
      "execution_count": 10,
      "metadata": {
        "id": "4ugxC9pENRZw",
        "colab": {
          "base_uri": "https://localhost:8080/"
        },
        "outputId": "72fb8997-c2b7-4031-ed76-5fa41d70775a"
      },
      "outputs": [
        {
          "output_type": "stream",
          "name": "stdout",
          "text": [
            "[0, 2, 3, 4, 5] original\n",
            "[0, 2, 3, 4, 5] ref\n"
          ]
        }
      ],
      "source": [
        "original = [1, 2, 3, 4, 5]\n",
        "ref = original #aqui ref é uma referência\n",
        "ref[0] = 0\n",
        "print(original,'original') #Perceba que a lista original foi modificada\n",
        "print(ref,'ref')  #Original e referencia possuem o mesmo conteúdo. Alterar uma lista significa alterar a outra"
      ]
    },
    {
      "cell_type": "code",
      "execution_count": 11,
      "metadata": {
        "id": "xXojeiy2NRZw",
        "colab": {
          "base_uri": "https://localhost:8080/"
        },
        "outputId": "03472e92-4371-4322-e129-8740f81d0037"
      },
      "outputs": [
        {
          "output_type": "stream",
          "name": "stdout",
          "text": [
            "[1, 2, 3, 4, 5] original\n",
            "[0, 2, 3, 4, 5] cópia\n"
          ]
        }
      ],
      "source": [
        "original = [1, 2, 3, 4, 5]\n",
        "copia = original.copy() #aqui é realizada uma cópia dos elementos\n",
        "copia[0] = 0\n",
        "print(original,'original') #Perceba que a lista original não foi foi modificada\n",
        "print(copia,'cópia') #original e copia são listas distintas"
      ]
    },
    {
      "cell_type": "markdown",
      "metadata": {
        "id": "vHC8FxQINRZw"
      },
      "source": [
        "## Operações sobre sequências\n",
        "\n",
        "Algumas operações podem ser realizadas diretamente sobre sequências, não restrito às listas.\n",
        "\n",
        "|Operação|Função|\n",
        "|--------|------|\n",
        "|`+`     | concatena duas sequências|\n",
        "|`*`     | repete uma sequência diversas vezes|\n",
        "|`in`    | verifica se um item está em uma sequência|\n",
        "|`not in`| verifica se um item **não está** em uma sequência|\n",
        "\n",
        "**Exemplo**\n",
        "\n",
        "```python\n",
        "pares=[2,4,6,8]\n",
        "vogais=['a','e','i','o','u']\n",
        "print('pares           :', pares)\n",
        "print('vogais          :', vogais)\n",
        "print('pares + vogais  :', pares+vogais)\n",
        "print('vogais * 3      :', vogais*3)\n",
        "print('5 in pares      :', 5 in pares)\n",
        "print('a not in vogais :', 'a' not in vogais)\n",
        "```\n",
        "**Atividade**\n",
        "- Execute os exemplos apresentados acima.\n"
      ]
    },
    {
      "cell_type": "code",
      "execution_count": 12,
      "metadata": {
        "id": "8hTHPRpANRZw",
        "colab": {
          "base_uri": "https://localhost:8080/"
        },
        "outputId": "6ddf7b48-4549-42ac-99cf-ab97d0cf6ee6"
      },
      "outputs": [
        {
          "output_type": "stream",
          "name": "stdout",
          "text": [
            "pares           : [2, 4, 6, 8]\n",
            "vogais          : ['a', 'e', 'i', 'o', 'u']\n",
            "pares + vogais  : [2, 4, 6, 8, 'a', 'e', 'i', 'o', 'u']\n",
            "vogais * 3      : ['a', 'e', 'i', 'o', 'u', 'a', 'e', 'i', 'o', 'u', 'a', 'e', 'i', 'o', 'u']\n",
            "5 in pares      : False\n",
            "a not in vogais : False\n"
          ]
        }
      ],
      "source": [
        "pares = [2, 4, 6, 8]\n",
        "vogais = ['a','e','i','o','u']\n",
        "print('pares           :', pares)\n",
        "print('vogais          :', vogais)\n",
        "print('pares + vogais  :', pares + vogais)\n",
        "print('vogais * 3      :', vogais * 3)\n",
        "print('5 in pares      :', 5 in pares)\n",
        "print('a not in vogais :', 'a' not in vogais)"
      ]
    },
    {
      "cell_type": "markdown",
      "metadata": {
        "id": "EbowwmVxNRZw"
      },
      "source": [
        "**Exercícios**\n",
        "- [Beecrowd 3147 - A Batalha do  Cinco Exércitos](https://www.beecrowd.com.br/judge/pt/problems/view/3147)  \n",
        "- [Beecrowd 1259 - Pares e Ímpares](https://www.beecrowd.com.br/judge/pt/problems/view/1259)\n",
        "- [Beecrowd 1961 - Pula Sapo](https://www.beecrowd.com.br/judge/pt/problems/view/1961)"
      ]
    },
    {
      "cell_type": "markdown",
      "metadata": {
        "id": "Dmo9nvTmNRZw"
      },
      "source": [
        "## Referências\n",
        "\n",
        "**Outros materiais**\n",
        "\n",
        "[Python - Built-in types](https://docs.python.org/3/library/stdtypes.html#sequence-types-list-tuple-range)  \n",
        "[Python - Operadores e fatiamento de sequências](http://www.devfuria.com.br/python/sequencias-fatiamento/)  \n",
        "[Apostila Python e orientação a objetos - Capítulo 4: Estrutura de dados ](https://www.caelum.com.br/apostila-python-orientacao-objetos/estrutura-de-dados/)"
      ]
    },
    {
      "cell_type": "markdown",
      "metadata": {
        "id": "tLvgFXGfNRZw"
      },
      "source": []
    }
  ],
  "metadata": {
    "kernelspec": {
      "display_name": "Python 3 (ipykernel)",
      "language": "python",
      "name": "python3"
    },
    "language_info": {
      "codemirror_mode": {
        "name": "ipython",
        "version": 3
      },
      "file_extension": ".py",
      "mimetype": "text/x-python",
      "name": "python",
      "nbconvert_exporter": "python",
      "pygments_lexer": "ipython3",
      "version": "3.9.15"
    },
    "colab": {
      "provenance": [],
      "include_colab_link": true
    }
  },
  "nbformat": 4,
  "nbformat_minor": 0
}