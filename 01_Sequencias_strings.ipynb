{
  "cells": [
    {
      "cell_type": "markdown",
      "metadata": {
        "id": "view-in-github",
        "colab_type": "text"
      },
      "source": [
        "<a href=\"https://colab.research.google.com/github/Joaogalescky/Ciencia-de-Dados---2024/blob/main/01_Sequencias_strings.ipynb\" target=\"_parent\"><img src=\"https://colab.research.google.com/assets/colab-badge.svg\" alt=\"Open In Colab\"/></a>"
      ]
    },
    {
      "cell_type": "markdown",
      "metadata": {
        "id": "9e8ax5ztNmBP"
      },
      "source": [
        "# *Strings*\n",
        "\n",
        "O tipo `str` corresponde às *strings*. Uma *string* é uma **sequência** de caracteres, e denota-se um dado como uma *string* colocando seu conteúdo entre aspas simples (`'`) ou aspas duplas (`\"`), de maneira equivalente. Cada elemento é um caractere.\n",
        "\n",
        "**Exemplo**\n",
        "\n",
        "A variável `s` recebe o texto `pudim`, e em seguida observa-se o tipo da variável `s`.\n",
        "```python\n",
        "s = 'pudim'\n",
        "type(s)\n",
        "```"
      ]
    },
    {
      "cell_type": "code",
      "execution_count": 1,
      "metadata": {
        "id": "krviGM8BNmBS",
        "colab": {
          "base_uri": "https://localhost:8080/"
        },
        "outputId": "4edded04-a35f-47fa-decc-23f8a82744df"
      },
      "outputs": [
        {
          "output_type": "execute_result",
          "data": {
            "text/plain": [
              "str"
            ]
          },
          "metadata": {},
          "execution_count": 1
        }
      ],
      "source": [
        "s = 'pudim'\n",
        "type(s)"
      ]
    },
    {
      "cell_type": "markdown",
      "metadata": {
        "id": "OnSASIrQNmBS"
      },
      "source": [
        "Como uma *string* é uma sequência, pode-se acessar cada elemento (caractere) pela sua posição.  \n",
        "\n",
        "**Exemplo**\n",
        "\n",
        "Pode-se acessar o primeiro caracter (`'p'`) acessando a posição 0, e o terceiro caracter (`'d'`) acessando a posição 2.\n",
        "```python\n",
        "print(s[0])\n",
        "print(s[2])\n",
        "```"
      ]
    },
    {
      "cell_type": "code",
      "execution_count": 2,
      "metadata": {
        "id": "7EXVcNqiNmBT",
        "colab": {
          "base_uri": "https://localhost:8080/"
        },
        "outputId": "f34ac85e-d35b-49c2-8dc5-85dc78f8ecb3"
      },
      "outputs": [
        {
          "output_type": "stream",
          "name": "stdout",
          "text": [
            "p\n",
            "d\n"
          ]
        }
      ],
      "source": [
        "print(s[0])\n",
        "print(s[2])"
      ]
    },
    {
      "cell_type": "markdown",
      "metadata": {
        "id": "DUYxrfBJNmBT"
      },
      "source": [
        "**Atividade**\n",
        "\n",
        "- Crie uma variável *string* chamada `p`, com o conteúdo `programação`.\n",
        "- Mostre todos os caracteres de `p` nas posições de número par."
      ]
    },
    {
      "cell_type": "code",
      "execution_count": 5,
      "metadata": {
        "id": "juiZQD2ANmBT",
        "colab": {
          "base_uri": "https://localhost:8080/"
        },
        "outputId": "ae80c7b5-fb73-4d80-89ec-cb31fb1fb56e"
      },
      "outputs": [
        {
          "output_type": "stream",
          "name": "stdout",
          "text": [
            "p\n",
            "o\n",
            "r\n",
            "m\n",
            "ç\n",
            "o\n"
          ]
        }
      ],
      "source": [
        "p = 'programação'\n",
        "\n",
        "for i in range(0, len(p), 2):\n",
        "  # len - retorna o número de elementos de uma variável\n",
        "  print(p[i])"
      ]
    },
    {
      "cell_type": "markdown",
      "metadata": {
        "id": "3XWwmuybNmBT"
      },
      "source": [
        "## Operações sobre sequências\n",
        "\n",
        "Algumas operações podem ser realizadas diretamente sobre sequências.\n",
        "\n",
        "- `+`: concatena duas sequências;\n",
        "- `*`: repete uma sequência diversas vezes;\n",
        "- `in`: verifica se um item está ou não em uma sequência;\n",
        "- `not in`: verifica se um item **não está** em uma sequência.\n",
        "\n",
        "**Exemplo**\n",
        "\n",
        "```python\n",
        "pares=[2,4,6,8]\n",
        "vogais=['a','e','i','o','u']\n",
        "print(pares+vogais)\n",
        "print(vogais*3)\n",
        "print(5 in pares)\n",
        "print('a' not in vogais)\n",
        "```\n",
        "\n"
      ]
    },
    {
      "cell_type": "code",
      "execution_count": 6,
      "metadata": {
        "id": "CV01PdyMNmBT",
        "colab": {
          "base_uri": "https://localhost:8080/"
        },
        "outputId": "835073dd-aa4e-47d7-f28b-5bcd92f0b1d1"
      },
      "outputs": [
        {
          "output_type": "stream",
          "name": "stdout",
          "text": [
            "[2, 4, 6, 8, 'a', 'e', 'i', 'o', 'u']\n",
            "['a', 'e', 'i', 'o', 'u', 'a', 'e', 'i', 'o', 'u', 'a', 'e', 'i', 'o', 'u']\n",
            "False\n",
            "False\n"
          ]
        }
      ],
      "source": [
        "pares = [2, 4, 6, 8]\n",
        "vogais = ['a', 'e', 'i', 'o', 'u']\n",
        "print(pares + vogais)\n",
        "print(vogais * 3)\n",
        "print(5 in pares)\n",
        "print('a' not in vogais)"
      ]
    },
    {
      "cell_type": "markdown",
      "metadata": {
        "id": "Tf5wj4MrNmBT"
      },
      "source": [
        "**Exercícios**  \n",
        "- [Beecrowd 3300 - Números Má Sorte Recarregados](https://www.beecrowd.com.br/judge/pt/problems/view/3300)\n",
        "- [Beecrowd 2242 - Huaauhahhuahau](https://www.beecrowd.com.br/judge/pt/problems/view/2242)"
      ]
    },
    {
      "cell_type": "markdown",
      "metadata": {
        "id": "-5gyLDJpNmBT"
      },
      "source": [
        "## Operações específicas"
      ]
    },
    {
      "cell_type": "markdown",
      "metadata": {
        "id": "LHckmai2NmBU"
      },
      "source": [
        "Outros métodos sobre *strings* podem ser conferidos na tabela apresentada a seguir. Todos os métodos disponíveis podem ser consultados na API da linguagem.[PYTHON. Built-in methods: string methods](https://docs.python.org/3/library/stdtypes.html#string-methods).\n",
        "\n",
        "- `.capitalize()`: converte a primeira letra para maiúscula;\n",
        "- `.lower()`: converte as letras para minúsculas;\n",
        "- `.upper()`: converte as letras para maiúsculas;\n",
        "- `.islower()`: verifica se todos os caracteres são letras minúsculas;\n",
        "- `.isupper()`: verifica se todas os caracteres são letras maiúsculas;\n",
        "- `.split()`: divide em várias outras *strings*, de acordo com algum caractere de separação;\n",
        "- `.find(b)`: retorna a posição *string* `a` aparece;\n",
        "- `.replace(a, b)`: substitui na *string* as *substrings* `a` por `b`;\n",
        "- `.strip()`: remove espaços existentes no início e fim da *string*;\n",
        "- `.format()`: formata a *string*, podendo realizar substituição de variáveis.\n",
        "\n",
        "\n",
        "**Exemplos**\n",
        "\n",
        "```python\n",
        "frase='  um EXEMPLO interessante.  '\n",
        "print(frase.capitalize())\n",
        "print(frase.lower())\n",
        "print(frase.upper())\n",
        "print(frase.islower())\n",
        "print(frase.isupper())\n",
        "print(frase.split(' '))\n",
        "print(frase.find('inter'))\n",
        "print(frase.replace('inter','estr'))\n",
        "print(frase.strip())\n",
        "\n",
        "valor1, valor2, soma = 25,5,30\n",
        "print('A soma de {} e {} é {}.'.format(valor1, valor2, soma))\n",
        "```\n",
        "**Atividade**  \n",
        "- Execute os exemplos apresentados acima."
      ]
    },
    {
      "cell_type": "code",
      "execution_count": 10,
      "metadata": {
        "id": "NyKIGCs1NmBU",
        "colab": {
          "base_uri": "https://localhost:8080/"
        },
        "outputId": "d724a404-e542-4aa4-ef86-9862cd63d6ba"
      },
      "outputs": [
        {
          "output_type": "stream",
          "name": "stdout",
          "text": [
            "Um exemplo interessante\n",
            "um exemplo interessante\n",
            "UM EXEMPLO INTERESSANTE\n",
            "False\n",
            "False\n",
            "['um', 'EXEMPLO', 'interessante']\n",
            "11\n",
            "um EXEMPLO estressante\n",
            "um EXEMPLO interessante\n",
            "A soma de 25 e 5 é 30.\n"
          ]
        }
      ],
      "source": [
        "frase='um EXEMPLO interessante'\n",
        "print(frase.capitalize())\n",
        "print(frase.lower())\n",
        "print(frase.upper())\n",
        "print(frase.islower())\n",
        "print(frase.isupper())\n",
        "print(frase.split(' '))\n",
        "print(frase.find('inter'))\n",
        "print(frase.replace('inter','estr'))\n",
        "print(frase.strip())\n",
        "\n",
        "valor1, valor2, soma = 25, 5, 30\n",
        "print('A soma de {} e {} é {}.'.format(valor1, valor2, soma))"
      ]
    },
    {
      "cell_type": "markdown",
      "metadata": {
        "id": "DakS9thBNmBU"
      },
      "source": [
        "## Formatação\n",
        "### Substituição\n",
        "O método `.format()` merece destaque aqui. Com ele, é possível utilizar o de maneira simplificada a apresentação de informações. Neste, o local em que os dados serão incluídos é marcado com `{}`, e os valores a serem inseridos, na ordem, são passados como parâmetro ao método `.format()`.\n",
        "\n",
        "**Exemplo**\n",
        "```python\n",
        "v=6\n",
        "q=v**2\n",
        "c=v**3\n",
        "print(v,'ao quadrado é igual a', q, ', e', v, 'ao cubo é igual a',c,'.')\n",
        "print('{} ao quadrado é igual a {} , e {} ao cubo é igual a {}'.format(v, q, v, c))\n",
        "```\n",
        "**Atividade**\n",
        "- Execute o exemplo."
      ]
    },
    {
      "cell_type": "code",
      "execution_count": 17,
      "metadata": {
        "id": "yqxzmM8fNmBU",
        "colab": {
          "base_uri": "https://localhost:8080/"
        },
        "outputId": "fee34a19-5cf0-4e4e-f750-3e32fbffa6b2"
      },
      "outputs": [
        {
          "output_type": "stream",
          "name": "stdout",
          "text": [
            "6 ao quadrado é igual a 36 ,e 6 ao cubo é igual a 216\n",
            "6 ao quadrado é igual a 36, e 6 ao buco é giaul a 216\n"
          ]
        }
      ],
      "source": [
        "v = 6\n",
        "q = v ** 2\n",
        "c = v ** 3\n",
        "print(v, 'ao quadrado é igual a', q,',e', v,'ao cubo é igual a', c)\n",
        "print('{} ao quadrado é igual a {}, e {} ao buco é giaul a {}'.format(v, q, v, c))"
      ]
    },
    {
      "cell_type": "markdown",
      "metadata": {
        "id": "qtGS8dduNmBU"
      },
      "source": [
        "Outra forma de de fomatação é adicionar `f` ao início da *string*, e os valores pode ser informados diretamente no local onde deverão aparecer.\n",
        "\n",
        "**Exemplo**  \n",
        "```python\n",
        "print(f'{v} ao quadrado é igual a {q} , e {v} ao cubo é igual a {c}')\n",
        "```\n",
        "**Atividade**\n",
        "- Execute o exemplo."
      ]
    },
    {
      "cell_type": "code",
      "execution_count": 18,
      "metadata": {
        "id": "1oDQdANANmBU",
        "colab": {
          "base_uri": "https://localhost:8080/"
        },
        "outputId": "f4dfabc6-dbe6-4a17-f830-457fbb797122"
      },
      "outputs": [
        {
          "output_type": "stream",
          "name": "stdout",
          "text": [
            "6 ao quadrado é igual a 36, e 6 ao buco é igual a 216\n"
          ]
        }
      ],
      "source": [
        "print(f'{v} ao quadrado é igual a {q}, e {v} ao buco é igual a {c}')"
      ]
    },
    {
      "cell_type": "markdown",
      "metadata": {
        "id": "vjLn171ENmBV"
      },
      "source": [
        "Outra maneira é nomear o argumento na *string*. Com isso, a ordem dos parâmetros no momento de informar pode variar.\n",
        "\n",
        "**Exemplo**  \n",
        "\n",
        "- Observe que independente da ordem dos parâmetros, a saída é idêntica\n",
        "\n",
        "```python\n",
        "print('{dia} de {mes} de {ano}'.format(dia='4', mes='abril', ano='2005'))\n",
        "print('{dia} de {mes} de {ano}'.format(ano='2005', dia='4', mes='abril'))\n",
        "```"
      ]
    },
    {
      "cell_type": "code",
      "execution_count": 19,
      "metadata": {
        "id": "U7Afm6XXNmBV",
        "colab": {
          "base_uri": "https://localhost:8080/"
        },
        "outputId": "d24ecac5-5368-4def-8586-fded1af82ae7"
      },
      "outputs": [
        {
          "output_type": "stream",
          "name": "stdout",
          "text": [
            "4 de abril de 2005\n",
            "4 de abril de 2005\n"
          ]
        }
      ],
      "source": [
        "print('{dia} de {mes} de {ano}'.format(dia='4', mes='abril', ano='2005'))\n",
        "print('{dia} de {mes} de {ano}'.format(ano='2005', dia='4', mes='abril'))"
      ]
    },
    {
      "cell_type": "markdown",
      "metadata": {
        "id": "2NvC032YNmBV"
      },
      "source": [
        "### Espaço do valor\n",
        "Outra possibilidade é especificar qual o tamanho do espaço que o valor deve ocupar.  \n",
        "\n",
        "**Exemplo**\n",
        "- A *string* deve ocupar o espaço de no mínimo 7 caracteres:\n",
        "\n",
        "```python\n",
        "print('-{:7}-'.format('abc'))\n",
        "print('-{:7}-'.format('paralelepípedo'))\n",
        "```\n",
        "\n",
        "**Exemplo**\n",
        "- A *string* deve ocupar o espaço de no máximo 7 caracteres, truncando os caracteres no espaço.\n",
        "\n",
        "```python\n",
        "print('-{:.7}-'.format('abc'))\n",
        "print('-{:.7}-'.format('paralelepípedo'))\n",
        "```\n",
        "**Atividade**\n",
        "- Execute os exemplos e observe as diferenças."
      ]
    },
    {
      "cell_type": "code",
      "execution_count": 20,
      "metadata": {
        "id": "AmPx7x-XNmBV",
        "colab": {
          "base_uri": "https://localhost:8080/"
        },
        "outputId": "31f8b10f-1f6a-4f4f-eca9-bb66b9f9fe1f"
      },
      "outputs": [
        {
          "output_type": "stream",
          "name": "stdout",
          "text": [
            "-abc    -\n",
            "-paralelepípedo-\n"
          ]
        }
      ],
      "source": [
        "print('-{:7}-'.format('abc'))\n",
        "print('-{:7}-'.format('paralelepípedo'))"
      ]
    },
    {
      "cell_type": "markdown",
      "metadata": {
        "id": "eSnF934PNmBV"
      },
      "source": [
        "### Alinhamento\n",
        "Também é possível especificar o alinhamento. À esquerda, centralizado ou à direita.  \n",
        "**Exemplo**\n",
        "```python\n",
        "print('-{:7}-'.format('abc'))  #padrão\n",
        "print('-{:<7}-'.format('abc')) #à esquerda\n",
        "print('-{:^7}-'.format('abc')) #centralizado\n",
        "print('-{:>7}-'.format('abc')) #à direita\n",
        "```"
      ]
    },
    {
      "cell_type": "code",
      "execution_count": 22,
      "metadata": {
        "id": "DlKv59miNmBV",
        "colab": {
          "base_uri": "https://localhost:8080/"
        },
        "outputId": "0f834548-afa0-401d-c404-11bc1feb4c60"
      },
      "outputs": [
        {
          "output_type": "stream",
          "name": "stdout",
          "text": [
            "-abc    -\n",
            "-abc    -\n",
            "-  abc  -\n",
            "-    abc-\n"
          ]
        }
      ],
      "source": [
        "print('-{:7}-'.format('abc'))  #padrão\n",
        "print('-{:<7}-'.format('abc')) #à esquerda\n",
        "print('-{:^7}-'.format('abc')) #centralizado\n",
        "print('-{:>7}-'.format('abc')) #à direita"
      ]
    },
    {
      "cell_type": "markdown",
      "metadata": {
        "id": "5uZPzLOkNmBV"
      },
      "source": [
        "Também possível truncar, definir o espaço e alinhar simultaneamente.  \n",
        "\n",
        "**Exemplo**  \n",
        "```python\n",
        "print('-{:>7.5}-'.format('paralelepípedo')) #espaço de 7 caracteres, truncando em 5 e alinhando à direita\n",
        "```"
      ]
    },
    {
      "cell_type": "code",
      "execution_count": 25,
      "metadata": {
        "id": "WcsPzBZfNmBV",
        "colab": {
          "base_uri": "https://localhost:8080/"
        },
        "outputId": "78121902-9aac-4a03-b64e-0a0290ef9e69"
      },
      "outputs": [
        {
          "output_type": "stream",
          "name": "stdout",
          "text": [
            "-  paral-\n"
          ]
        }
      ],
      "source": [
        "print('-{:>7.5}-'.format('paralelepípedo')) #espaço de 7 caracteres, truncando em 5 e alinhando à direita"
      ]
    },
    {
      "cell_type": "markdown",
      "metadata": {
        "id": "fEN5GY5pNmBV"
      },
      "source": [
        "### Tipos de dados\n",
        "Na formatação de *strings* também é possível manipular como determinados tipos de dados aparecem.\n",
        "\n",
        "|código |significado|\n",
        "|-------|:----------|\n",
        "|`:d`   |int        |\n",
        "|`:+d`  |int com sinal  |\n",
        "|`:=+nd`|Sinal no início do espaço de tamanho `n`|\n",
        "|`:f`   |float      |\n",
        "|`:.nf` |float com precisão `n`|\n",
        "|`:+.nf`|float com sinal e precisão `n`|\n",
        "\n",
        "\n",
        "**Exemplo**\n",
        "- `:d`\n",
        "\n",
        "```python\n",
        "print('{:d}'.format(42))   #42\n",
        "print('{:d}'.format(-42))  #-42\n",
        "```"
      ]
    },
    {
      "cell_type": "code",
      "execution_count": 26,
      "metadata": {
        "id": "uyCTqQE3NmBW",
        "colab": {
          "base_uri": "https://localhost:8080/"
        },
        "outputId": "0b5f7419-3b35-47db-c0c9-f69a3b3a6c15"
      },
      "outputs": [
        {
          "output_type": "stream",
          "name": "stdout",
          "text": [
            "42\n",
            "-42\n"
          ]
        }
      ],
      "source": [
        "print('{:d}'.format(42))   #42\n",
        "print('{:d}'.format(-42))  #-42"
      ]
    },
    {
      "cell_type": "markdown",
      "metadata": {
        "id": "EPYFY08FNmBW"
      },
      "source": [
        "**Exemplo**\n",
        "\n",
        "- `:+d`\n",
        "\n",
        "```python\n",
        "print('{:+d}'.format(42))   #+42\n",
        "print('{:+d}'.format(-42))  #-42\n",
        "```"
      ]
    },
    {
      "cell_type": "code",
      "execution_count": 32,
      "metadata": {
        "id": "OTt1eu4yNmBW",
        "colab": {
          "base_uri": "https://localhost:8080/"
        },
        "outputId": "5cca25bf-fe01-4074-ebf0-23d46ec5bc4c"
      },
      "outputs": [
        {
          "output_type": "stream",
          "name": "stdout",
          "text": [
            "+42\n",
            "-42\n"
          ]
        }
      ],
      "source": [
        "print('{:+d}'.format(42))   #+42\n",
        "print('{:+d}'.format(-42))  #-42"
      ]
    },
    {
      "cell_type": "markdown",
      "metadata": {
        "id": "m8rXPXGANmBW"
      },
      "source": [
        "**Exemplo**  \n",
        "\n",
        "- `:=+nd`\n",
        "\n",
        "```python\n",
        "print('{:=+5d}'.format(42))       #+  42\n",
        "print('{:=+5d}'.format(-42))      #-  42\n",
        "print('{:=+5d}'.format(123456))   #+123456\n",
        "print('{:=+5d}'.format(-123456))  #-123456\n",
        "```"
      ]
    },
    {
      "cell_type": "code",
      "execution_count": 30,
      "metadata": {
        "id": "XLR32dITNmBW",
        "colab": {
          "base_uri": "https://localhost:8080/"
        },
        "outputId": "62152d40-a64b-44e7-9cde-6086676acad1"
      },
      "outputs": [
        {
          "output_type": "stream",
          "name": "stdout",
          "text": [
            "+  42\n",
            "-  42\n",
            "+123456\n",
            "-123456\n"
          ]
        }
      ],
      "source": [
        "print('{:=+5d}'.format(42))       #+  42\n",
        "print('{:=+5d}'.format(-42))      #-  42\n",
        "print('{:=+5d}'.format(123456))   #+123456\n",
        "print('{:=+5d}'.format(-123456))  #-123456"
      ]
    },
    {
      "cell_type": "markdown",
      "metadata": {
        "id": "NeZtIlUNNmBW"
      },
      "source": [
        "**Exemplo**  \n",
        "\n",
        "- `:f`, `:.nf` e `:+.nf`\n",
        "\n",
        "```python\n",
        "print('{:f}'.format(0.45678))    #0.456780\n",
        "print('{:.2f}'.format(0.45678))  #0.46\n",
        "print('{:+.2f}'.format(0.45678)) #+0.46\n",
        "```\n",
        "    - Observe que os valores são arredondados."
      ]
    },
    {
      "cell_type": "code",
      "execution_count": 33,
      "metadata": {
        "id": "t2k3SQliNmBW",
        "colab": {
          "base_uri": "https://localhost:8080/"
        },
        "outputId": "df336d16-c5ac-4089-cf25-dfef40a50829"
      },
      "outputs": [
        {
          "output_type": "stream",
          "name": "stdout",
          "text": [
            "0.456780\n",
            "0.46\n",
            "+0.46\n"
          ]
        }
      ],
      "source": [
        "print('{:f}'.format(0.45678))    #0.456780\n",
        "print('{:.2f}'.format(0.45678))  #0.46\n",
        "print('{:+.2f}'.format(0.45678)) #+0.46"
      ]
    },
    {
      "cell_type": "markdown",
      "metadata": {
        "id": "IVSt-cAXNmBW"
      },
      "source": [
        "### Substituições aninhadas\n",
        "\n",
        "Pode-se aplicar substituições dentro do espaço das substituições.\n",
        "\n",
        "**Exemplo**  \n",
        "- O alinhamento e o espaço são informados por parâmetro\n",
        "\n",
        "```python\n",
        "print('_{:{}{}}_'.format('hello', '^', '10')) #_  hello   _\n",
        "```"
      ]
    },
    {
      "cell_type": "code",
      "execution_count": 34,
      "metadata": {
        "id": "RetwoMXkNmBW",
        "colab": {
          "base_uri": "https://localhost:8080/"
        },
        "outputId": "a631aea9-1ff3-4fcc-a943-ff76f7ceb8f9"
      },
      "outputs": [
        {
          "output_type": "stream",
          "name": "stdout",
          "text": [
            "_  hello   _\n"
          ]
        }
      ],
      "source": [
        "print('_{:{}{}}_'.format('hello', '^', '10')) #_  hello   _"
      ]
    },
    {
      "cell_type": "markdown",
      "metadata": {
        "id": "85--w2vzNmBp"
      },
      "source": [
        "Substituições também podem ser utilizadas múltiplas vezes.\n",
        "\n",
        "**Exemplo**  \n",
        "\n",
        "```python\n",
        "print('{:.{prec}} = {:.{prec}f}'.format('Valor', 3.141592653, prec=3)) #Val = 3.142\n",
        "```\n",
        "    - Observe que o espaço da palavra `valor` e a precisão do número estão indicados no mesmo parâmetro"
      ]
    },
    {
      "cell_type": "code",
      "execution_count": 35,
      "metadata": {
        "id": "aH6nMvM1NmBp",
        "colab": {
          "base_uri": "https://localhost:8080/"
        },
        "outputId": "c9f2f3ec-fc51-4f46-954f-2a4f82b1afc0"
      },
      "outputs": [
        {
          "output_type": "stream",
          "name": "stdout",
          "text": [
            "Val = 3.142\n"
          ]
        }
      ],
      "source": [
        "print('{:.{prec}} = {:.{prec}f}'.format('Valor', 3.141592653, prec = 3)) #Val = 3.142"
      ]
    },
    {
      "cell_type": "markdown",
      "metadata": {
        "id": "8PRO7VJzNmBp"
      },
      "source": [
        "**Exemplo**  \n",
        "```python\n",
        "msg = 'Valor do pi'\n",
        "pi = 3.141592653\n",
        "pre = 3   #precisao do valor e\n",
        "esp = 7   #número de caracteres\n",
        "ali = '>' #alinhamento à direita\n",
        "print('_{:{a}{e}.{p}} = {:.{p}f}_'.format(msg, pi, p=pre, a=ali, e=esp)) #Val = 3.142\n",
        "```\n",
        "    - Repare que o alinhamento, a precisão e o espaço destinada aos caracteres são especificados anteriormente, em substituições dentro da substituição"
      ]
    },
    {
      "cell_type": "code",
      "execution_count": 36,
      "metadata": {
        "id": "p-8G2kWkNmBp",
        "colab": {
          "base_uri": "https://localhost:8080/"
        },
        "outputId": "017a4f04-59c5-42ec-ff16-6d05a01d155f"
      },
      "outputs": [
        {
          "output_type": "stream",
          "name": "stdout",
          "text": [
            "_    Val = 3.142_\n"
          ]
        }
      ],
      "source": [
        "msg = 'Valor do pi'\n",
        "pi = 3.141592653\n",
        "pre = 3   #precisao do valor e\n",
        "esp = 7   #número de caracteres\n",
        "ali = '>' #alinhamento à direita\n",
        "print('_{:{a}{e}.{p}} = {:.{p}f}_'.format(msg, pi, p=pre, a=ali, e=esp)) #Val = 3.142"
      ]
    },
    {
      "cell_type": "markdown",
      "metadata": {
        "id": "TL0MclveNmBp"
      },
      "source": [
        "### Separação\n",
        "\n",
        "Outro método das *string* que merece destaque é o `.split()`. Com ele, é possível dividir a sentença em diversas partes. O resultado é uma lista em que cada posição da lista consta uma parte da *string*, dividida pela *string* informada via parâmetro.\n",
        "\n",
        "**Exemplo**  \n",
        "```python\n",
        "texto = 'Python é uma linguagem de programação. É interpretada e orientada a objetos'\n",
        "print(texto.split()) #separação padrão, utilizando espaços\n",
        "print(texto.split('.')) #separação das frases, pelo .\n",
        "```"
      ]
    },
    {
      "cell_type": "code",
      "execution_count": 37,
      "metadata": {
        "id": "lyhyYYX5NmBp",
        "colab": {
          "base_uri": "https://localhost:8080/"
        },
        "outputId": "d456e878-636d-4c55-f3df-64d1f6b25067"
      },
      "outputs": [
        {
          "output_type": "stream",
          "name": "stdout",
          "text": [
            "['Python', 'é', 'uma', 'linguagem', 'de', 'programação.', 'É', 'interpretada', 'e', 'orientada', 'a', 'objetos']\n",
            "['Python é uma linguagem de programação', ' É interpretada e orientada a objetos']\n"
          ]
        }
      ],
      "source": [
        "texto = 'Python é uma linguagem de programação. É interpretada e orientada a objetos'\n",
        "print(texto.split()) #separação padrão, utilizando espaços\n",
        "print(texto.split('.')) #separação das frases, pelo ."
      ]
    },
    {
      "cell_type": "markdown",
      "metadata": {
        "id": "BCpZpO4VNmBp"
      },
      "source": [
        "Com isto, é possível obter apenas trechos ou palavras desejadas.\n",
        "\n",
        "**Exemplo**\n",
        "```python\n",
        "texto    = 'Python é uma linguagem de programação. É interpretada e orientada a objetos'\n",
        "palavras = texto.split() #Separa pelo espaço\n",
        "de  = 2\n",
        "ate = 4\n",
        "print('Palavra na posição',ate,'       :', palavras[ate])\n",
        "print('Palavras nas posições',de,'a',ate,':', palavras[2:ate+1])\n",
        "print('Palavras nas posições {ini} a {fim} : {}'.format(palavras[de:ate+1], ini=de,fim=ate ))\n",
        "print(f'Palavras nas posições {de} a {ate} : {palavras[de:ate+1]}')\n",
        "```"
      ]
    },
    {
      "cell_type": "code",
      "source": [
        "texto    = 'Python é uma linguagem de programação. É interpretada e orientada a objetos'\n",
        "palavras = texto.split() #Separa pelo espaço\n",
        "de  = 2\n",
        "ate = 4\n",
        "print('Palavra na posição',ate,'       :', palavras[ate])\n",
        "print('Palavras nas posições',de,'a',ate,':', palavras[2:ate+1])\n",
        "print('Palavras nas posições {ini} a {fim} : {}'.format(palavras[de:ate+1], ini=de,fim=ate ))\n",
        "print(f'Palavras nas posições {de} a {ate} : {palavras[de:ate+1]}')"
      ],
      "metadata": {
        "colab": {
          "base_uri": "https://localhost:8080/"
        },
        "id": "FxOdX5P1qzoQ",
        "outputId": "ff56a9d1-b2d0-4a0b-de47-96d11bae23c0"
      },
      "execution_count": 38,
      "outputs": [
        {
          "output_type": "stream",
          "name": "stdout",
          "text": [
            "Palavra na posição 4        : de\n",
            "Palavras nas posições 2 a 4 : ['uma', 'linguagem', 'de']\n",
            "Palavras nas posições 2 a 4 : ['uma', 'linguagem', 'de']\n",
            "Palavras nas posições 2 a 4 : ['uma', 'linguagem', 'de']\n"
          ]
        }
      ]
    },
    {
      "cell_type": "markdown",
      "metadata": {
        "id": "kuqzQmVcNmBq"
      },
      "source": [
        "**Exercícios**\n",
        "- [Beecrowd 2234 - Cachorros-Quentes](https://www.beecrowd.com.br/judge/pt/problems/view/2234)  \n",
        "- [Beecrowd 2311 - Saltos Ornamentais](https://www.beecrowd.com.br/judge/pt/problems/view/2311)"
      ]
    },
    {
      "cell_type": "markdown",
      "metadata": {
        "id": "LKpExhyANmBq"
      },
      "source": [
        "### Fatiamento\n",
        "\n",
        "Em *strings* é possível aplicar o fatiamento, visto que são estruturas de sequências. Para tal, basta informar o intervalo inicial e final dos caracteres que se deseja acessar.\n",
        "\n",
        "\n",
        "\n",
        "**Exemplo**  \n",
        "```python\n",
        "texto = 'Python é uma linguagem de programação. É interpretada e orientada a objetos'\n",
        "print(texto[10:20]) #Mostra do caractere na posição 10 ao da 19.\n",
        "                    #Observe que é o valor final -1\n",
        "    \n",
        "print(texto[0:5])   #Mostra os caracteres nas posições 0 a 4\n",
        "\n",
        "print(texto[10:])   #Mostra os caracteres da posição 10 em diante.\n",
        "                    #Observe que o valor final não é informado\n",
        "    \n",
        "print(texto[:10])   #Mostra do início até o caractere na posição 9.\n",
        "                    #Observe que o valor inicial (0) foi omitido.\n",
        "```"
      ]
    },
    {
      "cell_type": "code",
      "source": [
        "texto = 'Python é uma linguagem de programação. É interpretada e orientada a objetos'\n",
        "print(texto[10:20]) #Mostra do caractere na posição 10 ao da 19.\n",
        "                    #Observe que é o valor final -1\n",
        "\n",
        "print(texto[0:5])   #Mostra os caracteres nas posições 0 a 4\n",
        "\n",
        "print(texto[10:])   #Mostra os caracteres da posição 10 em diante.\n",
        "                    #Observe que o valor final não é informado\n",
        "\n",
        "print(texto[:10])   #Mostra do início até o caractere na posição 9.\n",
        "                    #Observe que o valor inicial (0) foi omitido."
      ],
      "metadata": {
        "colab": {
          "base_uri": "https://localhost:8080/"
        },
        "id": "8A-7tnSQrG-n",
        "outputId": "9905cfc9-f998-4723-bf2c-9593131111d5"
      },
      "execution_count": 39,
      "outputs": [
        {
          "output_type": "stream",
          "name": "stdout",
          "text": [
            "ma linguag\n",
            "Pytho\n",
            "ma linguagem de programação. É interpretada e orientada a objetos\n",
            "Python é u\n"
          ]
        }
      ]
    },
    {
      "cell_type": "markdown",
      "metadata": {
        "id": "A3fAJDFDNmBq"
      },
      "source": [
        "**Exercícios**\n",
        "- [Beecrowd 1241 - Encaixa ou Não II](https://www.beecrowd.com.br/judge/pt/problems/view/2241) <- Resolver utilizando fatiamento\n",
        "- [Beecrowd 3358 - Sobrenome não é fácil](https://www.beecrowd.com.br/judge/pt/problems/view/3358)\n",
        "- [Beecrowd 2714 - Minha Senha Provisória](https://www.beecrowd.com.br/judge/pt/problems/view/2714)"
      ]
    },
    {
      "cell_type": "markdown",
      "metadata": {
        "id": "gyxQdNPFNmBq"
      },
      "source": [
        "## Referências\n",
        "\n",
        "VELOSO, P., SANTOS, C. Estruturas de Dados. Editora Campus, 4. ed. Rio de Janeiro: 1986.\n",
        "\n",
        "**Outros materiais**  \n",
        "\n",
        "[PYTHON. Built-in methods: string methods.](https://docs.python.org/3/library/stdtypes.html#string-methods)  \n",
        "[PYTHON. Built-in types: sequence types.](https://docs.python.org/3/library/stdtypes.html#sequence-types-list-tuple-range)  \n",
        "[PYTHON. String - common string operations: format string syntax.](https://docs.python.org/3/library/string.html#format-string-syntax)  \n",
        "\n",
        "\n",
        "[CAELUM. Python e orientação a objetos.](https://www.caelum.com.br/apostila-python-orientacao-objetos/estrutura-de-dados/)  \n",
        "[DEVFURIA. Python - Operadores e fatiamento de sequências.](http://www.devfuria.com.br/python/sequencias-fatiamento/)  \n",
        "[PETRI, U; GUTMANN, H. PyFormat: Using % and .format() for great good!](https://pyformat.info)  \n"
      ]
    },
    {
      "cell_type": "markdown",
      "metadata": {
        "id": "ZftMaO8uNmBq"
      },
      "source": []
    }
  ],
  "metadata": {
    "kernelspec": {
      "display_name": "Python 3 (ipykernel)",
      "language": "python",
      "name": "python3"
    },
    "language_info": {
      "codemirror_mode": {
        "name": "ipython",
        "version": 3
      },
      "file_extension": ".py",
      "mimetype": "text/x-python",
      "name": "python",
      "nbconvert_exporter": "python",
      "pygments_lexer": "ipython3",
      "version": "3.9.15"
    },
    "colab": {
      "provenance": [],
      "include_colab_link": true
    }
  },
  "nbformat": 4,
  "nbformat_minor": 0
}