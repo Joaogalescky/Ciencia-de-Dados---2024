{
  "cells": [
    {
      "cell_type": "markdown",
      "metadata": {
        "id": "view-in-github",
        "colab_type": "text"
      },
      "source": [
        "<a href=\"https://colab.research.google.com/github/Joaogalescky/Ciencia-de-Dados---2024/blob/main/01_Sequencias_tuplas.ipynb\" target=\"_parent\"><img src=\"https://colab.research.google.com/assets/colab-badge.svg\" alt=\"Open In Colab\"/></a>"
      ]
    },
    {
      "cell_type": "markdown",
      "metadata": {
        "id": "FjoVzmhrNvlb"
      },
      "source": [
        "# Tuplas\n",
        "\n",
        "Uma tupla é uma estrutura especial de lista, e uma de suas características é ser imutável. Após adicionados os elementos em uma tupla, seus elementos não podem ser removidos. Uma tupla é definida pelo uso de parênteses (`(` `)`) em seus elementos.\n",
        "\n",
        "**Exemplo**\n",
        "\n",
        "```py\n",
        "t = (1,2,3)\n",
        "type(t)\n",
        "```"
      ]
    },
    {
      "cell_type": "code",
      "execution_count": 1,
      "metadata": {
        "id": "2F2u3B-ZNvlj",
        "colab": {
          "base_uri": "https://localhost:8080/"
        },
        "outputId": "18ec29f4-82b0-4ef6-83b7-3a9240883187"
      },
      "outputs": [
        {
          "output_type": "execute_result",
          "data": {
            "text/plain": [
              "tuple"
            ]
          },
          "metadata": {},
          "execution_count": 1
        }
      ],
      "source": [
        "t = (1, 2, 3)\n",
        "type(t)"
      ]
    },
    {
      "cell_type": "markdown",
      "metadata": {
        "id": "yhSn8q0hNvlk"
      },
      "source": [
        "Alterar um elemento de uma tupla acarreta em um erro.  \n",
        "\n",
        "**Exemplo**\n",
        "\n",
        "no código\n",
        "```python\n",
        "t[0] = 5 #ERRO!\n",
        "```\n",
        "recebemos a mensagem de erro mostrada abaixo, informando que não é possível alterar o conteúdo de um elemento de uma tupla.\n",
        "```\n",
        "TypeError: 'tuple' object does not support item assignment\n",
        "```"
      ]
    },
    {
      "cell_type": "code",
      "execution_count": 2,
      "metadata": {
        "id": "kP686qHANvll",
        "colab": {
          "base_uri": "https://localhost:8080/",
          "height": 141
        },
        "outputId": "0107971e-bc03-49ba-ad47-afe5e0bfc5c9"
      },
      "outputs": [
        {
          "output_type": "error",
          "ename": "TypeError",
          "evalue": "'tuple' object does not support item assignment",
          "traceback": [
            "\u001b[0;31m---------------------------------------------------------------------------\u001b[0m",
            "\u001b[0;31mTypeError\u001b[0m                                 Traceback (most recent call last)",
            "\u001b[0;32m<ipython-input-2-a09452c778e3>\u001b[0m in \u001b[0;36m<cell line: 1>\u001b[0;34m()\u001b[0m\n\u001b[0;32m----> 1\u001b[0;31m \u001b[0mt\u001b[0m\u001b[0;34m[\u001b[0m\u001b[0;36m0\u001b[0m\u001b[0;34m]\u001b[0m \u001b[0;34m=\u001b[0m \u001b[0;36m5\u001b[0m \u001b[0;31m#ERRO!\u001b[0m\u001b[0;34m\u001b[0m\u001b[0;34m\u001b[0m\u001b[0m\n\u001b[0m",
            "\u001b[0;31mTypeError\u001b[0m: 'tuple' object does not support item assignment"
          ]
        }
      ],
      "source": [
        "t[0] = 5 #ERRO!"
      ]
    },
    {
      "cell_type": "markdown",
      "metadata": {
        "id": "0FiH4a2WNvlm"
      },
      "source": [
        "**Atividade**\n",
        "\n",
        "- crie uma tupla com as vogais\n",
        "- crie uma tupla com as consoantes\n",
        "- crie uma tupla com os números primos menores que 30"
      ]
    },
    {
      "cell_type": "code",
      "execution_count": 3,
      "metadata": {
        "id": "ifG1GQ20Nvln",
        "colab": {
          "base_uri": "https://localhost:8080/"
        },
        "outputId": "ee2f24d4-e191-4d6c-c4c2-7ddd63613399"
      },
      "outputs": [
        {
          "output_type": "stream",
          "name": "stdout",
          "text": [
            "aeiou\n",
            "bcdfgjklmnpqrstvwxz\n",
            "(2, 3, 5, 7, 11, 13, 17, 19, 23, 29)\n"
          ]
        }
      ],
      "source": [
        "tVogais = ('aeiou')\n",
        "tConsoantes = ('bcdfgjklmnpqrstvwxz')\n",
        "tNumerosPrimos = (2, 3, 5, 7, 11, 13, 17, 19, 23, 29)\n",
        "print(tVogais)\n",
        "print(tConsoantes)\n",
        "print(tNumerosPrimos)"
      ]
    },
    {
      "cell_type": "markdown",
      "metadata": {
        "id": "zEl0V10oNvlo"
      },
      "source": [
        "Normalmente, as tuplas são utilizadas como parâmetros ou retornos de funções. Uma das vantagens da utilização de tuplas consiste no menor tempo de criação e acesso a dados, se comparado às listas."
      ]
    },
    {
      "cell_type": "markdown",
      "metadata": {
        "id": "DNKZXsHZNvlo"
      },
      "source": [
        "É possível transformar tuplas em listas e listas em tuplas, com as funções `list()` e `tuple()`, caso a modificação seja necessária.\n",
        "\n",
        "**Exemplo**\n",
        "\n",
        "```python\n",
        "tupla  = (1,2,3)      #tupla\n",
        "lista  = list(tupla)  #converte tupla em lista\n",
        "tupla2 = tuple(lista) #converte lista em tupla\n",
        "print(tupla,'tipo:',type(tupla))\n",
        "print(lista,'tipo:', type(lista))\n",
        "print(tupla2,'tipo:',type(tupla2))\n",
        "```"
      ]
    },
    {
      "cell_type": "code",
      "execution_count": 4,
      "metadata": {
        "id": "ZdOjkADZNvlp",
        "colab": {
          "base_uri": "https://localhost:8080/"
        },
        "outputId": "0e898500-b343-4342-c49b-df35436c1b78"
      },
      "outputs": [
        {
          "output_type": "stream",
          "name": "stdout",
          "text": [
            "(1, 2, 3) tipo <class 'tuple'>\n",
            "[1, 2, 3] tipo: <class 'list'>\n",
            "(1, 2, 3) tipo: <class 'tuple'>\n"
          ]
        }
      ],
      "source": [
        "tupla = (1, 2, 3)\n",
        "lista = list(tupla)\n",
        "tupla2 = tuple(lista)\n",
        "print(tupla,'tipo',type(tupla))\n",
        "print(lista,'tipo:', type(lista))\n",
        "print(tupla2, 'tipo:', type(tupla2))"
      ]
    },
    {
      "cell_type": "markdown",
      "metadata": {
        "id": "JsoAPHrINvlq"
      },
      "source": [
        "## Referências\n",
        "\n",
        "**Outros materiais**\n",
        "\n",
        "\n",
        "[Python - Built-in types](https://docs.python.org/3/library/stdtypes.html#sequence-types-list-tuple-range)  \n",
        "[Python - Operadores e fatiamento de sequências](http://www.devfuria.com.br/python/sequencias-fatiamento/)  \n",
        "[Apostila Python e orientação a objetos - Capítulo 4: Estrutura de dados ](https://www.caelum.com.br/apostila-python-orientacao-objetos/estrutura-de-dados/)"
      ]
    }
  ],
  "metadata": {
    "kernelspec": {
      "display_name": "Python 3 (ipykernel)",
      "language": "python",
      "name": "python3"
    },
    "language_info": {
      "codemirror_mode": {
        "name": "ipython",
        "version": 3
      },
      "file_extension": ".py",
      "mimetype": "text/x-python",
      "name": "python",
      "nbconvert_exporter": "python",
      "pygments_lexer": "ipython3",
      "version": "3.9.15"
    },
    "colab": {
      "provenance": [],
      "include_colab_link": true
    }
  },
  "nbformat": 4,
  "nbformat_minor": 0
}