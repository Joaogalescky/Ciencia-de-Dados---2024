{
  "cells": [
    {
      "cell_type": "markdown",
      "metadata": {
        "id": "view-in-github",
        "colab_type": "text"
      },
      "source": [
        "<a href=\"https://colab.research.google.com/github/Joaogalescky/Ciencia-de-Dados---2024/blob/main/02_Conjuntos.ipynb\" target=\"_parent\"><img src=\"https://colab.research.google.com/assets/colab-badge.svg\" alt=\"Open In Colab\"/></a>"
      ]
    },
    {
      "cell_type": "markdown",
      "metadata": {
        "id": "dBfX9wlbN93E"
      },
      "source": [
        "# Conjuntos\n",
        "\n",
        "Um conjunto é uma coleção **não ordenada**, que **não permite** elementos duplicados.\n",
        "\n",
        "Em Python, o nome da estrutura de dados que define um conjunto é chamado de `set`.\n",
        "\n",
        "A criação de conjuntos pode ser realiza com a utilização das chaves (`{` `}`), ou com a função `set()`."
      ]
    },
    {
      "cell_type": "markdown",
      "metadata": {
        "id": "nlyd2sVHN93G"
      },
      "source": [
        "**Exemplo**  \n",
        "```python\n",
        "a = {'a','b','a','c','a','t','e'}\n",
        "b = set('abacaxi')\n",
        "print(type(a))\n",
        "print(type(b))\n",
        "```"
      ]
    },
    {
      "cell_type": "code",
      "execution_count": 1,
      "metadata": {
        "id": "4e9ATendN93H",
        "colab": {
          "base_uri": "https://localhost:8080/"
        },
        "outputId": "97ff9139-713f-4166-d3bf-fa47e1a82316"
      },
      "outputs": [
        {
          "output_type": "stream",
          "name": "stdout",
          "text": [
            "<class 'set'>\n",
            "<class 'set'>\n"
          ]
        }
      ],
      "source": [
        "a = {'a','b','a','c','a','t','e'}\n",
        "b = set('abacaxi')\n",
        "print(type(a))\n",
        "print(type(b))"
      ]
    },
    {
      "cell_type": "markdown",
      "metadata": {
        "id": "l2nr6AQMN93H"
      },
      "source": [
        "Em seguida, observe o conteúdo dos conjuntos:  \n",
        "\n",
        "**Exemplo**\n",
        "\n",
        "```python\n",
        "print('a:', a)\n",
        "print('b:', b)\n",
        "```"
      ]
    },
    {
      "cell_type": "code",
      "execution_count": 2,
      "metadata": {
        "id": "A4tC0cnAN93I",
        "colab": {
          "base_uri": "https://localhost:8080/"
        },
        "outputId": "23d45acf-0f6d-45ea-942c-29d74787f68f"
      },
      "outputs": [
        {
          "output_type": "stream",
          "name": "stdout",
          "text": [
            "a: {'t', 'c', 'b', 'a', 'e'}\n",
            "b: {'c', 'x', 'i', 'b', 'a'}\n"
          ]
        }
      ],
      "source": [
        "print('a:', a)\n",
        "print('b:', b)"
      ]
    },
    {
      "cell_type": "markdown",
      "metadata": {
        "id": "JRTFYGBRN93I"
      },
      "source": [
        "Observe que não há elementos duplicados. Como em conjuntos não há o conceitos de ordem, obter elementos em determinada posição ou o uso de *slicing* acarretará em erros.  \n",
        "\n",
        "**Exemplo**  \n",
        "```python\n",
        "print(a[0]) #ERRO!\n",
        "```"
      ]
    },
    {
      "cell_type": "code",
      "execution_count": 3,
      "metadata": {
        "id": "PvR1A88uN93I",
        "colab": {
          "base_uri": "https://localhost:8080/",
          "height": 141
        },
        "outputId": "9306c94e-9dc4-4102-f5bb-c64dda5f03f6"
      },
      "outputs": [
        {
          "output_type": "error",
          "ename": "TypeError",
          "evalue": "'set' object is not subscriptable",
          "traceback": [
            "\u001b[0;31m---------------------------------------------------------------------------\u001b[0m",
            "\u001b[0;31mTypeError\u001b[0m                                 Traceback (most recent call last)",
            "\u001b[0;32m<ipython-input-3-9958e8d2690f>\u001b[0m in \u001b[0;36m<cell line: 1>\u001b[0;34m()\u001b[0m\n\u001b[0;32m----> 1\u001b[0;31m \u001b[0mprint\u001b[0m\u001b[0;34m(\u001b[0m\u001b[0ma\u001b[0m\u001b[0;34m[\u001b[0m\u001b[0;36m0\u001b[0m\u001b[0;34m]\u001b[0m\u001b[0;34m)\u001b[0m \u001b[0;31m#ERRO!\u001b[0m\u001b[0;34m\u001b[0m\u001b[0;34m\u001b[0m\u001b[0m\n\u001b[0m",
            "\u001b[0;31mTypeError\u001b[0m: 'set' object is not subscriptable"
          ]
        }
      ],
      "source": [
        "print(a[0]) #ERRO!"
      ]
    },
    {
      "cell_type": "markdown",
      "metadata": {
        "id": "6RFWtlOGN93I"
      },
      "source": [
        "## Operadores\n",
        "\n",
        "Algumas operações que podem ser aplicadas em conjuntos são:\n",
        "\n",
        "|Operador| Operação |Exemplo|Resultado|\n",
        "|:------:|:--------:|:-----:|:-------:|\n",
        "|`-`|Diferença|`a - b`|Elementos que pertencem ao conjunto `a` e não pertencem ao conjunto `b`|\n",
        "|`\\|`|União|`a \\| b`|Todos os elementos dos conjuntos `a` e `b` |\n",
        "|`&`|Interseção|`a & b`|Apenas os elementos que estão simultâneamente em `a` e `b`|\n",
        "|`^`|Diferença simétrica| `a ^ b`|Elementos que estão apenas em `a` ou apenas em `b`|\n",
        "\n",
        "- `in`\n",
        "- `not in`\n",
        "- `len()`"
      ]
    },
    {
      "cell_type": "markdown",
      "metadata": {
        "id": "WRo0YcZaN93I"
      },
      "source": [
        "**Exemplos**  \n",
        "\n",
        "```python\n",
        "print('Diferença:', a-b)\n",
        "print('União:', a|b)\n",
        "print('Interseção:', a&b )\n",
        "print('Diferença simétrica:',a^b)\n",
        "```"
      ]
    },
    {
      "cell_type": "code",
      "execution_count": 4,
      "metadata": {
        "id": "B6K2vIthN93I",
        "colab": {
          "base_uri": "https://localhost:8080/"
        },
        "outputId": "3ad1dc2d-8427-40c0-85a7-0d61a1afffdb"
      },
      "outputs": [
        {
          "output_type": "stream",
          "name": "stdout",
          "text": [
            "Diferença: {'t', 'e'}\n",
            "União: {'t', 'c', 'e', 'x', 'i', 'b', 'a'}\n",
            "Interseção: {'c', 'b', 'a'}\n",
            "Diferença simétrica: {'t', 'e', 'x', 'i'}\n"
          ]
        }
      ],
      "source": [
        "print('Diferença:', a-b)\n",
        "print('União:', a|b)\n",
        "print('Interseção:', a&b )\n",
        "print('Diferença simétrica:',a^b)"
      ]
    },
    {
      "cell_type": "markdown",
      "metadata": {
        "id": "-KAyj1sYN93I"
      },
      "source": [
        "Para adicionar um elemento em um conjunto já existente, pode-se utilizar o método `.add()`.  \n",
        "\n",
        "**Exemplo**  \n",
        "\n",
        "```python\n",
        "primos = {2}\n",
        "primos.add(3)\n",
        "primos.add(5)\n",
        "primos.add(7)\n",
        "print(primos)\n",
        "```"
      ]
    },
    {
      "cell_type": "code",
      "execution_count": 5,
      "metadata": {
        "id": "oHSfl3-kN93J",
        "colab": {
          "base_uri": "https://localhost:8080/"
        },
        "outputId": "25578a3a-ac6e-418c-92aa-f32ec7216612"
      },
      "outputs": [
        {
          "output_type": "stream",
          "name": "stdout",
          "text": [
            "{2, 3, 5, 7}\n"
          ]
        }
      ],
      "source": [
        "primos = {2}\n",
        "primos.add(3)\n",
        "primos.add(5)\n",
        "primos.add(7)\n",
        "print(primos)"
      ]
    },
    {
      "cell_type": "markdown",
      "metadata": {
        "id": "BU2xyy5DN93J"
      },
      "source": [
        "**Atividade**  \n",
        "- Considere as compras realizadas por três grupos de pessoas, A, B e C:\n",
        "```python\n",
        "gA = {'banana','café', 'farinha',\n",
        "        'leite', 'pão', 'presunto',\n",
        "        'queijo', 'iogurte', 'farinha',\n",
        "        'limão', 'chocolate' }\n",
        "gB = {'maçã', 'abacaxi', 'chocolate',\n",
        "        'fralda', 'melancia', 'sorvete',\n",
        "        'leite', 'café', 'pão'}\n",
        "gC = {'maçã','café', 'farinha',\n",
        "        'maçã', 'alface', 'limão',\n",
        "        'rúcula', 'rabanete'}\n",
        "```\n",
        "\n",
        "**Exercícios**  \n",
        "1. Quais produtos que apenas o grupo A compra?\n",
        "1. Quais produtos apenas os grupos B e C compram?\n",
        "1. Existe algum produto que todos os grupos compram? Caso sim, quais são?\n",
        "1. Quantos produtos diferentes existem?\n",
        "1. Quantos produtos apenas os grupos A e B compram?"
      ]
    },
    {
      "cell_type": "code",
      "execution_count": 6,
      "metadata": {
        "id": "47zEMkGhN93J",
        "colab": {
          "base_uri": "https://localhost:8080/"
        },
        "outputId": "29321e7d-e816-43d1-9ceb-16b9dea00fc2"
      },
      "outputs": [
        {
          "output_type": "stream",
          "name": "stdout",
          "text": [
            "O grupo A compra: {'leite', 'iogurte', 'limão', 'presunto', 'farinha', 'pão', 'café', 'chocolate', 'queijo', 'banana'}\n"
          ]
        }
      ],
      "source": [
        "gA = {'banana','café', 'farinha', 'leite', 'pão', 'presunto', 'queijo', 'iogurte', 'farinha', 'limão', 'chocolate' }\n",
        "print(f'O grupo A compra: {gA}')"
      ]
    },
    {
      "cell_type": "code",
      "execution_count": 9,
      "metadata": {
        "id": "-IhRgRN7N93J",
        "colab": {
          "base_uri": "https://localhost:8080/"
        },
        "outputId": "41f2d8b2-22e7-4a04-9c15-c2e06528f690"
      },
      "outputs": [
        {
          "output_type": "stream",
          "name": "stdout",
          "text": [
            "Os grupos A e C compra apenas: {'leite', 'limão', 'sorvete', 'pão', 'melancia', 'abacaxi', 'farinha', 'fralda', 'rabanete', 'alface', 'café', 'chocolate', 'maçã', 'rúcula'}\n"
          ]
        }
      ],
      "source": [
        "gB = {'maçã', 'abacaxi', 'chocolate', 'fralda', 'melancia', 'sorvete', 'leite', 'café', 'pão'}\n",
        "gC = {'maçã','café', 'farinha', 'maçã', 'alface', 'limão', 'rúcula', 'rabanete'}\n",
        "print(f'Os grupos A e C compra apenas: {gB | gC}')"
      ]
    },
    {
      "cell_type": "code",
      "execution_count": 11,
      "metadata": {
        "id": "XaJCjBxcN93J",
        "colab": {
          "base_uri": "https://localhost:8080/"
        },
        "outputId": "2da53c0e-6e8c-456c-aae5-1a3cb8bddeeb"
      },
      "outputs": [
        {
          "output_type": "stream",
          "name": "stdout",
          "text": [
            "Todos os grupos tem compras em comum, sendo:  {'café'}\n"
          ]
        }
      ],
      "source": [
        "gA = {'banana','café', 'farinha', 'leite', 'pão', 'presunto', 'queijo', 'iogurte', 'farinha', 'limão', 'chocolate' }\n",
        "gB = {'maçã', 'abacaxi', 'chocolate', 'fralda', 'melancia', 'sorvete', 'leite', 'café', 'pão'}\n",
        "gC = {'maçã','café', 'farinha', 'maçã', 'alface', 'limão', 'rúcula', 'rabanete'}\n",
        "print('Todos os grupos tem compras em comum, sendo: ', gA & gB & gC)"
      ]
    },
    {
      "cell_type": "code",
      "execution_count": 13,
      "metadata": {
        "id": "C2VcyZLkN93J",
        "colab": {
          "base_uri": "https://localhost:8080/"
        },
        "outputId": "7d65d8fb-168d-4db9-f7f2-a1015820e628"
      },
      "outputs": [
        {
          "output_type": "stream",
          "name": "stdout",
          "text": [
            "Os produtos que são diferentes:  {'presunto', 'iogurte', 'banana', 'queijo'}\n"
          ]
        }
      ],
      "source": [
        "gA = {'banana','café', 'farinha', 'leite', 'pão', 'presunto', 'queijo', 'iogurte', 'farinha', 'limão', 'chocolate' }\n",
        "gB = {'maçã', 'abacaxi', 'chocolate', 'fralda', 'melancia', 'sorvete', 'leite', 'café', 'pão'}\n",
        "gC = {'maçã','café', 'farinha', 'maçã', 'alface', 'limão', 'rúcula', 'rabanete'}\n",
        "print('Os produtos que são diferentes: ', gA - gB - gC)"
      ]
    },
    {
      "cell_type": "code",
      "source": [
        "gA = {'banana','café', 'farinha', 'leite', 'pão', 'presunto', 'queijo', 'iogurte', 'farinha', 'limão', 'chocolate' }\n",
        "gB = {'maçã', 'abacaxi', 'chocolate', 'fralda', 'melancia', 'sorvete', 'leite', 'café', 'pão'}\n",
        "gC = {'maçã','café', 'farinha', 'maçã', 'alface', 'limão', 'rúcula', 'rabanete'}\n",
        "print('Os grupos A e B compram somente: ', gA | gB)"
      ],
      "metadata": {
        "colab": {
          "base_uri": "https://localhost:8080/"
        },
        "id": "me9Yd7QEs--m",
        "outputId": "30211389-93ed-4c6b-8736-1d3b1018e2a5"
      },
      "execution_count": 15,
      "outputs": [
        {
          "output_type": "stream",
          "name": "stdout",
          "text": [
            "Os grupos A e B compram somente:  {'iogurte', 'limão', 'sorvete', 'farinha', 'melancia', 'chocolate', 'maçã', 'banana', 'leite', 'presunto', 'pão', 'abacaxi', 'fralda', 'café', 'queijo'}\n"
          ]
        }
      ]
    },
    {
      "cell_type": "markdown",
      "metadata": {
        "id": "2bCmlF_vN93J"
      },
      "source": [
        "**Exercícios**\n",
        "- [Beecrowd 2783 - Figurinhas da Copa](https://www.beecrowd.com.br/judge/pt/problems/view/2783)  \n",
        "- [Beecrowd 1104 - Troca de Cartas](https://www.beecrowd.com.br/judge/pt/problems/view/1104)  \n",
        "- [Beecrowd 2174 - Colecao de Pomekon](https://www.beecrowd.com.br/judge/pt/problems/view/2174)\n"
      ]
    },
    {
      "cell_type": "markdown",
      "metadata": {
        "id": "wviPy5HWN93J"
      },
      "source": [
        "## Métodos\n",
        "\n",
        "Alguns métodos relacionados a conjuntos podem ser vistos na tabela apresentada a seguir.\n",
        "\n",
        "|Método|Descrição|\n",
        "|------|---------|\n",
        "|`.add()`|Adiciona um elemento|\n",
        "|`.remove()`|Remove um elemento. Caso o elemento não exista, um erro ocorre|\n",
        "|`.discard()`|Remove um elemento. Caso o elemento não exista, não resulta em erro|\n",
        "|`.pop()`|Remove um elemento aleatório, retornando o elemento|\n",
        "|`.clear()`|Remove todos os elementos do conjunto|\n",
        "|`.issubset()`|Retorna se está contido em determinado conjunto|\n",
        "|`.isuperset()`|Retorna se contém determinado conjunto|\n",
        "|`.union()`|Aplica a união com outros conjuntos|\n",
        "|`.intersection()`|Aplica a interseção com outros conjuntos|\n",
        "|`.difference()`|Aplica a diferença com outros conjuntos|\n",
        "|`.symmetric_difference()`|Diferença simétrica|\n",
        "|`.copy()`|Cópia do conjunto|\n",
        "|`.update()`|Inclui um outro conjunto|\n",
        "|`.intersection_update()`|Aplica a interseção, atualizando o conjunto|\n",
        "|`.difference_update()`|Aplica a diferença, alterando o conjunto|\n",
        "|`.simmetric_difference_update()`|Aplica a diferença simétrica, alterando o conjunto|\n",
        "\n",
        "**Exemplo**\n",
        "```python\n",
        "vogais = set('aeiox')\n",
        "print('Conjunto:',vogais)\n",
        "print('- Adicionando u :')\n",
        "vogais.add('u')\n",
        "print('Conjunto:',vogais)\n",
        "print('- Removendo x :')\n",
        "vogais.remove('x')\n",
        "print('Conjunto:',vogais)\n",
        "print('- Descartando k :')\n",
        "vogais.discard('k') #k não existe no conjunto, mas não é gerado erro\n",
        "print('Conjunto:',vogais)\n",
        "print('- Retirando aleatoriamente', vogais.pop(),':')\n",
        "print('Conjunto:',vogais)\n",
        "print('- Removendo todos os elementos:')\n",
        "vogais.clear()\n",
        "print('Conjunto:',vogais)\n",
        "```\n",
        "\n",
        "\n",
        "**Atividade**\n",
        "- Execute os exemplos e observe os resultados."
      ]
    },
    {
      "cell_type": "code",
      "execution_count": 16,
      "metadata": {
        "id": "iZIXO_7wN93J",
        "colab": {
          "base_uri": "https://localhost:8080/"
        },
        "outputId": "a6394d53-2ace-4417-c7fb-e0dfdb6b8932"
      },
      "outputs": [
        {
          "output_type": "stream",
          "name": "stdout",
          "text": [
            "Conjunto: {'e', 'o', 'x', 'i', 'a'}\n",
            "- Adicionando u :\n",
            "Conjunto: {'u', 'e', 'o', 'x', 'i', 'a'}\n",
            "- Removendo x :\n",
            "Conjunto: {'u', 'e', 'o', 'i', 'a'}\n",
            "- Descartando k :\n",
            "Conjunto: {'u', 'e', 'o', 'i', 'a'}\n",
            "- Retirando aleatoriamente u :\n",
            "Conjunto: {'e', 'o', 'i', 'a'}\n",
            "- Removendo todos os elementos:\n",
            "Conjunto: set()\n"
          ]
        }
      ],
      "source": [
        "vogais = set('aeiox')\n",
        "print('Conjunto:',vogais)\n",
        "print('- Adicionando u :')\n",
        "vogais.add('u')\n",
        "print('Conjunto:',vogais)\n",
        "print('- Removendo x :')\n",
        "vogais.remove('x')\n",
        "print('Conjunto:',vogais)\n",
        "print('- Descartando k :')\n",
        "vogais.discard('k') #k não existe no conjunto, mas não é gerado erro\n",
        "print('Conjunto:',vogais)\n",
        "print('- Retirando aleatoriamente', vogais.pop(),':')\n",
        "print('Conjunto:',vogais)\n",
        "print('- Removendo todos os elementos:')\n",
        "vogais.clear()\n",
        "print('Conjunto:',vogais)"
      ]
    },
    {
      "cell_type": "markdown",
      "metadata": {
        "id": "D1JmGxR9N93K"
      },
      "source": [
        "```python\n",
        "vogais=set('aeiou')\n",
        "alfa  = set('abcdefghijklmnopqrstuvwxyz')\n",
        "print('Conjunto novo: vogais  ',vogais)\n",
        "print('Conjunto novo: alfabeto',alfa)\n",
        "print('letras está contido em vogais?', alfa.issubset(vogais) )\n",
        "print('vogais está contido em letras?', vogais.issubset(alfa) )\n",
        "print('letras contém vogais?', alfa.issuperset(vogais) )\n",
        "print('vogais contém letras?', vogais.issuperset(alfa) )\n",
        "```\n",
        "\n",
        "**Atividade**\n",
        "- Execute os exemplos e observe os resultados."
      ]
    },
    {
      "cell_type": "code",
      "execution_count": 17,
      "metadata": {
        "id": "Twle970bN93K",
        "colab": {
          "base_uri": "https://localhost:8080/"
        },
        "outputId": "32f3cea6-1b3d-48e4-9a4f-827fefe18bc8"
      },
      "outputs": [
        {
          "output_type": "stream",
          "name": "stdout",
          "text": [
            "Conjunto novo: vogais   {'u', 'e', 'o', 'i', 'a'}\n",
            "Conjunto novo: alfabeto {'t', 'c', 's', 'w', 'o', 'i', 'y', 'a', 'g', 'n', 'd', 'u', 'e', 'p', 'm', 'k', 'v', 'l', 'x', 'f', 'j', 'b', 'h', 'z', 'q', 'r'}\n",
            "letras está contido em vogais? False\n",
            "vogais está contido em letras? True\n",
            "letras contém vogais? True\n",
            "vogais contém letras? False\n"
          ]
        }
      ],
      "source": [
        "vogais=set('aeiou')\n",
        "alfa  = set('abcdefghijklmnopqrstuvwxyz')\n",
        "print('Conjunto novo: vogais  ',vogais)\n",
        "print('Conjunto novo: alfabeto',alfa)\n",
        "print('letras está contido em vogais?', alfa.issubset(vogais) )\n",
        "print('vogais está contido em letras?', vogais.issubset(alfa) )\n",
        "print('letras contém vogais?', alfa.issuperset(vogais) )\n",
        "print('vogais contém letras?', vogais.issuperset(alfa) )"
      ]
    },
    {
      "cell_type": "markdown",
      "metadata": {
        "id": "0mprx5KpN93K"
      },
      "source": [
        "## Referências\n",
        "\n",
        "[Python 2.7.16 documentation - Sets](https://docs.python.org/2/tutorial/datastructures.html#sets)  \n",
        "\n",
        "**Outros materiais**\n",
        "\n",
        "\n",
        "[Caelum - Apostila Python e Oientação a objetos](https://www.caelum.com.br/apostila-python-orientacao-objetos/estrutura-de-dados/#conjuntos)  \n",
        "[Cadasnos Cicomp - Conjuntos ou sets no Python 3](https://cadernoscicomp.com.br/tutorial/introducao-a-programacao-em-python-3/conjuntos-ou-sets/)  \n",
        "[Igor Sobreira - Conjuntos em Python - set e frozenset](http://igorsobreira.com/2008/01/20/conjuntos-em-python-set-e-frozenset.html)  "
      ]
    }
  ],
  "metadata": {
    "kernelspec": {
      "display_name": "Python 3 (ipykernel)",
      "language": "python",
      "name": "python3"
    },
    "language_info": {
      "codemirror_mode": {
        "name": "ipython",
        "version": 3
      },
      "file_extension": ".py",
      "mimetype": "text/x-python",
      "name": "python",
      "nbconvert_exporter": "python",
      "pygments_lexer": "ipython3",
      "version": "3.8.10"
    },
    "colab": {
      "provenance": [],
      "include_colab_link": true
    }
  },
  "nbformat": 4,
  "nbformat_minor": 0
}