{
  "cells": [
    {
      "cell_type": "markdown",
      "metadata": {
        "id": "view-in-github",
        "colab_type": "text"
      },
      "source": [
        "<a href=\"https://colab.research.google.com/github/Joaogalescky/Ciencia-de-Dados---2024/blob/main/A_Linguagem.ipynb\" target=\"_parent\"><img src=\"https://colab.research.google.com/assets/colab-badge.svg\" alt=\"Open In Colab\"/></a>"
      ]
    },
    {
      "cell_type": "markdown",
      "metadata": {
        "id": "-gtaWClq6LJF"
      },
      "source": [
        "# Python"
      ]
    },
    {
      "cell_type": "markdown",
      "metadata": {
        "id": "v8WPEr2h6LJJ"
      },
      "source": [
        "Python é uma linguagem de programação interpretada e orientada a objetos. Tem crescido muito nos últimos anos, visto sua portabilidade, alto nível e compatibilidade com diversos sistemas e outras linguagens."
      ]
    },
    {
      "cell_type": "markdown",
      "metadata": {
        "id": "XOT1PsH56LJJ"
      },
      "source": [
        "A linguagem possui diversas características, como\n",
        "- A identação define os blocos\n",
        "- Os tipos de variáveis são definidos pelo tipo do dado que lhe é atribuído"
      ]
    },
    {
      "cell_type": "markdown",
      "metadata": {
        "id": "BTzuSB576LJK"
      },
      "source": [
        "As versões de Python não são retrocompatíveis. Exemplo: um código desenvolvido para Python versão 2.x não irá funcionar quando executado em versões 3.x.\n",
        "\n",
        "Para verificar a versão atual:\n",
        "```bash\n",
        "python --version\n",
        "```"
      ]
    },
    {
      "cell_type": "markdown",
      "metadata": {
        "id": "gK-8ukAw6LJK"
      },
      "source": [
        "## Entrada e saída de dados\n",
        "\n",
        "Inicialmente trataremos a entrada de dados como sendo a partir da entrada padrão e saída padrão. Comumente, a entrada padrão é o teclado e a saída padrão é a tela.\n",
        "\n",
        "As funções nativas básicas que utilizaremos são:\n",
        "\n",
        "- `print()`\n",
        "- `input()`\n",
        "\n",
        "### `print()`\n",
        "\n",
        "A função `print()` mostra dados na saída padrão.\n",
        "\n",
        "**Exemplo**  \n",
        "\n",
        "```python\n",
        "print('Hello world!')\n",
        "total = 10\n",
        "print('O valor total é', total)\n",
        "```"
      ]
    },
    {
      "cell_type": "code",
      "execution_count": null,
      "metadata": {
        "id": "624ZYkvQ6LJL"
      },
      "outputs": [],
      "source": [
        "print('Hello world!')\n",
        "total = 10\n",
        "print('O valor total é', total)"
      ]
    },
    {
      "cell_type": "markdown",
      "metadata": {
        "id": "DWZOuvYC6LJM"
      },
      "source": [
        "### `input()`\n",
        "\n",
        "A função `input()` trata de obter os dados a partir da entrada padrão.\n",
        "\n",
        "**Exemplo**  \n",
        "\n",
        "```python\n",
        "valor = input('Entre com um valor: ')\n",
        "print('O valor digitado é:', valor)\n",
        "```"
      ]
    },
    {
      "cell_type": "code",
      "execution_count": null,
      "metadata": {
        "id": "YwbX5jvo6LJN"
      },
      "outputs": [],
      "source": [
        "valor = input('Entre com um valor: ')\n",
        "print('O valor digitado foi:', valor)"
      ]
    },
    {
      "cell_type": "markdown",
      "metadata": {
        "id": "yhw15xWz6LJN"
      },
      "source": [
        "No Python 3, a saída da função `input()` é do tipo cadeia de caracteres (*string*).  \n",
        "\n",
        "**Exemplo**  \n",
        "```python\n",
        "nome = input('Entre com seu nome:')\n",
        "print('Olá', nome, '. Seja bem vindo ao sistema.')\n",
        "```"
      ]
    },
    {
      "cell_type": "code",
      "execution_count": null,
      "metadata": {
        "id": "PPhKHXlZ6LJN"
      },
      "outputs": [],
      "source": [
        "nome = input('Entre com seu nome:')\n",
        "print('Olá', nome, '. Seja bem vindo ao sistema.')"
      ]
    },
    {
      "cell_type": "markdown",
      "metadata": {
        "id": "JSZ_u9kM6LJO"
      },
      "source": [
        "Neste caso, para que operações sejam realizadas com tipos específicos, é necessário fazer a conversão do dado para o qual se deseja trabalhar. A não conversão pode resultar em um erro.\n",
        "\n",
        "**Exemplo**  \n",
        "```python\n",
        "val = input('Entre com um valor:')\n",
        "quad = val * val #Aqui ocorre um erro. Val não é numérico\n",
        "print('O quadrado de',val,'é',quad)\n",
        "```"
      ]
    },
    {
      "cell_type": "code",
      "execution_count": null,
      "metadata": {
        "id": "bIKM63kw6LJO"
      },
      "outputs": [],
      "source": [
        "val = input('Entre com um valor:')\n",
        "quad = val * val #Aqui ocorre um erro. val não é numérico\n",
        "print('O quadrado de',val,'é',quad) # Esta linha não chegará a ser executada"
      ]
    },
    {
      "cell_type": "markdown",
      "metadata": {
        "id": "3jT8zpJL6LJO"
      },
      "source": [
        "Nestas situações, é necessário fazer a conversão para o formato desejado.\n",
        "```python\n",
        "val = input('Entre com um valor:')\n",
        "val = int(val) #converte a entrada para inteiro\n",
        "quad = val * val #Aqui ocorre um erro. Val não é numérico\n",
        "print('O quadrado de',val,'é',quad)\n",
        "```"
      ]
    },
    {
      "cell_type": "code",
      "execution_count": null,
      "metadata": {
        "id": "tzE7V-Q06LJO"
      },
      "outputs": [],
      "source": [
        "val = input('Entre com um valor:')\n",
        "val = int(val) #converte a entrada para inteiro\n",
        "quad = val * val #Aqui ocorre um erro. Val não é numérico\n",
        "print('O quadrado de',val,'é',quad)"
      ]
    }
  ],
  "metadata": {
    "kernelspec": {
      "display_name": "Python 3 (ipykernel)",
      "language": "python",
      "name": "python3"
    },
    "language_info": {
      "codemirror_mode": {
        "name": "ipython",
        "version": 3
      },
      "file_extension": ".py",
      "mimetype": "text/x-python",
      "name": "python",
      "nbconvert_exporter": "python",
      "pygments_lexer": "ipython3",
      "version": "3.9.15"
    },
    "colab": {
      "provenance": [],
      "include_colab_link": true
    }
  },
  "nbformat": 4,
  "nbformat_minor": 0
}