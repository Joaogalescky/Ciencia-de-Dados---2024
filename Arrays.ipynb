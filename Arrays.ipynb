{
  "nbformat": 4,
  "nbformat_minor": 0,
  "metadata": {
    "colab": {
      "provenance": [],
      "authorship_tag": "ABX9TyMZtaMNFPRK1i3j9nfHBaTr",
      "include_colab_link": true
    },
    "kernelspec": {
      "name": "python3",
      "display_name": "Python 3"
    },
    "language_info": {
      "name": "python"
    }
  },
  "cells": [
    {
      "cell_type": "markdown",
      "metadata": {
        "id": "view-in-github",
        "colab_type": "text"
      },
      "source": [
        "<a href=\"https://colab.research.google.com/github/Joaogalescky/Ciencia-de-Dados---2024/blob/main/Arrays.ipynb\" target=\"_parent\"><img src=\"https://colab.research.google.com/assets/colab-badge.svg\" alt=\"Open In Colab\"/></a>"
      ]
    },
    {
      "cell_type": "markdown",
      "source": [
        "# **Arrays**\n",
        "\n",
        "## **Numpy**\n",
        "Numpy é uma biblioteca Python voltada para computação científica. Possui implementações bastante otimizadas para utilização de *arrays* ou vetores.\n",
        "\n",
        "Para que o acesso às estruturas seja possível, é necessário a importação da biblioteca. É comum e uma boa prática renomear a biblioteca para *np*."
      ],
      "metadata": {
        "id": "qth6jtswrwGY"
      }
    },
    {
      "cell_type": "code",
      "execution_count": 1,
      "metadata": {
        "id": "mS8nKwPArvnN"
      },
      "outputs": [],
      "source": [
        "import numpy as np"
      ]
    },
    {
      "cell_type": "markdown",
      "source": [
        "## **arrays numpy**\n",
        "\n",
        "O *array* numpy é uma lista de valores, indexada por uma tupla de inteiros não negativos. O **número de dimensões** do **array** é também chamado de **rank do array**. O shape de um *array* é uma tupla de inteiros, dado o tamanho do *array* em cada dimensão definida. Nesta atividade, trataremos como sinônimos **array** e **vetor**.\n",
        "\n",
        "Para criar um array, pode-se utilizar o método .array()."
      ],
      "metadata": {
        "id": "VaZQNV91sVP3"
      }
    },
    {
      "cell_type": "code",
      "source": [
        "a = np.array([1, 2, 3])"
      ],
      "metadata": {
        "id": "6oSmCHKasUvn"
      },
      "execution_count": 2,
      "outputs": []
    },
    {
      "cell_type": "code",
      "source": [
        "print(a)"
      ],
      "metadata": {
        "colab": {
          "base_uri": "https://localhost:8080/"
        },
        "id": "oEjssBCqs0No",
        "outputId": "56f52dda-b8b5-489c-b3c9-1ace2b2f11e1"
      },
      "execution_count": 3,
      "outputs": [
        {
          "output_type": "stream",
          "name": "stdout",
          "text": [
            "[1 2 3]\n"
          ]
        }
      ]
    },
    {
      "cell_type": "markdown",
      "source": [
        "* Observe o tipo do dado do array e dos valores armazenados."
      ],
      "metadata": {
        "id": "GJz_qgdetESv"
      }
    },
    {
      "cell_type": "code",
      "source": [
        "print(type(a))\n",
        "print(type(a[0]), type(a[1]),type(a[2]))"
      ],
      "metadata": {
        "colab": {
          "base_uri": "https://localhost:8080/"
        },
        "id": "0AlA8GICs-Tn",
        "outputId": "8ddf731c-20c0-4f45-fb37-cbe028110aa2"
      },
      "execution_count": 4,
      "outputs": [
        {
          "output_type": "stream",
          "name": "stdout",
          "text": [
            "<class 'numpy.ndarray'>\n",
            "<class 'numpy.int64'> <class 'numpy.int64'> <class 'numpy.int64'>\n"
          ]
        }
      ]
    },
    {
      "cell_type": "markdown",
      "source": [
        "* Observe o formato do vetor."
      ],
      "metadata": {
        "id": "Gkg9E2hStHqX"
      }
    },
    {
      "cell_type": "code",
      "source": [
        "print (a.shape)"
      ],
      "metadata": {
        "colab": {
          "base_uri": "https://localhost:8080/"
        },
        "id": "rS1KknEMs-l_",
        "outputId": "0a6ea9f3-1466-4a33-e17e-47fa18f510ba"
      },
      "execution_count": 5,
      "outputs": [
        {
          "output_type": "stream",
          "name": "stdout",
          "text": [
            "(3,)\n"
          ]
        }
      ]
    },
    {
      "cell_type": "code",
      "source": [
        "print(a[0], a[1], a[2])"
      ],
      "metadata": {
        "colab": {
          "base_uri": "https://localhost:8080/"
        },
        "id": "d0ai85E8tLgP",
        "outputId": "a807693d-01b3-48f2-af12-eac39bbccbf2"
      },
      "execution_count": 6,
      "outputs": [
        {
          "output_type": "stream",
          "name": "stdout",
          "text": [
            "1 2 3\n"
          ]
        }
      ]
    },
    {
      "cell_type": "code",
      "source": [
        "print(a)\n",
        "a[0]=100 #Altera o valor armazenado na posição 0\n",
        "print(a)"
      ],
      "metadata": {
        "colab": {
          "base_uri": "https://localhost:8080/"
        },
        "id": "W0wMupNAtQLH",
        "outputId": "b2ab2086-c902-4b4d-a4d3-09b9c01eb7f3"
      },
      "execution_count": 7,
      "outputs": [
        {
          "output_type": "stream",
          "name": "stdout",
          "text": [
            "[1 2 3]\n",
            "[100   2   3]\n"
          ]
        }
      ]
    },
    {
      "cell_type": "markdown",
      "source": [
        "* Todos os dados armazenados devem ser do mesmo tipo. Caso não sejam, serão convertidos a um tipo em comum."
      ],
      "metadata": {
        "id": "hjbjSJuBtV9O"
      }
    },
    {
      "cell_type": "code",
      "source": [
        "arr_st = np.array(['a', 5.4, 2]) #todos os dados como string\n",
        "arr_ft = np.array([1  , 5.4, 2]) #todos os dados como float\n",
        "\n",
        "print(f'{arr_st}')\n",
        "print(f'{arr_ft}')"
      ],
      "metadata": {
        "colab": {
          "base_uri": "https://localhost:8080/"
        },
        "id": "mejiVdU3tTF3",
        "outputId": "4b2f29aa-06c0-4b75-bca7-f96c6dc2298d"
      },
      "execution_count": 8,
      "outputs": [
        {
          "output_type": "stream",
          "name": "stdout",
          "text": [
            "['a' '5.4' '2']\n",
            "[1.  5.4 2. ]\n"
          ]
        }
      ]
    },
    {
      "cell_type": "code",
      "source": [
        "b = np.array([[1,2,3], [4,5,6]]) #matriz"
      ],
      "metadata": {
        "id": "SiEr9xphtaPn"
      },
      "execution_count": 9,
      "outputs": []
    },
    {
      "cell_type": "code",
      "source": [
        "print(b[1])\n",
        "print(b[1][1])"
      ],
      "metadata": {
        "colab": {
          "base_uri": "https://localhost:8080/"
        },
        "id": "EoDRA8kFtikf",
        "outputId": "69bda1b6-6fa9-4af4-87f0-1a6636823071"
      },
      "execution_count": 10,
      "outputs": [
        {
          "output_type": "stream",
          "name": "stdout",
          "text": [
            "[4 5 6]\n",
            "5\n"
          ]
        }
      ]
    },
    {
      "cell_type": "markdown",
      "source": [
        "## **Reshape**\n",
        "É possível alterar o formato do array. Execute os código abaixo passo a passo, observando o resultado:"
      ],
      "metadata": {
        "id": "YbEo0kWzvBZ-"
      }
    },
    {
      "cell_type": "code",
      "source": [
        "arr = np.arange(10) # criar um vetor com 10 elementos - 0 a 9\n",
        "print(arr)\n",
        "print(arr.shape)\n",
        "print(\"------\")\n",
        "arr.reshape(5,2)\n",
        "#arr.reshape(2,5)"
      ],
      "metadata": {
        "colab": {
          "base_uri": "https://localhost:8080/"
        },
        "id": "_A4ZhjkJvFsU",
        "outputId": "ae3227d9-0abe-433b-b7a2-49a48be5309e"
      },
      "execution_count": 19,
      "outputs": [
        {
          "output_type": "stream",
          "name": "stdout",
          "text": [
            "[0 1 2 3 4 5 6 7 8 9]\n",
            "(10,)\n",
            "------\n"
          ]
        },
        {
          "output_type": "execute_result",
          "data": {
            "text/plain": [
              "array([[0, 1, 2, 3, 4],\n",
              "       [5, 6, 7, 8, 9]])"
            ]
          },
          "metadata": {},
          "execution_count": 19
        }
      ]
    },
    {
      "cell_type": "markdown",
      "source": [
        "**Sintaxe**\n",
        "\n",
        ".reshape(l,c)\n",
        "\n",
        "onde:\n",
        "\n",
        "* l: número de linhas\n",
        "* c: número de colunas\n",
        "\n",
        "O valor l*c deve corresponder à quantidade total de elementos no array.\n",
        "\n",
        "É possível definir a ordem do array sem conhecer uma de suas dimensões. Para isto, basta substituir o número de linhas ou colunas por -1."
      ],
      "metadata": {
        "id": "Mgrsr6SYv1uV"
      }
    },
    {
      "cell_type": "code",
      "source": [
        "arr = np.arange(10)\n",
        "#arr.reshape(5,-1)\n",
        "arr.reshape(-1,5)\n",
        "#arr.reshape(2,-1)\n",
        "#arr.reshape(-1,2)"
      ],
      "metadata": {
        "colab": {
          "base_uri": "https://localhost:8080/"
        },
        "id": "R_4pEA3XwH8N",
        "outputId": "8d929236-3bb6-4c8e-dfa9-7decf48d0311"
      },
      "execution_count": 23,
      "outputs": [
        {
          "output_type": "execute_result",
          "data": {
            "text/plain": [
              "array([[0, 1, 2, 3, 4],\n",
              "       [5, 6, 7, 8, 9]])"
            ]
          },
          "metadata": {},
          "execution_count": 23
        }
      ]
    },
    {
      "cell_type": "code",
      "source": [
        "arr = np.arange(100)\n",
        "\n",
        "arr10C = arr.reshape(10, 10)\n",
        "print(arr10C)\n",
        "\n",
        "print(\"--------------------------------------------\")\n",
        "arr25C = arr.reshape(4, 25)\n",
        "print(arr25C)"
      ],
      "metadata": {
        "colab": {
          "base_uri": "https://localhost:8080/"
        },
        "id": "dveXUytzwcZM",
        "outputId": "4785b494-8d0f-419a-dac7-8a866d7ccb4b"
      },
      "execution_count": 26,
      "outputs": [
        {
          "output_type": "stream",
          "name": "stdout",
          "text": [
            "[[ 0  1  2  3  4  5  6  7  8  9]\n",
            " [10 11 12 13 14 15 16 17 18 19]\n",
            " [20 21 22 23 24 25 26 27 28 29]\n",
            " [30 31 32 33 34 35 36 37 38 39]\n",
            " [40 41 42 43 44 45 46 47 48 49]\n",
            " [50 51 52 53 54 55 56 57 58 59]\n",
            " [60 61 62 63 64 65 66 67 68 69]\n",
            " [70 71 72 73 74 75 76 77 78 79]\n",
            " [80 81 82 83 84 85 86 87 88 89]\n",
            " [90 91 92 93 94 95 96 97 98 99]]\n",
            "--------------------------------------------\n",
            "[[ 0  1  2  3  4  5  6  7  8  9 10 11 12 13 14 15 16 17 18 19 20 21 22 23\n",
            "  24]\n",
            " [25 26 27 28 29 30 31 32 33 34 35 36 37 38 39 40 41 42 43 44 45 46 47 48\n",
            "  49]\n",
            " [50 51 52 53 54 55 56 57 58 59 60 61 62 63 64 65 66 67 68 69 70 71 72 73\n",
            "  74]\n",
            " [75 76 77 78 79 80 81 82 83 84 85 86 87 88 89 90 91 92 93 94 95 96 97 98\n",
            "  99]]\n"
          ]
        }
      ]
    },
    {
      "cell_type": "markdown",
      "source": [
        "## **Tipos de dados**\n",
        "\n",
        "**Exemplo**\n",
        "\n",
        "* Observe os tipos de dados armazenados"
      ],
      "metadata": {
        "id": "u5Ff9YzBxRZN"
      }
    },
    {
      "cell_type": "code",
      "source": [
        "print(a.dtype)"
      ],
      "metadata": {
        "colab": {
          "base_uri": "https://localhost:8080/"
        },
        "id": "_KK4VDKwxaMD",
        "outputId": "834de0a9-125d-4e3c-908d-9274b8796d2a"
      },
      "execution_count": 29,
      "outputs": [
        {
          "output_type": "stream",
          "name": "stdout",
          "text": [
            "int64\n"
          ]
        }
      ]
    },
    {
      "cell_type": "code",
      "source": [
        "x=np.array([1, 2]) #int\n",
        "y=np.array([1.0, 2.0]) #float\n",
        "z=np.array([1, 2], dtype=np.int64)\n",
        "print(x.dtype)\n",
        "print(y.dtype)\n",
        "print(z.dtype)"
      ],
      "metadata": {
        "colab": {
          "base_uri": "https://localhost:8080/"
        },
        "id": "rKsGhKWAxdfF",
        "outputId": "9f5d375e-a940-45c8-9cd8-b40b682fad00"
      },
      "execution_count": 33,
      "outputs": [
        {
          "output_type": "stream",
          "name": "stdout",
          "text": [
            "int64\n",
            "float64\n",
            "int64\n"
          ]
        }
      ]
    },
    {
      "cell_type": "markdown",
      "source": [
        "## **Criação de arrays**"
      ],
      "metadata": {
        "id": "KYYn7QuvypW0"
      }
    },
    {
      "cell_type": "code",
      "source": [
        "x = np.zeros((2,2))\n",
        "print(\"np.zeros\\n\" + str(x) + \"\\n\")\n",
        "y = np.ones((3,3))\n",
        "print(\"np.ones\\n\" + str(y) + \"\\n\")\n",
        "z = np.full((4,4),9)\n",
        "print(\"np.full\\n\" + str(z) + \"\\n\")\n",
        "w = np.eye(5)\n",
        "print(\"np.eye\\n\" + str(w) + \"\\n\")\n",
        "v = np.random.random((6,6))\n",
        "print(\"np.random.random\\n\" + str(v) + \"\\n\")"
      ],
      "metadata": {
        "colab": {
          "base_uri": "https://localhost:8080/"
        },
        "id": "aH-ixwkoytls",
        "outputId": "83e1ebe8-a06d-418b-96f9-c7129f2b8211"
      },
      "execution_count": 55,
      "outputs": [
        {
          "output_type": "stream",
          "name": "stdout",
          "text": [
            "np.zeros\n",
            "[[0. 0.]\n",
            " [0. 0.]]\n",
            "\n",
            "np.ones\n",
            "[[1. 1. 1.]\n",
            " [1. 1. 1.]\n",
            " [1. 1. 1.]]\n",
            "\n",
            "np.full\n",
            "[[9 9 9 9]\n",
            " [9 9 9 9]\n",
            " [9 9 9 9]\n",
            " [9 9 9 9]]\n",
            "\n",
            "np.eye\n",
            "[[1. 0. 0. 0. 0.]\n",
            " [0. 1. 0. 0. 0.]\n",
            " [0. 0. 1. 0. 0.]\n",
            " [0. 0. 0. 1. 0.]\n",
            " [0. 0. 0. 0. 1.]]\n",
            "\n",
            "np.random.random\n",
            "[[0.61756543 0.69800434 0.43640131 0.72594587 0.27035095 0.34234601]\n",
            " [0.36498717 0.40188385 0.9559779  0.52038414 0.91758528 0.66630651]\n",
            " [0.02407297 0.56516073 0.30539756 0.19971665 0.27368325 0.39297305]\n",
            " [0.77125287 0.9710481  0.68911357 0.94731581 0.80421942 0.10181462]\n",
            " [0.05791062 0.57897201 0.14805445 0.82510921 0.00658647 0.56437793]\n",
            " [0.68491485 0.98935274 0.04811669 0.36001742 0.69277659 0.86436367]]\n",
            "\n"
          ]
        }
      ]
    },
    {
      "cell_type": "markdown",
      "source": [
        "Outras funções podem ser utilizadas para obter valores igualmente espaçados entre si."
      ],
      "metadata": {
        "id": "PJC1xQQ7zH60"
      }
    },
    {
      "cell_type": "code",
      "source": [
        "a = np.linspace(0, 10, 5)\n",
        "print(a, \"\\n\")\n",
        "b = np.linspace(0, 10, 3)\n",
        "print(b, \"\\n\")\n",
        "c = np.linspace(0, 10, 11)\n",
        "print(c, \"\\n\")"
      ],
      "metadata": {
        "colab": {
          "base_uri": "https://localhost:8080/"
        },
        "id": "sduowUh7zIUs",
        "outputId": "8a1968e0-bfbe-498e-ae4c-4c6e7950528b"
      },
      "execution_count": 58,
      "outputs": [
        {
          "output_type": "stream",
          "name": "stdout",
          "text": [
            "[ 0.   2.5  5.   7.5 10. ] \n",
            "\n",
            "[ 0.  5. 10.] \n",
            "\n",
            "[ 0.  1.  2.  3.  4.  5.  6.  7.  8.  9. 10.] \n",
            "\n"
          ]
        }
      ]
    },
    {
      "cell_type": "markdown",
      "source": [
        "**Sintaxe**\n",
        "\n",
        ".linspace(i,f,n)\n",
        "\n",
        "Onde:\n",
        "\n",
        "* i: valor inicial\n",
        "* f: valor final\n",
        "* n: quantidade de valores no método linspace, os valores de saída são do tipo float (numpy.float64)."
      ],
      "metadata": {
        "id": "oi1TCJoa0_6D"
      }
    },
    {
      "cell_type": "markdown",
      "source": [
        "## **Slicing**\n",
        "Semelhantes às listas em Python, os arrays numpy possibilitam o slicing. Como os arrays podem possuir diversas dimensões, é necessário identificar o slice para cada dimensão."
      ],
      "metadata": {
        "id": "qlVgAG1R1b1j"
      }
    },
    {
      "cell_type": "code",
      "source": [
        "a = np.array([[1,2,3,4], [5,6,7,8], [9,10,11,12]])\n",
        "print(a, \"\\n\")\n",
        "b = a[:2, 1:3]\n",
        "print(b)\n",
        "\n",
        "# :2, linhas 0 a 1\n",
        "# 1:3: colunas 1 a 2"
      ],
      "metadata": {
        "colab": {
          "base_uri": "https://localhost:8080/"
        },
        "id": "laROehY81fIz",
        "outputId": "64cea20a-10d5-4b85-c633-7666e628a2f0"
      },
      "execution_count": 67,
      "outputs": [
        {
          "output_type": "stream",
          "name": "stdout",
          "text": [
            "[[ 1  2  3  4]\n",
            " [ 5  6  7  8]\n",
            " [ 9 10 11 12]] \n",
            "\n",
            "[[2 3]\n",
            " [6 7]]\n"
          ]
        }
      ]
    },
    {
      "cell_type": "code",
      "source": [
        "b = a[[0,2], 2]  #[0,2] seleciona as linhas 0 e 2 da matriz A, e \", 2\" seleciona a coluna 2 dessas linhas.\n",
        "print(b, \"\\n\") # B será o valor da linha 0, coluna 2, seguido pelo valor da linha 2, coluna 2.\n",
        "c = a[[0,2,2], [0,2,3]]\n",
        "# A primeira lista [0,2,2] seleciona as linhas 0, 2 e 2 da matriz A\n",
        "# A segunda lista [0,2,3] seleciona as colunas 0, 2 e 3 dessas linhas.\n",
        "print(c, \"\\n\")# C será uma lista contendo os valores da linha 0, coluna 0, seguido pelo valor da linha 2, coluna 2 e o valor da linha 2, coluna 3."
      ],
      "metadata": {
        "colab": {
          "base_uri": "https://localhost:8080/"
        },
        "id": "YLEWZuKb2JqT",
        "outputId": "eb51177e-92a2-449b-cb42-f355795f7088"
      },
      "execution_count": 69,
      "outputs": [
        {
          "output_type": "stream",
          "name": "stdout",
          "text": [
            "[ 3 11] \n",
            "\n",
            "[ 1 11 12] \n",
            "\n"
          ]
        }
      ]
    },
    {
      "cell_type": "markdown",
      "source": [
        "## **Alterações em slices**"
      ],
      "metadata": {
        "id": "aLhBo9B12Jf7"
      }
    },
    {
      "cell_type": "code",
      "source": [
        "c = a[:2, 1:3]\n",
        "print(c)"
      ],
      "metadata": {
        "colab": {
          "base_uri": "https://localhost:8080/"
        },
        "id": "Rf5cw3ji35I6",
        "outputId": "3a163e57-79a1-4fb7-eba3-162fb937c213"
      },
      "execution_count": 71,
      "outputs": [
        {
          "output_type": "stream",
          "name": "stdout",
          "text": [
            "[[2 3]\n",
            " [6 7]]\n"
          ]
        }
      ]
    },
    {
      "cell_type": "code",
      "source": [
        "c[0][0] = 20\n",
        "print(c)"
      ],
      "metadata": {
        "colab": {
          "base_uri": "https://localhost:8080/"
        },
        "id": "THcqALLA3-ES",
        "outputId": "15f75b44-270d-4c51-a98e-dc71c06ed09d"
      },
      "execution_count": 72,
      "outputs": [
        {
          "output_type": "stream",
          "name": "stdout",
          "text": [
            "[[20  3]\n",
            " [ 6  7]]\n"
          ]
        }
      ]
    },
    {
      "cell_type": "markdown",
      "source": [
        "## **Operações sobre arrays**\n",
        "\n",
        "* Arrays:"
      ],
      "metadata": {
        "id": "bvCbs0Vu4GTy"
      }
    },
    {
      "cell_type": "code",
      "source": [
        "x = np.array([ [1, 2],[3, 4] ])\n",
        "y = np.array([ [5, 6],[7, 8] ])\n",
        "print('x:\\n'+ str(x) + \"\\n\")\n",
        "print('y:\\n'+ str(y))"
      ],
      "metadata": {
        "colab": {
          "base_uri": "https://localhost:8080/"
        },
        "id": "Ihpyb_a04LGq",
        "outputId": "a8d8212d-c066-42dc-d906-1258d3b18be7"
      },
      "execution_count": 79,
      "outputs": [
        {
          "output_type": "stream",
          "name": "stdout",
          "text": [
            "x:\n",
            "[[1 2]\n",
            " [3 4]]\n",
            "\n",
            "y:\n",
            "[[5 6]\n",
            " [7 8]]\n"
          ]
        }
      ]
    },
    {
      "cell_type": "markdown",
      "source": [
        "Operações básicas podem ser realizadas sobre o array\n",
        "\n",
        "* adição (+)\n",
        "* subtração (-)\n",
        "* multiplicação (*)\n",
        "* divisão (/)\n",
        "* Exemplo"
      ],
      "metadata": {
        "id": "kcifnnTx4Q2h"
      }
    },
    {
      "cell_type": "code",
      "source": [
        "print(\"x + y\\n\" + str(x + y) + (\"\\n\"))\n",
        "print(\"x - y\\n\" + str(x - y) + (\"\\n\"))\n",
        "print(\"x * y\\n\" + str(x * y) + (\"\\n\"))\n",
        "print(\"x / y\\n\" + str(x / y) + (\"\\n\"))"
      ],
      "metadata": {
        "colab": {
          "base_uri": "https://localhost:8080/"
        },
        "id": "DhSsF3Ns4gJw",
        "outputId": "c177b24e-77c2-43fe-c854-d46918e9d5f4"
      },
      "execution_count": 81,
      "outputs": [
        {
          "output_type": "stream",
          "name": "stdout",
          "text": [
            "x + y\n",
            "[[ 6  8]\n",
            " [10 12]]\n",
            "\n",
            "x - y\n",
            "[[-4 -4]\n",
            " [-4 -4]]\n",
            "\n",
            "x * y\n",
            "[[ 5 12]\n",
            " [21 32]]\n",
            "\n",
            "x / y\n",
            "[[0.2        0.33333333]\n",
            " [0.42857143 0.5       ]]\n",
            "\n"
          ]
        }
      ]
    },
    {
      "cell_type": "markdown",
      "source": [
        "A biblioteca numpy também possui outras operações, acessíveis por métodos:\n",
        "\n",
        "* .add()\n",
        "* .subtract()\n",
        "* .multiply()\n",
        "* .divide()\n",
        "* .sqrt()"
      ],
      "metadata": {
        "id": "EciM0k_v4sdJ"
      }
    },
    {
      "cell_type": "code",
      "source": [
        "print(\"Matriz X\\n\" + str(x) + \"\\n\")\n",
        "\n",
        "print(\"np.add\\n\" + str(np.add(x,4)) + \"\\n\")\n",
        "print(\"np.subtract\\n\" + str(np.subtract(x,2)) + \"\\n\")\n",
        "print(\"np.multiply\\n\" + str(np.multiply(x,5)) + \"\\n\")\n",
        "print(\"np.divide\\n\" + str(np.divide(x,2)) + \"\\n\")\n",
        "print(\"np.sqrt\\n\" + str(np.sqrt(x)))"
      ],
      "metadata": {
        "colab": {
          "base_uri": "https://localhost:8080/"
        },
        "id": "MQ5h3YAO4xUp",
        "outputId": "1320966e-ebca-44d9-987d-4aa1f21e06fd"
      },
      "execution_count": 91,
      "outputs": [
        {
          "output_type": "stream",
          "name": "stdout",
          "text": [
            "Matriz X\n",
            "[[1 2]\n",
            " [3 4]]\n",
            "\n",
            "np.add\n",
            "[[5 6]\n",
            " [7 8]]\n",
            "\n",
            "np.subtract\n",
            "[[-1  0]\n",
            " [ 1  2]]\n",
            "\n",
            "np.multiply\n",
            "[[ 5 10]\n",
            " [15 20]]\n",
            "\n",
            "np.divide\n",
            "[[0.5 1. ]\n",
            " [1.5 2. ]]\n",
            "\n",
            "np.sqrt\n",
            "[[1.         1.41421356]\n",
            " [1.73205081 2.        ]]\n"
          ]
        }
      ]
    },
    {
      "cell_type": "markdown",
      "source": [
        "Possui também operações sobre os valores em arrays\n",
        "\n",
        "* .sum()\n",
        "* .mean()\n",
        "* .min()\n",
        "* .max()\n",
        "* ..."
      ],
      "metadata": {
        "id": "EpyyWxZX45E6"
      }
    },
    {
      "cell_type": "code",
      "source": [
        "print(x.sum(), \"\\n\")\n",
        "print(x.mean(), \"\\n\")\n",
        "print(x.min(), \"\\n\")\n",
        "print(x.max())"
      ],
      "metadata": {
        "colab": {
          "base_uri": "https://localhost:8080/"
        },
        "id": "eP5OUhxy49JS",
        "outputId": "6dca6f77-718e-4dfa-a9e8-27f081c007ad"
      },
      "execution_count": 93,
      "outputs": [
        {
          "output_type": "stream",
          "name": "stdout",
          "text": [
            "10 \n",
            "\n",
            "2.5 \n",
            "\n",
            "1 \n",
            "\n",
            "4\n"
          ]
        }
      ]
    },
    {
      "cell_type": "code",
      "source": [
        "a = np.array([[1,2,3], [4,5,6], [7,8,9], [10, 11, 12]])\n",
        "print(a, \"\\n\")\n",
        "b = np.array([0, 2, 0, 1])\n",
        "print(b, \"\\n\")\n",
        "a[np.arange(4), b] += 10\n",
        "# np.arange(4) cria um array [0, 1, 2, 3], que representa os índices das linhas de A.\n",
        "# Em seguida, estamos selecionando elementos de A usando as listas de índices [0, 1, 2, 3] para as linhas e o array B para as colunas.\n",
        "print(a, \"\\n\")\n",
        "#Significa que estamos selecionando os elementos (0,0), (1,2), (2,0) e (3,1) de A. Depois, estamos adicionando 10 a esses elementos."
      ],
      "metadata": {
        "colab": {
          "base_uri": "https://localhost:8080/"
        },
        "id": "kGStXzN14-uR",
        "outputId": "4a2ba26c-b812-4086-85d5-4cd31a75ee95"
      },
      "execution_count": 95,
      "outputs": [
        {
          "output_type": "stream",
          "name": "stdout",
          "text": [
            "[[ 1  2  3]\n",
            " [ 4  5  6]\n",
            " [ 7  8  9]\n",
            " [10 11 12]] \n",
            "\n",
            "[0 2 0 1] \n",
            "\n",
            "[[11  2  3]\n",
            " [ 4  5 16]\n",
            " [17  8  9]\n",
            " [10 21 12]] \n",
            "\n"
          ]
        }
      ]
    },
    {
      "cell_type": "markdown",
      "source": [
        "## **Índices booleanos**\n",
        "Numpy possibilita que sejam aplicadas operações a todos os elementos. Para operadores relacionais, é retornado um array booleano."
      ],
      "metadata": {
        "id": "kLrdC8h27kpA"
      }
    },
    {
      "cell_type": "code",
      "source": [
        "a = np.array([[1,2,3,4], [5,6,7,8], [9,10,11,12]])\n",
        "idx = a > 6\n",
        "print(a, \"\\n\")\n",
        "print(idx)"
      ],
      "metadata": {
        "colab": {
          "base_uri": "https://localhost:8080/"
        },
        "id": "tB45SH647nwg",
        "outputId": "4412d96f-4dfd-4d59-a38a-557333e5ce8f"
      },
      "execution_count": 98,
      "outputs": [
        {
          "output_type": "stream",
          "name": "stdout",
          "text": [
            "[[ 1  2  3  4]\n",
            " [ 5  6  7  8]\n",
            " [ 9 10 11 12]] \n",
            "\n",
            "[[False False False False]\n",
            " [False False  True  True]\n",
            " [ True  True  True  True]]\n"
          ]
        }
      ]
    },
    {
      "cell_type": "code",
      "source": [
        "a[idx] += 100\n",
        "print(a)"
      ],
      "metadata": {
        "colab": {
          "base_uri": "https://localhost:8080/"
        },
        "id": "W3FEQwZD7wXI",
        "outputId": "0959aed2-7d3d-4f1b-8d5d-1802cd8b75b5"
      },
      "execution_count": 101,
      "outputs": [
        {
          "output_type": "stream",
          "name": "stdout",
          "text": [
            "[[  1   2   3   4]\n",
            " [  5   6 207 208]\n",
            " [209 210 211 212]]\n"
          ]
        }
      ]
    },
    {
      "cell_type": "markdown",
      "source": [
        "## **Where**\n",
        "Utilizando a função where(), é possível descobrir quais posições do array correspondem a uma condição determinada.\n",
        "\n",
        "Extrair valores maiores que 15:"
      ],
      "metadata": {
        "id": "9i4YhOk47zEI"
      }
    },
    {
      "cell_type": "code",
      "source": [
        "arr = np.arange(10,20)\n",
        "print(arr, \"\\n\")\n",
        "\n",
        "for indice, elemento in enumerate(arr):\n",
        "    print(f'O elemento \"{elemento}\" está na posição {indice}.')\n",
        "print(\"\\n\")\n",
        "\n",
        "np.where(arr > 15)"
      ],
      "metadata": {
        "colab": {
          "base_uri": "https://localhost:8080/"
        },
        "id": "1mstAHUl71wW",
        "outputId": "104b7ee5-122f-4d02-a61e-135407f0b083"
      },
      "execution_count": 108,
      "outputs": [
        {
          "output_type": "stream",
          "name": "stdout",
          "text": [
            "[10 11 12 13 14 15 16 17 18 19] \n",
            "\n",
            "O elemento \"10\" está na posição 0.\n",
            "O elemento \"11\" está na posição 1.\n",
            "O elemento \"12\" está na posição 2.\n",
            "O elemento \"13\" está na posição 3.\n",
            "O elemento \"14\" está na posição 4.\n",
            "O elemento \"15\" está na posição 5.\n",
            "O elemento \"16\" está na posição 6.\n",
            "O elemento \"17\" está na posição 7.\n",
            "O elemento \"18\" está na posição 8.\n",
            "O elemento \"19\" está na posição 9.\n",
            "\n",
            "\n"
          ]
        },
        {
          "output_type": "execute_result",
          "data": {
            "text/plain": [
              "(array([6, 7, 8, 9]),)"
            ]
          },
          "metadata": {},
          "execution_count": 108
        }
      ]
    },
    {
      "cell_type": "markdown",
      "source": [
        "Extrair valores pares:\n",
        "\n"
      ],
      "metadata": {
        "id": "vt0TaUQi75QY"
      }
    },
    {
      "cell_type": "code",
      "source": [
        "arr = np.arange(10,20)\n",
        "print(arr, \"\\n\")\n",
        "\n",
        "for indice, elemento in enumerate(arr):\n",
        "    print(f'O elemento \"{elemento}\" está na posição {indice}.')\n",
        "print(\"\\n\")\n",
        "\n",
        "np.where(arr % 2 == 0)"
      ],
      "metadata": {
        "colab": {
          "base_uri": "https://localhost:8080/"
        },
        "id": "x0kPfUKH76MQ",
        "outputId": "171f0569-8473-4e96-da12-5f16141a0378"
      },
      "execution_count": 109,
      "outputs": [
        {
          "output_type": "stream",
          "name": "stdout",
          "text": [
            "[10 11 12 13 14 15 16 17 18 19] \n",
            "\n",
            "O elemento \"10\" está na posição 0.\n",
            "O elemento \"11\" está na posição 1.\n",
            "O elemento \"12\" está na posição 2.\n",
            "O elemento \"13\" está na posição 3.\n",
            "O elemento \"14\" está na posição 4.\n",
            "O elemento \"15\" está na posição 5.\n",
            "O elemento \"16\" está na posição 6.\n",
            "O elemento \"17\" está na posição 7.\n",
            "O elemento \"18\" está na posição 8.\n",
            "O elemento \"19\" está na posição 9.\n",
            "\n",
            "\n"
          ]
        },
        {
          "output_type": "execute_result",
          "data": {
            "text/plain": [
              "(array([0, 2, 4, 6, 8]),)"
            ]
          },
          "metadata": {},
          "execution_count": 109
        }
      ]
    },
    {
      "cell_type": "markdown",
      "source": [
        "**Referências**\n",
        "\n",
        "[HARRIS. C.R. Millman, K.J, van der Walt, S.J. et al. Array programming with NumPy. Nature 585, 357-362, 2020](https:/https://www.nature.com/articles/s41586-020-2649-2/) [PDF](https:/https://www.nature.com/articles/s41586-020-2649-2.pdf/)"
      ],
      "metadata": {
        "id": "cdZyEM0t7_HZ"
      }
    }
  ]
}