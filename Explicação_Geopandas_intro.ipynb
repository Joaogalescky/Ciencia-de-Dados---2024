{
  "nbformat": 4,
  "nbformat_minor": 0,
  "metadata": {
    "kernelspec": {
      "display_name": "Python 3",
      "language": "python",
      "name": "python3"
    },
    "language_info": {
      "codemirror_mode": {
        "name": "ipython",
        "version": 3
      },
      "file_extension": ".py",
      "mimetype": "text/x-python",
      "name": "python",
      "nbconvert_exporter": "python",
      "pygments_lexer": "ipython3",
      "version": "3.6.8"
    },
    "colab": {
      "provenance": [],
      "include_colab_link": true
    }
  },
  "cells": [
    {
      "cell_type": "markdown",
      "metadata": {
        "id": "view-in-github",
        "colab_type": "text"
      },
      "source": [
        "<a href=\"https://colab.research.google.com/github/Joaogalescky/Ciencia-de-Dados---2024/blob/main/Explica%C3%A7%C3%A3o_Geopandas_intro.ipynb\" target=\"_parent\"><img src=\"https://colab.research.google.com/assets/colab-badge.svg\" alt=\"Open In Colab\"/></a>"
      ]
    },
    {
      "cell_type": "markdown",
      "metadata": {
        "id": "7RPsPBenk9hH"
      },
      "source": [
        "# Geopandas\n",
        "\n",
        "[Geopandas](https://geopandas.org) é uma biblioteca para manipulação de informações geográficas, possibilitando a apresentação de mapas e análises de dados utilizando informações geométricas.\n",
        "\n",
        "Aqui utilizaremos como fonte de dados a biblioteca [geobr](https://github.com/ipeaGIT/geobr), desenvolvida pelo Instituto de Pesquisa Econômica Aplicada (IPEA)."
      ]
    },
    {
      "cell_type": "markdown",
      "metadata": {
        "id": "YDR2VTJ7k9hJ"
      },
      "source": [
        "## Bibliotecas necessárias\n",
        "- Geopandas\n",
        "- GeoBR: Mapas do Brasil\n",
        "\n",
        "Por padrão, as bibliotecas GeoPandas e geobr não vêm instaladas. Desta forma, é necessário instalá-las.\n",
        "\n",
        "**Atividade**\n",
        "- Instale as bibliotecas GeoPandas e geobr.\n",
        "```bash\n",
        "%%bash\n",
        "#Instalação das bibliotecas\n",
        "pip3 install geopandas\n",
        "pip3 install geobr\n",
        "```"
      ]
    },
    {
      "cell_type": "code",
      "metadata": {
        "scrolled": true,
        "id": "R21mQLENk9hJ"
      },
      "source": [
        "%%bash\n",
        "#Instalação das bibliotecas\n",
        "pip3 install geopandas\n",
        "pip3 install geobr"
      ],
      "execution_count": null,
      "outputs": []
    },
    {
      "cell_type": "markdown",
      "metadata": {
        "id": "pFoFV1vfk9hK"
      },
      "source": [
        "## Importação de bibliotecas\n",
        "\n",
        "```python\n",
        "import geopandas as gpd\n",
        "import geobr\n",
        "\n",
        "import numpy as np\n",
        "import pandas as pd\n",
        "import matplotlib.pyplot as plt\n",
        "%matplotlib inline\n",
        "```"
      ]
    },
    {
      "cell_type": "code",
      "metadata": {
        "id": "geXY8ipAk9hK"
      },
      "source": [
        "import geopandas as gpd\n",
        "import geobr\n",
        "\n",
        "import numpy as np\n",
        "import pandas as pd\n",
        "import matplotlib.pyplot as plt\n",
        "%matplotlib inline"
      ],
      "execution_count": null,
      "outputs": []
    },
    {
      "cell_type": "markdown",
      "metadata": {
        "id": "vSdEAHMHk9hK"
      },
      "source": [
        "## Carregando bases geobr\n",
        "\n",
        "As bases do geobr podem ser obtidas a partir de funções da biblioteca. O retorno da função é um **GeoDataFrame**. Algumas das funções são:\n",
        "-  `.read_country()` : País, Brasil\n",
        "-  `.read_state()` : estados do Brasil\n",
        "-  `.read_municipality()` : Municípios\n",
        "-  `.read_meso_region()` : Mesorregiões\n",
        "-  `.read_micro_region()` : Microrregiões\n",
        "\n",
        "**Exemplo**.\n",
        "- Carrega o mapa do Brasil\n",
        "```python\n",
        "gdf_br = geobr.read_country()\n",
        "```\n",
        "\n",
        "- Carrega os estados do Brasil\n",
        "```python\n",
        "gdf_estados = geobr.read_state()\n",
        "```\n",
        "\n",
        "Ao executar cada função, o GeoDataFrame será carregado a partir dos servidores da biblioteca GeoPandas, na internet."
      ]
    },
    {
      "cell_type": "code",
      "metadata": {
        "id": "RnY0k25Xk9hL",
        "outputId": "61aa6c24-b8d1-4b45-f366-ee1199070890"
      },
      "source": [
        "%%time\n",
        "#Carrega bases estados e municipios (Pode demorar um pouco)\n",
        "print('Carregando país...')\n",
        "gdf_br = geobr.read_country()  #País\n",
        "print('Carregando estados...')\n",
        "gdf_estados = geobr.read_state() #Estados\n",
        "print('Carregando municípios...')\n",
        "gdf_municipios = geobr.read_municipality() #Municípios\n",
        "print('Carregando mesorregiões...')\n",
        "gdf_meso = geobr.read_meso_region() #Mesoregiões\n",
        "print('Carregando microrregiões...')\n",
        "gdf_micro = geobr.read_micro_region() #Microregiões\n",
        "print('Download das bases finalizado.')"
      ],
      "execution_count": null,
      "outputs": [
        {
          "output_type": "stream",
          "text": [
            "Carregando país...\n",
            "Carregando estados...\n",
            "Carregando municípios...\n",
            "Carregando mesorregiões...\n",
            "Carregando microrregiões...\n",
            "Download das bases finalizado.\n",
            "CPU times: user 177 ms, sys: 1.07 ms, total: 178 ms\n",
            "Wall time: 174 ms\n"
          ],
          "name": "stdout"
        }
      ]
    },
    {
      "cell_type": "markdown",
      "metadata": {
        "id": "eHbxGg4-k9hM"
      },
      "source": [
        "## GeoDataFrame\n",
        "\n",
        "Um `GeoDataFrame` se assemelha a um DataFrame Pandas, porém possui a coluna `geometry`, que armazena informações sobre a geometria correspondente aos valores contidos naquela linha.\n",
        "\n",
        "**Exemplo**\n",
        "- GeoDataFrame do brasil\n",
        "\n",
        "```python\n",
        "gdf_br\n",
        "```\n",
        "\n",
        "Neste caso existe apenas uma informação na base."
      ]
    },
    {
      "cell_type": "code",
      "metadata": {
        "id": "KNjWkW7Xk9hM"
      },
      "source": [],
      "execution_count": null,
      "outputs": []
    },
    {
      "cell_type": "markdown",
      "metadata": {
        "id": "F8GTivurk9hM"
      },
      "source": [
        "**Exemplo**\n",
        "-  GeoDataFrame com os Estados do Brasil\n",
        "```python\n",
        "gdf_estados.head()\n",
        "```"
      ]
    },
    {
      "cell_type": "code",
      "metadata": {
        "id": "uSe63Lbhk9hN"
      },
      "source": [],
      "execution_count": null,
      "outputs": []
    },
    {
      "cell_type": "markdown",
      "metadata": {
        "id": "kFvlmrC9k9hN"
      },
      "source": [
        "No caso dos estados temos informações a mais, como o código do estado, a abreviação do estado, nome do estado, o código da região e o nome região."
      ]
    },
    {
      "cell_type": "markdown",
      "metadata": {
        "id": "UBgbzkA8k9hN"
      },
      "source": [
        "## O método `.plot()`\n",
        "\n",
        "O método `.plot()` dos GeoDataFrames apresenta as figuras geométricas presentes.\n",
        "\n",
        "**Exemplo**\n",
        "- Mapa do Brasil\n",
        "\n",
        "```python\n",
        "gdf_br.plot()\n",
        "```"
      ]
    },
    {
      "cell_type": "code",
      "metadata": {
        "id": "ZpYe-PiYk9hN"
      },
      "source": [],
      "execution_count": null,
      "outputs": []
    },
    {
      "cell_type": "markdown",
      "metadata": {
        "id": "XRcwT55bk9hN"
      },
      "source": [
        "**Exemplo**\n",
        "- Estados do Brasil\n",
        "```python\n",
        "gdf_estados.plot()\n",
        "```"
      ]
    },
    {
      "cell_type": "code",
      "metadata": {
        "id": "fiu3SBYIk9hN"
      },
      "source": [],
      "execution_count": null,
      "outputs": []
    },
    {
      "cell_type": "markdown",
      "metadata": {
        "id": "p_cFkkw_k9hO"
      },
      "source": [
        "### Parâmetros\n",
        "\n",
        "Alguns parâmetros para manipulação dos mapas no método `.plot()` são:\n",
        "- `figsize`: indica o tamanho do mapa a ser gerado, tendo como entrada uma tupla.\n",
        "    - **Exemplo**\n",
        "        - `gdf_estados.plot(figsize=(10,20))`.\n",
        "    - Na apresentação, o tamanho será adaptado ao mapa, mantendo as proporções originais.\n",
        "- `color`: indica a cor de fundo do gráfico\n",
        "    - **Exemplo**\n",
        "        - `gdf_estados.plot(color='r')`\n",
        "- `edgecolor`: indica a cor da borda do mapa.\n",
        "    - **Exemplo**\n",
        "        - `gdf_estados.plot(edgecolor='r')`\n",
        "- `column`: utiliza uma coluna do geodataframe para ser utilizado como cor. As linhas que possuírem o mesmo valor terão a mesma cor no gráfico.\n",
        "    - **Exemplo**\n",
        "        - `gdf_estados.plot(column='name_region')`\n",
        "- `alpha`: nível de transparência, com valores no intervalo $[0.0,1.0]$, de maior a menor transparência.\n",
        "    - **Exemplo**\n",
        "        - `gdf_estados.plot(color='y', alpha=0.8)`\n",
        "        - `gdf_estados.plot(color='y', alpha=0.3)`\n",
        "    - Este parâmetro é bastante útil na sobreposição de informações em mapas.\n",
        "- `legend`: inclui legenda no gráfico.\n",
        "    - **Exemplo**\n",
        "        - `gdf_estados.plot(column='name_region', legend=True)`\n",
        "    \n",
        "**Exemplo**  \n",
        "\n",
        "```python\n",
        "gdf_estados.plot(figsize=(10,10), edgecolor='k', column='name_region', legend=True, alpha = 0.6)\n",
        "```\n",
        "\n",
        "**Observação**  \n",
        "- Os parâmetros `color` e `column` não podem ser utilizados simultaneamente."
      ]
    },
    {
      "cell_type": "code",
      "metadata": {
        "id": "hL7TjmwEk9hO"
      },
      "source": [],
      "execution_count": null,
      "outputs": []
    },
    {
      "cell_type": "code",
      "metadata": {
        "id": "GDr5MlnXk9hO"
      },
      "source": [],
      "execution_count": null,
      "outputs": []
    },
    {
      "cell_type": "code",
      "metadata": {
        "id": "36_fgtfVk9hP"
      },
      "source": [],
      "execution_count": null,
      "outputs": []
    },
    {
      "cell_type": "code",
      "metadata": {
        "id": "olBLx36Ek9hP"
      },
      "source": [],
      "execution_count": null,
      "outputs": []
    },
    {
      "cell_type": "code",
      "metadata": {
        "id": "m7DFS5Kyk9hP"
      },
      "source": [],
      "execution_count": null,
      "outputs": []
    },
    {
      "cell_type": "code",
      "metadata": {
        "id": "Zozr-t0lk9hP"
      },
      "source": [],
      "execution_count": null,
      "outputs": []
    },
    {
      "cell_type": "code",
      "metadata": {
        "id": "CrdlST2Ik9hP"
      },
      "source": [],
      "execution_count": null,
      "outputs": []
    },
    {
      "cell_type": "code",
      "metadata": {
        "id": "jnKOgT6Ik9hP"
      },
      "source": [],
      "execution_count": null,
      "outputs": []
    },
    {
      "cell_type": "markdown",
      "metadata": {
        "id": "dY4dJcJxk9hP"
      },
      "source": [
        "## Manipulação de GeoDataFrames\n",
        "\n",
        "Assim como nos DataFrames, é possível criar novas colunas e filtrar linhas no GeoDataFrames, além das outras operações possíveis de serem aplicadas aos DataFrames Pandas."
      ]
    },
    {
      "cell_type": "markdown",
      "metadata": {
        "id": "XwsFNEDFk9hQ"
      },
      "source": [
        "**Exemplo**\n",
        "- Mapa dos estados presentes na região Sul.\n",
        "```python\n",
        "idx = gdf_estados['name_region']=='Sul' #Filtra apenas estados da região Sul\n",
        "gdf_estados[idx].plot() #Mostra os estados no filtro aplicado\n",
        "```"
      ]
    },
    {
      "cell_type": "code",
      "metadata": {
        "id": "OKhIGfWsk9hQ"
      },
      "source": [],
      "execution_count": null,
      "outputs": []
    },
    {
      "cell_type": "markdown",
      "metadata": {
        "id": "Boc0r16Gk9hQ"
      },
      "source": [
        "**Atividade**  \n",
        "- Apresente o mapa contendo todos os estados da região Nordeste.\n",
        "- Apresenta o mapa do estado que possui o código 42."
      ]
    },
    {
      "cell_type": "code",
      "metadata": {
        "id": "A3G1U4DHk9hQ"
      },
      "source": [],
      "execution_count": null,
      "outputs": []
    },
    {
      "cell_type": "markdown",
      "metadata": {
        "id": "FzVjnrqSk9hQ"
      },
      "source": [
        "**Atividade**  \n",
        "- Quais são os estados que fazem parte da região Norte? Liste-os, utilizando filtros no GeoDataFrame."
      ]
    },
    {
      "cell_type": "code",
      "metadata": {
        "id": "BK1JAr-uk9hR"
      },
      "source": [],
      "execution_count": null,
      "outputs": []
    },
    {
      "cell_type": "markdown",
      "metadata": {
        "id": "ZyzRW96ak9hR"
      },
      "source": [
        "### Métodos úteis\n",
        "Alguns métodos já conhecidos na biblioteca Pandas são extremamente úteis durante a manipulação de GeoDataFrames.\n",
        "\n",
        "- `.isin()` : Retorna `True` caso o valor esteja presente em uma sequência ou conjunto. Útil para filtrar por valores específicos.\n",
        "\n",
        "**Exemplo**\n",
        "- Apresente o mapa dos estados MS, GO, RS e CE.\n",
        "```python\n",
        "estados = {'MS', 'GO', 'RS', 'CE'} #conjunto ou lista com os valores\n",
        "gdf_estados[gdf_estados['abbrev_state'].isin(estados)].plot() #filtra apenas por estados  que estão na lista\n",
        "```"
      ]
    },
    {
      "cell_type": "code",
      "metadata": {
        "id": "4_G-X_kFk9hR"
      },
      "source": [],
      "execution_count": null,
      "outputs": []
    },
    {
      "cell_type": "markdown",
      "metadata": {
        "id": "SsRL4iUQk9hR"
      },
      "source": [
        "**Atividade**\n",
        "- Apresente um mapa com os estados do Amazonas, Ceará, São Paulo, Espírito Santo e Distrito Federal"
      ]
    },
    {
      "cell_type": "code",
      "metadata": {
        "id": "tYMV3EdUk9hR"
      },
      "source": [],
      "execution_count": null,
      "outputs": []
    },
    {
      "cell_type": "markdown",
      "metadata": {
        "id": "kCHGfvVyk9hR"
      },
      "source": [
        "## Sobreposição de mapas\n",
        "\n",
        "Uma possibilidade é aplicar diversos mapas na mesma figura, chamando diversas vezes o método `.plot()` passando o retorno do mapa anterior gerado. O primeiro mapa gerado corresponde ao fundo, e os demais correspondem a camadas superiores, que serão sobrepostas às anteriores.\n",
        "\n",
        "**Exemplo**.\n",
        "- Mapa do Paraná sobreposto ao mapa do Brasil. Repare que o mapa do Brasil é gerado primeiro.\n",
        "```python\n",
        "mapa = gdf_br.plot() #Mapa do Brasil\n",
        "gdf_pr = gdf_estados[gdf_estados['name_state']=='Paraná'] #Gera um GeoDataFrame apenas com o PR\n",
        "gdf_pr.plot(ax = mapa, color='y') #Mapa do PR, indicando em qual mapa plotar\n",
        "```"
      ]
    },
    {
      "cell_type": "code",
      "metadata": {
        "id": "tQ_j_pwmk9hS"
      },
      "source": [],
      "execution_count": null,
      "outputs": []
    },
    {
      "cell_type": "code",
      "metadata": {
        "id": "XNd7PWlBk9hS"
      },
      "source": [],
      "execution_count": null,
      "outputs": []
    },
    {
      "cell_type": "markdown",
      "metadata": {
        "id": "0DnFWKZ5k9hS"
      },
      "source": [
        "**Atividade**\n",
        "\n",
        "Mostre"
      ]
    },
    {
      "cell_type": "code",
      "metadata": {
        "id": "7r1O8VsDk9hS"
      },
      "source": [],
      "execution_count": null,
      "outputs": []
    },
    {
      "cell_type": "markdown",
      "metadata": {
        "id": "HXT9N2x5k9hS"
      },
      "source": [
        "**Atividade**\n",
        "- Qual é o nome da cidade com código `3542602.0` ?\n",
        "- Mostre o mapa da cidade de código `1200203.0` ."
      ]
    },
    {
      "cell_type": "code",
      "metadata": {
        "id": "IWgWUDwsk9hS"
      },
      "source": [],
      "execution_count": null,
      "outputs": []
    },
    {
      "cell_type": "code",
      "metadata": {
        "id": "bVXct6WDk9hS"
      },
      "source": [],
      "execution_count": null,
      "outputs": []
    },
    {
      "cell_type": "markdown",
      "metadata": {
        "id": "uUpi-aQuk9hS"
      },
      "source": [
        "## Outras bases GeoBR\n",
        "\n",
        "A biblioteca **geobr** também permite a leitura de outras bases de dados. Informações sobre as bases disponíveis podem ser vistas na página do repositório da biblioteca [geobr](https://github.com/ipeaGIT/geobr#available-datasets)."
      ]
    },
    {
      "cell_type": "markdown",
      "metadata": {
        "id": "C6R1FKqwk9hT"
      },
      "source": [
        "**Exemplo**\n",
        "- Mapa do Brasil com as áreas de terras indígenas, diferenciando-as por etnia.\n",
        "\n",
        "```python\n",
        "#Mapa do Brasil. Fundo de cor branca e borda de cor preta.\n",
        "mapa = geobr.read_country().plot(figsize=(10,10), color='w', edgecolor='k')\n",
        "#Mapa das terras indígenas. Cores separadas por etnia, utilizando o mapa do Brasil.\n",
        "geobr.read_indigenous_land().plot(ax=mapa, column='etnia_nome')\n",
        "```"
      ]
    },
    {
      "cell_type": "code",
      "metadata": {
        "id": "NE0yWN6wk9hT"
      },
      "source": [],
      "execution_count": null,
      "outputs": []
    },
    {
      "cell_type": "markdown",
      "metadata": {
        "id": "hTqyhXAdk9hT"
      },
      "source": [
        "**Exemplo**  \n",
        "- Escolas do Brasil\n",
        "```python\n",
        "gdf_escolas = geobr.read_schools()\n",
        "```"
      ]
    },
    {
      "cell_type": "code",
      "metadata": {
        "id": "OTolQOtqk9hT"
      },
      "source": [],
      "execution_count": null,
      "outputs": []
    },
    {
      "cell_type": "markdown",
      "metadata": {
        "id": "Hy7563TYk9hT"
      },
      "source": [
        "**Atividade**\n",
        "- Plote um mapa com as escolas de Cascavel-PR.\n",
        "- Calcule e mostre quantas escolas de Cascavel são públicas e privadas\n",
        "- Calcule e mostre quantas escolas públicas de Cascavel pertencem a cada esfera administrativa (Municipal, Estadual, Federal)"
      ]
    },
    {
      "cell_type": "code",
      "metadata": {
        "id": "ys4a__h5k9hU"
      },
      "source": [],
      "execution_count": null,
      "outputs": []
    },
    {
      "cell_type": "code",
      "metadata": {
        "id": "yqG9iJYWk9hU"
      },
      "source": [],
      "execution_count": null,
      "outputs": []
    },
    {
      "cell_type": "code",
      "metadata": {
        "id": "iEhTRlg5k9hU"
      },
      "source": [],
      "execution_count": null,
      "outputs": []
    },
    {
      "cell_type": "markdown",
      "metadata": {
        "id": "WIlPlsd9k9hU"
      },
      "source": [
        "**Atividade**\n",
        "- Explique o código abaixo, preenchendo nos comentários a finalidade de cada linha. Após explicar, execute-o e discuta sobre o resultado.\n",
        "\n",
        "```python\n",
        "# _________\n",
        "cidade = 'Cascavel'         # _________\n",
        "estado = 'PR'               # _________\n",
        "coluna = 'government_level' # _________\n",
        "\n",
        "# _________\n",
        "gdf_cidade = geobr.read_municipality() # _________\n",
        "gdf_cidade = gdf_cidade[gdf_cidade['abbrev_state'] == estado] # _________\n",
        "gdf_cidade = gdf_cidade[gdf_cidade['name_muni'] == cidade]    # _________\n",
        "\n",
        "# _________\n",
        "gdf_cidade_escolas = geobr.read_schools() # _________\n",
        "gdf_cidade_escolas = gdf_cidade_escolas[gdf_cidade_escolas['name_muni']==cidade]    # _________\n",
        "gdf_cidade_escolas = gdf_cidade_escolas[gdf_cidade_escolas['abbrev_state']==estado] # _________\n",
        "\n",
        "# _________\n",
        "mapa = gdf_cidade.plot(figsize=(20,20), color='w', edgecolor='k')      # _________\n",
        "gdf_cidade_escolas.plot(ax=mapa, column=coluna,legend=True, alpha=0.7) # _________\n",
        "```"
      ]
    },
    {
      "cell_type": "code",
      "metadata": {
        "id": "Hobr0S5Hk9hU"
      },
      "source": [],
      "execution_count": null,
      "outputs": []
    },
    {
      "cell_type": "code",
      "metadata": {
        "id": "Iat5yY0Nk9hU"
      },
      "source": [],
      "execution_count": null,
      "outputs": []
    },
    {
      "cell_type": "markdown",
      "metadata": {
        "id": "mnDGRPcEk9hV"
      },
      "source": [
        "**Atividade**\n",
        "- Plote no mapa de Cascavel a localização das escolas públicas e privadas, diferenciando-as por cor."
      ]
    },
    {
      "cell_type": "code",
      "metadata": {
        "id": "0dYiravpk9hV"
      },
      "source": [],
      "execution_count": null,
      "outputs": []
    },
    {
      "cell_type": "markdown",
      "metadata": {
        "id": "4k7uBw62k9hV"
      },
      "source": [
        "**Atividade**  \n",
        "- Apresente no mapa do Paraná as áreas de terras indígenas, diferenciando-as por etnia. Utilize legenda.\n",
        "- Carregue outro geodaframe da biblioteca geobr. Apresente um mapa com informações da base lida e realize uma análise sobre os dados lidos."
      ]
    },
    {
      "cell_type": "code",
      "metadata": {
        "id": "4NVGcX1ik9hV"
      },
      "source": [],
      "execution_count": null,
      "outputs": []
    },
    {
      "cell_type": "markdown",
      "metadata": {
        "id": "GIjP67L4k9hV"
      },
      "source": [
        "## Referências\n",
        "[GeoPandas](https://geopandas.org)  \n",
        "[geobr](https://github.com/ipeaGIT/geobr)  \n",
        "Pereira, R.H.M.; Gonçalves, C.N.; et. all (2019) geobr: Loads Shapefiles of Official Spatial Data Sets of Brazil. GitHub repository - https://github.com/ipeaGIT/geobr.  \n",
        "\n"
      ]
    }
  ]
}