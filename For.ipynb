{
  "cells": [
    {
      "cell_type": "markdown",
      "metadata": {
        "id": "view-in-github",
        "colab_type": "text"
      },
      "source": [
        "<a href=\"https://colab.research.google.com/github/Joaogalescky/Ciencia-de-Dados---2024/blob/main/For.ipynb\" target=\"_parent\"><img src=\"https://colab.research.google.com/assets/colab-badge.svg\" alt=\"Open In Colab\"/></a>"
      ]
    },
    {
      "cell_type": "markdown",
      "metadata": {
        "id": "jgc3a0himuai"
      },
      "source": [
        "# For"
      ]
    },
    {
      "cell_type": "markdown",
      "metadata": {
        "id": "fhUknZQemuam"
      },
      "source": [
        "Outra maneira de apresentar este resultado é utilizando uma *estrutura de repetição*, como o `for`. Neste caso, basta informarmos a variável que queremos utilizar e os valores que queremos.\n",
        "\n",
        "**Exemplo**\n",
        "\n",
        "```python\n",
        "for var in 0,1,2,3,4,5:\n",
        "    print(var)\n",
        "```\n",
        "No exemplo, utilizamos a variável `var`, e em seguida informamos quais valores serão armazenados na variável ($0$,$1$,$2$,$3$,$4$ e $5$).\n",
        "\n",
        "**Atividade**\n",
        "\n",
        "- Execute o exemplo utilizando a estrutura de repetição `for`"
      ]
    },
    {
      "cell_type": "code",
      "execution_count": null,
      "metadata": {
        "id": "LgQf2bQcmuan",
        "colab": {
          "base_uri": "https://localhost:8080/"
        },
        "outputId": "af0241cb-7b40-46ec-fe07-5163038f879e"
      },
      "outputs": [
        {
          "output_type": "stream",
          "name": "stdout",
          "text": [
            "0\n",
            "1\n",
            "2\n",
            "3\n",
            "4\n",
            "5\n"
          ]
        }
      ],
      "source": [
        "for var in 0, 1, 2, 3, 4, 5:\n",
        "    print(var)"
      ]
    },
    {
      "cell_type": "markdown",
      "metadata": {
        "id": "sIWhxlCZmuan"
      },
      "source": [
        "**Sintaxe**\n",
        "\n",
        "```python\n",
        "for <variável> in <valores>:\n",
        "    <código>\n",
        "```\n",
        "onde:\n",
        "- <variável> corresponde a uma variável que terá seu valor alterado a cada execução, a **variável de controle**\n",
        "- <valores> são os valores que serão utilizados, e armazenados na variável de controle\n",
        "- <código> corresponde ao código que será executado para cada valor passado.\n",
        "    - Chamamos de **iteração** a cada vez que o código foi executado.\n",
        "    \n",
        "    \n",
        "**Observação**\n",
        "    \n",
        "- A indentação define qual será o bloco abrangido pelo `for`\n",
        "- ao final da primeira linha do `for` há dois pontos (`:`)"
      ]
    },
    {
      "cell_type": "markdown",
      "metadata": {
        "id": "klb_EU92muao"
      },
      "source": [
        "**Exercício**\n",
        "\n",
        "- Faça uma aplicação que apresente uma sequência de números de 5 a 9 utilizando `for`."
      ]
    },
    {
      "cell_type": "code",
      "execution_count": null,
      "metadata": {
        "id": "VKb363l5muao",
        "colab": {
          "base_uri": "https://localhost:8080/"
        },
        "outputId": "42cf1000-6c8f-4a11-e5c8-836472a1f350"
      },
      "outputs": [
        {
          "output_type": "stream",
          "name": "stdout",
          "text": [
            "5\n",
            "6\n",
            "7\n",
            "8\n",
            "9\n"
          ]
        }
      ],
      "source": [
        "for var in range(5, 10):\n",
        "    print(var)\n"
      ]
    },
    {
      "cell_type": "markdown",
      "metadata": {
        "id": "8x7qoxV9muap"
      },
      "source": [
        "**Exercício**\n",
        "\n",
        "- Utilizando `for`, faça uma aplicação que apresente uma sequência de números em ordem decrescente, de 7 a 3.\n",
        "- Faça uma aplicação utilizando `for` que apresente uma sequência com as palavras 'batata', 'abacaxi', 'pessego' e 'beterraba'."
      ]
    },
    {
      "cell_type": "code",
      "execution_count": null,
      "metadata": {
        "id": "_KAlSR2qmuap",
        "colab": {
          "base_uri": "https://localhost:8080/"
        },
        "outputId": "c3d26e53-2431-4ca2-9690-159b86c411e0"
      },
      "outputs": [
        {
          "output_type": "stream",
          "name": "stdout",
          "text": [
            "7\n",
            "6\n",
            "5\n",
            "4\n",
            "3\n"
          ]
        }
      ],
      "source": [
        "for i in range(7, 2, -1):\n",
        "  print(i)"
      ]
    },
    {
      "cell_type": "code",
      "execution_count": null,
      "metadata": {
        "id": "YThzoATCmuaq",
        "colab": {
          "base_uri": "https://localhost:8080/"
        },
        "outputId": "ba942813-d6be-40f0-8313-1f6c881c3c90"
      },
      "outputs": [
        {
          "output_type": "stream",
          "name": "stdout",
          "text": [
            "batata\n",
            "abacaxi\n",
            "pessego\n",
            "beterraba\n"
          ]
        }
      ],
      "source": [
        "for palavra in ['batata', 'abacaxi', 'pessego', 'beterraba']:\n",
        "    print(palavra)\n"
      ]
    },
    {
      "cell_type": "markdown",
      "metadata": {
        "id": "SbWqeV-Emuaq"
      },
      "source": [
        "## A função `range()`\n",
        "Até aqui todos os valores a serem utilizados nas iterações foram apresentados explicitamente, visto que sempre colocamos diretamente no código cada valor a ser assumido pela variável.\n",
        "\n",
        "Porém, podemos utilizar algumas funções do Python para gerar esses valores. Para gerar sequências de números, pode-se utilizar a função `range()`.\n",
        "\n",
        "**Exemplo**\n",
        "\n",
        "Para mostrar os números de 0 a 5:\n",
        "```python\n",
        "for i in range(6):\n",
        "    print(i)\n",
        "```\n",
        "\n",
        "Observe que o último valor gerado pelo `range()` é um número menor que a entrada dada à função. Ao omitirmos o valor inicial, $0$ é assumido.\n",
        "\n",
        "**Atividade**\n",
        "\n",
        "- Execute o exemplo acima"
      ]
    },
    {
      "cell_type": "code",
      "execution_count": null,
      "metadata": {
        "id": "NAMs4GLLmuaq",
        "colab": {
          "base_uri": "https://localhost:8080/"
        },
        "outputId": "8661e9d8-1577-4538-a40f-daba3fe2a288"
      },
      "outputs": [
        {
          "output_type": "stream",
          "name": "stdout",
          "text": [
            "0\n",
            "1\n",
            "2\n",
            "3\n",
            "4\n",
            "5\n"
          ]
        }
      ],
      "source": [
        "for i in range(6):\n",
        "    print(i)"
      ]
    },
    {
      "cell_type": "markdown",
      "metadata": {
        "id": "H9yLS8KGmuaq"
      },
      "source": [
        "**Exercício**\n",
        "\n",
        "- Peça ao usuário que digite um número, e mostre a sequência de valores de 0 até o número imediatamente inferior ao número que ele digitou\n",
        "- Peça ao usuário que digite um número, e mostre a sequência de valores de 0 até o número que ele digitou"
      ]
    },
    {
      "cell_type": "code",
      "execution_count": null,
      "metadata": {
        "id": "60WXmaMXmuar",
        "colab": {
          "base_uri": "https://localhost:8080/"
        },
        "outputId": "0036257e-2019-4118-bdc2-6a067f7399a4"
      },
      "outputs": [
        {
          "output_type": "stream",
          "name": "stdout",
          "text": [
            "Digite um número: 10\n",
            "0\n",
            "1\n",
            "2\n",
            "3\n",
            "4\n",
            "5\n",
            "6\n",
            "7\n",
            "8\n",
            "9\n"
          ]
        }
      ],
      "source": [
        "n = int(input(\"Digite um número: \"))\n",
        "for i in range(n):\n",
        "    print(i)"
      ]
    },
    {
      "cell_type": "code",
      "execution_count": null,
      "metadata": {
        "id": "PmWh2fg1muar",
        "colab": {
          "base_uri": "https://localhost:8080/"
        },
        "outputId": "a745cd49-1ef3-4fb0-cde6-7e61f7f3fa59"
      },
      "outputs": [
        {
          "output_type": "stream",
          "name": "stdout",
          "text": [
            "Digite um número: 10\n",
            "0\n",
            "1\n",
            "2\n",
            "3\n",
            "4\n",
            "5\n",
            "6\n",
            "7\n",
            "8\n",
            "9\n",
            "10\n"
          ]
        }
      ],
      "source": [
        "n = int(input('Digite um número: '))\n",
        "for i in range(n + 1):\n",
        "  print(i)"
      ]
    },
    {
      "cell_type": "markdown",
      "metadata": {
        "id": "FVWnTzrrmuar"
      },
      "source": [
        "**Exercícios**\n",
        "- [Beecrowd 1060 - Números Positivos ](https://www.beecrowd.com.br/judge/pt/problems/view/1060)  \n",
        "- [Beecrowd 1066 - Ímpares, Positivos e Negativos](https://www.beecrowd.com.br/judge/pt/problems/view/1066)  \n",
        "- [Beecrowd 2862 - Inseto!](https://www.beecrowd.com.br/judge/pt/problems/view/2862)\n",
        "- [Beecrowd 1133 - Resto da Divisão](https://www.beecrowd.com.br/judge/pt/problems/view/1133)"
      ]
    },
    {
      "cell_type": "code",
      "source": [
        "#beecrowd 1060 - Números positivos\n",
        "'''\n",
        "Faça um programa que leia 6 valores. Estes valores serão somente negativos ou positivos (desconsidere os valores nulos). A seguir, mostre a quantidade de valores positivos digitados.\n",
        "\n",
        "Entrada\n",
        "Seis valores, negativos e/ou positivos.\n",
        "\n",
        "Saída\n",
        "Imprima uma mensagem dizendo quantos valores positivos foram lidos.\n",
        "'''\n",
        "\n",
        "q = 6\n",
        "t = q\n",
        "aux = 0\n",
        "\n",
        "for i in range(q):\n",
        "  n = int(input(f'Digite {t} valores: '))\n",
        "  if n > 0:\n",
        "    aux += 1;\n",
        "    t -= 1;\n",
        "print(f'Foram lidos {aux} valor(es) positivo(s)')"
      ],
      "metadata": {
        "colab": {
          "base_uri": "https://localhost:8080/"
        },
        "id": "9Xx766453RQe",
        "outputId": "a4f1a65e-e56e-4876-a253-a741b31c43e3"
      },
      "execution_count": null,
      "outputs": [
        {
          "output_type": "stream",
          "name": "stdout",
          "text": [
            "Digite 6 valores: 5\n",
            "Digite 5 valores: 4\n",
            "Digite 4 valores: 6\n",
            "Digite 3 valores: 7\n",
            "Digite 2 valores: 8\n",
            "Digite 1 valores: -1\n",
            "Foram lidos 5 valor(es) positivo(s)\n"
          ]
        }
      ]
    },
    {
      "cell_type": "code",
      "source": [
        "#beecrowd 1066 - Ímpares, Positivos e Negativos\n",
        "'''\n",
        "Leia 5 valores Inteiros. A seguir mostre quantos valores digitados foram pares, quantos valores digitados foram ímpares, quantos valores digitados foram positivos e quantos valores digitados foram negativos.\n",
        "\n",
        "Entrada\n",
        "O arquivo de entrada contém 5 valores inteiros quaisquer.\n",
        "\n",
        "Saída\n",
        "Imprima a mensagem conforme o exemplo fornecido, uma mensagem por linha, não esquecendo o final de linha após cada uma.\n",
        "'''\n",
        "\n",
        "q = 5\n",
        "t = q\n",
        "par = 0\n",
        "impar = 0\n",
        "\n",
        "for i in range(q):\n",
        "  n = int(input(f'Digite {t} valores: '))\n",
        "  if n % 2 == 0:\n",
        "    par += 1;\n",
        "  else:\n",
        "    impar += 1;\n",
        "  t -= 1;\n",
        "print(f'Foram lidos {par} valor(es) pare(s)\\nForam lidos {impar} valor(es) impare(s)')\n"
      ],
      "metadata": {
        "id": "89SgX_TA4seu",
        "colab": {
          "base_uri": "https://localhost:8080/"
        },
        "outputId": "029869dd-0d75-474b-ff76-cbc231c972c9"
      },
      "execution_count": null,
      "outputs": [
        {
          "output_type": "stream",
          "name": "stdout",
          "text": [
            "Digite 5 valores: 5\n",
            "Digite 4 valores: 2\n",
            "Digite 3 valores: 8\n",
            "Digite 2 valores: 6\n",
            "Digite 1 valores: 7\n",
            "Foram lidos 3 valor(es) pare(s)\n",
            "Foram lidos 2 valor(es) impare(s)\n"
          ]
        }
      ]
    },
    {
      "cell_type": "code",
      "source": [
        "#beecrowd 2862 - Inseto\n",
        "'''\n",
        "Escreva um programa que leia 2 valores X e Y e que imprima todos os valores entre eles cujo resto da divisão dele por 5 for igual a 2 ou igual a 3.\n",
        "\n",
        "Entrada\n",
        "O arquivo de entrada contém 2 valores positivos inteiros quaisquer, não necessariamente em ordem crescente.\n",
        "\n",
        "Saída\n",
        "Imprima todos os valores conforme exemplo abaixo, sempre em ordem crescente.\n",
        "'''\n",
        "\n",
        "q = 2\n",
        "\n",
        "print('Digite o valor do intervalo de X para Y: ')\n",
        "x = int(input())\n",
        "y = int(input())\n",
        "print('----------------------------------------')\n",
        "\n",
        "if x < y:\n",
        "  x, y = x, y\n",
        "  for i in range(x, y, 1):\n",
        "    if i % 5 == 2 or i % 5 == 3:\n",
        "      print(i)\n"
      ],
      "metadata": {
        "id": "pXUCSviz4qQG",
        "colab": {
          "base_uri": "https://localhost:8080/"
        },
        "outputId": "b93f6dc8-7aeb-4159-ba10-b7135861384f"
      },
      "execution_count": null,
      "outputs": [
        {
          "output_type": "stream",
          "name": "stdout",
          "text": [
            "Digite o valor do intervalo de X para Y: \n",
            "2\n",
            "43\n",
            "----------------------------------------\n",
            "2\n",
            "3\n",
            "7\n",
            "8\n",
            "12\n",
            "13\n",
            "17\n",
            "18\n",
            "22\n",
            "23\n",
            "27\n",
            "28\n",
            "32\n",
            "33\n",
            "37\n",
            "38\n",
            "42\n"
          ]
        }
      ]
    },
    {
      "cell_type": "code",
      "source": [
        "#beecrowd 1133 - Resto da Divisão\n",
        "'''\n",
        "Devita é o príncipe dos Calsadins. Juntamente com Pana, eles vão atrás de Tataroko, o nome de nascimento de Kogu, para tentar dominar o mundo. Ele possui um rastreador que mede o nível de energia de qualquer ser vivo. Todos os seres com o nível menor ou igual a 8000, ele considera como se fosse um inseto. Quando passa deste valor, que foi o caso de Kogu, ele se espanta e grita “Mais de 8000”. Baseado nisso, utilize a mesma tecnologia e analise o nível de energia dos seres vivos.\n",
        "\n",
        "Entrada\n",
        "A entrada é composta por vários casos de teste. A primeira linha contém um número inteiro C relativo ao número de casos de teste. Em seguida, haverá C linhas, com um número inteiro N (100 <= N <= 100000) relativo ao nível de energia de um ser vivo.\n",
        "\n",
        "Saída\n",
        "Para cada valor lido, imprima o texto correspondente.\n",
        "'''\n",
        "\n",
        "c = int(input('Digite a quantidade de casos de teste: '))\n",
        "for i in range(c):\n",
        "  n = int(input('Digite o nível de energia do ser vivo: '))\n",
        "  if n <= 8000:\n",
        "    print('Inseto!')\n",
        "  else:\n",
        "    print('Mais de 8000!')"
      ],
      "metadata": {
        "id": "iIDYHCNI4qE-",
        "colab": {
          "base_uri": "https://localhost:8080/"
        },
        "outputId": "d3600ff7-c942-49e5-c2de-8df0c88aaf35"
      },
      "execution_count": null,
      "outputs": [
        {
          "output_type": "stream",
          "name": "stdout",
          "text": [
            "Digite a quantidade de casos de teste: 2\n",
            "Digite o nível de energia do ser vivo: 7999\n",
            "Inseto!\n",
            "Digite o nível de energia do ser vivo: 8001\n",
            "Mais de 8000!\n"
          ]
        }
      ]
    },
    {
      "cell_type": "markdown",
      "metadata": {
        "id": "x5FwuFxHmuar"
      },
      "source": [
        "A função `range()` também pode ser utilizada de outras maneiras, passando diferentes valores como entrada para a função.  \n",
        "\n",
        "**Exemplo**\n",
        "\n",
        "Especificando os valores inicial e final da sequência, como números de 5 a 8.\n",
        "```python\n",
        "for i in range(5,9):\n",
        "    print(i)\n",
        "```\n",
        "\n",
        "**Atividade**\n",
        "\n",
        "- Execute o exemplo acima"
      ]
    },
    {
      "cell_type": "code",
      "execution_count": null,
      "metadata": {
        "id": "MbHulo-Jmuas",
        "colab": {
          "base_uri": "https://localhost:8080/"
        },
        "outputId": "b99ee15d-1cbb-4636-bd99-7d876b741595"
      },
      "outputs": [
        {
          "output_type": "stream",
          "name": "stdout",
          "text": [
            "5\n",
            "6\n",
            "7\n",
            "8\n"
          ]
        }
      ],
      "source": [
        "for i in range(5,9):\n",
        "    print(i)"
      ]
    },
    {
      "cell_type": "markdown",
      "metadata": {
        "id": "mJQzuCdxmuas"
      },
      "source": [
        "**Exemplo**\n",
        "\n",
        "Especificando o incremento, como números de 5 a 29, incrementando de 3 em 3.\n",
        "```python\n",
        "for i in range(5,30,3):\n",
        "    print(i)\n",
        "```\n",
        "\n",
        "**Atividade**\n",
        "\n",
        "- Execute o exemplo acima"
      ]
    },
    {
      "cell_type": "code",
      "execution_count": null,
      "metadata": {
        "id": "haAz-HGzmuas",
        "colab": {
          "base_uri": "https://localhost:8080/"
        },
        "outputId": "43cbc9c1-c45b-4941-9ab1-1b09006f7187"
      },
      "outputs": [
        {
          "output_type": "stream",
          "name": "stdout",
          "text": [
            "5\n",
            "8\n",
            "11\n",
            "14\n",
            "17\n",
            "20\n",
            "23\n",
            "26\n",
            "29\n"
          ]
        }
      ],
      "source": [
        "for i in range(5,30,3):\n",
        "    print(i)"
      ]
    },
    {
      "cell_type": "markdown",
      "metadata": {
        "id": "ZiE0zYC1muas"
      },
      "source": [
        "**Exemplo**\n",
        "\n",
        "Sequência com incremento negativo (decremento), como números de 15 a 9.\n",
        "```python\n",
        "for i in range(15,8,-1):\n",
        "    print(i)\n",
        "```\n",
        "\n",
        "**Atividade**\n",
        "\n",
        "- Execute o exemplo acima"
      ]
    },
    {
      "cell_type": "code",
      "execution_count": null,
      "metadata": {
        "id": "0JHc4B-amuas",
        "outputId": "7cf054ce-1752-4686-f86a-0e6b13acdf70",
        "colab": {
          "base_uri": "https://localhost:8080/"
        }
      },
      "outputs": [
        {
          "output_type": "stream",
          "name": "stdout",
          "text": [
            "15\n",
            "14\n",
            "13\n",
            "12\n",
            "11\n",
            "10\n",
            "9\n"
          ]
        }
      ],
      "source": [
        "for i in range(15,8,-1):\n",
        "    print(i)"
      ]
    },
    {
      "cell_type": "markdown",
      "metadata": {
        "id": "OHuZKNEemuas"
      },
      "source": [
        "**Exercícios**    \n",
        "- [Beecrowd 1067 - Números Ímpares ](https://www.beecrowd.com.br/judge/pt/problems/view/1067)\n",
        "- [Beecrowd 1073 - Quadrado de Pares](https://www.beecrowd.com.br/judge/pt/problems/view/1073)"
      ]
    },
    {
      "cell_type": "code",
      "source": [
        "#beecrowd 1067 - Números Ímpares\n",
        "'''\n",
        "Leia um valor inteiro X (1 <= X <= 1000). Em seguida mostre os ímpares de 1 até X, um valor por linha, inclusive o X, se for o caso.\n",
        "\n",
        "Entrada\n",
        "O arquivo de entrada contém 1 valor inteiro qualquer.\n",
        "\n",
        "Saída\n",
        "Imprima todos os valores ímpares de 1 até X, inclusive X, se for o caso.\n",
        "'''\n",
        "\n",
        "x = int(input('Digite um valor inteiro X (1 <= X <= 1000): '))\n",
        "for i in range(1, x + 1, 2):\n",
        "  print(i)"
      ],
      "metadata": {
        "colab": {
          "base_uri": "https://localhost:8080/"
        },
        "id": "8v-pgjoCxHkp",
        "outputId": "f18e4923-523e-45cb-813e-3cfd9bf199d5"
      },
      "execution_count": null,
      "outputs": [
        {
          "output_type": "stream",
          "name": "stdout",
          "text": [
            "Digite um valor inteiro X (1 <= X <= 1000): 23\n",
            "1\n",
            "3\n",
            "5\n",
            "7\n",
            "9\n",
            "11\n",
            "13\n",
            "15\n",
            "17\n",
            "19\n",
            "21\n",
            "23\n"
          ]
        }
      ]
    },
    {
      "cell_type": "code",
      "source": [
        "#beecrowd 1073 - Quadrado de Pares\n",
        "'''\n",
        "Leia um valor inteiro N. Apresente o quadrado de cada um dos valores pares, de 1 até N, inclusive N, se for o caso.\n",
        "\n",
        "Entrada\n",
        "A entrada contém um valor inteiro N (5 < N < 2000).\n",
        "\n",
        "Saída\n",
        "Imprima o quadrado de cada um dos valores pares, de 1 até N, conforme o exemplo abaixo.\n",
        "\n",
        "Tome cuidado! Algumas linguagens tem por padrão apresentarem como saída 1e+006 ao invés de 1000000 o que ocasionará resposta errada. Neste caso, configure a precisão adequadamente para que isso não ocorra.\n",
        "'''\n",
        "\n",
        "n = int(input('Digite um valor inteiro N (5 < N < 2000): '))\n",
        "for i in range(2, n + 1, 2):\n",
        "  print(i ** 2)"
      ],
      "metadata": {
        "colab": {
          "base_uri": "https://localhost:8080/"
        },
        "id": "HTwj_e_J12Ah",
        "outputId": "80fb91ff-5cce-4ca8-9205-c1516cde56fe"
      },
      "execution_count": null,
      "outputs": [
        {
          "output_type": "stream",
          "name": "stdout",
          "text": [
            "Digite um valor inteiro N (5 < N < 2000): 8\n",
            "4\n",
            "16\n",
            "36\n",
            "64\n"
          ]
        }
      ]
    },
    {
      "cell_type": "markdown",
      "metadata": {
        "id": "EpOdr5N9muas"
      },
      "source": [
        "## Estratégias"
      ]
    },
    {
      "cell_type": "markdown",
      "metadata": {
        "id": "fU7Rz9xCmuas"
      },
      "source": [
        "### Acumuladores\n",
        "Um **acumulador** é uma variável que *acumula* um valor, sendo utilizada em várias iterações.\n",
        "\n",
        "**Exemplo**\n",
        "\n",
        "Soma de uma sequência de números:\n",
        "```python\n",
        "S=0\n",
        "for i in range(5,10+1):\n",
        "    S=S+i\n",
        "print('Soma:', S)\n",
        "```\n",
        "\n",
        "**Atividade**\n",
        "\n",
        "- Execute o exemplo acima"
      ]
    },
    {
      "cell_type": "code",
      "execution_count": null,
      "metadata": {
        "id": "QcUbIYy4muat",
        "colab": {
          "base_uri": "https://localhost:8080/"
        },
        "outputId": "4fbcfbee-81a2-40bc-bc40-ce1922c05cdf"
      },
      "outputs": [
        {
          "output_type": "stream",
          "name": "stdout",
          "text": [
            "Soma: 45\n"
          ]
        }
      ],
      "source": [
        "S = 0\n",
        "for i in range(5, 10 + 1):\n",
        "    S = S + i\n",
        "print('Soma:', S)"
      ]
    },
    {
      "cell_type": "markdown",
      "metadata": {
        "id": "SrzCbkwvmuat"
      },
      "source": [
        "### Estruturas aninhadas\n",
        "É possível utilizar `for` ou `if` dentro de um `for` (e vice-versa).\n",
        "\n",
        "**Exemplo**\n",
        "\n",
        "- Faça um programa que gere a seguinte saída na tela:\n",
        "```python\n",
        "1\n",
        "12\n",
        "123\n",
        "1234\n",
        "12345\n",
        "```\n",
        "```python\n",
        "nlinhas=5\n",
        "for linha in range(1,nlinhas+1):\n",
        "    for col in range(1,linha+1):\n",
        "        print(col,end='')\n",
        "    print('')\n",
        "```\n",
        "\n",
        "**Atividade**\n",
        "\n",
        "- Execute o exemplo acima, e explique o ocorrido"
      ]
    },
    {
      "cell_type": "code",
      "execution_count": null,
      "metadata": {
        "id": "MtcyxjoAmuat",
        "colab": {
          "base_uri": "https://localhost:8080/"
        },
        "outputId": "a5b22a6c-0f8d-488d-ac42-8e17f870355f"
      },
      "outputs": [
        {
          "output_type": "stream",
          "name": "stdout",
          "text": [
            "1 \n",
            "1 2 \n",
            "1 2 3 \n",
            "1 2 3 4 \n",
            "1 2 3 4 5 \n",
            "1 2 3 4 5 6 \n",
            "1 2 3 4 5 6 7 \n",
            "1 2 3 4 5 6 7 8 \n",
            "1 2 3 4 5 6 7 8 9 \n",
            "1 2 3 4 5 6 7 8 9 10 \n"
          ]
        }
      ],
      "source": [
        "nLinhas = 10\n",
        "for linha in range(1, nLinhas + 1):\n",
        "  for col in range(1, linha + 1):\n",
        "    print(col, end = ' ')\n",
        "  print('')"
      ]
    },
    {
      "cell_type": "markdown",
      "metadata": {
        "id": "D4jxAgBwmuat"
      },
      "source": [
        "**Exemplo**\n",
        "\n",
        "Procure dois valores que quando multiplicados resultam em um valor especificado.\n",
        "```python\n",
        "val = 56\n",
        "for i in range(11):\n",
        "    for j in range(11):\n",
        "        mult = i*j\n",
        "        if mult == val:\n",
        "            print(i,'*',j,'=',mult)\n",
        "```\n",
        "\n",
        "**Atividade**\n",
        "\n",
        "- Execute o exemplo."
      ]
    },
    {
      "cell_type": "code",
      "execution_count": null,
      "metadata": {
        "id": "6caS6L5_muat",
        "colab": {
          "base_uri": "https://localhost:8080/"
        },
        "outputId": "1e811aeb-175a-4d3c-90a4-f22c89e54a15"
      },
      "outputs": [
        {
          "output_type": "stream",
          "name": "stdout",
          "text": [
            "7 * 8 = 56\n",
            "8 * 7 = 56\n"
          ]
        }
      ],
      "source": [
        "val = 56\n",
        "for i in range(11):\n",
        "    for j in range(11):\n",
        "        mult = i * j\n",
        "        if mult == val:\n",
        "            print(i,'*',j,'=',mult)"
      ]
    },
    {
      "cell_type": "markdown",
      "metadata": {
        "id": "HK6oaqhPmuat"
      },
      "source": [
        "Neste caso, é necessário atenção ao nível em que cada estrutura está. Observe as diferenças:\n",
        "```python\n",
        "val = 56\n",
        "for i in range(11):\n",
        "    for j in range(11):\n",
        "        mult = i*j\n",
        "    if mult == val:\n",
        "        print(i,'*',j,'=',mult)\n",
        "```\n",
        "```python\n",
        "val = 56\n",
        "for i in range(11):\n",
        "    for j in range(11):\n",
        "        mult = i*j\n",
        "if mult == val:\n",
        "    print(i,'*',j,'=',mult)\n",
        "```\n",
        "\n",
        "**Atividade**\n",
        "\n",
        "- Execute os exemplos, e mostre a diferença destes com o exemplo anterior\n",
        "- Qual dos códigos apresenta o resultado correto?\n",
        "- O que há de errado?"
      ]
    },
    {
      "cell_type": "code",
      "execution_count": null,
      "metadata": {
        "id": "EG0bKyCBmuat"
      },
      "outputs": [],
      "source": [
        "val = 56\n",
        "for i in range(11):\n",
        "    for j in range(11):\n",
        "        mult = i*j\n",
        "    if mult == val: #identacao incorreta, pula o calculo da multiplicacao\n",
        "        print(i,'*',j,'=',mult)"
      ]
    },
    {
      "cell_type": "code",
      "execution_count": null,
      "metadata": {
        "id": "hmqCy5Zdmuat"
      },
      "outputs": [],
      "source": [
        "val = 56\n",
        "for i in range(11):\n",
        "    for j in range(11):\n",
        "        mult = i*j\n",
        "if mult == val: #identacao incorreta, pula direto para o 'if', sem checar o restante do codigo\n",
        "    print(i,'*',j,'=',mult)"
      ]
    },
    {
      "cell_type": "markdown",
      "metadata": {
        "id": "32aqtD3jmuat"
      },
      "source": [
        "## Erros comuns"
      ]
    },
    {
      "cell_type": "markdown",
      "metadata": {
        "id": "LOh2ORCumuat"
      },
      "source": [
        "Alguns erros comuns ao utilizar a estrutura de repetição `for` estão descritos a seguir.\n",
        "### Indentação incorreta\n",
        "```python\n",
        "for j in range(0,10):\n",
        "print(j)\n",
        "```\n",
        "\n",
        "**Atividade**\n",
        "\n",
        "- Execute o exemplo e observe a saída"
      ]
    },
    {
      "cell_type": "code",
      "execution_count": null,
      "metadata": {
        "id": "I2RuyZyumuat",
        "colab": {
          "base_uri": "https://localhost:8080/",
          "height": 106
        },
        "outputId": "381426b8-8be6-4ce2-cca2-0238abf9d39f"
      },
      "outputs": [
        {
          "output_type": "error",
          "ename": "IndentationError",
          "evalue": "expected an indented block after 'for' statement on line 1 (<ipython-input-37-17d11dbad316>, line 2)",
          "traceback": [
            "\u001b[0;36m  File \u001b[0;32m\"<ipython-input-37-17d11dbad316>\"\u001b[0;36m, line \u001b[0;32m2\u001b[0m\n\u001b[0;31m    print(j)\u001b[0m\n\u001b[0m    ^\u001b[0m\n\u001b[0;31mIndentationError\u001b[0m\u001b[0;31m:\u001b[0m expected an indented block after 'for' statement on line 1\n"
          ]
        }
      ],
      "source": [
        "for j in range(0,10):\n",
        "print(j)"
      ]
    },
    {
      "cell_type": "markdown",
      "metadata": {
        "id": "zJnToFdzmuat"
      },
      "source": [
        "### Sintaxe incorreta\n",
        "```python\n",
        "for k in range(5,10,2)\n",
        "    print(k)\n",
        "```\n",
        "\n",
        "**Atividade**\n",
        "\n",
        "- Execute o exemplo e observe a saída"
      ]
    },
    {
      "cell_type": "code",
      "execution_count": null,
      "metadata": {
        "id": "_SReR_Gzmuat",
        "colab": {
          "base_uri": "https://localhost:8080/",
          "height": 106
        },
        "outputId": "d9954cd2-7416-4fd2-f27f-3fe3a4c2273b"
      },
      "outputs": [
        {
          "output_type": "error",
          "ename": "SyntaxError",
          "evalue": "expected ':' (<ipython-input-38-999ac1ac28c3>, line 1)",
          "traceback": [
            "\u001b[0;36m  File \u001b[0;32m\"<ipython-input-38-999ac1ac28c3>\"\u001b[0;36m, line \u001b[0;32m1\u001b[0m\n\u001b[0;31m    for k in range(5,10,2)\u001b[0m\n\u001b[0m                          ^\u001b[0m\n\u001b[0;31mSyntaxError\u001b[0m\u001b[0;31m:\u001b[0m expected ':'\n"
          ]
        }
      ],
      "source": [
        "for k in range(5,10,2)\n",
        "    print(k)"
      ]
    },
    {
      "cell_type": "markdown",
      "metadata": {
        "id": "lnmFlWXPmua7"
      },
      "source": [
        "### Valores incorretos\n",
        "```python\n",
        "for k in range(10,5,2)\n",
        "    print(k)\n",
        "```\n",
        "\n",
        "**Atividade**\n",
        "\n",
        "- Execute o exemplo e observe a saída"
      ]
    },
    {
      "cell_type": "code",
      "execution_count": null,
      "metadata": {
        "id": "Ci_PBJ-xmua7"
      },
      "outputs": [],
      "source": [
        "for k in range(10,5,2):\n",
        "    print(k)"
      ]
    },
    {
      "cell_type": "markdown",
      "metadata": {
        "id": "JjCzxFIQmua7"
      },
      "source": [
        "### Uso incorreto da variável de controle\n",
        "```python\n",
        "for j in range(0,10):\n",
        "    print(k)\n",
        "```\n",
        "\n",
        "**Atividade**\n",
        "\n",
        "- Execute o exemplo e observe a saída"
      ]
    },
    {
      "cell_type": "code",
      "execution_count": null,
      "metadata": {
        "id": "foQX8NzImua8",
        "colab": {
          "base_uri": "https://localhost:8080/",
          "height": 159
        },
        "outputId": "6c80e4ae-da50-4ef3-e90e-c5327e569c56"
      },
      "outputs": [
        {
          "output_type": "error",
          "ename": "NameError",
          "evalue": "name 'k' is not defined",
          "traceback": [
            "\u001b[0;31m---------------------------------------------------------------------------\u001b[0m",
            "\u001b[0;31mNameError\u001b[0m                                 Traceback (most recent call last)",
            "\u001b[0;32m<ipython-input-41-322780b26a37>\u001b[0m in \u001b[0;36m<cell line: 1>\u001b[0;34m()\u001b[0m\n\u001b[1;32m      1\u001b[0m \u001b[0;32mfor\u001b[0m \u001b[0mj\u001b[0m \u001b[0;32min\u001b[0m \u001b[0mrange\u001b[0m\u001b[0;34m(\u001b[0m\u001b[0;36m0\u001b[0m\u001b[0;34m,\u001b[0m\u001b[0;36m10\u001b[0m\u001b[0;34m)\u001b[0m\u001b[0;34m:\u001b[0m\u001b[0;34m\u001b[0m\u001b[0;34m\u001b[0m\u001b[0m\n\u001b[0;32m----> 2\u001b[0;31m     \u001b[0mprint\u001b[0m\u001b[0;34m(\u001b[0m\u001b[0mk\u001b[0m\u001b[0;34m)\u001b[0m\u001b[0;34m\u001b[0m\u001b[0;34m\u001b[0m\u001b[0m\n\u001b[0m",
            "\u001b[0;31mNameError\u001b[0m: name 'k' is not defined"
          ]
        }
      ],
      "source": [
        "for j in range(0,10):\n",
        "    print(k)"
      ]
    },
    {
      "cell_type": "markdown",
      "metadata": {
        "id": "VUcH3DNhmua8"
      },
      "source": [
        "**Exercícios**"
      ]
    },
    {
      "cell_type": "markdown",
      "metadata": {
        "id": "C2aIAY1rmua8"
      },
      "source": [
        "Resolva os exercícios a seguir, utilizando `for`.\n",
        "1. Peça ao usuário que digite dois números A e B, de forma que A < B. Mostre a sequência de valores de A até B.\n",
        "1. Peça ao usuário que digite dois números: A e B. Mostre a sequência de valores, do menor número até o maior.\n",
        "1. Peça ao usuário que digite dois números: A e B. Mostre a sequência inversa de valores, do maior até o menor número.\n",
        "1. Peça ao usuário que digite um número par. Mostre na tela os 10 números pares seguintes.\n",
        "1. Peça ao usuário que digite um número. Mostre na tela os 10 números pares seguintes.\n",
        "1. Calcule e mostre na tela a soma dos números de 1 a 10.\n",
        "1. Calcule e mostre na tela a soma dos números de 1 a 100.\n",
        "1. Solicite ao usuário que digite dois números A e B. Calcule e mostre a soma de todos os números no intervalo de A a B.\n",
        "1. Não execute o código abaixo. Apenas observe-o e informe qual será a saída dele.\n",
        "```python\n",
        "for j in range(8):\n",
        "print(j)\n",
        "```\n",
        "1. Não execute o código abaixo. Apenas observe-o e informe qual será a saída dele.\n",
        "```python\n",
        "for j in range(5,10,-1):\n",
        "        print(j)\n",
        "```"
      ]
    },
    {
      "cell_type": "code",
      "source": [
        "#1\n",
        "a = int(input(\"Digite o valor de A: \"))\n",
        "b = int(input(\"Digite o valor de B: \"))\n",
        "\n",
        "if a > b:\n",
        "  print(\"A deve ser menor que B.\")\n",
        "else:\n",
        "  for i in range(a, b + 1):\n",
        "    print(i)\n"
      ],
      "metadata": {
        "id": "Neoamok9CnmM"
      },
      "execution_count": null,
      "outputs": []
    },
    {
      "cell_type": "code",
      "source": [
        "#2\n",
        "a = int(input(\"Digite o valor de A: \"))\n",
        "b = int(input(\"Digite o valor de B: \"))\n",
        "\n",
        "if a > b:\n",
        "  a, b = b, a\n",
        "\n",
        "for i in range(a, b + 1):\n",
        "  print(i)\n"
      ],
      "metadata": {
        "id": "uHErPMLjCndU"
      },
      "execution_count": null,
      "outputs": []
    },
    {
      "cell_type": "code",
      "source": [
        "#3\n",
        "a = int(input(\"Digite o valor de A: \"))\n",
        "b = int(input(\"Digite o valor de B: \"))\n",
        "\n",
        "if a < b:\n",
        "  a, b = b, a\n",
        "\n",
        "for i in range(b, a - 1, -1):\n",
        "  print(i)\n"
      ],
      "metadata": {
        "id": "zA7p2KOHCnWM"
      },
      "execution_count": null,
      "outputs": []
    },
    {
      "cell_type": "code",
      "source": [
        "#4\n",
        "n = int(input(\"Digite um número par: \"))\n",
        "while n % 2 != 0:\n",
        "    n = int(input(\"Digite um número par: \"))\n",
        "for i in range(n + 2, n + 22, 2):\n",
        "    print(i)\n"
      ],
      "metadata": {
        "id": "GCNpU9LUCnNU"
      },
      "execution_count": null,
      "outputs": []
    },
    {
      "cell_type": "code",
      "source": [
        "#5\n",
        "n = int(input(\"Digite um número: \"))\n",
        "while n % 2 != 0:\n",
        "    n = int(input(\"Digite um número par: \"))\n",
        "for i in range(n + 2, n + 22, 2):\n",
        "    print(i)\n"
      ],
      "metadata": {
        "id": "_weahOLICnKc"
      },
      "execution_count": null,
      "outputs": []
    },
    {
      "cell_type": "code",
      "source": [
        "#6\n",
        "soma = 0\n",
        "for i in range(1, 11):\n",
        "    soma += i\n",
        "print(soma)\n"
      ],
      "metadata": {
        "id": "uiMdfu4vCnHE"
      },
      "execution_count": null,
      "outputs": []
    },
    {
      "cell_type": "code",
      "source": [
        "#7\n",
        "soma = 0\n",
        "for i in range(1, 101):\n",
        "    soma += i\n",
        "print(soma)\n"
      ],
      "metadata": {
        "id": "Ezx5fRzTCnA8"
      },
      "execution_count": null,
      "outputs": []
    },
    {
      "cell_type": "code",
      "source": [
        "#8\n",
        "a = int(input(\"Digite o valor de A: \"))\n",
        "b = int(input(\"Digite o valor de B: \"))\n",
        "\n",
        "soma = 0\n",
        "for i in range(a, b + 1):\n",
        "    soma += i\n",
        "\n",
        "print(\"A soma dos números de\", a, \"a\", b, \"é\", soma)\n"
      ],
      "metadata": {
        "id": "7pBpUnmFCm48"
      },
      "execution_count": null,
      "outputs": []
    },
    {
      "cell_type": "code",
      "execution_count": null,
      "metadata": {
        "id": "x8Zhsx24mua8"
      },
      "outputs": [],
      "source": [
        "#9\n",
        "#Saida real = nenhum, erro de identacao do 'print(j)'"
      ]
    },
    {
      "cell_type": "code",
      "source": [
        "#10\n",
        "#Saida = nenhuma, pois esta decrementando incorretamente, comecando por 5 e indo para 10"
      ],
      "metadata": {
        "id": "aA8H4rDpCKV8"
      },
      "execution_count": null,
      "outputs": []
    },
    {
      "cell_type": "markdown",
      "metadata": {
        "id": "nmAs9mm1mua8"
      },
      "source": [
        "## Referências\n",
        "\n",
        "[FORBELLONE, A. L. V.; EBERSPÄCHER, H. F. Lógica de programação a construção de algoritmos e estruturas de dados. 3. ed. -. São Paulo: Prentice Hall, 2005. ISBN 9788576050247.](https://plataforma.bvirtual.com.br/Leitor/Publicacao/323/pdf/11?code=DUT9ceW6cevP76Zo+EZuhLshlFiipf6bm1qH+Er9IE2FR2aabpwRBUFHWBQY+ppEDI1u1phvX3Bo9xII7UTG/g==)  \n",
        "\n",
        "[ASCENCIO, A. F. G.; CAMPOS, E. A. V. Fundamentos da programação de computadores algoritmos, Pascal e C/C++. São Paulo: Prentice Hall, 2002. ISBN 9788587918369.](https://plataforma.bvirtual.com.br/Leitor/Publicacao/474/pdf/17?code=5aKNgQDVA1oGkIID/Mxq/5biXE3mV+4408hOmSg69vmeXo0W9VHrtyzrwyezUND1EQo7jhOxxg2X7UCNFBYZHg==)  \n",
        "\n",
        "MATTHES, E. Curso intensivo de Python: uma introdução à prática e baseada em projetos à programação. São Paulo: Novatec, 2015.  \n",
        "\n",
        "MENEZES, N. N. C. Introdução à programação com Python: algoritmos e lógica de programação para iniciantes. 3.ed. São Paulo: Novatec, 2019.  \n",
        "\n",
        "\n",
        "\n",
        "### Outros materiais\n",
        "\n",
        "[Python. ForLoop - Python Wiki.](https://wiki.python.org/moin/ForLoop)  \n"
      ]
    },
    {
      "cell_type": "markdown",
      "metadata": {
        "id": "XDo7XsQtmua8"
      },
      "source": []
    }
  ],
  "metadata": {
    "kernelspec": {
      "display_name": "Python 3 (ipykernel)",
      "language": "python",
      "name": "python3"
    },
    "language_info": {
      "codemirror_mode": {
        "name": "ipython",
        "version": 3
      },
      "file_extension": ".py",
      "mimetype": "text/x-python",
      "name": "python",
      "nbconvert_exporter": "python",
      "pygments_lexer": "ipython3",
      "version": "3.9.15"
    },
    "colab": {
      "provenance": [],
      "include_colab_link": true
    }
  },
  "nbformat": 4,
  "nbformat_minor": 0
}