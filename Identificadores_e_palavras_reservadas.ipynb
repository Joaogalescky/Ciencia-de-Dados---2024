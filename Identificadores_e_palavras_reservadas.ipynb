{
  "cells": [
    {
      "cell_type": "markdown",
      "metadata": {
        "id": "view-in-github",
        "colab_type": "text"
      },
      "source": [
        "<a href=\"https://colab.research.google.com/github/Joaogalescky/Ciencia-de-Dados---2024/blob/main/Identificadores_e_palavras_reservadas.ipynb\" target=\"_parent\"><img src=\"https://colab.research.google.com/assets/colab-badge.svg\" alt=\"Open In Colab\"/></a>"
      ]
    },
    {
      "cell_type": "markdown",
      "metadata": {
        "id": "cpTrfALI7v4B"
      },
      "source": [
        "# Identificadores e palavras reservadas"
      ]
    },
    {
      "cell_type": "markdown",
      "metadata": {
        "id": "f6lSNpYZ7v4E"
      },
      "source": [
        "## Variáveis\n",
        "Não é necessário que as variáveis sejam declaradas, porém estas devem ser iniciadas antes sua utilização. Os nomes de variáveis devem:\n",
        "- começar com uma letra\n",
        "- são *case sensitive*\n",
        "- não têm valores fixos\n",
        "- podem receber qualquer tipo de dado"
      ]
    },
    {
      "cell_type": "markdown",
      "metadata": {
        "id": "XQQXtHJp7v4E"
      },
      "source": [
        "## Palavras reservadas"
      ]
    },
    {
      "cell_type": "markdown",
      "metadata": {
        "id": "0J2Tijya7v4F"
      },
      "source": [
        "Algumas palavras não podem ser utilizadas como nomes de variável, visto que a linguagem já as utiliza para outras finalidades. São elas:\n",
        "\n",
        "|Palavra reservada|Função|\n",
        "|-----------|--------|\n",
        "|`and` \t    |e lógico|\n",
        "|`assert` \t|forçar um tipo para a variável|\n",
        "|`break` \t|parar|\n",
        "|`class` \t|definição da classe|\n",
        "|`continue` |continuar|\n",
        "|`def` \t    |definição de função|\n",
        "|`del` \t    |deleção de objeto|\n",
        "|`elif` \t|não-se|\n",
        "|`else` \t|senão|\n",
        "|`except` \t|exceção|\n",
        "|`exec` \t|executar função|\n",
        "|`finally`  |finalizar função|\n",
        "|`for`      |definição de laço para|\n",
        "|`from`     |importar uma variável dentro de um módulo|\n",
        "|`global` \t|definição de variável global|\n",
        "|`if` \t    |definição de laço se|\n",
        "|`import` \t|importação de módulos externos|\n",
        "|`in` \t    |em|\n",
        "|`is` \t    |e|\n",
        "|`lambda` \t|funções *lambda*|\n",
        "|`not` \t    |não lógico|\n",
        "|`or` \t    |ou lógico|\n",
        "|`pass` \t|passar para outra função sem executá-la|\n",
        "|`print` \t|imprimir na tela|\n",
        "|`raise` \t|laço try|\n",
        "|`return` \t|retornar objeto|\n",
        "|`try` \t    |definição de laço tente|\n",
        "|`while` \t|definição de laço enquanto|\n",
        "\n",
        "Fonte: [Python. Wikilivros](https://pt.wikibooks.org/wiki/Python/Conceitos_b%C3%A1sicos/Vari%C3%A1veis_e_identificadores)"
      ]
    }
  ],
  "metadata": {
    "kernelspec": {
      "display_name": "Python 3 (ipykernel)",
      "language": "python",
      "name": "python3"
    },
    "language_info": {
      "codemirror_mode": {
        "name": "ipython",
        "version": 3
      },
      "file_extension": ".py",
      "mimetype": "text/x-python",
      "name": "python",
      "nbconvert_exporter": "python",
      "pygments_lexer": "ipython3",
      "version": "3.9.15"
    },
    "colab": {
      "provenance": [],
      "include_colab_link": true
    }
  },
  "nbformat": 4,
  "nbformat_minor": 0
}