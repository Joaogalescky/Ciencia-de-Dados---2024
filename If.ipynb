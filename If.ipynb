{
  "cells": [
    {
      "cell_type": "markdown",
      "metadata": {
        "id": "view-in-github",
        "colab_type": "text"
      },
      "source": [
        "<a href=\"https://colab.research.google.com/github/Joaogalescky/Ciencia-de-Dados---2024/blob/main/If.ipynb\" target=\"_parent\"><img src=\"https://colab.research.google.com/assets/colab-badge.svg\" alt=\"Open In Colab\"/></a>"
      ]
    },
    {
      "cell_type": "markdown",
      "metadata": {
        "id": "yaJrUwew-25g"
      },
      "source": [
        "# If\n",
        "O `if` (se) é uma estrutura de seleção, que permite que determinado trecho de código seja executado de acordo com determinada **condição**. A **condição** é uma expressão que resulta em verdadeiro (`True`) ou falso (`False`). Caso a condição seja `True`, o trecho de código é executado."
      ]
    },
    {
      "cell_type": "markdown",
      "metadata": {
        "id": "T5Uem8Mk-25j"
      },
      "source": [
        "### Sintaxe\n",
        "\n",
        "Estrutura do código `if`:\n",
        "```py\n",
        "if <condição>:\n",
        "    código se verdadeiro\n",
        "```\n",
        "\n",
        "### Exemplo:\n",
        "\n",
        "```py\n",
        "A = 10\n",
        "if A == 10:\n",
        "    print('A é igual a 10')\n",
        "```\n"
      ]
    },
    {
      "cell_type": "code",
      "execution_count": null,
      "metadata": {
        "id": "c91IKTon-25j"
      },
      "outputs": [],
      "source": [
        "A = 9\n",
        "if A == 10:\n",
        "  print('A é igual a 10')"
      ]
    },
    {
      "cell_type": "markdown",
      "metadata": {
        "id": "DtUWsuAq-25j"
      },
      "source": [
        "Modifique o valor atribuído à variável `A` para `9`, e observe o resultado apresentado."
      ]
    },
    {
      "cell_type": "markdown",
      "metadata": {
        "id": "DyI1TMpf-25k"
      },
      "source": [
        "### Observação\n",
        "Repare que:\n",
        "- Existe um `:` logo após a condição;\n",
        "- O trecho de código que pertence ao `if` deve estar identado mais à direita. Esta identação é o que define qual parte do código faz parte do `if`."
      ]
    },
    {
      "cell_type": "code",
      "execution_count": null,
      "metadata": {
        "id": "J2g3bsXm-25k"
      },
      "outputs": [],
      "source": []
    },
    {
      "cell_type": "markdown",
      "metadata": {
        "id": "NWWOrly1-25k"
      },
      "source": [
        "## else\n",
        "A estrutura `else` (senão) permite adicionar um trecho de código à estrutura `if`, de forma que o trecho de código especificado no `else` será executado apenas se a condição descrita no `if` for falsa (`False`)."
      ]
    },
    {
      "cell_type": "markdown",
      "metadata": {
        "id": "l1isbTmd-25k"
      },
      "source": [
        "### Sintaxe\n",
        "\n",
        "```py\n",
        "if <condição>:\n",
        "    código se verdadeiro\n",
        "else:\n",
        "    código se falso\n",
        "```\n",
        "\n",
        "### Exemplo:\n",
        "\n",
        "```py\n",
        "A = 10\n",
        "if A == 10:\n",
        "    print('A é igual a 10')\n",
        "else:\n",
        "    print('A não é igual a 10')\n",
        "```"
      ]
    },
    {
      "cell_type": "code",
      "execution_count": null,
      "metadata": {
        "id": "WUt0Jdat-25k",
        "colab": {
          "base_uri": "https://localhost:8080/"
        },
        "outputId": "0e13d4c4-1467-40cc-d5c3-e8510c14a182"
      },
      "outputs": [
        {
          "output_type": "stream",
          "name": "stdout",
          "text": [
            "A não é igual a 10\n"
          ]
        }
      ],
      "source": [
        "A = 9\n",
        "if A == 10:\n",
        "  print('A é igual a 10')\n",
        "else:\n",
        "  print('A não é igual a 10')"
      ]
    },
    {
      "cell_type": "markdown",
      "metadata": {
        "id": "um8DFALl-25k"
      },
      "source": [
        "Modifique o valor atribuído à variável `A` para `9`, e observe o resultado apresentado."
      ]
    },
    {
      "cell_type": "code",
      "execution_count": null,
      "metadata": {
        "id": "Z-hfI80h-25l"
      },
      "outputs": [],
      "source": []
    },
    {
      "cell_type": "markdown",
      "metadata": {
        "id": "fMxOBPMP-25l"
      },
      "source": [
        "### Observação\n",
        "Repare que:\n",
        "- A palavra `else` fica na mesma identação que a palavra `if`;\n",
        "- Existe um `:` logo após o `else`;\n",
        "- O trecho de código que pertence ao `else` deve estar identado mais à direita. Esta identação é o que define qual parte do código faz parte do `else`."
      ]
    },
    {
      "cell_type": "markdown",
      "metadata": {
        "id": "vhw10wJa-25l"
      },
      "source": [
        "### Atividades\n",
        "\n",
        "Pergunte 2 números ao usuário. Mostre esses números em ordem, do menor para o maior."
      ]
    },
    {
      "cell_type": "code",
      "execution_count": null,
      "metadata": {
        "id": "_2rX_aaz-25l",
        "colab": {
          "base_uri": "https://localhost:8080/"
        },
        "outputId": "8dc89757-ffdb-4879-92f5-5e87ec836912"
      },
      "outputs": [
        {
          "output_type": "stream",
          "name": "stdout",
          "text": [
            "Digite o primeiro número: 45\n",
            "Digite o segundo número: 30\n",
            "A ordem dos números, do menor para o maior é: 30 45\n"
          ]
        }
      ],
      "source": [
        "n1 = int(input(\"Digite o primeiro número: \"))\n",
        "n2 = int(input(\"Digite o segundo número: \"))\n",
        "\n",
        "if n1 <= n2:\n",
        "  menor = n1\n",
        "  maior = n2\n",
        "else:\n",
        "  menor = n2\n",
        "  maior = n1\n",
        "\n",
        "print(\"A ordem dos números, do menor para o maior é:\", menor, maior)"
      ]
    },
    {
      "cell_type": "markdown",
      "source": [
        "Pergunte 3 números ao usuário. Mostre o menor número digitado."
      ],
      "metadata": {
        "id": "vT28pLTMn6dG"
      }
    },
    {
      "cell_type": "code",
      "source": [
        "n1 = int(input('Digite o primeiro número: '))\n",
        "n2 = int(input('Digite o segundo número: '))\n",
        "n3 = int(input('Digite o terceiro número: '))\n",
        "\n",
        "if n1 < n2 and n1 < n3:\n",
        "  menor = n1\n",
        "elif n2 < n1 and n2 < n1:\n",
        "  menor = n2\n",
        "else:\n",
        "  menor = n3\n",
        "\n",
        "print('O menor número digitado foi:', menor)"
      ],
      "metadata": {
        "colab": {
          "base_uri": "https://localhost:8080/"
        },
        "id": "VKVH-J9in_Ee",
        "outputId": "4ecb940a-5d40-4313-b12a-18b88eea8c0b"
      },
      "execution_count": null,
      "outputs": [
        {
          "output_type": "stream",
          "name": "stdout",
          "text": [
            "Digite o primeiro número: 45\n",
            "Digite o segundo número: 12\n",
            "Digite o terceiro número: 46\n",
            "O menor número digitado foi: 12\n"
          ]
        }
      ]
    },
    {
      "cell_type": "markdown",
      "metadata": {
        "id": "XBMwU5xo-25l"
      },
      "source": [
        "Pergunte 3 números ao usuário. Mostre o maior número digitado."
      ]
    },
    {
      "cell_type": "code",
      "execution_count": null,
      "metadata": {
        "id": "X1TQO4MM-25l",
        "colab": {
          "base_uri": "https://localhost:8080/"
        },
        "outputId": "ac94632f-4691-41c0-b690-d338669000c8"
      },
      "outputs": [
        {
          "output_type": "stream",
          "name": "stdout",
          "text": [
            "Digite o primeiro número: 45\n",
            "Digite o segundo número: 84\n",
            "Digite o terceiro número: 67\n",
            "O maior número digitado foi: 84\n"
          ]
        }
      ],
      "source": [
        "n1 = int(input('Digite o primeiro número: '))\n",
        "n2 = int(input('Digite o segundo número: '))\n",
        "n3 = int(input('Digite o terceiro número: '))\n",
        "\n",
        "if n1 > n2 and n1 > n3:\n",
        "  maior = n1\n",
        "elif n2 > n1 and n2 > n1:\n",
        "  maior = n2\n",
        "else:\n",
        "  maior = n3\n",
        "\n",
        "print('O maior número digitado foi:', maior)\n",
        "#print(f'O maior número digitado foi: {maior}')"
      ]
    },
    {
      "cell_type": "markdown",
      "metadata": {
        "id": "gTCODa6D-25l"
      },
      "source": [
        "**Exercícios**\n",
        "- [Beecrowd 1044 - Múltiplos](https://www.beecrowd.com.br/judge/pt/problems/view/1044)\n",
        "- [Beecrowd 2780 - Basquete de Robôs](https://www.beecrowd.com.br/judge/pt/problems/view/2780)\n",
        "- [Beecrowd 3170 - Bolinhas de Natal](https://www.beecrowd.com.br/judge/pt/problems/view/3170)  \n",
        "- [Beecrowd 1041 - Coordenadas de um Ponto](https://www.beecrowd.com.br/judge/pt/problems/view/1041)\n",
        "- [Beecrowd 2787 - Xadrez](https://www.beecrowd.com.br/judge/pt/problems/view/2787)\n",
        "\n"
      ]
    },
    {
      "cell_type": "code",
      "execution_count": null,
      "metadata": {
        "id": "6Z4vq4-O-25l",
        "colab": {
          "base_uri": "https://localhost:8080/"
        },
        "outputId": "185d5db5-6064-485b-cc60-b8ffe02f4c77"
      },
      "outputs": [
        {
          "output_type": "stream",
          "name": "stdout",
          "text": [
            "24\n",
            "6\n",
            "Nao sao Multiplos\n"
          ]
        }
      ],
      "source": [
        "#Beecrowd 1044\n",
        "\n",
        "n1 = int(input())\n",
        "n2 = int(input())\n",
        "\n",
        "if n1 / n2 == 0:\n",
        "    print('Sao Multiplos')\n",
        "else:\n",
        "    print('Nao sao Multiplos')\n"
      ]
    },
    {
      "cell_type": "code",
      "source": [
        "#Beecrowd 2780\n",
        "'''\n",
        "A organização da OIBR, Olimpíada Internacional de Basquete de Robô, está começando a ter problemas com dois times: os Bit Warriors e os Byte Bulls. É que os robôs desses times acertam quase todos os lan- çamentos, de qualquer posição na quadra! Pensando bem, o jogo de basquete ficaria mesmo sem graça se jogadores conseguissem acertar qualquer lançamento, não é mesmo? Uma das medidas que a OIBR está implantando é uma nova pontuação para os lançamentos, de acordo com a distância do robô para o início da quadra. A quadra tem 2000 centímetros de comprimento, como na figura.\n",
        "Dada a distância D do robô até o início da quadra, onde está a cesta, a regra é a seguinte:\n",
        "\n",
        "• Se D ≤ 800, a cesta vale 1 ponto;\n",
        "• Se 800 < D ≤ 1400, a cesta vale 2 pontos;\n",
        "• Se 1400 < D ≤ 2000, a cesta vale 3 pontos.\n",
        "\n",
        "A organização da OIBR precisa de ajuda para automatizar o placar do jogo. Dado o valor da distância D, você deve escrever um programa para calcular o número de pontos do lançamento.\n",
        "\n",
        "Entrada\n",
        "A primeira e única linha da entrada contém um inteiro D (0 ≤ D ≤ 2000) indicando a distância do robô para o início da quadra, em centímetros, no momento do lançamento.\n",
        "\n",
        "Saída\n",
        "Seu programa deve produzir uma única linha, contendo um inteiro, 1, 2 ou 3, indicando a pontuação do lançamento.\n",
        "'''\n",
        "\n",
        "n1 = int(input())\n",
        "\n",
        "if n1 < 800:\n",
        "  print('1')\n",
        "elif 800 < n1 <= 1400:\n",
        "  print('2')\n",
        "elif 1400 < n1 <= 2000:\n",
        "  print('3')"
      ],
      "metadata": {
        "colab": {
          "base_uri": "https://localhost:8080/"
        },
        "id": "IDxUFscEp4k8",
        "outputId": "2c526016-8cc3-43e4-f319-db70eca3a9e8"
      },
      "execution_count": null,
      "outputs": [
        {
          "output_type": "stream",
          "name": "stdout",
          "text": [
            "801\n",
            "2\n"
          ]
        }
      ]
    },
    {
      "cell_type": "code",
      "source": [
        "#Beecrowd 3170\n",
        "'''\n",
        "Amélia ama o Natal, e sua parte favorita nesta data é montar a árvore de natal! Ela adora decorar a árvore com bolinhas e luzes coloridas, para que ela fique brilhante e divertida! Porém, Amélia gosta das coisas bem distribuídas e exige que sua árvore não tenha mais que a metade de galhos em bolinhas. Assim, se sua árvore de natal tem G galhos, ela precisa G/2 bolinhas. Se o número G de galhos for ímpar, esse valor será arredondado para baixo.\n",
        "Neste ano, Amélia resolveu atualizar sua árvore e irá comprar uma nova. Além disso, algumas de suas bolinhas quebraram, e ela vai precisar saber quantas novas bolinhas vai precisar comprar para manter sua árvore equilibrada do jeito que gosta!\n",
        "Para isso, ela quer sua ajuda! Dada a quantidade de bolinhas que Amélia tem e a quantidade de galhos que sua nova árvore terá, diga para Amélia quantas bolinhas de natal ela precisa comprar para decorar sua nova árvore!\n",
        "\n",
        "Entrada\n",
        "A entrada consiste de dois valores inteiros, lidos em duas linhas, B (1 < B < 103) e G (100 < G < 1000) que indicam, respectivamente, a quantidade de bolinhas que Amélia já possui e a quantidade de galhos de sua nova árvore de natal.\n",
        "\n",
        "Saída\n",
        "Imprima a quantidade de bolinhas que Amélia precisa comprar para completar sua árvore, com a mensagem \"Faltam B bolinha(s)\", onde B é a quantidade de bolinhas que Amelia precisa comprar. Caso Amelia possua bolinhas suficientes ou de sobra, imprima a mensagem \"Amelia tem todas bolinhas!\"\n",
        "'''\n",
        "\n",
        "b = int(input())\n",
        "g = int(input())\n",
        "\n",
        "if b >= 1 and b <= 1000:\n",
        "  if g >= 100 and g <= 1000:\n",
        "    q = g / 2\n",
        "  if b >= q:\n",
        "    print('Amélia tem todas as bolinhas!')\n",
        "  else:\n",
        "    f = -(b - q)\n",
        "    print(f'Faltam {f} bolinha(s)')\n",
        "\n",
        "\n"
      ],
      "metadata": {
        "colab": {
          "base_uri": "https://localhost:8080/"
        },
        "id": "2jDkj752rGBE",
        "outputId": "8666e8a3-2ab1-4bbd-d070-b68af10e8c21"
      },
      "execution_count": null,
      "outputs": [
        {
          "output_type": "stream",
          "name": "stdout",
          "text": [
            "700\n",
            "300\n",
            "Amélia tem todas as bolinhas!\n"
          ]
        }
      ]
    },
    {
      "cell_type": "code",
      "source": [
        "#Beecrowd 1041\n",
        "'''\n",
        "Leia 2 valores com uma casa decimal (x e y), que devem representar as coordenadas de um ponto em um plano. A seguir, determine qual o quadrante ao qual pertence o ponto, ou se está sobre um dos eixos cartesianos ou na origem (x = y = 0).\n",
        "\n",
        "Se o ponto estiver na origem, escreva a mensagem “Origem”.\n",
        "Se o ponto estiver sobre um dos eixos escreva “Eixo X” ou “Eixo Y”, conforme for a situação.\n",
        "\n",
        "Entrada\n",
        "A entrada contem as coordenadas de um ponto.\n",
        "\n",
        "Saída\n",
        "A saída deve apresentar o quadrante em que o ponto se encontra.\n",
        "'''\n",
        "\n",
        "x = float(input())\n",
        "y = float(input())\n",
        "\n",
        "if x == 0.0 and y == 0.0:\n",
        "  print('Origem')\n",
        "elif x > 0.0 and y > 0.0:\n",
        "  print('Q1')\n",
        "elif x > 0.0 and y < 0.0:\n",
        "  print('Q4')\n",
        "elif x < 0.0 and y > 0.0:\n",
        "  print('Q2')\n",
        "elif x < 0.0 and y < 0.0:\n",
        "  print('Q3')\n"
      ],
      "metadata": {
        "colab": {
          "base_uri": "https://localhost:8080/"
        },
        "id": "2Kz6qBxkrH0s",
        "outputId": "fb26f68d-ba48-407a-aaa0-ff83a67de2e3"
      },
      "execution_count": null,
      "outputs": [
        {
          "output_type": "stream",
          "name": "stdout",
          "text": [
            "-0.1\n",
            "-0.1\n",
            "Q3\n"
          ]
        }
      ]
    },
    {
      "cell_type": "code",
      "source": [
        "#Beecrowd 2787\n",
        "'''\n",
        "No tabuleiro de xadrez, a casa na linha 1, coluna 1 (canto superior esquerdo) é sempre branca e as cores das casas se alternam entre branca e preta, de acordo com o padrão conhecido como... xadrez! Dessa forma, como o tabuleiro tradicional tem oito linhas e oito colunas, a casa na linha 8, coluna 8 (canto inferior direito) será também branca. Neste problema, entretanto, queremos saber a cor da casa no canto inferior direito de um tabuleiro com dimensões quaisquer: L linhas e C colunas. No exemplo da figura, para L = 6 e C = 9, a casa no canto inferior direito será preta!\n",
        "\n",
        "Entrada\n",
        "A primeira linha da entrada contém um inteiro L (1 ≤ L ≤ 1000) indicando o número de linhas do tabuleiro. A segunda linha da entrada contém um inteiro C (1 ≤ C ≤ 1000) representando o número de colunas.\n",
        "\n",
        "Saída\n",
        "Imprima uma linha na saída. A linha deve conter um inteiro, representando a cor da casa no canto inferior direito do tabuleiro: 1, se for branca; e 0, se for preta.\n",
        "'''\n",
        "\n",
        "l = int(input('Digite a posicao da linha'))\n",
        "c = int(input('Digite a posicao da coluna'))\n",
        "\n",
        "if l % 2 == 0:\n",
        "  if c % 2 == 0:\n",
        "    print(1) #branca\n",
        "  else:\n",
        "    print(0) #preta\n",
        "else:\n",
        "  if c % 2 == 0:\n",
        "    print(0)\n",
        "  else:\n",
        "    print(1)\n"
      ],
      "metadata": {
        "colab": {
          "base_uri": "https://localhost:8080/"
        },
        "id": "DIXjEYW6rHpM",
        "outputId": "3c120549-a19d-49d9-884e-8dfea0ab0357"
      },
      "execution_count": null,
      "outputs": [
        {
          "output_type": "stream",
          "name": "stdout",
          "text": [
            "2\n",
            "1\n",
            "0\n"
          ]
        }
      ]
    }
  ],
  "metadata": {
    "kernelspec": {
      "display_name": "Python 3 (ipykernel)",
      "language": "python",
      "name": "python3"
    },
    "language_info": {
      "codemirror_mode": {
        "name": "ipython",
        "version": 3
      },
      "file_extension": ".py",
      "mimetype": "text/x-python",
      "name": "python",
      "nbconvert_exporter": "python",
      "pygments_lexer": "ipython3",
      "version": "3.9.15"
    },
    "colab": {
      "provenance": [],
      "include_colab_link": true
    }
  },
  "nbformat": 4,
  "nbformat_minor": 0
}