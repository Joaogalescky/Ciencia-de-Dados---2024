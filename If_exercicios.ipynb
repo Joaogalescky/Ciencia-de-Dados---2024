{
  "cells": [
    {
      "cell_type": "markdown",
      "metadata": {
        "id": "view-in-github",
        "colab_type": "text"
      },
      "source": [
        "<a href=\"https://colab.research.google.com/github/Joaogalescky/Ciencia-de-Dados---2024/blob/main/If_exercicios.ipynb\" target=\"_parent\"><img src=\"https://colab.research.google.com/assets/colab-badge.svg\" alt=\"Open In Colab\"/></a>"
      ]
    },
    {
      "cell_type": "markdown",
      "metadata": {
        "id": "Lk3VdOEc_Ath"
      },
      "source": [
        "# Exercícios"
      ]
    },
    {
      "cell_type": "markdown",
      "metadata": {
        "id": "za-KhWcH_Atj"
      },
      "source": [
        "Escreva um programa que verifique a validade de uma senha fornecida pelo usuário. A senha válida é o número 4598. Devem ser impressas as seguintes mensagens:  \n",
        "* ACESSO PERMITIDO caso a senha seja válida.  \n",
        "* ACESSO BLOQUEADO caso a senha seja inválida."
      ]
    },
    {
      "cell_type": "code",
      "execution_count": null,
      "metadata": {
        "id": "-o7GY3ka_Atk",
        "colab": {
          "base_uri": "https://localhost:8080/"
        },
        "outputId": "0e637e01-99c8-4dac-95cc-7d361eaac841"
      },
      "outputs": [
        {
          "output_type": "stream",
          "name": "stdout",
          "text": [
            "Digite uma senha válida de acesso: 5554\n",
            "ACESSO BLOQUEADO\n"
          ]
        }
      ],
      "source": [
        "entrada = input('Digite uma senha válida de acesso: ')\n",
        "\n",
        "if entrada == '4598':\n",
        "  print('ACESSO PERMITIDO')\n",
        "else:\n",
        "  print('ACESSO BLOQUEADO')"
      ]
    },
    {
      "cell_type": "markdown",
      "metadata": {
        "id": "44QXkcKG_Atk"
      },
      "source": [
        "Pergunte 3 números ao usuário. Mostre o menor e o maior números digitados."
      ]
    },
    {
      "cell_type": "code",
      "execution_count": null,
      "metadata": {
        "id": "7PpYXKg__Atk",
        "colab": {
          "base_uri": "https://localhost:8080/"
        },
        "outputId": "cecf7b8b-5a4c-4ab9-a567-dc6252e7f9ac"
      },
      "outputs": [
        {
          "output_type": "stream",
          "name": "stdout",
          "text": [
            "Digite três numeros: \n",
            "984\n",
            "1000\n",
            "321\n",
            "O menor valor digitado é:  321\n",
            "O maior valor digitado é:  1000\n"
          ]
        }
      ],
      "source": [
        "print('Digite três numeros: ')\n",
        "\n",
        "n1 = int(input())\n",
        "n2 = int(input())\n",
        "n3 = int(input())\n",
        "\n",
        "#menor\n",
        "if n1 < n2 and n1 < n3:\n",
        "    menor = n1\n",
        "    print('O menor valor digitado é: ', menor)\n",
        "if n2 < n1 and n2 < n3:\n",
        "    menor = n2\n",
        "    print('O menor valor digitado é: ', menor)\n",
        "if n3 < n1 and n3 < n2:\n",
        "    menor = n3\n",
        "    print('O menor valor digitado é: ', menor)\n",
        "\n",
        "#maior\n",
        "if n1 > n2 and n1 > n3:\n",
        "    maior = n1\n",
        "    print('O maior valor digitado é: ', maior)\n",
        "if n2 > n1 and n2 > n3:\n",
        "    maior = n2\n",
        "    print('O maior valor digitado é: ', maior)\n",
        "if n3 > n2 and n3 > n2:\n",
        "    maior = n3\n",
        "    print('O maior valor digitado é: ', maior)"
      ]
    },
    {
      "cell_type": "markdown",
      "metadata": {
        "id": "8qLlDidb_Atl"
      },
      "source": [
        "Pergunte 3 números ao usuário. Mostre esses números em ordem, do menor para o maior."
      ]
    },
    {
      "cell_type": "code",
      "execution_count": null,
      "metadata": {
        "id": "xLr2ZjfX_Atl",
        "colab": {
          "base_uri": "https://localhost:8080/"
        },
        "outputId": "c214c67d-ef99-4a8d-8b59-b6e9f082f058"
      },
      "outputs": [
        {
          "output_type": "stream",
          "name": "stdout",
          "text": [
            "Digite três numeros: \n",
            "54\n",
            "32\n",
            "87\n",
            "Os números em ordem crescente são:  32 54 87\n"
          ]
        }
      ],
      "source": [
        "print('Digite três numeros: ')\n",
        "\n",
        "n1 = int(input())\n",
        "n2 = int(input())\n",
        "n3 = int(input())\n",
        "\n",
        "if n1 >= n2 and n1 >= n3 and n2 >= n3:\n",
        "  maior = n1\n",
        "  meio = n2\n",
        "  menor = n3\n",
        "if n2 >= n1 and n2 >= n3 and n1 >= n3:\n",
        "  maior = n2\n",
        "  meio = n1\n",
        "  menor = n3\n",
        "if n3 >= n1 and n3 >= n2 and n1 >= n2:\n",
        "  maior = n3\n",
        "  meio = n1\n",
        "  menor = n2\n",
        "\n",
        "print('Os números em ordem crescente são: ', menor, meio, maior)"
      ]
    },
    {
      "cell_type": "markdown",
      "metadata": {
        "id": "xcvVHwoR_Atl"
      },
      "source": [
        "Pergunte 5 números ao usuário. Mostre esses números em ordem, do menor para o maior."
      ]
    },
    {
      "cell_type": "code",
      "execution_count": 3,
      "metadata": {
        "id": "ZhYt0g_s_Atl",
        "colab": {
          "base_uri": "https://localhost:8080/"
        },
        "outputId": "1f178c33-b361-45ca-fb46-faf7921128d4"
      },
      "outputs": [
        {
          "output_type": "stream",
          "name": "stdout",
          "text": [
            "Digite cinco numeros: \n",
            "105\n",
            "54\n",
            "86\n",
            "12\n",
            "115\n",
            "Os números em ordem crescente são:  [12, 54, 86, 105, 115]\n"
          ]
        }
      ],
      "source": [
        "print('Digite cinco numeros: ')\n",
        "\n",
        "n1 = int(input())\n",
        "n2 = int(input())\n",
        "n3 = int(input())\n",
        "n4 = int(input())\n",
        "n5 = int(input())\n",
        "\n",
        "lista = [n1, n2, n3, n4, n5]\n",
        "lista.sort()\n",
        "\n",
        "print('Os números em ordem crescente são: ', lista)"
      ]
    },
    {
      "cell_type": "markdown",
      "metadata": {
        "id": "CktwZ1GQ_Atl"
      },
      "source": [
        "<!---\n",
        "n1=5\n",
        "n2=7\n",
        "n3=3\n",
        "n4=1\n",
        "n5=9\n",
        "\n",
        "#obtém o menor número\n",
        "menor = n1\n",
        "if n2 < menor: menor = n2\n",
        "if n3 < menor: menor = n3\n",
        "if n4 < menor: menor = n4\n",
        "if n5 < menor: menor = n5\n",
        "\n",
        "#obtém o maior número\n",
        "maior = n1\n",
        "if n2 > maior: maior = n2\n",
        "if n3 > maior: maior = n3\n",
        "if n4 > maior: maior = n4\n",
        "if n5 > maior: maior = n5\n",
        "\n",
        "sup = maior+1\n",
        "\n",
        "#substitui o maior número por um número maior que todos\n",
        "if   n1 == menor: n1 = sup\n",
        "elif n2 == menor: n2 = sup\n",
        "elif n3 == menor: n3 = sup\n",
        "elif n4 == menor: n4 = sup\n",
        "elif n5 == menor: n5 = sup\n",
        "\n",
        "print('menor:', menor)\n",
        "print('n1', n1)\n",
        "print('n2', n2)\n",
        "print('n3', n3)\n",
        "print('n4', n4)\n",
        "print('n5', n5)\n",
        "\n",
        "\n",
        "#obtém o menor número\n",
        "menor = n1\n",
        "if n2 < menor: menor = n2\n",
        "if n3 < menor: menor = n3\n",
        "if n4 < menor: menor = n4\n",
        "if n5 < menor: menor = n5\n",
        "    \n",
        "#substitui o maior número por um número maior que todos\n",
        "if   n1 == menor: n1 = sup\n",
        "elif n2 == menor: n2 = sup\n",
        "elif n3 == menor: n3 = sup\n",
        "elif n4 == menor: n4 = sup\n",
        "elif n5 == menor: n5 = sup\n",
        "    \n",
        "print('menor:', menor)\n",
        "print('n1', n1)\n",
        "print('n2', n2)\n",
        "print('n3', n3)\n",
        "print('n4', n4)\n",
        "print('n5', n5)\n",
        "\n",
        "\n",
        "#obtém o menor número\n",
        "menor = n1\n",
        "if n2 < menor: menor = n2\n",
        "if n3 < menor: menor = n3\n",
        "if n4 < menor: menor = n4\n",
        "if n5 < menor: menor = n5\n",
        "    \n",
        "#substitui o maior número por um número maior que todos\n",
        "if   n1 == menor: n1 = sup\n",
        "elif n2 == menor: n2 = sup\n",
        "elif n3 == menor: n3 = sup\n",
        "elif n4 == menor: n4 = sup\n",
        "elif n5 == menor: n5 = sup\n",
        "    \n",
        "print('menor:', menor)\n",
        "print('n1', n1)\n",
        "print('n2', n2)\n",
        "print('n3', n3)\n",
        "print('n4', n4)\n",
        "print('n5', n5)\n",
        "\n",
        "\n",
        "#obtém o menor número\n",
        "menor = n1\n",
        "if n2 < menor: menor = n2\n",
        "if n3 < menor: menor = n3\n",
        "if n4 < menor: menor = n4\n",
        "if n5 < menor: menor = n5\n",
        "    \n",
        "#substitui o maior número por um número maior que todos\n",
        "if   n1 == menor: n1 = sup\n",
        "elif n2 == menor: n2 = sup\n",
        "elif n3 == menor: n3 = sup\n",
        "elif n4 == menor: n4 = sup\n",
        "elif n5 == menor: n5 = sup\n",
        "    \n",
        "print('menor:', menor)\n",
        "print('n1', n1)\n",
        "print('n2', n2)\n",
        "print('n3', n3)\n",
        "print('n4', n4)\n",
        "print('n5', n5)\n",
        "\n",
        "\n",
        "#obtém o menor número\n",
        "menor = n1\n",
        "if n2 < menor: menor = n2\n",
        "if n3 < menor: menor = n3\n",
        "if n4 < menor: menor = n4\n",
        "if n5 < menor: menor = n5\n",
        "    \n",
        "#substitui o maior número por um número maior que todos\n",
        "if   n1 == menor: n1 = sup\n",
        "elif n2 == menor: n2 = sup\n",
        "elif n3 == menor: n3 = sup\n",
        "elif n4 == menor: n4 = sup\n",
        "elif n5 == menor: n5 = sup\n",
        "    \n",
        "print('menor:', menor)\n",
        "print('n1', n1)\n",
        "print('n2', n2)\n",
        "print('n3', n3)\n",
        "print('n4', n4)\n",
        "print('n5', n5)\n",
        "--->"
      ]
    },
    {
      "cell_type": "markdown",
      "metadata": {
        "id": "tDP3QmI2_Atm"
      },
      "source": [
        "As maçãs custam `R$ 0,30`  cada se forem compradas menos do que uma dúzia, e `R$ 0,25` se forem compradas pelo menos doze.  \n",
        "Escreva um programa que leia o número de maçãs compradas, calcule e escreva o valor total da compra."
      ]
    },
    {
      "cell_type": "code",
      "execution_count": 35,
      "metadata": {
        "id": "3k2yRU8c_Atm",
        "colab": {
          "base_uri": "https://localhost:8080/"
        },
        "outputId": "7aed90ba-b761-4f93-dc5b-ab32118694c5"
      },
      "outputs": [
        {
          "output_type": "stream",
          "name": "stdout",
          "text": [
            "Digite o número de maçãs compradas: 15\n",
            "O valor total da compra é: R$ 3.75\n"
          ]
        }
      ],
      "source": [
        "nMacas = int(input('Digite o número de maçãs compradas: '))\n",
        "\n",
        "if nMacas < 12:\n",
        "  precoUnitario = 0.30\n",
        "else:\n",
        "  precoUnitario = 0.25\n",
        "\n",
        "total = nMacas * precoUnitario\n",
        "\n",
        "print('O valor total da compra é: R$', total)"
      ]
    },
    {
      "cell_type": "markdown",
      "metadata": {
        "id": "OBKoQn5M_Atm"
      },
      "source": [
        "Tendo como entrada a altura e o sexo (codificado da seguinte forma: f:feminino m:masculino) de uma pessoa, construa um programa que calcule e imprima seu peso ideal, utilizando as seguintes fórmulas:  \n",
        "- para homens: (72.7 * Altura) – 58  \n",
        "- para mulheres: (62.1 * Altura) – 44.7\n",
        "\n"
      ]
    },
    {
      "cell_type": "code",
      "execution_count": 36,
      "metadata": {
        "id": "vFa5Ph2C_Atm",
        "colab": {
          "base_uri": "https://localhost:8080/"
        },
        "outputId": "eb6b2e84-8414-4e1b-b5b9-982550929899"
      },
      "outputs": [
        {
          "output_type": "stream",
          "name": "stdout",
          "text": [
            "Digite a altura da pessoa (em metros): 1.83\n",
            "Digite o sexo da pessoa (f/m): m\n",
            "O peso ideal da pessoa é: 75.04 kg\n"
          ]
        }
      ],
      "source": [
        "altura = float(input('Digite a altura da pessoa (em metros): '))\n",
        "sexo = input('Digite o sexo da pessoa (f/m): ')\n",
        "\n",
        "if sexo == 'f':\n",
        "  pesoIdeal = (62.1 * altura) - 44.7\n",
        "else:\n",
        "  pesoIdeal = (72.7 * altura) - 58\n",
        "\n",
        "print('O peso ideal da pessoa é: %.2f kg' % pesoIdeal)"
      ]
    },
    {
      "cell_type": "markdown",
      "metadata": {
        "id": "839vxE3B_Atm"
      },
      "source": [
        "Faça um programa em que são solicitados ao ao usuário dois valores (operandos) e um operador, que pode ser `+`, `-`, `*` ou `/`. De acordo com o operador digitado, mostre o resultado da operação."
      ]
    },
    {
      "cell_type": "code",
      "execution_count": 37,
      "metadata": {
        "id": "Y1-a8e9E_Atm",
        "colab": {
          "base_uri": "https://localhost:8080/"
        },
        "outputId": "8d816b23-6b20-43dd-a2dd-c3f9fbf375d0"
      },
      "outputs": [
        {
          "output_type": "stream",
          "name": "stdout",
          "text": [
            "Digite o primeiro operando: 54\n",
            "Digite o operador (+, -, *, /): *\n",
            "Digite o segundo operando: 2\n",
            "O resultado da operação é: 108.0\n"
          ]
        }
      ],
      "source": [
        "op1 = float(input('Digite o primeiro operando: '))\n",
        "operador = input('Digite o operador (+, -, *, /): ')\n",
        "op2 = float(input('Digite o segundo operando: '))\n",
        "\n",
        "if operador == '+':\n",
        "  resultado = op1 + op2\n",
        "elif operador == '-':\n",
        "  resultado = op1 - op2\n",
        "elif operador == '*':\n",
        "  resultado = op1 * op2\n",
        "elif operador == '/':\n",
        "  resultado = op1 / op2\n",
        "else:\n",
        "  print('Operador inválido.')\n",
        "\n",
        "print('O resultado da operação é:', resultado)"
      ]
    },
    {
      "cell_type": "markdown",
      "metadata": {
        "id": "qK_26nyz_Atm"
      },
      "source": [
        "Ler 3 valores (A, B e C) representando as medidas dos lados de um triângulo e escrever se formam ou não um triângulo.  \n",
        "OBS: para formar um triângulo, o valor de cada lado deve ser menor que a soma dos outros 2 lados.  \n",
        "- Utilize apenas uma vez a estrutura se (**if**) no algoritmo."
      ]
    },
    {
      "cell_type": "code",
      "execution_count": 38,
      "metadata": {
        "id": "Wu47Wihj_Atm",
        "colab": {
          "base_uri": "https://localhost:8080/"
        },
        "outputId": "43888ad4-fd62-46d6-914d-73ab9fd485e2"
      },
      "outputs": [
        {
          "output_type": "stream",
          "name": "stdout",
          "text": [
            "Digite o valor do lado A: 5\n",
            "Digite o valor do lado B: 7\n",
            "Digite o valor do lado C: 4\n",
            "Os lados formam um triângulo.\n"
          ]
        }
      ],
      "source": [
        "a = float(input('Digite o valor do lado A: '))\n",
        "b = float(input('Digite o valor do lado B: '))\n",
        "c = float(input('Digite o valor do lado C: '))\n",
        "\n",
        "if a < b + c and b < a + c and c < a + b:\n",
        "  print('Os lados formam um triângulo.')\n",
        "else:\n",
        "  print('Os lados não formam um triângulo.')"
      ]
    },
    {
      "cell_type": "markdown",
      "metadata": {
        "id": "XP9L0sd__Atn"
      },
      "source": [
        "Escreva um programa para ler o número de lados de um polígono regular e a medida do lado (em cm). Calcular e imprimir o seguinte:  \n",
        "- Se o número de lados for igual a 3 escrever TRIÂNGULO e o valor da área.\n",
        "- Se o número de lados for igual a 4 escrever QUADRADO e o valor da sua área.\n",
        "- Se o número de lados for igual a 5 escrever PENTÁGONO.\n",
        "- Acrescente as seguintes mensagens à solução do exercício anterior, conforme o caso.\n",
        "    - Caso o número de lados seja inferior a 3 escrever NÃO É UM POLÍGONO.\n",
        "    - Caso o número de lados seja superior a 5 escrever POLÍGONO NÃO IDENTIFICADO."
      ]
    },
    {
      "cell_type": "code",
      "execution_count": 39,
      "metadata": {
        "id": "fWylu0Fd_Atn",
        "colab": {
          "base_uri": "https://localhost:8080/"
        },
        "outputId": "cc6955fa-728b-4df9-c21e-1ba9d0a1dec4"
      },
      "outputs": [
        {
          "output_type": "stream",
          "name": "stdout",
          "text": [
            "Digite o número de lados do polígono: 5\n",
            "Digite a medida do lado (em cm): 20\n",
            "PENTÁGONO\n"
          ]
        }
      ],
      "source": [
        "nLados = int(input('Digite o número de lados do polígono: '))\n",
        "medidaLado = float(input('Digite a medida do lado (em cm): '))\n",
        "\n",
        "if nLados < 3:\n",
        "  print('NÃO É UM POLÍGONO.')\n",
        "elif nLados == 3:\n",
        "  print('TRIÂNGULO')\n",
        "  area = (medidaLado ** 2 * math.sqrt(3)) / 4\n",
        "  print('Área:', area)\n",
        "elif nLados == 4:\n",
        "  print('QUADRADO')\n",
        "  area = medidaLado ** 2\n",
        "  print('Área:', area)\n",
        "elif nLados == 5:\n",
        "  print('PENTÁGONO')\n",
        "else:\n",
        "  print('POLÍGONO NÃO IDENTIFICADO.')\n"
      ]
    },
    {
      "cell_type": "markdown",
      "metadata": {
        "id": "FhnXA4VT_Atn"
      },
      "source": [
        "\n",
        "Escreva um programa que recebe um inteiro e diga se é par ou ímpar. Use o operador matemático `%` (resto da divisão ou módulo) e o teste condicional `if`."
      ]
    },
    {
      "cell_type": "code",
      "execution_count": 40,
      "metadata": {
        "id": "fWYh7uJC_Atn",
        "colab": {
          "base_uri": "https://localhost:8080/"
        },
        "outputId": "b8b6a18d-e3b8-4e93-ba23-687e43ef4779"
      },
      "outputs": [
        {
          "output_type": "stream",
          "name": "stdout",
          "text": [
            "Digite um número inteiro: 8\n",
            "O número é par.\n"
          ]
        }
      ],
      "source": [
        "n = int(input('Digite um número inteiro: '))\n",
        "\n",
        "if n % 2 == 0:\n",
        "    print('O número é par.')\n",
        "else:\n",
        "    print('O número é ímpar.')"
      ]
    },
    {
      "cell_type": "markdown",
      "metadata": {
        "id": "fuNKdx9Q_Atn"
      },
      "source": [
        "Faça um programa para ler um número e imprimir uma mensagem dizendo se tal número é par e positivo ao mesmo tempo."
      ]
    },
    {
      "cell_type": "code",
      "execution_count": 41,
      "metadata": {
        "id": "Cz4cefpL_Atn",
        "colab": {
          "base_uri": "https://localhost:8080/"
        },
        "outputId": "60da8310-a78f-4a4b-e721-b6d6c33a498d"
      },
      "outputs": [
        {
          "output_type": "stream",
          "name": "stdout",
          "text": [
            "Digite um número: 64\n",
            "O número é par e positivo.\n"
          ]
        }
      ],
      "source": [
        "n = int(input('Digite um número: '))\n",
        "\n",
        "if n % 2 == 0 and n > 0:\n",
        "  print('O número é par e positivo.')\n",
        "else:\n",
        "  print('O número não é par e positivo.')"
      ]
    },
    {
      "cell_type": "markdown",
      "metadata": {
        "id": "wBe8flK2_Atn"
      },
      "source": [
        "Faça um programa que recebe a idade de um nadador e classifique-o numa das seguintes categorias:\n",
        "- Adulto (idade >= 18);\n",
        "- Juvenil (idade >= 14 e idade < 18);\n",
        "- Infantil (idade >=9 e idade < 14);\n",
        "- Mirim (Idade < 9)."
      ]
    },
    {
      "cell_type": "code",
      "execution_count": 42,
      "metadata": {
        "id": "3wiO4B9F_Atn",
        "colab": {
          "base_uri": "https://localhost:8080/"
        },
        "outputId": "1cbec957-20e9-4e2e-81ec-f9b87d463b4e"
      },
      "outputs": [
        {
          "output_type": "stream",
          "name": "stdout",
          "text": [
            "Digite a idade do nadador: 21\n",
            "Adulto\n"
          ]
        }
      ],
      "source": [
        "idade = int(input('Digite a idade do nadador: '))\n",
        "\n",
        "if idade >= 18:\n",
        "  print('Adulto')\n",
        "elif idade >= 14:\n",
        "  print('Juvenil')\n",
        "elif idade >= 9:\n",
        "  print('Infantil')\n",
        "else:\n",
        "  print('Mirim')"
      ]
    },
    {
      "cell_type": "markdown",
      "metadata": {
        "id": "2x6_ja4n_Atn"
      },
      "source": [
        "Uma empresa abriu uma linha de crédito para os funcionários. O valor da prestação não pode ultrapassar 30% do salário. Faça um programa que receba o salário, o valor do empréstimo e o número de prestações e informe se o empréstimo pode ser concedido. Nenhum dos valores informados pode ser zero ou negativo."
      ]
    },
    {
      "cell_type": "code",
      "execution_count": 43,
      "metadata": {
        "id": "kXALfBNF_Atn",
        "colab": {
          "base_uri": "https://localhost:8080/"
        },
        "outputId": "9e5b1e79-5aaa-45fd-cb3c-9ce75237d165"
      },
      "outputs": [
        {
          "output_type": "stream",
          "name": "stdout",
          "text": [
            "Digite o salário do funcionário: 1350\n",
            "Digite o valor do empréstimo: 25\n",
            "Digite o número de prestações: 5\n",
            "Empréstimo pode ser concedido.\n"
          ]
        }
      ],
      "source": [
        "salario = float(input('Digite o salário do funcionário: '))\n",
        "valorEmprestimo = float(input('Digite o valor do empréstimo: '))\n",
        "nPrestacoes = int(input('Digite o número de prestações: '))\n",
        "\n",
        "if salario <= 0 or valorEmprestimo <= 0 or nPrestacoes <= 0:\n",
        "  print('Dados inválidos. Todos os valores devem ser positivos.')\n",
        "else:\n",
        "  valorPrestacao = valorEmprestimo / nPrestacoes\n",
        "  if valorEmprestimo > (0.3 * salario):\n",
        "    print('Empréstimo não pode ser concedido. Valor da prestação ultrapassa 30% do salário.')\n",
        "  else:\n",
        "    print('Empréstimo pode ser concedido.')"
      ]
    },
    {
      "cell_type": "markdown",
      "metadata": {
        "id": "aEEH9Rcd_Atn"
      },
      "source": [
        "Faça um programa que receber um número inteiro e informar se ele é divisível por 10, por 5, por 2 ou se não é divisível por nenhum destes."
      ]
    },
    {
      "cell_type": "code",
      "execution_count": 44,
      "metadata": {
        "id": "NMLLIXqb_Ato",
        "colab": {
          "base_uri": "https://localhost:8080/"
        },
        "outputId": "262f5152-25ba-4ecb-b0a0-e28d80cf6676"
      },
      "outputs": [
        {
          "output_type": "stream",
          "name": "stdout",
          "text": [
            "Digite um número inteiro: 185\n",
            "O número é divisível por 5.\n"
          ]
        }
      ],
      "source": [
        "n = int(input(\"Digite um número inteiro: \"))\n",
        "\n",
        "if n % 10 == 0:\n",
        "    print(\"O número é divisível por 10.\")\n",
        "elif n % 5 == 0:\n",
        "    print(\"O número é divisível por 5.\")\n",
        "elif n % 2 == 0:\n",
        "    print(\"O número é divisível por 2.\")\n",
        "else:\n",
        "    print(\"O número não é divisível por 10, 5 ou 2.\")\n"
      ]
    },
    {
      "cell_type": "markdown",
      "metadata": {
        "id": "u8nbr8v0_Ato"
      },
      "source": [
        "Um comerciante comprou um produto e quer vendê-lo com lucro de 45% se o valor da compra for menor que 20,00; caso contrário, o lucro será de 30%. Entrar com o valor do produto e imprimir o valor da venda."
      ]
    },
    {
      "cell_type": "code",
      "execution_count": 34,
      "metadata": {
        "id": "SPQLQX-F_Ato",
        "colab": {
          "base_uri": "https://localhost:8080/"
        },
        "outputId": "a5735fd9-8528-4980-dcfb-4e8aeb0aae43"
      },
      "outputs": [
        {
          "output_type": "stream",
          "name": "stdout",
          "text": [
            "Digite o valor da compra: 350\n",
            "O valor da venda é: R$ 455.0\n"
          ]
        }
      ],
      "source": [
        "valorCompra = float(input('Digite o valor da compra: '))\n",
        "\n",
        "if valorCompra < 20.00:\n",
        "  lucro = 0.45 * valorCompra\n",
        "else:\n",
        "  lucro = 0.30 * valorCompra\n",
        "\n",
        "valorVenda = valorCompra + lucro\n",
        "\n",
        "print('O valor da venda é: R$', valorVenda)\n"
      ]
    },
    {
      "cell_type": "markdown",
      "metadata": {
        "id": "JaM8sibO_Ato"
      },
      "source": [
        "Escreva um programa que pergunte o raio de uma circunferência, e sem seguida mostre o diâmetro, comprimento e área da circunferência."
      ]
    },
    {
      "cell_type": "code",
      "execution_count": 33,
      "metadata": {
        "id": "v23yI7Xs_Ato",
        "colab": {
          "base_uri": "https://localhost:8080/"
        },
        "outputId": "d0238caa-ac38-4317-9418-aad6bfd1ddb3"
      },
      "outputs": [
        {
          "output_type": "stream",
          "name": "stdout",
          "text": [
            "Digite o valor do raio do circulo: 35\n",
            "Diâmetro: 70.0\n",
            "Circunferência: 220\n",
            "Área: 3848\n"
          ]
        }
      ],
      "source": [
        "import math\n",
        "\n",
        "raio = float(input(\"Digite o valor do raio do circulo: \"))\n",
        "\n",
        "#Calcular o diametro, o comprimento e a area da circunferencia\n",
        "diametro = 2 * raio\n",
        "circunferencia = round(2 * math.pi * raio)\n",
        "area = round(math.pi * raio ** 2)\n",
        "\n",
        "print(\"Diâmetro:\", diametro)\n",
        "print(\"Circunferência:\", circunferencia)\n",
        "print(\"Área:\", area)"
      ]
    },
    {
      "cell_type": "markdown",
      "metadata": {
        "id": "zUmgrqaK_Ato"
      },
      "source": [
        "Para doar sangue é necessário ter entre 18 e 67 anos. Faça um *software* que pergunte a idade de uma pessoa e diga se ela pode doar sangue ou não."
      ]
    },
    {
      "cell_type": "code",
      "execution_count": 31,
      "metadata": {
        "id": "qLpTX5Ep_Ato",
        "colab": {
          "base_uri": "https://localhost:8080/"
        },
        "outputId": "34d51f77-89c4-45dd-c256-ffc85acb31f9"
      },
      "outputs": [
        {
          "output_type": "stream",
          "name": "stdout",
          "text": [
            "Digite a idade da pessoa: 21\n",
            "A pessoa pode doar sangue.\n"
          ]
        }
      ],
      "source": [
        "idade = int(input('Digite a idade da pessoa: '))\n",
        "\n",
        "if idade >= 18 and idade <= 67:\n",
        "  print('A pessoa pode doar sangue.')\n",
        "else:\n",
        "  print('A pessoa não pode doar sangue.')"
      ]
    },
    {
      "cell_type": "markdown",
      "metadata": {
        "id": "15kEVvCd_Ato"
      },
      "source": [
        "Faça um programa que receba três notas, calcule e mostre a média aritmética entre elas, caso a media aritmética seja:  \n",
        "- Média maior ou igual a 7: ALUNO APROVADO\n",
        "- Média menor que 7: ALUNO REPROVADO"
      ]
    },
    {
      "cell_type": "code",
      "execution_count": 30,
      "metadata": {
        "id": "Ome5CnYe_Ato",
        "colab": {
          "base_uri": "https://localhost:8080/"
        },
        "outputId": "242f9104-954f-43e8-b190-584a2d4a83ca"
      },
      "outputs": [
        {
          "output_type": "stream",
          "name": "stdout",
          "text": [
            "Digite a primeira nota: 10\n",
            "Digite a segunda nota: 7\n",
            "Digite a terceira nota: 8\n",
            "ALUNO APROVADO\n"
          ]
        }
      ],
      "source": [
        "n1 = float(input('Digite a primeira nota: '))\n",
        "n2 = float(input('Digite a segunda nota: '))\n",
        "n3 = float(input('Digite a terceira nota: '))\n",
        "\n",
        "media = (n1 + n2 + n3) / 3\n",
        "\n",
        "if media >= 7:\n",
        "  print('ALUNO APROVADO')\n",
        "else:\n",
        "  print('ALUNO REPROVADO')"
      ]
    },
    {
      "cell_type": "markdown",
      "metadata": {
        "id": "J7_DRBey_Ato"
      },
      "source": [
        "Faça um programa que calcula o desconto previdenciário de determinado funcionário. O desconto deve ser calculado com base no salário do funcionário, sendo este 15.2% do salário. O desconto é limitado de R$ 1000,00. Informe o desconto, tendo como entrada o salário."
      ]
    },
    {
      "cell_type": "code",
      "execution_count": 29,
      "metadata": {
        "id": "0H_sTjdQ_Atv",
        "colab": {
          "base_uri": "https://localhost:8080/"
        },
        "outputId": "73d88965-f670-447f-dd6d-e5975487aac3"
      },
      "outputs": [
        {
          "output_type": "stream",
          "name": "stdout",
          "text": [
            "Digite o salário do funcionário: 2500\n",
            "O desconto previdenciário é: R$ 380.00\n"
          ]
        }
      ],
      "source": [
        "salario = float(input('Digite o salário do funcionário: '))\n",
        "\n",
        "desconto = salario * 0.152\n",
        "\n",
        "if desconto > 1000.00:\n",
        "  desconto = 1000.00\n",
        "\n",
        "print('O desconto previdenciário é: R$ %.2f' % desconto)\n"
      ]
    },
    {
      "cell_type": "markdown",
      "metadata": {
        "id": "-YaeOLpQ_Atv"
      },
      "source": [
        "Desenvolva um programa que informa se determinado aluno está ou não reprovado por faltas. O aluno deve ter 75% de presença na disciplina para ser aprovado."
      ]
    },
    {
      "cell_type": "code",
      "execution_count": 10,
      "metadata": {
        "id": "-UOkCsj9_Atw",
        "colab": {
          "base_uri": "https://localhost:8080/"
        },
        "outputId": "ba543966-4633-4635-ccff-edf5a24f2fb6"
      },
      "outputs": [
        {
          "output_type": "stream",
          "name": "stdout",
          "text": [
            "Digite o número de presenças do aluno: 85\n",
            "Digite o número total de aulas: 100\n",
            "Aluno aprovado por frequência.\n"
          ]
        }
      ],
      "source": [
        "presenca = int(input('Digite o número de presenças do aluno: '))\n",
        "totalAulas = int(input('Digite o número total de aulas: '))\n",
        "\n",
        "porcPresenca = (presenca / totalAulas) * 100\n",
        "\n",
        "if porcPresenca >= 75:\n",
        "  print('Aluno aprovado por frequência.')\n",
        "else:\n",
        "  print('Aluno reprovado por faltas.')"
      ]
    },
    {
      "cell_type": "markdown",
      "metadata": {
        "id": "EWdzC_AT_Atw"
      },
      "source": [
        "Um comerciante comprou determinado produto, e deseja vendê-lo obtendo 45\\% de lucro, caso o valor da compra seja menor que R$ 200,00. Caso contrário, o lucro deverá ser de 51\\%. Implemente um programa que peça o valor de custo do produto e calcule por quanto o produto deve ser vendido."
      ]
    },
    {
      "cell_type": "code",
      "execution_count": 28,
      "metadata": {
        "id": "5wj6ITzQ_Atw",
        "colab": {
          "base_uri": "https://localhost:8080/"
        },
        "outputId": "aa22ca37-569b-4270-a9e9-f40d7d91a140"
      },
      "outputs": [
        {
          "output_type": "stream",
          "name": "stdout",
          "text": [
            "Digite o valor de custo do produto: 300.15\n",
            "O produto deve ser vendido por: R$  453\n"
          ]
        }
      ],
      "source": [
        "valorCusto = float(input('Digite o valor de custo do produto: '))\n",
        "\n",
        "if valorCusto < 200.00:\n",
        "  lucroPerc = 45\n",
        "else:\n",
        "  lucroPerc = 51\n",
        "\n",
        "lucro = valorCusto * lucroPerc / 100\n",
        "valorVenda = round(valorCusto + lucro)\n",
        "\n",
        "print('O produto deve ser vendido por: R$ ', valorVenda)"
      ]
    },
    {
      "cell_type": "markdown",
      "metadata": {
        "id": "HqyiW_6H_Atw"
      },
      "source": [
        "Faça um Programa que peça um número correspondente a um determinado ano e em seguida informe se este ano é ou não bissexto. Considere valores a partir do ano 1000."
      ]
    },
    {
      "cell_type": "code",
      "execution_count": 9,
      "metadata": {
        "id": "23Rc3LK8_Atw",
        "colab": {
          "base_uri": "https://localhost:8080/"
        },
        "outputId": "119cbd94-98c1-4f52-a84b-1f441a6f1b5a"
      },
      "outputs": [
        {
          "output_type": "stream",
          "name": "stdout",
          "text": [
            "Digite um ano: 2024\n",
            "O ano é bissexto.\n"
          ]
        }
      ],
      "source": [
        "ano = int(input('Digite um ano: '))\n",
        "\n",
        "if ano >= 1000:\n",
        "  if ano % 4 == 0 and (ano % 100 != 0 or ano % 400 == 0):\n",
        "    print('O ano é bissexto.')\n",
        "  else:\n",
        "    print('O ano não é bissexto.')\n",
        "else:\n",
        "  print('Ano inválido.')"
      ]
    },
    {
      "cell_type": "markdown",
      "metadata": {
        "id": "v7O8Ab4J_Atw"
      },
      "source": [
        "Faça um Programa para um caixa eletrônico. O programa deverá perguntar ao usuário a valor do saque e depois informar quantas notas de cada valor serão fornecidas. As notas disponíveis serão as de 1, 5, 10, 50 e 100 reais. O valor mínimo é de 10 reais e o máximo de 600 reais. O programa não deve se preocupar com a quantidade de notas existentes na máquina.\n",
        "\n",
        "- Exemplo 1: Para sacar a quantia de 256 reais, o programa fornece duas notas de 100, uma nota de 50, uma nota de 5 e uma nota de 1;\n",
        "- Exemplo 2: Para sacar a quantia de 399 reais, o programa fornece três notas de 100, uma nota de 50, quatro notas de 10, uma nota de 5 e quatro notas de 1.\n",
        "\n",
        "(Fonte: [EstruturaDeDecisao - PythonBrasil](https://wiki.python.org.br/EstruturaDeDecisao))"
      ]
    },
    {
      "cell_type": "code",
      "execution_count": 8,
      "metadata": {
        "id": "MhvO7LOm_Atw",
        "colab": {
          "base_uri": "https://localhost:8080/"
        },
        "outputId": "c8c2be0d-ce50-47a4-a08b-93e18d0113b2"
      },
      "outputs": [
        {
          "output_type": "stream",
          "name": "stdout",
          "text": [
            "Informe o valor do saque: R$ 300\n",
            "3 nota(s) de R$ 100\n",
            "0 nota(s) de R$ 50\n",
            "0 nota(s) de R$ 10\n",
            "0 nota(s) de R$ 5\n",
            "0 nota(s) de R$ 1\n"
          ]
        }
      ],
      "source": [
        "valorSaque = float(input('Informe o valor do saque: R$ '))\n",
        "\n",
        "if 10 <= valorSaque <= 600:\n",
        "    n100 = int(valorSaque // 100)\n",
        "    valorSaque %= 100\n",
        "\n",
        "    n50 = int(valorSaque // 50)\n",
        "    valorSaque %= 50\n",
        "\n",
        "    n10 = int(valorSaque // 10)\n",
        "    valorSaque %= 10\n",
        "\n",
        "    n5 = int(valorSaque // 5)\n",
        "    valorSaque %= 5\n",
        "\n",
        "    n1 = int(valorSaque // 1)\n",
        "\n",
        "    print(f'{n100} nota(s) de R$ 100')\n",
        "    print(f'{n50} nota(s) de R$ 50')\n",
        "    print(f'{n10} nota(s) de R$ 10')\n",
        "    print(f'{n5} nota(s) de R$ 5')\n",
        "    print(f'{n1} nota(s) de R$ 1')\n",
        "else:\n",
        "    print('Valor de saque inválido.')"
      ]
    },
    {
      "cell_type": "markdown",
      "metadata": {
        "id": "cOzM6rQs_Atw"
      },
      "source": [
        "Faça um programa que faça 5 perguntas para uma pessoa sobre um crime. As perguntas são:\n",
        "\n",
        "- \"Telefonou para a vítima?\"\n",
        "- \"Esteve no local do crime?\"\n",
        "- \"Mora perto da vítima?\"\n",
        "- \"Devia para a vítima?\"\n",
        "- \"Já trabalhou com a vítima?\"\n",
        "\n",
        "O programa deve no final emitir uma classificação sobre a participação da pessoa no crime. Se a pessoa responder positivamente a 2 questões ela deve ser classificada como \"Suspeita\", entre 3 e 4 como \"Cúmplice\" e 5 como \"Assassino\". Caso contrário, ele será classificado como \"Inocente\".\n",
        "\n",
        "(Fonte: [EstruturaDeDecisao - PythonBrasil](https://wiki.python.org.br/EstruturaDeDecisao))"
      ]
    },
    {
      "cell_type": "code",
      "execution_count": 5,
      "metadata": {
        "id": "nYe_kqOI_Atw",
        "colab": {
          "base_uri": "https://localhost:8080/"
        },
        "outputId": "38a7d8d2-5c7b-41ac-ddb6-aec2e8c18413"
      },
      "outputs": [
        {
          "output_type": "stream",
          "name": "stdout",
          "text": [
            "Telefonou para a vítima? sim\n",
            "Esteve no local do crime? nao\n",
            "Mora perto da vítima? sim\n",
            "Devia para a vítima? nao\n",
            "Já trabalhou com a vítima? sim\n",
            "Cúmplice\n"
          ]
        }
      ],
      "source": [
        "respostas = []\n",
        "for i in range(5):\n",
        "  respostas.append(input('Telefonou para a vítima? ' if i == 0 else\n",
        "  'Esteve no local do crime? ' if i == 1 else\n",
        "  'Mora perto da vítima? ' if i == 2 else\n",
        "  'Devia para a vítima? ' if i == 3 else\n",
        "  'Já trabalhou com a vítima? '))\n",
        "\n",
        "if respostas.count('sim') == 2:\n",
        "  print('Suspeita')\n",
        "elif respostas.count('sim') in range(3, 5):\n",
        "  print('Cúmplice')\n",
        "elif respostas.count('sim') == 5:\n",
        "  print('Assassino')\n",
        "else:\n",
        "  print('Inocente')"
      ]
    },
    {
      "cell_type": "markdown",
      "metadata": {
        "id": "t9Ie2QKc_Atw"
      },
      "source": [
        "Um posto está vendendo combustíveis com a seguinte tabela de descontos:\n",
        "\n",
        "|Quantidade|Etanol|Gasolina|\n",
        "|------------------|--------|--|\n",
        "|até 20 litros     |desconto de 3%|desconto de 4%\n",
        "|acima de 20 litros|desconto de 5%|desconto de 6%\n",
        "\n",
        "\n",
        "    \n",
        "Escreva um algoritmo que leia o número de litros vendidos, o tipo de combustível (codificado da seguinte forma: E-etanol, G-gasolina). Calcule e imprima o valor a ser pago pelo cliente sabendo-se que o preço do litro da gasolina é R\\\\$ 4,50 o preço do litro do etano é R\\\\$ 3,15.\n",
        "    \n",
        "(Adaptado de [EstruturaDeDecisao - PythonBrasil](https://wiki.python.org.br/EstruturaDeDecisao))"
      ]
    },
    {
      "cell_type": "code",
      "execution_count": 45,
      "metadata": {
        "id": "pA-Drj5I_Atw",
        "colab": {
          "base_uri": "https://localhost:8080/"
        },
        "outputId": "d6d7c1e9-91e2-474a-bae7-f67fcdebf2ee"
      },
      "outputs": [
        {
          "output_type": "stream",
          "name": "stdout",
          "text": [
            "Digite o tipo de combustível (A-álcool, G-gasolina): G\n",
            "Digite o número de litros vendidos: 100\n",
            "Valor a ser pago pelo cliente: R$ 235.00\n"
          ]
        }
      ],
      "source": [
        "tipoCombustivel = input(\"Digite o tipo de combustível (A-álcool, G-gasolina): \").upper()\n",
        "litros = float(input(\"Digite o número de litros vendidos: \"))\n",
        "\n",
        "precoAlcool = 1.90\n",
        "precoGasolina = 2.50\n",
        "\n",
        "if tipoCombustivel == 'A':\n",
        "    if litros <= 20:\n",
        "        desconto = 0.03\n",
        "    else:\n",
        "        desconto = 0.05\n",
        "    precoFinal = (precoAlcool - (precoAlcool * desconto)) * litros\n",
        "elif tipoCombustivel == 'G':\n",
        "    if litros <= 20:\n",
        "        desconto = 0.04\n",
        "    else:\n",
        "        desconto = 0.06\n",
        "    precoFinal = (precoGasolina - (precoGasolina * desconto)) * litros\n",
        "else:\n",
        "    print(\"Tipo de combustível inválido\")\n",
        "\n",
        "print(f\"Valor a ser pago pelo cliente: R$ {precoFinal:.2f}\")"
      ]
    }
  ],
  "metadata": {
    "kernelspec": {
      "display_name": "Python 3 (ipykernel)",
      "language": "python",
      "name": "python3"
    },
    "language_info": {
      "codemirror_mode": {
        "name": "ipython",
        "version": 3
      },
      "file_extension": ".py",
      "mimetype": "text/x-python",
      "name": "python",
      "nbconvert_exporter": "python",
      "pygments_lexer": "ipython3",
      "version": "3.9.15"
    },
    "colab": {
      "provenance": [],
      "include_colab_link": true
    }
  },
  "nbformat": 4,
  "nbformat_minor": 0
}