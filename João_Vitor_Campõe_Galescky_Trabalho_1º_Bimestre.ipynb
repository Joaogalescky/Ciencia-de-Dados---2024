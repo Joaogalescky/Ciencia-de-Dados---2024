{
  "nbformat": 4,
  "nbformat_minor": 0,
  "metadata": {
    "kernelspec": {
      "display_name": "Python 3",
      "language": "python",
      "name": "python3"
    },
    "language_info": {
      "codemirror_mode": {
        "name": "ipython",
        "version": 3
      },
      "file_extension": ".py",
      "mimetype": "text/x-python",
      "name": "python",
      "nbconvert_exporter": "python",
      "pygments_lexer": "ipython3",
      "version": "3.6.8"
    },
    "colab": {
      "provenance": [],
      "include_colab_link": true
    }
  },
  "cells": [
    {
      "cell_type": "markdown",
      "metadata": {
        "id": "view-in-github",
        "colab_type": "text"
      },
      "source": [
        "<a href=\"https://colab.research.google.com/github/Joaogalescky/Ciencia-de-Dados---2024/blob/main/Jo%C3%A3o_Vitor_Camp%C3%B5e_Galescky_Trabalho_1%C2%BA_Bimestre.ipynb\" target=\"_parent\"><img src=\"https://colab.research.google.com/assets/colab-badge.svg\" alt=\"Open In Colab\"/></a>"
      ]
    },
    {
      "cell_type": "markdown",
      "metadata": {
        "id": "sYuT1UHtznRS"
      },
      "source": [
        "# Trabalho 1º Bimestre\n",
        "\n",
        "## 1- Base Datatran\n",
        "\n",
        "\n",
        "\n",
        "\n"
      ]
    },
    {
      "cell_type": "markdown",
      "metadata": {
        "id": "AuO3bkmLznRV"
      },
      "source": [
        "**Dicas**\n",
        "- Assim como nos DataFrames, nas Series também é possível utilizar a função `.head()`.\n",
        "- A função `.value_counts()` retorna os valores ordenados por quantidade, em ordem decrescente."
      ]
    },
    {
      "cell_type": "code",
      "metadata": {
        "id": "zdmssEKAznRW"
      },
      "source": [
        "import pandas as pd\n",
        "import numpy as np"
      ],
      "execution_count": 4,
      "outputs": []
    },
    {
      "cell_type": "code",
      "metadata": {
        "id": "shtgoGwLznRW",
        "colab": {
          "base_uri": "https://localhost:8080/"
        },
        "outputId": "70955c40-b864-4727-f0c7-6a2d3dad8589"
      },
      "source": [
        "########################\n",
        "#Leitura da base no diretório local (Jupyter)\n",
        "########################\n",
        "# df = pd.read_csv('./bases/datatran2018.csv', sep=';', encoding='latin-1') # Carrega a base\n",
        "\n",
        "########################\n",
        "#Leitura da base no Google Drive (Colaboratory)\n",
        "########################\n",
        "from google.colab import drive\n",
        "drive.mount('/drive') #monta a base no google drive\n",
        "database_path = '/drive/Shareddrives/BasesPublicas/Bases/PRF/datatran2018.csv' #caminho da base de dados\n",
        "df = pd.read_csv(database_path, sep=';', encoding='latin-1') #Carrega a base"
      ],
      "execution_count": 5,
      "outputs": [
        {
          "output_type": "stream",
          "name": "stdout",
          "text": [
            "Drive already mounted at /drive; to attempt to forcibly remount, call drive.mount(\"/drive\", force_remount=True).\n"
          ]
        }
      ]
    },
    {
      "cell_type": "code",
      "metadata": {
        "id": "uzeB25AXznRX",
        "colab": {
          "base_uri": "https://localhost:8080/"
        },
        "outputId": "f6ac0da3-0afd-40f2-f0a5-1452630fa4cc"
      },
      "source": [
        "df.shape #Mostra o número de linhas e colunas na base"
      ],
      "execution_count": null,
      "outputs": [
        {
          "output_type": "execute_result",
          "data": {
            "text/plain": [
              "(69295, 30)"
            ]
          },
          "metadata": {},
          "execution_count": 5
        }
      ]
    },
    {
      "cell_type": "code",
      "metadata": {
        "id": "bjaJ70V10HSF",
        "colab": {
          "base_uri": "https://localhost:8080/"
        },
        "outputId": "6db0ba1b-a432-44d2-dbe6-6a68cbaf6ea0"
      },
      "source": [
        "df.info() #Mostra informações sobre a base"
      ],
      "execution_count": null,
      "outputs": [
        {
          "output_type": "stream",
          "name": "stdout",
          "text": [
            "<class 'pandas.core.frame.DataFrame'>\n",
            "RangeIndex: 69295 entries, 0 to 69294\n",
            "Data columns (total 30 columns):\n",
            " #   Column                  Non-Null Count  Dtype  \n",
            "---  ------                  --------------  -----  \n",
            " 0   id                      69295 non-null  float64\n",
            " 1   data_inversa            69295 non-null  object \n",
            " 2   dia_semana              69295 non-null  object \n",
            " 3   horario                 69295 non-null  object \n",
            " 4   uf                      69295 non-null  object \n",
            " 5   br                      69181 non-null  float64\n",
            " 6   km                      69181 non-null  object \n",
            " 7   municipio               69295 non-null  object \n",
            " 8   causa_acidente          69295 non-null  object \n",
            " 9   tipo_acidente           69295 non-null  object \n",
            " 10  classificacao_acidente  69295 non-null  object \n",
            " 11  fase_dia                69295 non-null  object \n",
            " 12  sentido_via             69295 non-null  object \n",
            " 13  condicao_metereologica  69295 non-null  object \n",
            " 14  tipo_pista              69295 non-null  object \n",
            " 15  tracado_via             69295 non-null  object \n",
            " 16  uso_solo                69295 non-null  object \n",
            " 17  pessoas                 69295 non-null  int64  \n",
            " 18  mortos                  69295 non-null  int64  \n",
            " 19  feridos_leves           69295 non-null  int64  \n",
            " 20  feridos_graves          69295 non-null  int64  \n",
            " 21  ilesos                  69295 non-null  int64  \n",
            " 22  ignorados               69295 non-null  int64  \n",
            " 23  feridos                 69295 non-null  int64  \n",
            " 24  veiculos                69295 non-null  int64  \n",
            " 25  latitude                69295 non-null  object \n",
            " 26  longitude               69295 non-null  object \n",
            " 27  regional                69295 non-null  object \n",
            " 28  delegacia               69295 non-null  object \n",
            " 29  uop                     66040 non-null  object \n",
            "dtypes: float64(2), int64(8), object(20)\n",
            "memory usage: 15.9+ MB\n"
          ]
        }
      ]
    },
    {
      "cell_type": "code",
      "metadata": {
        "id": "fQ_AildcznRX",
        "colab": {
          "base_uri": "https://localhost:8080/",
          "height": 340
        },
        "outputId": "5e62d069-e29d-47a6-d809-01fd96aec86e"
      },
      "source": [
        "df.head(5) #Observa as primeiras linhas da base"
      ],
      "execution_count": null,
      "outputs": [
        {
          "output_type": "execute_result",
          "data": {
            "text/plain": [
              "        id data_inversa     dia_semana   horario  uf     br     km  \\\n",
              "0  99973.0   2018-01-01  segunda-feira  00:20:00  RJ  116.0  303,5   \n",
              "1  99976.0   2018-01-01  segunda-feira  00:40:00  SC  282.0    0,4   \n",
              "2  99977.0   2018-01-01  segunda-feira  00:30:00  RJ  493.0      1   \n",
              "3  99981.0   2018-01-01  segunda-feira  01:15:00  RS  386.0    134   \n",
              "4  99982.0   2018-01-01  segunda-feira  00:20:00  RS  293.0  151,7   \n",
              "\n",
              "       municipio                      causa_acidente  \\\n",
              "0        RESENDE                   Condutor Dormindo   \n",
              "1  FLORIANOPOLIS  Não guardar distância de segurança   \n",
              "2       ITABORAI              Ultrapassagem Indevida   \n",
              "3        SARANDI                  Ingestão de Álcool   \n",
              "4       CANDIOTA         Falta de Atenção à Condução   \n",
              "\n",
              "               tipo_acidente  ... feridos_graves ilesos ignorados feridos  \\\n",
              "0  Saída de leito carroçável  ...              4      1         0       4   \n",
              "1           Colisão traseira  ...              2      1         0       2   \n",
              "2            Colisão frontal  ...              0      3         1       1   \n",
              "3        Colisão transversal  ...              0      2         0       0   \n",
              "4  Saída de leito carroçável  ...              1      0         0       1   \n",
              "\n",
              "  veiculos      latitude     longitude  regional  delegacia       uop  \n",
              "0        1     -22,46937     -44,44705     SR-RJ     DEL5/7  UOP03/RJ  \n",
              "1        2  -27,59971687  -48,57565694     SR-SC     DEL8/1  UOP01/SC  \n",
              "2        3    -22,763901    -42,927532     SR-RJ     DEL5/4  UOP02/RJ  \n",
              "3        2    -27,953636    -52,916374     SR-RS    DEL9/14  UOP01/RS  \n",
              "4        1    -31,395214  -53,78391174     SR-RS    DEL9/11  UOP03/RS  \n",
              "\n",
              "[5 rows x 30 columns]"
            ],
            "text/html": [
              "\n",
              "  <div id=\"df-66fee37e-91b2-4c5d-ab7b-3dc6bdeaaf71\" class=\"colab-df-container\">\n",
              "    <div>\n",
              "<style scoped>\n",
              "    .dataframe tbody tr th:only-of-type {\n",
              "        vertical-align: middle;\n",
              "    }\n",
              "\n",
              "    .dataframe tbody tr th {\n",
              "        vertical-align: top;\n",
              "    }\n",
              "\n",
              "    .dataframe thead th {\n",
              "        text-align: right;\n",
              "    }\n",
              "</style>\n",
              "<table border=\"1\" class=\"dataframe\">\n",
              "  <thead>\n",
              "    <tr style=\"text-align: right;\">\n",
              "      <th></th>\n",
              "      <th>id</th>\n",
              "      <th>data_inversa</th>\n",
              "      <th>dia_semana</th>\n",
              "      <th>horario</th>\n",
              "      <th>uf</th>\n",
              "      <th>br</th>\n",
              "      <th>km</th>\n",
              "      <th>municipio</th>\n",
              "      <th>causa_acidente</th>\n",
              "      <th>tipo_acidente</th>\n",
              "      <th>...</th>\n",
              "      <th>feridos_graves</th>\n",
              "      <th>ilesos</th>\n",
              "      <th>ignorados</th>\n",
              "      <th>feridos</th>\n",
              "      <th>veiculos</th>\n",
              "      <th>latitude</th>\n",
              "      <th>longitude</th>\n",
              "      <th>regional</th>\n",
              "      <th>delegacia</th>\n",
              "      <th>uop</th>\n",
              "    </tr>\n",
              "  </thead>\n",
              "  <tbody>\n",
              "    <tr>\n",
              "      <th>0</th>\n",
              "      <td>99973.0</td>\n",
              "      <td>2018-01-01</td>\n",
              "      <td>segunda-feira</td>\n",
              "      <td>00:20:00</td>\n",
              "      <td>RJ</td>\n",
              "      <td>116.0</td>\n",
              "      <td>303,5</td>\n",
              "      <td>RESENDE</td>\n",
              "      <td>Condutor Dormindo</td>\n",
              "      <td>Saída de leito carroçável</td>\n",
              "      <td>...</td>\n",
              "      <td>4</td>\n",
              "      <td>1</td>\n",
              "      <td>0</td>\n",
              "      <td>4</td>\n",
              "      <td>1</td>\n",
              "      <td>-22,46937</td>\n",
              "      <td>-44,44705</td>\n",
              "      <td>SR-RJ</td>\n",
              "      <td>DEL5/7</td>\n",
              "      <td>UOP03/RJ</td>\n",
              "    </tr>\n",
              "    <tr>\n",
              "      <th>1</th>\n",
              "      <td>99976.0</td>\n",
              "      <td>2018-01-01</td>\n",
              "      <td>segunda-feira</td>\n",
              "      <td>00:40:00</td>\n",
              "      <td>SC</td>\n",
              "      <td>282.0</td>\n",
              "      <td>0,4</td>\n",
              "      <td>FLORIANOPOLIS</td>\n",
              "      <td>Não guardar distância de segurança</td>\n",
              "      <td>Colisão traseira</td>\n",
              "      <td>...</td>\n",
              "      <td>2</td>\n",
              "      <td>1</td>\n",
              "      <td>0</td>\n",
              "      <td>2</td>\n",
              "      <td>2</td>\n",
              "      <td>-27,59971687</td>\n",
              "      <td>-48,57565694</td>\n",
              "      <td>SR-SC</td>\n",
              "      <td>DEL8/1</td>\n",
              "      <td>UOP01/SC</td>\n",
              "    </tr>\n",
              "    <tr>\n",
              "      <th>2</th>\n",
              "      <td>99977.0</td>\n",
              "      <td>2018-01-01</td>\n",
              "      <td>segunda-feira</td>\n",
              "      <td>00:30:00</td>\n",
              "      <td>RJ</td>\n",
              "      <td>493.0</td>\n",
              "      <td>1</td>\n",
              "      <td>ITABORAI</td>\n",
              "      <td>Ultrapassagem Indevida</td>\n",
              "      <td>Colisão frontal</td>\n",
              "      <td>...</td>\n",
              "      <td>0</td>\n",
              "      <td>3</td>\n",
              "      <td>1</td>\n",
              "      <td>1</td>\n",
              "      <td>3</td>\n",
              "      <td>-22,763901</td>\n",
              "      <td>-42,927532</td>\n",
              "      <td>SR-RJ</td>\n",
              "      <td>DEL5/4</td>\n",
              "      <td>UOP02/RJ</td>\n",
              "    </tr>\n",
              "    <tr>\n",
              "      <th>3</th>\n",
              "      <td>99981.0</td>\n",
              "      <td>2018-01-01</td>\n",
              "      <td>segunda-feira</td>\n",
              "      <td>01:15:00</td>\n",
              "      <td>RS</td>\n",
              "      <td>386.0</td>\n",
              "      <td>134</td>\n",
              "      <td>SARANDI</td>\n",
              "      <td>Ingestão de Álcool</td>\n",
              "      <td>Colisão transversal</td>\n",
              "      <td>...</td>\n",
              "      <td>0</td>\n",
              "      <td>2</td>\n",
              "      <td>0</td>\n",
              "      <td>0</td>\n",
              "      <td>2</td>\n",
              "      <td>-27,953636</td>\n",
              "      <td>-52,916374</td>\n",
              "      <td>SR-RS</td>\n",
              "      <td>DEL9/14</td>\n",
              "      <td>UOP01/RS</td>\n",
              "    </tr>\n",
              "    <tr>\n",
              "      <th>4</th>\n",
              "      <td>99982.0</td>\n",
              "      <td>2018-01-01</td>\n",
              "      <td>segunda-feira</td>\n",
              "      <td>00:20:00</td>\n",
              "      <td>RS</td>\n",
              "      <td>293.0</td>\n",
              "      <td>151,7</td>\n",
              "      <td>CANDIOTA</td>\n",
              "      <td>Falta de Atenção à Condução</td>\n",
              "      <td>Saída de leito carroçável</td>\n",
              "      <td>...</td>\n",
              "      <td>1</td>\n",
              "      <td>0</td>\n",
              "      <td>0</td>\n",
              "      <td>1</td>\n",
              "      <td>1</td>\n",
              "      <td>-31,395214</td>\n",
              "      <td>-53,78391174</td>\n",
              "      <td>SR-RS</td>\n",
              "      <td>DEL9/11</td>\n",
              "      <td>UOP03/RS</td>\n",
              "    </tr>\n",
              "  </tbody>\n",
              "</table>\n",
              "<p>5 rows × 30 columns</p>\n",
              "</div>\n",
              "    <div class=\"colab-df-buttons\">\n",
              "\n",
              "  <div class=\"colab-df-container\">\n",
              "    <button class=\"colab-df-convert\" onclick=\"convertToInteractive('df-66fee37e-91b2-4c5d-ab7b-3dc6bdeaaf71')\"\n",
              "            title=\"Convert this dataframe to an interactive table.\"\n",
              "            style=\"display:none;\">\n",
              "\n",
              "  <svg xmlns=\"http://www.w3.org/2000/svg\" height=\"24px\" viewBox=\"0 -960 960 960\">\n",
              "    <path d=\"M120-120v-720h720v720H120Zm60-500h600v-160H180v160Zm220 220h160v-160H400v160Zm0 220h160v-160H400v160ZM180-400h160v-160H180v160Zm440 0h160v-160H620v160ZM180-180h160v-160H180v160Zm440 0h160v-160H620v160Z\"/>\n",
              "  </svg>\n",
              "    </button>\n",
              "\n",
              "  <style>\n",
              "    .colab-df-container {\n",
              "      display:flex;\n",
              "      gap: 12px;\n",
              "    }\n",
              "\n",
              "    .colab-df-convert {\n",
              "      background-color: #E8F0FE;\n",
              "      border: none;\n",
              "      border-radius: 50%;\n",
              "      cursor: pointer;\n",
              "      display: none;\n",
              "      fill: #1967D2;\n",
              "      height: 32px;\n",
              "      padding: 0 0 0 0;\n",
              "      width: 32px;\n",
              "    }\n",
              "\n",
              "    .colab-df-convert:hover {\n",
              "      background-color: #E2EBFA;\n",
              "      box-shadow: 0px 1px 2px rgba(60, 64, 67, 0.3), 0px 1px 3px 1px rgba(60, 64, 67, 0.15);\n",
              "      fill: #174EA6;\n",
              "    }\n",
              "\n",
              "    .colab-df-buttons div {\n",
              "      margin-bottom: 4px;\n",
              "    }\n",
              "\n",
              "    [theme=dark] .colab-df-convert {\n",
              "      background-color: #3B4455;\n",
              "      fill: #D2E3FC;\n",
              "    }\n",
              "\n",
              "    [theme=dark] .colab-df-convert:hover {\n",
              "      background-color: #434B5C;\n",
              "      box-shadow: 0px 1px 3px 1px rgba(0, 0, 0, 0.15);\n",
              "      filter: drop-shadow(0px 1px 2px rgba(0, 0, 0, 0.3));\n",
              "      fill: #FFFFFF;\n",
              "    }\n",
              "  </style>\n",
              "\n",
              "    <script>\n",
              "      const buttonEl =\n",
              "        document.querySelector('#df-66fee37e-91b2-4c5d-ab7b-3dc6bdeaaf71 button.colab-df-convert');\n",
              "      buttonEl.style.display =\n",
              "        google.colab.kernel.accessAllowed ? 'block' : 'none';\n",
              "\n",
              "      async function convertToInteractive(key) {\n",
              "        const element = document.querySelector('#df-66fee37e-91b2-4c5d-ab7b-3dc6bdeaaf71');\n",
              "        const dataTable =\n",
              "          await google.colab.kernel.invokeFunction('convertToInteractive',\n",
              "                                                    [key], {});\n",
              "        if (!dataTable) return;\n",
              "\n",
              "        const docLinkHtml = 'Like what you see? Visit the ' +\n",
              "          '<a target=\"_blank\" href=https://colab.research.google.com/notebooks/data_table.ipynb>data table notebook</a>'\n",
              "          + ' to learn more about interactive tables.';\n",
              "        element.innerHTML = '';\n",
              "        dataTable['output_type'] = 'display_data';\n",
              "        await google.colab.output.renderOutput(dataTable, element);\n",
              "        const docLink = document.createElement('div');\n",
              "        docLink.innerHTML = docLinkHtml;\n",
              "        element.appendChild(docLink);\n",
              "      }\n",
              "    </script>\n",
              "  </div>\n",
              "\n",
              "\n",
              "<div id=\"df-f68d9356-3071-45a7-92be-4662ce2585c0\">\n",
              "  <button class=\"colab-df-quickchart\" onclick=\"quickchart('df-f68d9356-3071-45a7-92be-4662ce2585c0')\"\n",
              "            title=\"Suggest charts\"\n",
              "            style=\"display:none;\">\n",
              "\n",
              "<svg xmlns=\"http://www.w3.org/2000/svg\" height=\"24px\"viewBox=\"0 0 24 24\"\n",
              "     width=\"24px\">\n",
              "    <g>\n",
              "        <path d=\"M19 3H5c-1.1 0-2 .9-2 2v14c0 1.1.9 2 2 2h14c1.1 0 2-.9 2-2V5c0-1.1-.9-2-2-2zM9 17H7v-7h2v7zm4 0h-2V7h2v10zm4 0h-2v-4h2v4z\"/>\n",
              "    </g>\n",
              "</svg>\n",
              "  </button>\n",
              "\n",
              "<style>\n",
              "  .colab-df-quickchart {\n",
              "      --bg-color: #E8F0FE;\n",
              "      --fill-color: #1967D2;\n",
              "      --hover-bg-color: #E2EBFA;\n",
              "      --hover-fill-color: #174EA6;\n",
              "      --disabled-fill-color: #AAA;\n",
              "      --disabled-bg-color: #DDD;\n",
              "  }\n",
              "\n",
              "  [theme=dark] .colab-df-quickchart {\n",
              "      --bg-color: #3B4455;\n",
              "      --fill-color: #D2E3FC;\n",
              "      --hover-bg-color: #434B5C;\n",
              "      --hover-fill-color: #FFFFFF;\n",
              "      --disabled-bg-color: #3B4455;\n",
              "      --disabled-fill-color: #666;\n",
              "  }\n",
              "\n",
              "  .colab-df-quickchart {\n",
              "    background-color: var(--bg-color);\n",
              "    border: none;\n",
              "    border-radius: 50%;\n",
              "    cursor: pointer;\n",
              "    display: none;\n",
              "    fill: var(--fill-color);\n",
              "    height: 32px;\n",
              "    padding: 0;\n",
              "    width: 32px;\n",
              "  }\n",
              "\n",
              "  .colab-df-quickchart:hover {\n",
              "    background-color: var(--hover-bg-color);\n",
              "    box-shadow: 0 1px 2px rgba(60, 64, 67, 0.3), 0 1px 3px 1px rgba(60, 64, 67, 0.15);\n",
              "    fill: var(--button-hover-fill-color);\n",
              "  }\n",
              "\n",
              "  .colab-df-quickchart-complete:disabled,\n",
              "  .colab-df-quickchart-complete:disabled:hover {\n",
              "    background-color: var(--disabled-bg-color);\n",
              "    fill: var(--disabled-fill-color);\n",
              "    box-shadow: none;\n",
              "  }\n",
              "\n",
              "  .colab-df-spinner {\n",
              "    border: 2px solid var(--fill-color);\n",
              "    border-color: transparent;\n",
              "    border-bottom-color: var(--fill-color);\n",
              "    animation:\n",
              "      spin 1s steps(1) infinite;\n",
              "  }\n",
              "\n",
              "  @keyframes spin {\n",
              "    0% {\n",
              "      border-color: transparent;\n",
              "      border-bottom-color: var(--fill-color);\n",
              "      border-left-color: var(--fill-color);\n",
              "    }\n",
              "    20% {\n",
              "      border-color: transparent;\n",
              "      border-left-color: var(--fill-color);\n",
              "      border-top-color: var(--fill-color);\n",
              "    }\n",
              "    30% {\n",
              "      border-color: transparent;\n",
              "      border-left-color: var(--fill-color);\n",
              "      border-top-color: var(--fill-color);\n",
              "      border-right-color: var(--fill-color);\n",
              "    }\n",
              "    40% {\n",
              "      border-color: transparent;\n",
              "      border-right-color: var(--fill-color);\n",
              "      border-top-color: var(--fill-color);\n",
              "    }\n",
              "    60% {\n",
              "      border-color: transparent;\n",
              "      border-right-color: var(--fill-color);\n",
              "    }\n",
              "    80% {\n",
              "      border-color: transparent;\n",
              "      border-right-color: var(--fill-color);\n",
              "      border-bottom-color: var(--fill-color);\n",
              "    }\n",
              "    90% {\n",
              "      border-color: transparent;\n",
              "      border-bottom-color: var(--fill-color);\n",
              "    }\n",
              "  }\n",
              "</style>\n",
              "\n",
              "  <script>\n",
              "    async function quickchart(key) {\n",
              "      const quickchartButtonEl =\n",
              "        document.querySelector('#' + key + ' button');\n",
              "      quickchartButtonEl.disabled = true;  // To prevent multiple clicks.\n",
              "      quickchartButtonEl.classList.add('colab-df-spinner');\n",
              "      try {\n",
              "        const charts = await google.colab.kernel.invokeFunction(\n",
              "            'suggestCharts', [key], {});\n",
              "      } catch (error) {\n",
              "        console.error('Error during call to suggestCharts:', error);\n",
              "      }\n",
              "      quickchartButtonEl.classList.remove('colab-df-spinner');\n",
              "      quickchartButtonEl.classList.add('colab-df-quickchart-complete');\n",
              "    }\n",
              "    (() => {\n",
              "      let quickchartButtonEl =\n",
              "        document.querySelector('#df-f68d9356-3071-45a7-92be-4662ce2585c0 button');\n",
              "      quickchartButtonEl.style.display =\n",
              "        google.colab.kernel.accessAllowed ? 'block' : 'none';\n",
              "    })();\n",
              "  </script>\n",
              "</div>\n",
              "\n",
              "    </div>\n",
              "  </div>\n"
            ],
            "application/vnd.google.colaboratory.intrinsic+json": {
              "type": "dataframe",
              "variable_name": "df"
            }
          },
          "metadata": {},
          "execution_count": 7
        }
      ]
    },
    {
      "cell_type": "code",
      "source": [
        "df.tail(5) #Observa as ultimas linhas da base"
      ],
      "metadata": {
        "colab": {
          "base_uri": "https://localhost:8080/",
          "height": 412
        },
        "id": "gAekXxowBjQa",
        "outputId": "b29a2b16-2435-477c-eb77-f0d7698fc2d6"
      },
      "execution_count": null,
      "outputs": [
        {
          "output_type": "execute_result",
          "data": {
            "text/plain": [
              "             id data_inversa     dia_semana   horario  uf     br     km  \\\n",
              "69290  252256.0   2018-12-24  segunda-feira  09:15:00  PI  343.0  263,1   \n",
              "69291  252652.0   2018-12-12   quarta-feira  07:00:00  BA  101.0    321   \n",
              "69292  252801.0   2018-11-15   quinta-feira  10:48:00  SP  116.0    529   \n",
              "69293  253040.0   2018-11-23    sexta-feira  19:30:00  RS  472.0  573,5   \n",
              "69294  253078.0   2018-10-01  segunda-feira  04:31:00  GO   40.0      9   \n",
              "\n",
              "                       municipio  \\\n",
              "69290                CAMPO MAIOR   \n",
              "69291  PRESIDENTE TANCREDO NEVES   \n",
              "69292             BARRA DO TURVO   \n",
              "69293                 URUGUAIANA   \n",
              "69294                   LUZIANIA   \n",
              "\n",
              "                                          causa_acidente  \\\n",
              "69290                                   Agressão Externa   \n",
              "69291                        Falta de Atenção à Condução   \n",
              "69292                        Falta de Atenção à Condução   \n",
              "69293  Desobediência às normas de trânsito pelo condutor   \n",
              "69294                 Não guardar distância de segurança   \n",
              "\n",
              "                      tipo_acidente  ... feridos_graves ilesos ignorados  \\\n",
              "69290   Colisão com objeto estático  ...              0      1         0   \n",
              "69291     Saída de leito carroçável  ...              0      0         0   \n",
              "69292              Colisão traseira  ...              0      0         1   \n",
              "69293  Queda de ocupante de veículo  ...              1      1         0   \n",
              "69294     Saída de leito carroçável  ...              0      0         0   \n",
              "\n",
              "      feridos veiculos      latitude     longitude  regional  delegacia  \\\n",
              "69290       0        1     -4,819326    -42,158821     SR-PI    DEL17/1   \n",
              "69291       1        1  -13,44768518  -39,42066193     SR-BA    DEL10/5   \n",
              "69292       1        2    -24,939211    -48,301248     SR-SP     DEL6/5   \n",
              "69293       1        2  -29,76355779  -57,05200195     SR-RS    DEL9/13   \n",
              "69294       1        1    -16,131158    -47,957739     SR-DF   UOP01/DF   \n",
              "\n",
              "            uop  \n",
              "69290  UOP03/PI  \n",
              "69291  UOP03/BA  \n",
              "69292  UOP03/SP  \n",
              "69293  UOP01/RS  \n",
              "69294       NaN  \n",
              "\n",
              "[5 rows x 30 columns]"
            ],
            "text/html": [
              "\n",
              "  <div id=\"df-a25f62a2-c2ff-4fb7-af15-6791d2b84bfe\" class=\"colab-df-container\">\n",
              "    <div>\n",
              "<style scoped>\n",
              "    .dataframe tbody tr th:only-of-type {\n",
              "        vertical-align: middle;\n",
              "    }\n",
              "\n",
              "    .dataframe tbody tr th {\n",
              "        vertical-align: top;\n",
              "    }\n",
              "\n",
              "    .dataframe thead th {\n",
              "        text-align: right;\n",
              "    }\n",
              "</style>\n",
              "<table border=\"1\" class=\"dataframe\">\n",
              "  <thead>\n",
              "    <tr style=\"text-align: right;\">\n",
              "      <th></th>\n",
              "      <th>id</th>\n",
              "      <th>data_inversa</th>\n",
              "      <th>dia_semana</th>\n",
              "      <th>horario</th>\n",
              "      <th>uf</th>\n",
              "      <th>br</th>\n",
              "      <th>km</th>\n",
              "      <th>municipio</th>\n",
              "      <th>causa_acidente</th>\n",
              "      <th>tipo_acidente</th>\n",
              "      <th>...</th>\n",
              "      <th>feridos_graves</th>\n",
              "      <th>ilesos</th>\n",
              "      <th>ignorados</th>\n",
              "      <th>feridos</th>\n",
              "      <th>veiculos</th>\n",
              "      <th>latitude</th>\n",
              "      <th>longitude</th>\n",
              "      <th>regional</th>\n",
              "      <th>delegacia</th>\n",
              "      <th>uop</th>\n",
              "    </tr>\n",
              "  </thead>\n",
              "  <tbody>\n",
              "    <tr>\n",
              "      <th>69290</th>\n",
              "      <td>252256.0</td>\n",
              "      <td>2018-12-24</td>\n",
              "      <td>segunda-feira</td>\n",
              "      <td>09:15:00</td>\n",
              "      <td>PI</td>\n",
              "      <td>343.0</td>\n",
              "      <td>263,1</td>\n",
              "      <td>CAMPO MAIOR</td>\n",
              "      <td>Agressão Externa</td>\n",
              "      <td>Colisão com objeto estático</td>\n",
              "      <td>...</td>\n",
              "      <td>0</td>\n",
              "      <td>1</td>\n",
              "      <td>0</td>\n",
              "      <td>0</td>\n",
              "      <td>1</td>\n",
              "      <td>-4,819326</td>\n",
              "      <td>-42,158821</td>\n",
              "      <td>SR-PI</td>\n",
              "      <td>DEL17/1</td>\n",
              "      <td>UOP03/PI</td>\n",
              "    </tr>\n",
              "    <tr>\n",
              "      <th>69291</th>\n",
              "      <td>252652.0</td>\n",
              "      <td>2018-12-12</td>\n",
              "      <td>quarta-feira</td>\n",
              "      <td>07:00:00</td>\n",
              "      <td>BA</td>\n",
              "      <td>101.0</td>\n",
              "      <td>321</td>\n",
              "      <td>PRESIDENTE TANCREDO NEVES</td>\n",
              "      <td>Falta de Atenção à Condução</td>\n",
              "      <td>Saída de leito carroçável</td>\n",
              "      <td>...</td>\n",
              "      <td>0</td>\n",
              "      <td>0</td>\n",
              "      <td>0</td>\n",
              "      <td>1</td>\n",
              "      <td>1</td>\n",
              "      <td>-13,44768518</td>\n",
              "      <td>-39,42066193</td>\n",
              "      <td>SR-BA</td>\n",
              "      <td>DEL10/5</td>\n",
              "      <td>UOP03/BA</td>\n",
              "    </tr>\n",
              "    <tr>\n",
              "      <th>69292</th>\n",
              "      <td>252801.0</td>\n",
              "      <td>2018-11-15</td>\n",
              "      <td>quinta-feira</td>\n",
              "      <td>10:48:00</td>\n",
              "      <td>SP</td>\n",
              "      <td>116.0</td>\n",
              "      <td>529</td>\n",
              "      <td>BARRA DO TURVO</td>\n",
              "      <td>Falta de Atenção à Condução</td>\n",
              "      <td>Colisão traseira</td>\n",
              "      <td>...</td>\n",
              "      <td>0</td>\n",
              "      <td>0</td>\n",
              "      <td>1</td>\n",
              "      <td>1</td>\n",
              "      <td>2</td>\n",
              "      <td>-24,939211</td>\n",
              "      <td>-48,301248</td>\n",
              "      <td>SR-SP</td>\n",
              "      <td>DEL6/5</td>\n",
              "      <td>UOP03/SP</td>\n",
              "    </tr>\n",
              "    <tr>\n",
              "      <th>69293</th>\n",
              "      <td>253040.0</td>\n",
              "      <td>2018-11-23</td>\n",
              "      <td>sexta-feira</td>\n",
              "      <td>19:30:00</td>\n",
              "      <td>RS</td>\n",
              "      <td>472.0</td>\n",
              "      <td>573,5</td>\n",
              "      <td>URUGUAIANA</td>\n",
              "      <td>Desobediência às normas de trânsito pelo condutor</td>\n",
              "      <td>Queda de ocupante de veículo</td>\n",
              "      <td>...</td>\n",
              "      <td>1</td>\n",
              "      <td>1</td>\n",
              "      <td>0</td>\n",
              "      <td>1</td>\n",
              "      <td>2</td>\n",
              "      <td>-29,76355779</td>\n",
              "      <td>-57,05200195</td>\n",
              "      <td>SR-RS</td>\n",
              "      <td>DEL9/13</td>\n",
              "      <td>UOP01/RS</td>\n",
              "    </tr>\n",
              "    <tr>\n",
              "      <th>69294</th>\n",
              "      <td>253078.0</td>\n",
              "      <td>2018-10-01</td>\n",
              "      <td>segunda-feira</td>\n",
              "      <td>04:31:00</td>\n",
              "      <td>GO</td>\n",
              "      <td>40.0</td>\n",
              "      <td>9</td>\n",
              "      <td>LUZIANIA</td>\n",
              "      <td>Não guardar distância de segurança</td>\n",
              "      <td>Saída de leito carroçável</td>\n",
              "      <td>...</td>\n",
              "      <td>0</td>\n",
              "      <td>0</td>\n",
              "      <td>0</td>\n",
              "      <td>1</td>\n",
              "      <td>1</td>\n",
              "      <td>-16,131158</td>\n",
              "      <td>-47,957739</td>\n",
              "      <td>SR-DF</td>\n",
              "      <td>UOP01/DF</td>\n",
              "      <td>NaN</td>\n",
              "    </tr>\n",
              "  </tbody>\n",
              "</table>\n",
              "<p>5 rows × 30 columns</p>\n",
              "</div>\n",
              "    <div class=\"colab-df-buttons\">\n",
              "\n",
              "  <div class=\"colab-df-container\">\n",
              "    <button class=\"colab-df-convert\" onclick=\"convertToInteractive('df-a25f62a2-c2ff-4fb7-af15-6791d2b84bfe')\"\n",
              "            title=\"Convert this dataframe to an interactive table.\"\n",
              "            style=\"display:none;\">\n",
              "\n",
              "  <svg xmlns=\"http://www.w3.org/2000/svg\" height=\"24px\" viewBox=\"0 -960 960 960\">\n",
              "    <path d=\"M120-120v-720h720v720H120Zm60-500h600v-160H180v160Zm220 220h160v-160H400v160Zm0 220h160v-160H400v160ZM180-400h160v-160H180v160Zm440 0h160v-160H620v160ZM180-180h160v-160H180v160Zm440 0h160v-160H620v160Z\"/>\n",
              "  </svg>\n",
              "    </button>\n",
              "\n",
              "  <style>\n",
              "    .colab-df-container {\n",
              "      display:flex;\n",
              "      gap: 12px;\n",
              "    }\n",
              "\n",
              "    .colab-df-convert {\n",
              "      background-color: #E8F0FE;\n",
              "      border: none;\n",
              "      border-radius: 50%;\n",
              "      cursor: pointer;\n",
              "      display: none;\n",
              "      fill: #1967D2;\n",
              "      height: 32px;\n",
              "      padding: 0 0 0 0;\n",
              "      width: 32px;\n",
              "    }\n",
              "\n",
              "    .colab-df-convert:hover {\n",
              "      background-color: #E2EBFA;\n",
              "      box-shadow: 0px 1px 2px rgba(60, 64, 67, 0.3), 0px 1px 3px 1px rgba(60, 64, 67, 0.15);\n",
              "      fill: #174EA6;\n",
              "    }\n",
              "\n",
              "    .colab-df-buttons div {\n",
              "      margin-bottom: 4px;\n",
              "    }\n",
              "\n",
              "    [theme=dark] .colab-df-convert {\n",
              "      background-color: #3B4455;\n",
              "      fill: #D2E3FC;\n",
              "    }\n",
              "\n",
              "    [theme=dark] .colab-df-convert:hover {\n",
              "      background-color: #434B5C;\n",
              "      box-shadow: 0px 1px 3px 1px rgba(0, 0, 0, 0.15);\n",
              "      filter: drop-shadow(0px 1px 2px rgba(0, 0, 0, 0.3));\n",
              "      fill: #FFFFFF;\n",
              "    }\n",
              "  </style>\n",
              "\n",
              "    <script>\n",
              "      const buttonEl =\n",
              "        document.querySelector('#df-a25f62a2-c2ff-4fb7-af15-6791d2b84bfe button.colab-df-convert');\n",
              "      buttonEl.style.display =\n",
              "        google.colab.kernel.accessAllowed ? 'block' : 'none';\n",
              "\n",
              "      async function convertToInteractive(key) {\n",
              "        const element = document.querySelector('#df-a25f62a2-c2ff-4fb7-af15-6791d2b84bfe');\n",
              "        const dataTable =\n",
              "          await google.colab.kernel.invokeFunction('convertToInteractive',\n",
              "                                                    [key], {});\n",
              "        if (!dataTable) return;\n",
              "\n",
              "        const docLinkHtml = 'Like what you see? Visit the ' +\n",
              "          '<a target=\"_blank\" href=https://colab.research.google.com/notebooks/data_table.ipynb>data table notebook</a>'\n",
              "          + ' to learn more about interactive tables.';\n",
              "        element.innerHTML = '';\n",
              "        dataTable['output_type'] = 'display_data';\n",
              "        await google.colab.output.renderOutput(dataTable, element);\n",
              "        const docLink = document.createElement('div');\n",
              "        docLink.innerHTML = docLinkHtml;\n",
              "        element.appendChild(docLink);\n",
              "      }\n",
              "    </script>\n",
              "  </div>\n",
              "\n",
              "\n",
              "<div id=\"df-2cb269e1-8310-46a4-8b8f-0791f0be9fa3\">\n",
              "  <button class=\"colab-df-quickchart\" onclick=\"quickchart('df-2cb269e1-8310-46a4-8b8f-0791f0be9fa3')\"\n",
              "            title=\"Suggest charts\"\n",
              "            style=\"display:none;\">\n",
              "\n",
              "<svg xmlns=\"http://www.w3.org/2000/svg\" height=\"24px\"viewBox=\"0 0 24 24\"\n",
              "     width=\"24px\">\n",
              "    <g>\n",
              "        <path d=\"M19 3H5c-1.1 0-2 .9-2 2v14c0 1.1.9 2 2 2h14c1.1 0 2-.9 2-2V5c0-1.1-.9-2-2-2zM9 17H7v-7h2v7zm4 0h-2V7h2v10zm4 0h-2v-4h2v4z\"/>\n",
              "    </g>\n",
              "</svg>\n",
              "  </button>\n",
              "\n",
              "<style>\n",
              "  .colab-df-quickchart {\n",
              "      --bg-color: #E8F0FE;\n",
              "      --fill-color: #1967D2;\n",
              "      --hover-bg-color: #E2EBFA;\n",
              "      --hover-fill-color: #174EA6;\n",
              "      --disabled-fill-color: #AAA;\n",
              "      --disabled-bg-color: #DDD;\n",
              "  }\n",
              "\n",
              "  [theme=dark] .colab-df-quickchart {\n",
              "      --bg-color: #3B4455;\n",
              "      --fill-color: #D2E3FC;\n",
              "      --hover-bg-color: #434B5C;\n",
              "      --hover-fill-color: #FFFFFF;\n",
              "      --disabled-bg-color: #3B4455;\n",
              "      --disabled-fill-color: #666;\n",
              "  }\n",
              "\n",
              "  .colab-df-quickchart {\n",
              "    background-color: var(--bg-color);\n",
              "    border: none;\n",
              "    border-radius: 50%;\n",
              "    cursor: pointer;\n",
              "    display: none;\n",
              "    fill: var(--fill-color);\n",
              "    height: 32px;\n",
              "    padding: 0;\n",
              "    width: 32px;\n",
              "  }\n",
              "\n",
              "  .colab-df-quickchart:hover {\n",
              "    background-color: var(--hover-bg-color);\n",
              "    box-shadow: 0 1px 2px rgba(60, 64, 67, 0.3), 0 1px 3px 1px rgba(60, 64, 67, 0.15);\n",
              "    fill: var(--button-hover-fill-color);\n",
              "  }\n",
              "\n",
              "  .colab-df-quickchart-complete:disabled,\n",
              "  .colab-df-quickchart-complete:disabled:hover {\n",
              "    background-color: var(--disabled-bg-color);\n",
              "    fill: var(--disabled-fill-color);\n",
              "    box-shadow: none;\n",
              "  }\n",
              "\n",
              "  .colab-df-spinner {\n",
              "    border: 2px solid var(--fill-color);\n",
              "    border-color: transparent;\n",
              "    border-bottom-color: var(--fill-color);\n",
              "    animation:\n",
              "      spin 1s steps(1) infinite;\n",
              "  }\n",
              "\n",
              "  @keyframes spin {\n",
              "    0% {\n",
              "      border-color: transparent;\n",
              "      border-bottom-color: var(--fill-color);\n",
              "      border-left-color: var(--fill-color);\n",
              "    }\n",
              "    20% {\n",
              "      border-color: transparent;\n",
              "      border-left-color: var(--fill-color);\n",
              "      border-top-color: var(--fill-color);\n",
              "    }\n",
              "    30% {\n",
              "      border-color: transparent;\n",
              "      border-left-color: var(--fill-color);\n",
              "      border-top-color: var(--fill-color);\n",
              "      border-right-color: var(--fill-color);\n",
              "    }\n",
              "    40% {\n",
              "      border-color: transparent;\n",
              "      border-right-color: var(--fill-color);\n",
              "      border-top-color: var(--fill-color);\n",
              "    }\n",
              "    60% {\n",
              "      border-color: transparent;\n",
              "      border-right-color: var(--fill-color);\n",
              "    }\n",
              "    80% {\n",
              "      border-color: transparent;\n",
              "      border-right-color: var(--fill-color);\n",
              "      border-bottom-color: var(--fill-color);\n",
              "    }\n",
              "    90% {\n",
              "      border-color: transparent;\n",
              "      border-bottom-color: var(--fill-color);\n",
              "    }\n",
              "  }\n",
              "</style>\n",
              "\n",
              "  <script>\n",
              "    async function quickchart(key) {\n",
              "      const quickchartButtonEl =\n",
              "        document.querySelector('#' + key + ' button');\n",
              "      quickchartButtonEl.disabled = true;  // To prevent multiple clicks.\n",
              "      quickchartButtonEl.classList.add('colab-df-spinner');\n",
              "      try {\n",
              "        const charts = await google.colab.kernel.invokeFunction(\n",
              "            'suggestCharts', [key], {});\n",
              "      } catch (error) {\n",
              "        console.error('Error during call to suggestCharts:', error);\n",
              "      }\n",
              "      quickchartButtonEl.classList.remove('colab-df-spinner');\n",
              "      quickchartButtonEl.classList.add('colab-df-quickchart-complete');\n",
              "    }\n",
              "    (() => {\n",
              "      let quickchartButtonEl =\n",
              "        document.querySelector('#df-2cb269e1-8310-46a4-8b8f-0791f0be9fa3 button');\n",
              "      quickchartButtonEl.style.display =\n",
              "        google.colab.kernel.accessAllowed ? 'block' : 'none';\n",
              "    })();\n",
              "  </script>\n",
              "</div>\n",
              "\n",
              "    </div>\n",
              "  </div>\n"
            ],
            "application/vnd.google.colaboratory.intrinsic+json": {
              "type": "dataframe"
            }
          },
          "metadata": {},
          "execution_count": 9
        }
      ]
    },
    {
      "cell_type": "code",
      "source": [
        "df.columns #mostra as colunas presentes na base"
      ],
      "metadata": {
        "id": "QaZfMy0866f-",
        "colab": {
          "base_uri": "https://localhost:8080/"
        },
        "outputId": "cb6f1251-84c4-40ed-ad3a-c8ca55ef7438"
      },
      "execution_count": null,
      "outputs": [
        {
          "output_type": "execute_result",
          "data": {
            "text/plain": [
              "Index(['id', 'data_inversa', 'dia_semana', 'horario', 'uf', 'br', 'km',\n",
              "       'municipio', 'causa_acidente', 'tipo_acidente',\n",
              "       'classificacao_acidente', 'fase_dia', 'sentido_via',\n",
              "       'condicao_metereologica', 'tipo_pista', 'tracado_via', 'uso_solo',\n",
              "       'pessoas', 'mortos', 'feridos_leves', 'feridos_graves', 'ilesos',\n",
              "       'ignorados', 'feridos', 'veiculos', 'latitude', 'longitude', 'regional',\n",
              "       'delegacia', 'uop'],\n",
              "      dtype='object')"
            ]
          },
          "metadata": {},
          "execution_count": 8
        }
      ]
    },
    {
      "cell_type": "markdown",
      "metadata": {
        "id": "_7kWZ4KlznRX"
      },
      "source": [
        "**Item 01**  \n",
        "- Qual é o estado que teve o maior número de acidentes?"
      ]
    },
    {
      "cell_type": "code",
      "metadata": {
        "id": "cdUe9E_kznRX",
        "colab": {
          "base_uri": "https://localhost:8080/"
        },
        "outputId": "d390a633-64c0-416e-9afb-72d9fda9c56d"
      },
      "source": [
        "estado_acidentes = df['uf'].value_counts()\n",
        "estado_acidentes.head(1)"
      ],
      "execution_count": null,
      "outputs": [
        {
          "output_type": "execute_result",
          "data": {
            "text/plain": [
              "uf\n",
              "MG    9066\n",
              "Name: count, dtype: int64"
            ]
          },
          "metadata": {},
          "execution_count": 11
        }
      ]
    },
    {
      "cell_type": "markdown",
      "metadata": {
        "id": "0ea-ZKNOznRX"
      },
      "source": [
        "**Item 02**  \n",
        "- Apresente a quantidade de acidentes por dia da semana."
      ]
    },
    {
      "cell_type": "code",
      "metadata": {
        "id": "QpII7z2yznRY",
        "colab": {
          "base_uri": "https://localhost:8080/"
        },
        "outputId": "ddc41c8b-4620-41b8-fdcb-426db5d79213"
      },
      "source": [
        "dia_semana_acidentes = df['dia_semana'].value_counts()\n",
        "dia_semana_acidentes"
      ],
      "execution_count": null,
      "outputs": [
        {
          "output_type": "execute_result",
          "data": {
            "text/plain": [
              "dia_semana\n",
              "domingo          11283\n",
              "sábado           11239\n",
              "sexta-feira      10632\n",
              "segunda-feira     9422\n",
              "quinta-feira      9230\n",
              "quarta-feira      8824\n",
              "terça-feira       8665\n",
              "Name: count, dtype: int64"
            ]
          },
          "metadata": {},
          "execution_count": 14
        }
      ]
    },
    {
      "cell_type": "markdown",
      "metadata": {
        "id": "32fBZXk1znRY"
      },
      "source": [
        "**Item 03**  \n",
        "- Apresente a quantidade de acidentes por estado."
      ]
    },
    {
      "cell_type": "code",
      "metadata": {
        "id": "Zza1bilTznRY",
        "colab": {
          "base_uri": "https://localhost:8080/"
        },
        "outputId": "a37bc3b1-4108-4c0f-a281-ab4dc21f1201"
      },
      "source": [
        "dia_estado_acidentes = df['uf'].value_counts()\n",
        "dia_estado_acidentes"
      ],
      "execution_count": null,
      "outputs": [
        {
          "output_type": "execute_result",
          "data": {
            "text/plain": [
              "uf\n",
              "MG    9066\n",
              "SC    8497\n",
              "PR    7952\n",
              "RJ    4575\n",
              "SP    4516\n",
              "RS    4445\n",
              "BA    3555\n",
              "GO    3464\n",
              "PE    2715\n",
              "ES    2642\n",
              "MT    2631\n",
              "CE    1697\n",
              "RO    1629\n",
              "PB    1588\n",
              "MS    1530\n",
              "RN    1416\n",
              "PI    1371\n",
              "MA    1272\n",
              "PA    1260\n",
              "DF     867\n",
              "AL     691\n",
              "TO     589\n",
              "SE     559\n",
              "RR     236\n",
              "AC     235\n",
              "AP     173\n",
              "AM     124\n",
              "Name: count, dtype: int64"
            ]
          },
          "metadata": {},
          "execution_count": 15
        }
      ]
    },
    {
      "cell_type": "markdown",
      "metadata": {
        "id": "aibziszmznRY"
      },
      "source": [
        "**Item 04**  \n",
        "- De acordo com a quantidade de acidentes, quais são as 5 rodovias mais perigosas?"
      ]
    },
    {
      "cell_type": "code",
      "metadata": {
        "id": "EsxSN84OznRY",
        "colab": {
          "base_uri": "https://localhost:8080/"
        },
        "outputId": "3f1b53b1-787b-439a-d2c8-6d9d010deb28"
      },
      "source": [
        "rodovia_acidentes = df['br'].value_counts()\n",
        "rodovia_acidentes.head(5)"
      ],
      "execution_count": null,
      "outputs": [
        {
          "output_type": "execute_result",
          "data": {
            "text/plain": [
              "br\n",
              "101.0    11212\n",
              "116.0     9972\n",
              "381.0     3550\n",
              "40.0      3220\n",
              "153.0     2834\n",
              "Name: count, dtype: int64"
            ]
          },
          "metadata": {},
          "execution_count": 21
        }
      ]
    },
    {
      "cell_type": "markdown",
      "metadata": {
        "id": "xKE9Euo0znRY"
      },
      "source": [
        "**Item 05**  \n",
        "- Considerando apenas acidentes com vítimas fatais, qual rodovia é a mais perigosa?"
      ]
    },
    {
      "cell_type": "code",
      "source": [
        "rodovia_fatais = df.groupby('br')['mortos'].sum()  # Somar o número total de mortos por rodovia\n",
        "rodovia_mais_fatais = rodovia_fatais.idxmax()  # Encontrar o índice da rodovia com o maior número de mortos\n",
        "total_mortos_rodovia_fatal = rodovia_fatais.max()\n",
        "\n",
        "print(\"Nome da rodovia (BR) mais fatal:\", rodovia_mais_fatais)\n",
        "print(\"Total de mortos na rodovia mais fatal:\", total_mortos_rodovia_fatal)"
      ],
      "metadata": {
        "colab": {
          "base_uri": "https://localhost:8080/"
        },
        "id": "FuCb0gjsLibl",
        "outputId": "f73e18ea-75c3-4f96-e198-1c29adab4931"
      },
      "execution_count": null,
      "outputs": [
        {
          "output_type": "stream",
          "name": "stdout",
          "text": [
            "Índice da rodovia (BR) mais fatal: 116.0\n",
            "Total de mortos na rodovia mais fatal: 649\n"
          ]
        }
      ]
    },
    {
      "cell_type": "markdown",
      "metadata": {
        "id": "j6rzhwWxznRZ"
      },
      "source": [
        "**Item 06**  \n",
        "- No Paraná, quais são as 10 cidades do interior que possuiram o maior número de acidentes?"
      ]
    },
    {
      "cell_type": "code",
      "source": [
        "# Filtrar dados para o Paraná e suas cidades\n",
        "df_pr_interior = df[(df['uf'] == 'PR') & (df['municipio'])]\n",
        "\n",
        "cidades_parana_m_acidentes = df_pr_interior['municipio'].value_counts()\n",
        "\n",
        "cidades_parana_m_acidentes.head(10)"
      ],
      "metadata": {
        "id": "wMSPKPKSNTt0",
        "colab": {
          "base_uri": "https://localhost:8080/"
        },
        "outputId": "f016d00f-3e0d-4f05-b81e-bbb8cc319170"
      },
      "execution_count": null,
      "outputs": [
        {
          "output_type": "execute_result",
          "data": {
            "text/plain": [
              "municipio\n",
              "CURITIBA                 1019\n",
              "SAO JOSE DOS PINHAIS      448\n",
              "MARINGA                   443\n",
              "CASCAVEL                  338\n",
              "FOZ DO IGUACU             299\n",
              "CAMPINA GRANDE DO SUL     285\n",
              "PONTA GROSSA              268\n",
              "PARANAGUA                 178\n",
              "APUCARANA                 156\n",
              "CAMPO LARGO               153\n",
              "Name: count, dtype: int64"
            ]
          },
          "metadata": {},
          "execution_count": 6
        }
      ]
    },
    {
      "cell_type": "markdown",
      "metadata": {
        "id": "mxl-_cE4znRZ"
      },
      "source": [
        "**Item 07**  \n",
        "- Os acidentes com vítimas fatais ocorrem em sua maioria em trechos de curvas ou de reta?"
      ]
    },
    {
      "cell_type": "code",
      "source": [
        "trechos_mortes = df.groupby('tracado_via')['mortos'].sum()\n",
        "trechos_m_mortes = trechos_mortes.idxmax()\n",
        "\n",
        "print(\"Os acidentes com maiores vítimas fatais ocorre com trechos do tipo:\", trechos_m_mortes)"
      ],
      "metadata": {
        "colab": {
          "base_uri": "https://localhost:8080/"
        },
        "id": "iTK0Z-3nHBej",
        "outputId": "00f686b3-5576-450d-ab49-95e090aa4f35"
      },
      "execution_count": null,
      "outputs": [
        {
          "output_type": "stream",
          "name": "stdout",
          "text": [
            "Os acidentes com maiores vítimas fatais ocorre com trechos do tipo: Reta\n"
          ]
        }
      ]
    },
    {
      "cell_type": "markdown",
      "metadata": {
        "id": "fWwoQlXKznRZ"
      },
      "source": [
        "**Item 08**  \n",
        "- Quais são as 10 maiores causas de acidentes?"
      ]
    },
    {
      "cell_type": "code",
      "metadata": {
        "id": "-35tWjUwznRa",
        "colab": {
          "base_uri": "https://localhost:8080/"
        },
        "outputId": "8aeb01da-c219-455b-f632-c34e9a1d7e37"
      },
      "source": [
        "maiores_acidentes = df['causa_acidente'].value_counts()\n",
        "maiores_acidentes.head(10)"
      ],
      "execution_count": null,
      "outputs": [
        {
          "output_type": "execute_result",
          "data": {
            "text/plain": [
              "causa_acidente\n",
              "Falta de Atenção à Condução                          25830\n",
              "Desobediência às normas de trânsito pelo condutor     7189\n",
              "Velocidade Incompatível                               6849\n",
              "Ingestão de Álcool                                    5201\n",
              "Não guardar distância de segurança                    4262\n",
              "Defeito Mecânico no Veículo                           3716\n",
              "Condutor Dormindo                                     2633\n",
              "Pista Escorregadia                                    2549\n",
              "Falta de Atenção do Pedestre                          2073\n",
              "Animais na Pista                                      1614\n",
              "Name: count, dtype: int64"
            ]
          },
          "metadata": {},
          "execution_count": 14
        }
      ]
    },
    {
      "cell_type": "markdown",
      "metadata": {
        "id": "e-f_MzBVznRa"
      },
      "source": [
        "**Item 09**  \n",
        "- Em que estado ocorre o maior número de acidentes em que a causa foi animais na pista?"
      ]
    },
    {
      "cell_type": "code",
      "metadata": {
        "id": "oblh2D8zznRa",
        "colab": {
          "base_uri": "https://localhost:8080/"
        },
        "outputId": "04457bd8-4bd6-4011-aba2-0d6204a922d7"
      },
      "source": [
        "m_estado_por_animais = df[(df['causa_acidente'] == 'Animais na Pista') & (df['uf'])]\n",
        "\n",
        "m_estado_maior_acidentes_animais = m_estado_por_animais['uf'].value_counts()\n",
        "\n",
        "m_estado_maior_acidentes_animais.head(1)"
      ],
      "execution_count": null,
      "outputs": [
        {
          "output_type": "execute_result",
          "data": {
            "text/plain": [
              "uf\n",
              "MG    198\n",
              "Name: count, dtype: int64"
            ]
          },
          "metadata": {},
          "execution_count": 9
        }
      ]
    },
    {
      "cell_type": "markdown",
      "metadata": {
        "id": "Fa11S0JmznRa"
      },
      "source": [
        "**Item 10**  \n",
        "- Em Cascavel, no Paraná, qual são as rodovias que existem na base de dados?"
      ]
    },
    {
      "cell_type": "code",
      "metadata": {
        "id": "g1Vr3FXRznRa",
        "colab": {
          "base_uri": "https://localhost:8080/"
        },
        "outputId": "49b3b70d-a4b0-47d0-d812-375193f82c3a"
      },
      "source": [
        "cascavel_rodovias = df[(df['municipio'] == 'CASCAVEL') & (df['uf'] == 'PR')]\n",
        "cascavel_rodovias_existem = cascavel_rodovias['br'].unique()\n",
        "print(cascavel_rodovias_existem)"
      ],
      "execution_count": null,
      "outputs": [
        {
          "output_type": "stream",
          "name": "stdout",
          "text": [
            "[277. 467. 369.  nan 163.]\n"
          ]
        }
      ]
    },
    {
      "cell_type": "markdown",
      "metadata": {
        "id": "9KK3gDrmznRa"
      },
      "source": [
        "**Item 11**  \n",
        "- Em Cascavel, no Paraná, qual é a rodovia que mais possui acidentes?"
      ]
    },
    {
      "cell_type": "code",
      "metadata": {
        "id": "IF4l80ZcznRb",
        "colab": {
          "base_uri": "https://localhost:8080/"
        },
        "outputId": "af3384de-7a7d-4c39-92cf-7bd010b282ce"
      },
      "source": [
        "cascavel_rodovias = df[(df['municipio'] == 'CASCAVEL') & (df['uf'] == 'PR')]\n",
        "cascavel_rodovias_acidentes = cascavel_rodovias['br'].value_counts()\n",
        "cascavel_rodovias_acidentes.head(1)"
      ],
      "execution_count": null,
      "outputs": [
        {
          "output_type": "execute_result",
          "data": {
            "text/plain": [
              "br\n",
              "277.0    242\n",
              "Name: count, dtype: int64"
            ]
          },
          "metadata": {},
          "execution_count": 68
        }
      ]
    },
    {
      "cell_type": "markdown",
      "metadata": {
        "id": "fSQ0s0AUznRb"
      },
      "source": [
        "**Item 12**  \n",
        "- Em Cascavel, no Paraná, em qual kilômetro da rodovia BR 277 ocorreram o maior número de acidentes com vítimas fatais? Obs: por padrão a coluna `br` está com valores do tipo `float`. (`277.0`)."
      ]
    },
    {
      "cell_type": "code",
      "metadata": {
        "id": "EODTuagHznRb",
        "colab": {
          "base_uri": "https://localhost:8080/"
        },
        "outputId": "354105d1-1716-4ac1-e17f-8cf0c8f657f4"
      },
      "source": [
        "cascavel_rodovias_277 = cascavel_rodovias\n",
        "cascavel_rodovias_277 = df[df['br'] == 277]\n",
        "cascavel_rodovias_277['km'].value_counts()"
      ],
      "execution_count": null,
      "outputs": [
        {
          "output_type": "execute_result",
          "data": {
            "text/plain": [
              "km\n",
              "729      24\n",
              "584      17\n",
              "724      15\n",
              "723      14\n",
              "660      14\n",
              "         ..\n",
              "598,1     1\n",
              "605       1\n",
              "133,1     1\n",
              "349,3     1\n",
              "74,7      1\n",
              "Name: count, Length: 1151, dtype: int64"
            ]
          },
          "metadata": {},
          "execution_count": 74
        }
      ]
    },
    {
      "cell_type": "markdown",
      "metadata": {
        "id": "1uOFw9xPznRc"
      },
      "source": [
        "**Item 13**  \n",
        "- Realize uma outra análise utilizando algum critério elaborado por você, e explique o resultado obtido."
      ]
    },
    {
      "cell_type": "code",
      "metadata": {
        "id": "yvtHpkVaznRc",
        "colab": {
          "base_uri": "https://localhost:8080/"
        },
        "outputId": "6ea1d7c1-2552-4801-889b-7fb68aca89c1"
      },
      "source": [
        "cascavel_rodovias = df[(df['municipio'] == 'CASCAVEL') & (df['uf'] == 'PR')]\n",
        "cascavel_maiores_tipos_acidente = cascavel_rodovias\n",
        "cascavel_maiores_tipos_acidente = df['causa_acidente'].value_counts()\n",
        "print(\"As 10 maiores causas de acidentes nas rodovias relacionadas a Cascavel/PR: \")\n",
        "print(cascavel_maiores_tipos_acidente.head(10))\n",
        "print(\"--------------------------------------------------------------------------\")\n",
        "print(\"As 10 menores causas de acidentes nas rodovias relacionadas a Cascavel/PR: \")\n",
        "print(cascavel_maiores_tipos_acidente.tail(10))\n",
        "\n",
        "# A intenção do resultado obtido é analisar quais os 10 tipos de acidentes que mais e menos ocorrem nas rodovias relacionadas ao munícipio de Cascavel/PR."
      ],
      "execution_count": null,
      "outputs": [
        {
          "output_type": "stream",
          "name": "stdout",
          "text": [
            "As 10 maiores causas de acidentes nas rodovias relacionadas a Cascavel/PR: \n",
            "causa_acidente\n",
            "Falta de Atenção à Condução                          25830\n",
            "Desobediência às normas de trânsito pelo condutor     7189\n",
            "Velocidade Incompatível                               6849\n",
            "Ingestão de Álcool                                    5201\n",
            "Não guardar distância de segurança                    4262\n",
            "Defeito Mecânico no Veículo                           3716\n",
            "Condutor Dormindo                                     2633\n",
            "Pista Escorregadia                                    2549\n",
            "Falta de Atenção do Pedestre                          2073\n",
            "Animais na Pista                                      1614\n",
            "Name: count, dtype: int64\n",
            "--------------------------------------------------------------------------\n",
            "As 10 menores causas de acidentes nas rodovias relacionadas a Cascavel/PR: \n",
            "causa_acidente\n",
            "Restrição de Visibilidade                                                         539\n",
            "Objeto estático sobre o leito carroçável                                          539\n",
            "Carga excessiva e/ou mal acondicionada                                            367\n",
            "Agressão Externa                                                                  356\n",
            "Fenômenos da Natureza                                                             310\n",
            "Ingestão de álcool e/ou substâncias psicoativas pelo pedestre                     297\n",
            "Sinalização da via insuficiente ou inadequada                                     292\n",
            "Desobediência às normas de trânsito pelo pedestre                                 273\n",
            "Deficiência ou não Acionamento do Sistema de Iluminação/Sinalização do Veículo    186\n",
            "Ingestão de Substâncias Psicoativas                                                73\n",
            "Name: count, dtype: int64\n"
          ]
        }
      ]
    },
    {
      "cell_type": "markdown",
      "source": [
        "## 2 - Base Transparencia PR\n",
        "\n",
        "Acesse o [Portal da Transparência do Governo do Estado do Paraná](http://www.transparencia.pr.gov.br). Faça o download da base de servidores do estado, clicando em **Pessoal -> Remuneração -> Download do Banco de Dados -> Download** (deixar marcado Informações Funcionais - Arquivo único).\n",
        "\n",
        "Em seguida, carregue a base.\n",
        "\n",
        "Sobre a base responda:\n",
        "- Quais são as variáveis presentes na base?\n",
        "- A que corresponde cada registro na base?\n",
        "\n",
        "Com a base carregada, faça:\n",
        "\n",
        "1. Filtre a base, mantendo apenas servidores ativos\n",
        "\n",
        "Em seguida, responda às seguintes perguntas:\n",
        "\n",
        "1. Nos registros, há quantos servidores nos regimes de trabalho CLT, CRES, estatutário, temporário e outros?\n",
        "\n",
        "1. Quais são as instituições de ensino superior estaduais do Paraná (IEES)?\n",
        "\n",
        "1. No quadro funcional de IEES, há servidores de quais cidades?\n",
        "\n",
        "1. No quadro funcional de IEES, há quantos tipos de cargo?\n",
        "\n",
        "1. Há quantos professores em Cascavel?\n",
        "\n",
        "1. Há quantos professores de ensino superior em Cascavel (cargo \"PROFESSOR\")?\n",
        "\n",
        "1. Qual é a quantidade de homens e mulheres que trabalham em Cascavel?\n",
        "\n",
        "1. Qual é a quantidade de homens e mulheres que trabalham em Cascavel, em termos percentuais?\n",
        "\n",
        "1. Qual é remuneracao média dos homens que trabalham em Londrina?\n",
        "\n",
        "1. Qual é remuneracao média das mulheres que trabalham em Londrina?\n",
        "\n",
        "1. Quais são os 10 nomes que mais se repetem na base de dados?\n",
        "\n",
        "1. Pode-se afirmar que o nome \"MARIA APARECIDA DA SILVA\", que aparece 24 vezes corresponde a 24 pessoas distintas?\n",
        "\n",
        "\n"
      ],
      "metadata": {
        "id": "wHKC1O7hphUb"
      }
    },
    {
      "cell_type": "code",
      "source": [
        "from google.colab import drive\n",
        "drive.mount('/drive') #monta a base no google drive\n",
        "database_path = '/drive/MyDrive/REMUNERACAO_RH/TB_RH.csv' #caminho da base de dados\n",
        "df_RH = pd.read_csv(database_path, sep=';') #Carrega a base"
      ],
      "metadata": {
        "id": "e7VCJNwmrqEX",
        "colab": {
          "base_uri": "https://localhost:8080/"
        },
        "outputId": "47b451f3-cdce-48db-ee83-21ca5627df90"
      },
      "execution_count": 6,
      "outputs": [
        {
          "output_type": "stream",
          "name": "stdout",
          "text": [
            "Drive already mounted at /drive; to attempt to forcibly remount, call drive.mount(\"/drive\", force_remount=True).\n"
          ]
        }
      ]
    },
    {
      "cell_type": "markdown",
      "source": [
        "1. Filtre a base, mantendo apenas servidores ativos"
      ],
      "metadata": {
        "id": "rALJJIM8EO6D"
      }
    },
    {
      "cell_type": "code",
      "source": [
        "dfAtivos = df_RH[df_RH['situacao'] == 'ATIVO']\n",
        "dfAtivos"
      ],
      "metadata": {
        "colab": {
          "base_uri": "https://localhost:8080/",
          "height": 739
        },
        "id": "HUv-YUhHEPNy",
        "outputId": "d5258410-492e-47de-a8a0-489f0bb058ad"
      },
      "execution_count": 7,
      "outputs": [
        {
          "output_type": "execute_result",
          "data": {
            "text/plain": [
              "        cod_vinculo                          nome     sigla  \\\n",
              "26           500612  RODRIGO MARCO LOPES DE SEHLI    PRPREV   \n",
              "30           401166                 ROSELIA COSTA      SEED   \n",
              "32            36630                SERGIO BOTELHO      SEED   \n",
              "37           291237              SILVANA DE SOUZA      SEED   \n",
              "38           294651              SIRLENE GARBOSSA      SEED   \n",
              "...             ...                           ...       ...   \n",
              "814310       486063     FABIANE CARVALHO TEIXEIRA    PRPREV   \n",
              "814320       132644           GILDA SANTOS BORGES      SEED   \n",
              "814345       501707              JANAINA DE ASSIS    PRPREV   \n",
              "814411       504454        MIRIAM RENATA SILVEIRA    PRPREV   \n",
              "814414       489300     PATRICIA BROCHADO BARRETO  PRCIDADE   \n",
              "\n",
              "                   instituicao                      lotacao municipio  \\\n",
              "26           PARANAPREVIDÊNCIA                           DJ  CURITIBA   \n",
              "30      SECRETARIA DA EDUCAÇÃO                     PALMEIRA  PALMEIRA   \n",
              "32      SECRETARIA DA EDUCAÇÃO                       XAMBRE    XAMBRE   \n",
              "37      SECRETARIA DA EDUCAÇÃO                      PINHAIS   PINHAIS   \n",
              "38      SECRETARIA DA EDUCAÇÃO                         VERE      VERE   \n",
              "...                        ...                          ...       ...   \n",
              "814310       PARANAPREVIDÊNCIA                           DJ  CURITIBA   \n",
              "814320  SECRETARIA DA EDUCAÇÃO         COL EST PEDRO MACEDO  CURITIBA   \n",
              "814345       PARANAPREVIDÊNCIA                         PRES  CURITIBA   \n",
              "814411       PARANAPREVIDÊNCIA                           DJ  CURITIBA   \n",
              "814414           PARANÁ CIDADE  PROCURADORIA JURIDICA - PJU  CURITIBA   \n",
              "\n",
              "                        cargo   dt_inicio dt_fim       regime  \\\n",
              "26                ADVOGADO SR  2001-05-02    NaN          CLT   \n",
              "30                  PROFESSOR  2005-12-20    NaN  ESTATUTÁRIO   \n",
              "32                  PROFESSOR  2006-04-17    NaN  ESTATUTÁRIO   \n",
              "37                  PROFESSOR  2012-04-02    NaN  ESTATUTÁRIO   \n",
              "38                  PROFESSOR  2005-12-20    NaN  ESTATUTÁRIO   \n",
              "...                       ...         ...    ...          ...   \n",
              "814310               ADVOGADO  2013-11-04    NaN          CLT   \n",
              "814320              PROFESSOR  2009-02-03    NaN  ESTATUTÁRIO   \n",
              "814345  ANALISTA DE PROCESSOS  2013-07-01    NaN          CLT   \n",
              "814411               ADVOGADO  2008-05-05    NaN          CLT   \n",
              "814414               ADVOGADO  1997-02-03    NaN          CLT   \n",
              "\n",
              "       quadro_funcional quadro_funcional_desc tipo_cargo situacao  \\\n",
              "26        ADM. INDIRETA         ADM. INDIRETA       ****    ATIVO   \n",
              "30                  QPM            MAGISTÉRIO    EFETIVO    ATIVO   \n",
              "32                  QPM            MAGISTÉRIO    EFETIVO    ATIVO   \n",
              "37                  QPM            MAGISTÉRIO    EFETIVO    ATIVO   \n",
              "38                  QPM            MAGISTÉRIO    EFETIVO    ATIVO   \n",
              "...                 ...                   ...        ...      ...   \n",
              "814310    ADM. INDIRETA         ADM. INDIRETA       ****    ATIVO   \n",
              "814320              QPM            MAGISTÉRIO    EFETIVO    ATIVO   \n",
              "814345    ADM. INDIRETA         ADM. INDIRETA       ****    ATIVO   \n",
              "814411    ADM. INDIRETA         ADM. INDIRETA       ****    ATIVO   \n",
              "814414    ADM. INDIRETA         ADM. INDIRETA       ****    ATIVO   \n",
              "\n",
              "        ult_remu_bruta genero  ano_nasc  atualizado  \n",
              "26            19276.82      M    1974.0  2024-04-11  \n",
              "30             4813.15      F    1973.0  2024-04-01  \n",
              "32             4813.15      M    1971.0  2024-04-01  \n",
              "37             4024.50      F    1970.0  2024-04-01  \n",
              "38             8517.34      F    1980.0  2024-04-01  \n",
              "...                ...    ...       ...         ...  \n",
              "814310        12824.58      F    1980.0  2024-04-11  \n",
              "814320         6177.59      F    1966.0  2024-04-01  \n",
              "814345         9660.41      F    1980.0  2024-04-11  \n",
              "814411        14152.48      F    1973.0  2024-04-11  \n",
              "814414        23770.00      F    1968.0  2024-04-01  \n",
              "\n",
              "[161480 rows x 18 columns]"
            ],
            "text/html": [
              "\n",
              "  <div id=\"df-817495fa-6052-40de-84fb-f5246dc9e857\" class=\"colab-df-container\">\n",
              "    <div>\n",
              "<style scoped>\n",
              "    .dataframe tbody tr th:only-of-type {\n",
              "        vertical-align: middle;\n",
              "    }\n",
              "\n",
              "    .dataframe tbody tr th {\n",
              "        vertical-align: top;\n",
              "    }\n",
              "\n",
              "    .dataframe thead th {\n",
              "        text-align: right;\n",
              "    }\n",
              "</style>\n",
              "<table border=\"1\" class=\"dataframe\">\n",
              "  <thead>\n",
              "    <tr style=\"text-align: right;\">\n",
              "      <th></th>\n",
              "      <th>cod_vinculo</th>\n",
              "      <th>nome</th>\n",
              "      <th>sigla</th>\n",
              "      <th>instituicao</th>\n",
              "      <th>lotacao</th>\n",
              "      <th>municipio</th>\n",
              "      <th>cargo</th>\n",
              "      <th>dt_inicio</th>\n",
              "      <th>dt_fim</th>\n",
              "      <th>regime</th>\n",
              "      <th>quadro_funcional</th>\n",
              "      <th>quadro_funcional_desc</th>\n",
              "      <th>tipo_cargo</th>\n",
              "      <th>situacao</th>\n",
              "      <th>ult_remu_bruta</th>\n",
              "      <th>genero</th>\n",
              "      <th>ano_nasc</th>\n",
              "      <th>atualizado</th>\n",
              "    </tr>\n",
              "  </thead>\n",
              "  <tbody>\n",
              "    <tr>\n",
              "      <th>26</th>\n",
              "      <td>500612</td>\n",
              "      <td>RODRIGO MARCO LOPES DE SEHLI</td>\n",
              "      <td>PRPREV</td>\n",
              "      <td>PARANAPREVIDÊNCIA</td>\n",
              "      <td>DJ</td>\n",
              "      <td>CURITIBA</td>\n",
              "      <td>ADVOGADO SR</td>\n",
              "      <td>2001-05-02</td>\n",
              "      <td>NaN</td>\n",
              "      <td>CLT</td>\n",
              "      <td>ADM. INDIRETA</td>\n",
              "      <td>ADM. INDIRETA</td>\n",
              "      <td>****</td>\n",
              "      <td>ATIVO</td>\n",
              "      <td>19276.82</td>\n",
              "      <td>M</td>\n",
              "      <td>1974.0</td>\n",
              "      <td>2024-04-11</td>\n",
              "    </tr>\n",
              "    <tr>\n",
              "      <th>30</th>\n",
              "      <td>401166</td>\n",
              "      <td>ROSELIA COSTA</td>\n",
              "      <td>SEED</td>\n",
              "      <td>SECRETARIA DA EDUCAÇÃO</td>\n",
              "      <td>PALMEIRA</td>\n",
              "      <td>PALMEIRA</td>\n",
              "      <td>PROFESSOR</td>\n",
              "      <td>2005-12-20</td>\n",
              "      <td>NaN</td>\n",
              "      <td>ESTATUTÁRIO</td>\n",
              "      <td>QPM</td>\n",
              "      <td>MAGISTÉRIO</td>\n",
              "      <td>EFETIVO</td>\n",
              "      <td>ATIVO</td>\n",
              "      <td>4813.15</td>\n",
              "      <td>F</td>\n",
              "      <td>1973.0</td>\n",
              "      <td>2024-04-01</td>\n",
              "    </tr>\n",
              "    <tr>\n",
              "      <th>32</th>\n",
              "      <td>36630</td>\n",
              "      <td>SERGIO BOTELHO</td>\n",
              "      <td>SEED</td>\n",
              "      <td>SECRETARIA DA EDUCAÇÃO</td>\n",
              "      <td>XAMBRE</td>\n",
              "      <td>XAMBRE</td>\n",
              "      <td>PROFESSOR</td>\n",
              "      <td>2006-04-17</td>\n",
              "      <td>NaN</td>\n",
              "      <td>ESTATUTÁRIO</td>\n",
              "      <td>QPM</td>\n",
              "      <td>MAGISTÉRIO</td>\n",
              "      <td>EFETIVO</td>\n",
              "      <td>ATIVO</td>\n",
              "      <td>4813.15</td>\n",
              "      <td>M</td>\n",
              "      <td>1971.0</td>\n",
              "      <td>2024-04-01</td>\n",
              "    </tr>\n",
              "    <tr>\n",
              "      <th>37</th>\n",
              "      <td>291237</td>\n",
              "      <td>SILVANA DE SOUZA</td>\n",
              "      <td>SEED</td>\n",
              "      <td>SECRETARIA DA EDUCAÇÃO</td>\n",
              "      <td>PINHAIS</td>\n",
              "      <td>PINHAIS</td>\n",
              "      <td>PROFESSOR</td>\n",
              "      <td>2012-04-02</td>\n",
              "      <td>NaN</td>\n",
              "      <td>ESTATUTÁRIO</td>\n",
              "      <td>QPM</td>\n",
              "      <td>MAGISTÉRIO</td>\n",
              "      <td>EFETIVO</td>\n",
              "      <td>ATIVO</td>\n",
              "      <td>4024.50</td>\n",
              "      <td>F</td>\n",
              "      <td>1970.0</td>\n",
              "      <td>2024-04-01</td>\n",
              "    </tr>\n",
              "    <tr>\n",
              "      <th>38</th>\n",
              "      <td>294651</td>\n",
              "      <td>SIRLENE GARBOSSA</td>\n",
              "      <td>SEED</td>\n",
              "      <td>SECRETARIA DA EDUCAÇÃO</td>\n",
              "      <td>VERE</td>\n",
              "      <td>VERE</td>\n",
              "      <td>PROFESSOR</td>\n",
              "      <td>2005-12-20</td>\n",
              "      <td>NaN</td>\n",
              "      <td>ESTATUTÁRIO</td>\n",
              "      <td>QPM</td>\n",
              "      <td>MAGISTÉRIO</td>\n",
              "      <td>EFETIVO</td>\n",
              "      <td>ATIVO</td>\n",
              "      <td>8517.34</td>\n",
              "      <td>F</td>\n",
              "      <td>1980.0</td>\n",
              "      <td>2024-04-01</td>\n",
              "    </tr>\n",
              "    <tr>\n",
              "      <th>...</th>\n",
              "      <td>...</td>\n",
              "      <td>...</td>\n",
              "      <td>...</td>\n",
              "      <td>...</td>\n",
              "      <td>...</td>\n",
              "      <td>...</td>\n",
              "      <td>...</td>\n",
              "      <td>...</td>\n",
              "      <td>...</td>\n",
              "      <td>...</td>\n",
              "      <td>...</td>\n",
              "      <td>...</td>\n",
              "      <td>...</td>\n",
              "      <td>...</td>\n",
              "      <td>...</td>\n",
              "      <td>...</td>\n",
              "      <td>...</td>\n",
              "      <td>...</td>\n",
              "    </tr>\n",
              "    <tr>\n",
              "      <th>814310</th>\n",
              "      <td>486063</td>\n",
              "      <td>FABIANE CARVALHO TEIXEIRA</td>\n",
              "      <td>PRPREV</td>\n",
              "      <td>PARANAPREVIDÊNCIA</td>\n",
              "      <td>DJ</td>\n",
              "      <td>CURITIBA</td>\n",
              "      <td>ADVOGADO</td>\n",
              "      <td>2013-11-04</td>\n",
              "      <td>NaN</td>\n",
              "      <td>CLT</td>\n",
              "      <td>ADM. INDIRETA</td>\n",
              "      <td>ADM. INDIRETA</td>\n",
              "      <td>****</td>\n",
              "      <td>ATIVO</td>\n",
              "      <td>12824.58</td>\n",
              "      <td>F</td>\n",
              "      <td>1980.0</td>\n",
              "      <td>2024-04-11</td>\n",
              "    </tr>\n",
              "    <tr>\n",
              "      <th>814320</th>\n",
              "      <td>132644</td>\n",
              "      <td>GILDA SANTOS BORGES</td>\n",
              "      <td>SEED</td>\n",
              "      <td>SECRETARIA DA EDUCAÇÃO</td>\n",
              "      <td>COL EST PEDRO MACEDO</td>\n",
              "      <td>CURITIBA</td>\n",
              "      <td>PROFESSOR</td>\n",
              "      <td>2009-02-03</td>\n",
              "      <td>NaN</td>\n",
              "      <td>ESTATUTÁRIO</td>\n",
              "      <td>QPM</td>\n",
              "      <td>MAGISTÉRIO</td>\n",
              "      <td>EFETIVO</td>\n",
              "      <td>ATIVO</td>\n",
              "      <td>6177.59</td>\n",
              "      <td>F</td>\n",
              "      <td>1966.0</td>\n",
              "      <td>2024-04-01</td>\n",
              "    </tr>\n",
              "    <tr>\n",
              "      <th>814345</th>\n",
              "      <td>501707</td>\n",
              "      <td>JANAINA DE ASSIS</td>\n",
              "      <td>PRPREV</td>\n",
              "      <td>PARANAPREVIDÊNCIA</td>\n",
              "      <td>PRES</td>\n",
              "      <td>CURITIBA</td>\n",
              "      <td>ANALISTA DE PROCESSOS</td>\n",
              "      <td>2013-07-01</td>\n",
              "      <td>NaN</td>\n",
              "      <td>CLT</td>\n",
              "      <td>ADM. INDIRETA</td>\n",
              "      <td>ADM. INDIRETA</td>\n",
              "      <td>****</td>\n",
              "      <td>ATIVO</td>\n",
              "      <td>9660.41</td>\n",
              "      <td>F</td>\n",
              "      <td>1980.0</td>\n",
              "      <td>2024-04-11</td>\n",
              "    </tr>\n",
              "    <tr>\n",
              "      <th>814411</th>\n",
              "      <td>504454</td>\n",
              "      <td>MIRIAM RENATA SILVEIRA</td>\n",
              "      <td>PRPREV</td>\n",
              "      <td>PARANAPREVIDÊNCIA</td>\n",
              "      <td>DJ</td>\n",
              "      <td>CURITIBA</td>\n",
              "      <td>ADVOGADO</td>\n",
              "      <td>2008-05-05</td>\n",
              "      <td>NaN</td>\n",
              "      <td>CLT</td>\n",
              "      <td>ADM. INDIRETA</td>\n",
              "      <td>ADM. INDIRETA</td>\n",
              "      <td>****</td>\n",
              "      <td>ATIVO</td>\n",
              "      <td>14152.48</td>\n",
              "      <td>F</td>\n",
              "      <td>1973.0</td>\n",
              "      <td>2024-04-11</td>\n",
              "    </tr>\n",
              "    <tr>\n",
              "      <th>814414</th>\n",
              "      <td>489300</td>\n",
              "      <td>PATRICIA BROCHADO BARRETO</td>\n",
              "      <td>PRCIDADE</td>\n",
              "      <td>PARANÁ CIDADE</td>\n",
              "      <td>PROCURADORIA JURIDICA - PJU</td>\n",
              "      <td>CURITIBA</td>\n",
              "      <td>ADVOGADO</td>\n",
              "      <td>1997-02-03</td>\n",
              "      <td>NaN</td>\n",
              "      <td>CLT</td>\n",
              "      <td>ADM. INDIRETA</td>\n",
              "      <td>ADM. INDIRETA</td>\n",
              "      <td>****</td>\n",
              "      <td>ATIVO</td>\n",
              "      <td>23770.00</td>\n",
              "      <td>F</td>\n",
              "      <td>1968.0</td>\n",
              "      <td>2024-04-01</td>\n",
              "    </tr>\n",
              "  </tbody>\n",
              "</table>\n",
              "<p>161480 rows × 18 columns</p>\n",
              "</div>\n",
              "    <div class=\"colab-df-buttons\">\n",
              "\n",
              "  <div class=\"colab-df-container\">\n",
              "    <button class=\"colab-df-convert\" onclick=\"convertToInteractive('df-817495fa-6052-40de-84fb-f5246dc9e857')\"\n",
              "            title=\"Convert this dataframe to an interactive table.\"\n",
              "            style=\"display:none;\">\n",
              "\n",
              "  <svg xmlns=\"http://www.w3.org/2000/svg\" height=\"24px\" viewBox=\"0 -960 960 960\">\n",
              "    <path d=\"M120-120v-720h720v720H120Zm60-500h600v-160H180v160Zm220 220h160v-160H400v160Zm0 220h160v-160H400v160ZM180-400h160v-160H180v160Zm440 0h160v-160H620v160ZM180-180h160v-160H180v160Zm440 0h160v-160H620v160Z\"/>\n",
              "  </svg>\n",
              "    </button>\n",
              "\n",
              "  <style>\n",
              "    .colab-df-container {\n",
              "      display:flex;\n",
              "      gap: 12px;\n",
              "    }\n",
              "\n",
              "    .colab-df-convert {\n",
              "      background-color: #E8F0FE;\n",
              "      border: none;\n",
              "      border-radius: 50%;\n",
              "      cursor: pointer;\n",
              "      display: none;\n",
              "      fill: #1967D2;\n",
              "      height: 32px;\n",
              "      padding: 0 0 0 0;\n",
              "      width: 32px;\n",
              "    }\n",
              "\n",
              "    .colab-df-convert:hover {\n",
              "      background-color: #E2EBFA;\n",
              "      box-shadow: 0px 1px 2px rgba(60, 64, 67, 0.3), 0px 1px 3px 1px rgba(60, 64, 67, 0.15);\n",
              "      fill: #174EA6;\n",
              "    }\n",
              "\n",
              "    .colab-df-buttons div {\n",
              "      margin-bottom: 4px;\n",
              "    }\n",
              "\n",
              "    [theme=dark] .colab-df-convert {\n",
              "      background-color: #3B4455;\n",
              "      fill: #D2E3FC;\n",
              "    }\n",
              "\n",
              "    [theme=dark] .colab-df-convert:hover {\n",
              "      background-color: #434B5C;\n",
              "      box-shadow: 0px 1px 3px 1px rgba(0, 0, 0, 0.15);\n",
              "      filter: drop-shadow(0px 1px 2px rgba(0, 0, 0, 0.3));\n",
              "      fill: #FFFFFF;\n",
              "    }\n",
              "  </style>\n",
              "\n",
              "    <script>\n",
              "      const buttonEl =\n",
              "        document.querySelector('#df-817495fa-6052-40de-84fb-f5246dc9e857 button.colab-df-convert');\n",
              "      buttonEl.style.display =\n",
              "        google.colab.kernel.accessAllowed ? 'block' : 'none';\n",
              "\n",
              "      async function convertToInteractive(key) {\n",
              "        const element = document.querySelector('#df-817495fa-6052-40de-84fb-f5246dc9e857');\n",
              "        const dataTable =\n",
              "          await google.colab.kernel.invokeFunction('convertToInteractive',\n",
              "                                                    [key], {});\n",
              "        if (!dataTable) return;\n",
              "\n",
              "        const docLinkHtml = 'Like what you see? Visit the ' +\n",
              "          '<a target=\"_blank\" href=https://colab.research.google.com/notebooks/data_table.ipynb>data table notebook</a>'\n",
              "          + ' to learn more about interactive tables.';\n",
              "        element.innerHTML = '';\n",
              "        dataTable['output_type'] = 'display_data';\n",
              "        await google.colab.output.renderOutput(dataTable, element);\n",
              "        const docLink = document.createElement('div');\n",
              "        docLink.innerHTML = docLinkHtml;\n",
              "        element.appendChild(docLink);\n",
              "      }\n",
              "    </script>\n",
              "  </div>\n",
              "\n",
              "\n",
              "<div id=\"df-a442119d-0b63-4d45-8294-f3c5990208ac\">\n",
              "  <button class=\"colab-df-quickchart\" onclick=\"quickchart('df-a442119d-0b63-4d45-8294-f3c5990208ac')\"\n",
              "            title=\"Suggest charts\"\n",
              "            style=\"display:none;\">\n",
              "\n",
              "<svg xmlns=\"http://www.w3.org/2000/svg\" height=\"24px\"viewBox=\"0 0 24 24\"\n",
              "     width=\"24px\">\n",
              "    <g>\n",
              "        <path d=\"M19 3H5c-1.1 0-2 .9-2 2v14c0 1.1.9 2 2 2h14c1.1 0 2-.9 2-2V5c0-1.1-.9-2-2-2zM9 17H7v-7h2v7zm4 0h-2V7h2v10zm4 0h-2v-4h2v4z\"/>\n",
              "    </g>\n",
              "</svg>\n",
              "  </button>\n",
              "\n",
              "<style>\n",
              "  .colab-df-quickchart {\n",
              "      --bg-color: #E8F0FE;\n",
              "      --fill-color: #1967D2;\n",
              "      --hover-bg-color: #E2EBFA;\n",
              "      --hover-fill-color: #174EA6;\n",
              "      --disabled-fill-color: #AAA;\n",
              "      --disabled-bg-color: #DDD;\n",
              "  }\n",
              "\n",
              "  [theme=dark] .colab-df-quickchart {\n",
              "      --bg-color: #3B4455;\n",
              "      --fill-color: #D2E3FC;\n",
              "      --hover-bg-color: #434B5C;\n",
              "      --hover-fill-color: #FFFFFF;\n",
              "      --disabled-bg-color: #3B4455;\n",
              "      --disabled-fill-color: #666;\n",
              "  }\n",
              "\n",
              "  .colab-df-quickchart {\n",
              "    background-color: var(--bg-color);\n",
              "    border: none;\n",
              "    border-radius: 50%;\n",
              "    cursor: pointer;\n",
              "    display: none;\n",
              "    fill: var(--fill-color);\n",
              "    height: 32px;\n",
              "    padding: 0;\n",
              "    width: 32px;\n",
              "  }\n",
              "\n",
              "  .colab-df-quickchart:hover {\n",
              "    background-color: var(--hover-bg-color);\n",
              "    box-shadow: 0 1px 2px rgba(60, 64, 67, 0.3), 0 1px 3px 1px rgba(60, 64, 67, 0.15);\n",
              "    fill: var(--button-hover-fill-color);\n",
              "  }\n",
              "\n",
              "  .colab-df-quickchart-complete:disabled,\n",
              "  .colab-df-quickchart-complete:disabled:hover {\n",
              "    background-color: var(--disabled-bg-color);\n",
              "    fill: var(--disabled-fill-color);\n",
              "    box-shadow: none;\n",
              "  }\n",
              "\n",
              "  .colab-df-spinner {\n",
              "    border: 2px solid var(--fill-color);\n",
              "    border-color: transparent;\n",
              "    border-bottom-color: var(--fill-color);\n",
              "    animation:\n",
              "      spin 1s steps(1) infinite;\n",
              "  }\n",
              "\n",
              "  @keyframes spin {\n",
              "    0% {\n",
              "      border-color: transparent;\n",
              "      border-bottom-color: var(--fill-color);\n",
              "      border-left-color: var(--fill-color);\n",
              "    }\n",
              "    20% {\n",
              "      border-color: transparent;\n",
              "      border-left-color: var(--fill-color);\n",
              "      border-top-color: var(--fill-color);\n",
              "    }\n",
              "    30% {\n",
              "      border-color: transparent;\n",
              "      border-left-color: var(--fill-color);\n",
              "      border-top-color: var(--fill-color);\n",
              "      border-right-color: var(--fill-color);\n",
              "    }\n",
              "    40% {\n",
              "      border-color: transparent;\n",
              "      border-right-color: var(--fill-color);\n",
              "      border-top-color: var(--fill-color);\n",
              "    }\n",
              "    60% {\n",
              "      border-color: transparent;\n",
              "      border-right-color: var(--fill-color);\n",
              "    }\n",
              "    80% {\n",
              "      border-color: transparent;\n",
              "      border-right-color: var(--fill-color);\n",
              "      border-bottom-color: var(--fill-color);\n",
              "    }\n",
              "    90% {\n",
              "      border-color: transparent;\n",
              "      border-bottom-color: var(--fill-color);\n",
              "    }\n",
              "  }\n",
              "</style>\n",
              "\n",
              "  <script>\n",
              "    async function quickchart(key) {\n",
              "      const quickchartButtonEl =\n",
              "        document.querySelector('#' + key + ' button');\n",
              "      quickchartButtonEl.disabled = true;  // To prevent multiple clicks.\n",
              "      quickchartButtonEl.classList.add('colab-df-spinner');\n",
              "      try {\n",
              "        const charts = await google.colab.kernel.invokeFunction(\n",
              "            'suggestCharts', [key], {});\n",
              "      } catch (error) {\n",
              "        console.error('Error during call to suggestCharts:', error);\n",
              "      }\n",
              "      quickchartButtonEl.classList.remove('colab-df-spinner');\n",
              "      quickchartButtonEl.classList.add('colab-df-quickchart-complete');\n",
              "    }\n",
              "    (() => {\n",
              "      let quickchartButtonEl =\n",
              "        document.querySelector('#df-a442119d-0b63-4d45-8294-f3c5990208ac button');\n",
              "      quickchartButtonEl.style.display =\n",
              "        google.colab.kernel.accessAllowed ? 'block' : 'none';\n",
              "    })();\n",
              "  </script>\n",
              "</div>\n",
              "\n",
              "  <div id=\"id_49563008-80c3-4226-b718-dee728e20c63\">\n",
              "    <style>\n",
              "      .colab-df-generate {\n",
              "        background-color: #E8F0FE;\n",
              "        border: none;\n",
              "        border-radius: 50%;\n",
              "        cursor: pointer;\n",
              "        display: none;\n",
              "        fill: #1967D2;\n",
              "        height: 32px;\n",
              "        padding: 0 0 0 0;\n",
              "        width: 32px;\n",
              "      }\n",
              "\n",
              "      .colab-df-generate:hover {\n",
              "        background-color: #E2EBFA;\n",
              "        box-shadow: 0px 1px 2px rgba(60, 64, 67, 0.3), 0px 1px 3px 1px rgba(60, 64, 67, 0.15);\n",
              "        fill: #174EA6;\n",
              "      }\n",
              "\n",
              "      [theme=dark] .colab-df-generate {\n",
              "        background-color: #3B4455;\n",
              "        fill: #D2E3FC;\n",
              "      }\n",
              "\n",
              "      [theme=dark] .colab-df-generate:hover {\n",
              "        background-color: #434B5C;\n",
              "        box-shadow: 0px 1px 3px 1px rgba(0, 0, 0, 0.15);\n",
              "        filter: drop-shadow(0px 1px 2px rgba(0, 0, 0, 0.3));\n",
              "        fill: #FFFFFF;\n",
              "      }\n",
              "    </style>\n",
              "    <button class=\"colab-df-generate\" onclick=\"generateWithVariable('dfAtivos')\"\n",
              "            title=\"Generate code using this dataframe.\"\n",
              "            style=\"display:none;\">\n",
              "\n",
              "  <svg xmlns=\"http://www.w3.org/2000/svg\" height=\"24px\"viewBox=\"0 0 24 24\"\n",
              "       width=\"24px\">\n",
              "    <path d=\"M7,19H8.4L18.45,9,17,7.55,7,17.6ZM5,21V16.75L18.45,3.32a2,2,0,0,1,2.83,0l1.4,1.43a1.91,1.91,0,0,1,.58,1.4,1.91,1.91,0,0,1-.58,1.4L9.25,21ZM18.45,9,17,7.55Zm-12,3A5.31,5.31,0,0,0,4.9,8.1,5.31,5.31,0,0,0,1,6.5,5.31,5.31,0,0,0,4.9,4.9,5.31,5.31,0,0,0,6.5,1,5.31,5.31,0,0,0,8.1,4.9,5.31,5.31,0,0,0,12,6.5,5.46,5.46,0,0,0,6.5,12Z\"/>\n",
              "  </svg>\n",
              "    </button>\n",
              "    <script>\n",
              "      (() => {\n",
              "      const buttonEl =\n",
              "        document.querySelector('#id_49563008-80c3-4226-b718-dee728e20c63 button.colab-df-generate');\n",
              "      buttonEl.style.display =\n",
              "        google.colab.kernel.accessAllowed ? 'block' : 'none';\n",
              "\n",
              "      buttonEl.onclick = () => {\n",
              "        google.colab.notebook.generateWithVariable('dfAtivos');\n",
              "      }\n",
              "      })();\n",
              "    </script>\n",
              "  </div>\n",
              "\n",
              "    </div>\n",
              "  </div>\n"
            ],
            "application/vnd.google.colaboratory.intrinsic+json": {
              "type": "dataframe",
              "variable_name": "dfAtivos"
            }
          },
          "metadata": {},
          "execution_count": 7
        }
      ]
    },
    {
      "cell_type": "markdown",
      "source": [
        "Em seguida, responda às seguintes perguntas:\n",
        "1. Nos registros, há quantos servidores nos regimes de trabalho CLT, CRES, estatutário, temporário e outros?"
      ],
      "metadata": {
        "id": "EtxIeQa5EPjj"
      }
    },
    {
      "cell_type": "code",
      "source": [
        "dfAtivos['regime'].value_counts()"
      ],
      "metadata": {
        "colab": {
          "base_uri": "https://localhost:8080/"
        },
        "id": "JZ1QZ-KSI40H",
        "outputId": "f48fcf29-2eaa-4e51-a03c-eb5529b66fa4"
      },
      "execution_count": null,
      "outputs": [
        {
          "output_type": "execute_result",
          "data": {
            "text/plain": [
              "regime\n",
              "ESTATUTÁRIO    121538\n",
              "TEMPORÁRIO      32942\n",
              "CLT              4095\n",
              "CRES             2696\n",
              "OUTROS            209\n",
              "Name: count, dtype: int64"
            ]
          },
          "metadata": {},
          "execution_count": 24
        }
      ]
    },
    {
      "cell_type": "markdown",
      "source": [
        "2. Quais são as instituições de ensino superior estaduais do Paraná (IEES)?"
      ],
      "metadata": {
        "id": "cbdZpIzFEQG0"
      }
    },
    {
      "cell_type": "code",
      "source": [
        "dfSuperior = dfAtivos[dfAtivos['quadro_funcional'] == 'IEES']\n",
        "print(dfSuperior['instituicao'].unique())"
      ],
      "metadata": {
        "colab": {
          "base_uri": "https://localhost:8080/"
        },
        "id": "jIfO266KML5G",
        "outputId": "846dee17-0c4d-4e94-a307-4a3229c097e3"
      },
      "execution_count": null,
      "outputs": [
        {
          "output_type": "stream",
          "name": "stdout",
          "text": [
            "['UNESPAR - CAMPUS DE CAMPO MOURÃO' 'UNESPAR - CAMPUS DE  PARANAGUA'\n",
            " 'UNESPAR - CAMPUS DE CURITIBA I' 'UNESPAR - CAMPUS DE UNIAO DA VITORIA'\n",
            " 'UNESPAR - CAMPUS DE CURITIBA II' 'UNESPAR - CAMPUS DE APUCARANA'\n",
            " 'UNESPAR - CAMPUS DE PARANAVAI' 'UNIVERSIDADE ESTADUAL DE PONTA GROSSA'\n",
            " 'UNIVERSIDADE ESTADUAL DE LONDRINA' 'UNIVERSIDADE ESTADUAL DE MARINGA'\n",
            " 'UNIVERSIDADE ESTADUAL DO OESTE DO PARANA'\n",
            " 'UNIVERSIDADE ESTADUAL DO CENTRO-OESTE' 'FACULDADE DE ARTES DO PARANÁ'\n",
            " 'UNIVERSIDADE ESTADUAL DO NORTE DO PARANA'\n",
            " 'UNIVERSIDADE ESTADUAL DO PARANÁ'\n",
            " 'ESCOLA DE MÚSICAS BELAS ARTES DO PARANÁ'\n",
            " 'FAC. EST. FIL. C. LET. UNIÃO DA VITÓRIA'\n",
            " 'FAC. EST. CIÊNCIAS LET. CAMPO MOURÃO'\n",
            " 'FAC. EST. FIL. C. LET. CORNÉLIO PROCÓPIO'\n",
            " 'FAC. EST. FIL. CIÊNCIAS LET. PARANAGUA'\n",
            " 'FAC. EST. CIÊNCIAS ECON. DE APUCARANA']\n"
          ]
        }
      ]
    },
    {
      "cell_type": "markdown",
      "source": [
        "3. No quadro funcional de IEES, há servidores de quais cidades?"
      ],
      "metadata": {
        "id": "xaL6OQudExQh"
      }
    },
    {
      "cell_type": "code",
      "source": [
        "dfSuperior = dfAtivos[dfAtivos['quadro_funcional'] == 'IEES']\n",
        "print(dfSuperior['municipio'].unique())"
      ],
      "metadata": {
        "id": "lrpOzjCuExnB",
        "colab": {
          "base_uri": "https://localhost:8080/"
        },
        "outputId": "b553eff3-7430-4991-9768-86f11b07997f"
      },
      "execution_count": null,
      "outputs": [
        {
          "output_type": "stream",
          "name": "stdout",
          "text": [
            "['CAMPO MOURAO' 'PARANAGUA' 'CURITIBA' 'UNIAO DA VITORIA' 'APUCARANA'\n",
            " 'PARANAVAI' 'PONTA GROSSA' 'LONDRINA' 'MARINGA' 'CASCAVEL' 'GUARAPUAVA'\n",
            " 'JACAREZINHO' 'UMUARAMA' 'IRATI' 'BANDEIRANTES' 'FRANCISCO BELTRAO'\n",
            " 'TOLEDO' 'MARECHAL CANDIDO RONDON' 'FOZ DO IGUACU' 'CIDADE GAUCHA'\n",
            " 'GOIOERE' 'CIANORTE' 'DIAMANTE DO NORTE' 'IVAIPORA' 'CORNELIO PROCOPIO']\n"
          ]
        }
      ]
    },
    {
      "cell_type": "markdown",
      "source": [
        "4. No quadro funcional de IEES, há quantos tipos de cargo?"
      ],
      "metadata": {
        "id": "55z6WIiXEx6p"
      }
    },
    {
      "cell_type": "code",
      "source": [
        "dfSuperior = dfAtivos[dfAtivos['quadro_funcional'] == 'IEES']\n",
        "print(dfSuperior['cargo'].unique())"
      ],
      "metadata": {
        "id": "UafZqHPIEySJ",
        "colab": {
          "base_uri": "https://localhost:8080/"
        },
        "outputId": "a7a520a9-2900-4731-8863-6024c432c12b"
      },
      "execution_count": null,
      "outputs": [
        {
          "output_type": "stream",
          "name": "stdout",
          "text": [
            "['PROFESSOR ENSINO SUPERIOR' 'AGENTE UNIVERSITÁRIO DE EXECUÇÃO'\n",
            " 'AGENTE UNIVERSITÁRIO PROFISSIONAL' 'AGENTE UNIVERSITÁRIO DE APOIO'\n",
            " 'PROFESSOR DE ENSINO SUPERIOR' 'AGENTE UNIV  EXECUCAO'\n",
            " 'AG. UNIVERSITARIO OPERACIONAL' 'AGENTE UNIVERSITARIO'\n",
            " 'AGENTE UNIV  PROFISSIONAL' 'AGENTE UNIV  APOIO'\n",
            " 'AG. UNIVERSITARIO DE NIVEL MEDIO' 'CARGO EM COMISSÃO - DA-4'\n",
            " 'CARGO EM COMISSÃO - FA-2' 'AG. UNIVERSITARIO NIVEL SUPERIOR'\n",
            " 'CARGO EM COMISSAO SEM VINCULO' 'CARGO EM COMISSÃO - DA-3'\n",
            " 'ASSESSOR TECNICO' 'CARGO EM COMISSÃO' 'CARGO EM COMISSÃO - DA-5'\n",
            " 'CARGO COMISSAO 01' 'CARGO EM COMISSÃO - FA-1' 'CARGO EM COMISSÃO - FA-3'\n",
            " 'AGENTE UNIVERSITÁRIO' 'ASSESSOR ESPECIAL' 'AGENTE UNIV  NIVEL SUPERIOR'\n",
            " 'AGENTE UNIVERSITÁRIO DE NÍVEL SUPERIOR' 'CARGO EM COMISSÃO - DA-2'\n",
            " 'AGENTE U. DE NÍVEL SUPERIOR' 'CARGO EM COMISSÃO - FA2'\n",
            " 'APRENDIZ - ASSISTENTE ADMINIST' 'AGENTE U. DE NÍVEL MÉDIO'\n",
            " 'ASSESSOR DE DIRETORIA' 'TECNICO DE LABORATORIO'\n",
            " 'CARGO EM COMISSÃO - DA-1' 'AGENTE UNIVERSITÁRIO OPERACIONAL'\n",
            " 'AGENTE UNIV  NIVEL MEDIO' 'AGENTE UNIVERSITÁRIO DE NÍVEL MÉDIO']\n"
          ]
        }
      ]
    },
    {
      "cell_type": "markdown",
      "source": [
        "5. Há quantos professores em Cascavel?"
      ],
      "metadata": {
        "id": "x23fwCUyE5Ms"
      }
    },
    {
      "cell_type": "code",
      "source": [
        "dfCascavel = dfAtivos[dfAtivos['municipio'] == 'CASCAVEL']\n",
        "dfProfessorCascavel = dfCascavel[dfCascavel['cargo'] == 'PROFESSOR']\n",
        "print(dfProfessorCascavel.shape[0])"
      ],
      "metadata": {
        "id": "mv2ZvcU1BbW5",
        "colab": {
          "base_uri": "https://localhost:8080/"
        },
        "outputId": "e2874d70-bf41-46c5-9148-0a0069f55c82"
      },
      "execution_count": 10,
      "outputs": [
        {
          "output_type": "stream",
          "name": "stdout",
          "text": [
            "1333\n"
          ]
        }
      ]
    },
    {
      "cell_type": "markdown",
      "source": [
        "6. Há quantos professores de ensino superior em Cascavel (cargo \"PROFESSOR\")?"
      ],
      "metadata": {
        "id": "u8xASXpKE_am"
      }
    },
    {
      "cell_type": "code",
      "source": [
        "# dfProfessorEnsinoSuperiorCascavel = dfAtivos[(dfAtivos['municipio'] == 'CASCAVEL') & (dfAtivos['quadro_funcional'] == 'IEES') & (dfAtivos['cargo'] == 'PROFESSOR')]\n",
        "# ou\n",
        "dfProfessorEnsinoSuperiorCascavel = dfProfessorCascavel[dfProfessorCascavel['quadro_funcional'] == 'IEES']\n",
        "print(dfProfessorEnsinoSuperiorCascavel.shape[0])"
      ],
      "metadata": {
        "id": "ONhufybKFCYA",
        "colab": {
          "base_uri": "https://localhost:8080/"
        },
        "outputId": "8def7efd-b289-4d5a-87d6-18e70d22ddb6"
      },
      "execution_count": 13,
      "outputs": [
        {
          "output_type": "stream",
          "name": "stdout",
          "text": [
            "0\n"
          ]
        }
      ]
    },
    {
      "cell_type": "markdown",
      "source": [
        "7. Qual é a quantidade de homens e mulheres que trabalham em Cascavel?"
      ],
      "metadata": {
        "id": "H5VT9Ey3FCoI"
      }
    },
    {
      "cell_type": "code",
      "source": [
        "dfCascavelGenero = dfCascavel['genero'].value_counts()\n",
        "print(dfCascavelGenero)"
      ],
      "metadata": {
        "id": "SMFLnXiDFFZx",
        "colab": {
          "base_uri": "https://localhost:8080/"
        },
        "outputId": "aea30f26-64ee-493e-b0a5-59f81f75b8f4"
      },
      "execution_count": 36,
      "outputs": [
        {
          "output_type": "stream",
          "name": "stdout",
          "text": [
            "genero\n",
            "F    3802\n",
            "M    1960\n",
            "Name: count, dtype: int64\n"
          ]
        }
      ]
    },
    {
      "cell_type": "markdown",
      "source": [
        "8. Qual é a quantidade de homens e mulheres que trabalham em Cascavel, em termos percentuais?"
      ],
      "metadata": {
        "id": "dBcJOGABFFqp"
      }
    },
    {
      "cell_type": "code",
      "source": [
        "dfCascavelGeneroTotal = dfCascavelGenero.sum() #Calculo para descobrir o total de homens e mulheres em Cascavel/PR\n",
        "print(\"Total de homens e mulheres que trabalham em Cascavel/PR: \", dfCascavelGeneroTotal)\n",
        "print(\"--------------------------------------------------------------------------------\")\n",
        "dfCascavelGeneroPerc = (dfCascavelGenero / dfCascavelGeneroTotal) * 100\n",
        "print(\"Percentual de homens e mulheres que trabalham em Cascavel/PR: \")\n",
        "print(dfCascavelGeneroPerc)"
      ],
      "metadata": {
        "id": "4kET1snTFG7B",
        "colab": {
          "base_uri": "https://localhost:8080/"
        },
        "outputId": "40bac8fd-58a0-49c6-fa74-5a1a3c8a9c93"
      },
      "execution_count": 50,
      "outputs": [
        {
          "output_type": "stream",
          "name": "stdout",
          "text": [
            "Total de homens e mulheres que trabalham em Cascavel/PR:  5762\n",
            "--------------------------------------------------------------------------------\n",
            "Percentual de homens e mulheres que trabalham em Cascavel/PR: \n",
            "genero\n",
            "F    65.984033\n",
            "M    34.015967\n",
            "Name: count, dtype: float64\n"
          ]
        }
      ]
    },
    {
      "cell_type": "markdown",
      "source": [
        "9. Qual é remuneracao média dos homens que trabalham em Londrina?"
      ],
      "metadata": {
        "id": "Y0j1GMT7FML0"
      }
    },
    {
      "cell_type": "code",
      "source": [
        "dfLondrina = dfAtivos[dfAtivos['municipio'] == 'LONDRINA']\n",
        "dfLondrinaHomens = dfLondrina[dfLondrina['genero'] == 'M']\n",
        "dfLondrinaH_RemuneracaoTotal = dfLondrinaHomens['ult_remu_bruta'].sum()\n",
        "\n",
        "nHomens = len(dfLondrinaHomens)\n",
        "dfLondrinaHomens_Media_Remuneracao = dfLondrinaH_RemuneracaoTotal / nHomens\n",
        "print(\"A remuneração média dos homens que trabalham em Londrina é R$ \", round(dfLondrinaHomens_Media_Remuneracao, 2))"
      ],
      "metadata": {
        "id": "Wxk-wvLgFMdU",
        "colab": {
          "base_uri": "https://localhost:8080/"
        },
        "outputId": "49cb88d3-02fc-4956-b3c4-3b569512a283"
      },
      "execution_count": 80,
      "outputs": [
        {
          "output_type": "stream",
          "name": "stdout",
          "text": [
            "A remuneração média dos homens que trabalham em Londrina é R$  11722.53\n"
          ]
        }
      ]
    },
    {
      "cell_type": "markdown",
      "source": [
        "10. Qual é remuneracao média das mulheres que trabalham em Londrina?"
      ],
      "metadata": {
        "id": "uNKqos7bFUl3"
      }
    },
    {
      "cell_type": "code",
      "source": [
        "dfLondrinaMulheres = dfLondrina[dfLondrina['genero'] == 'F']\n",
        "dfLondrinaM_RemuneracaoTotal = dfLondrinaMulheres['ult_remu_bruta'].sum()\n",
        "\n",
        "nMulheres = len(dfLondrinaMulheres)\n",
        "dfLondrinaMulheres_Media_Remuneracao = dfLondrinaM_RemuneracaoTotal / nMulheres\n",
        "print(\"A remuneração média das mulheres que trabalham em Londrina é R$ \", round(dfLondrinaMulheres_Media_Remuneracao, 2))"
      ],
      "metadata": {
        "id": "Gwy_ZCHcFWv3",
        "colab": {
          "base_uri": "https://localhost:8080/"
        },
        "outputId": "c84bd5a7-8ce3-429f-80e9-52e84158d9e9"
      },
      "execution_count": 81,
      "outputs": [
        {
          "output_type": "stream",
          "name": "stdout",
          "text": [
            "A remuneração média das mulheres que trabalham em Londrina é R$  10380.21\n"
          ]
        }
      ]
    },
    {
      "cell_type": "markdown",
      "source": [
        "11. Quais são os 10 nomes que mais se repetem na base de dados?"
      ],
      "metadata": {
        "id": "CJgpiUKQFW9_"
      }
    },
    {
      "cell_type": "code",
      "source": [
        "df_RH_Nomes = df_RH['nome'].value_counts()\n",
        "df_RH_Nomes.head(10)"
      ],
      "metadata": {
        "id": "ND8_sahBFXWn",
        "colab": {
          "base_uri": "https://localhost:8080/"
        },
        "outputId": "a1b75607-1653-4267-bd9b-539d9dd6e443"
      },
      "execution_count": 85,
      "outputs": [
        {
          "output_type": "execute_result",
          "data": {
            "text/plain": [
              "nome\n",
              "MARIA APARECIDA DA SILVA       182\n",
              "MARIA APARECIDA DOS SANTOS     121\n",
              "ANA PAULA DA SILVA              67\n",
              "JOSE CARLOS DA SILVA            67\n",
              "MARIA APARECIDA DE OLIVEIRA     59\n",
              "ANTONIO CARLOS DA SILVA         56\n",
              "JOSE CARLOS DOS SANTOS          55\n",
              "VERA LUCIA DA SILVA             55\n",
              "ANA PAULA DE OLIVEIRA           51\n",
              "MARIA DE FATIMA DOS SANTOS      51\n",
              "Name: count, dtype: int64"
            ]
          },
          "metadata": {},
          "execution_count": 85
        }
      ]
    },
    {
      "cell_type": "markdown",
      "source": [
        "12. Pode-se afirmar que o nome \"MARIA APARECIDA DA SILVA\", que aparece 24 vezes corresponde a 24 pessoas distintas?"
      ],
      "metadata": {
        "id": "yrhg7YYJFZWB"
      }
    },
    {
      "cell_type": "code",
      "source": [
        "# Não, não pode-se afirmar que há 24 pessoas distintas somente pela repetição do campo nome,\n",
        "# sendo necessárioa examinar outros dados de caráter único/pessoal para verificar se há pessoas distintas, como data de nascimento, CPF, número de celular etc.\n",
        "\n",
        "# Entretanto, referente ao arquivo \"REMUNERACAO_RH/TB_RH.csv\", pode-se verificar pela operação a baixo a existencia de 182 pessoas distintas do mesmo nome,\n",
        "# \"MARIA APARECIDA DA SILVA\", sendo justificado por representar unicamente o registro de remuneracao de cada agente e por conter seu codigo de vinculo.\n",
        "\n",
        "dfNome = df_RH['nome'] == 'MARIA APARECIDA DA SILVA'\n",
        "dfMaria = df_RH[dfNome]\n",
        "\n",
        "\n",
        "valores_cod_vinculo = dfMaria['cod_vinculo'].unique()\n",
        "print(valores_cod_vinculo)\n",
        "print(\"----------------------------------------------------------------------\")\n",
        "num_valores_unicos_cod_vinculo = dfMaria['cod_vinculo'].nunique()\n",
        "print(\"Número de valores únicos de cod_vinculo:\", num_valores_unicos_cod_vinculo)"
      ],
      "metadata": {
        "colab": {
          "base_uri": "https://localhost:8080/"
        },
        "id": "Y6DkrAl9TsBy",
        "outputId": "85cb2681-c781-483e-cef5-8907f887654c"
      },
      "execution_count": 111,
      "outputs": [
        {
          "output_type": "stream",
          "name": "stdout",
          "text": [
            "[412717 517555 125986 793439 714623 725816 722322 651906  32884  72624\n",
            "  27168 532167 336931 832004 847177 462494 571531 674711 835039 292908\n",
            " 277113 787803 409987 274523  65427  13502 299029 723512 135036  94379\n",
            " 224572 177468 457627 369758 367529 560448 618312 632043 361314 379453\n",
            " 381421  45570 434000 389155 313309 568511 612411 281783 426490 172787\n",
            " 171079 101969 559074 599506 739273 277223 588844 180506 317336  31320\n",
            " 568561 634568 307586 454084 370516 515049 204985  15004 171181 103859\n",
            " 583761 431520 515219 294018  44632 165075  93822 654883 681052 264252\n",
            " 450756 208179 504613  74848 295451 265966 350490 421011 365006 139310\n",
            "  18698  10864 284486 524118 576194 172350 303955  60049  52681 464009\n",
            " 600741 773199 826197 213947 240999 414004 300760 510718  51216  93829\n",
            " 302543 395512 188869  10865 526644 577401 675989  21795 210887   2446\n",
            " 203700 566383 613591 318388 401452 463540 612119  71510 409312  21273\n",
            " 190903 347611 319411 299784  24884 209651 325294  89495  58110  53232\n",
            " 523576 551389 613456 628286 249910 312793 149994 136883 719960 668431\n",
            "  33436 318646 181208 367114 715298 587352 141756 415590 233701 727320\n",
            " 543203 594380  89653 734014 349128 738848  56029 240510 112340 594621\n",
            " 328110 113169 373846 771413   7366 720038 713514 713173 677356  32059\n",
            "  45528 713479]\n",
            "----------------------------------------------------------------------\n",
            "Número de valores únicos de cod_vinculo: 182\n"
          ]
        }
      ]
    }
  ]
}