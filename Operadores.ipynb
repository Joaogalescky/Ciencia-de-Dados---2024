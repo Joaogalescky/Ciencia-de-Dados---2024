{
  "cells": [
    {
      "cell_type": "markdown",
      "metadata": {
        "id": "view-in-github",
        "colab_type": "text"
      },
      "source": [
        "<a href=\"https://colab.research.google.com/github/Joaogalescky/Ciencia-de-Dados---2024/blob/main/Operadores.ipynb\" target=\"_parent\"><img src=\"https://colab.research.google.com/assets/colab-badge.svg\" alt=\"Open In Colab\"/></a>"
      ]
    },
    {
      "cell_type": "markdown",
      "metadata": {
        "id": "Oa8VcVQ065oW"
      },
      "source": [
        "# Expressões\n",
        "Uma expressão é uma combinação de elementos, que podem ser valores, variáveis, operadores e chamadas a funções. Com o uso das expressões é possível realizar cálculos que produzem novos valores, ou seja, fazem a transformação das informações."
      ]
    },
    {
      "cell_type": "markdown",
      "metadata": {
        "id": "OLFD9rLC65oY"
      },
      "source": [
        "## Variáveis\n",
        "Como visto anteriormente, variáveis são localizações na memória que armazenam dados."
      ]
    },
    {
      "cell_type": "markdown",
      "metadata": {
        "id": "LXhVTZSX65oZ"
      },
      "source": [
        "**Exemplo**\n",
        "\n",
        "Um exemplo de expressão é `S = 5 + 4`, onde:\n",
        "- `5` e `4` são valores,\n",
        "- `+` é um operador aritmético,\n",
        "- `=` é o operador de atribuição, e\n",
        "- `S` é uma variável.\n",
        "\n",
        "A execução desta expressão resulta em um novo valor, que será armazenado na variável `S`."
      ]
    },
    {
      "cell_type": "markdown",
      "metadata": {
        "id": "tcUY9-oc65oZ"
      },
      "source": [
        "## Operadores"
      ]
    },
    {
      "cell_type": "markdown",
      "metadata": {
        "id": "0lq9T17t65oZ"
      },
      "source": [
        "Os operadores são utilizados para construir **expressões**, que podem conter diferentes quantidades de operandos."
      ]
    },
    {
      "cell_type": "markdown",
      "metadata": {
        "id": "lvmRsmmg65oZ"
      },
      "source": [
        "### Tipos de operadores"
      ]
    },
    {
      "cell_type": "markdown",
      "metadata": {
        "id": "v6C0jq6J65oZ"
      },
      "source": [
        "#### Atribuição\n",
        "A atribuição é o operador que que determina a passagem de valor para uma variável. Por definição toda variável pode ser seu valor alterado, e a modificação deste valor é realizada com o operador de atribuição."
      ]
    },
    {
      "cell_type": "markdown",
      "metadata": {
        "id": "yPo33w8565oa"
      },
      "source": [
        "|Operador|Função|\n",
        "|--------|------|\n",
        "|`=`|atribuição|"
      ]
    },
    {
      "cell_type": "markdown",
      "metadata": {
        "id": "vr6omNm365oa"
      },
      "source": [
        "É possível realizar a atribuição de mais de uma variável em uma mesma expressão."
      ]
    },
    {
      "cell_type": "markdown",
      "metadata": {
        "id": "63swb6pz65oa"
      },
      "source": [
        "**Exemplo**\n",
        "\n",
        "```py\n",
        "A = B = C = 5\n",
        "```"
      ]
    },
    {
      "cell_type": "code",
      "execution_count": null,
      "metadata": {
        "id": "Nauia8Iu65oa"
      },
      "outputs": [],
      "source": []
    },
    {
      "cell_type": "code",
      "execution_count": null,
      "metadata": {
        "id": "4N3chO6x65ob"
      },
      "outputs": [],
      "source": []
    },
    {
      "cell_type": "code",
      "execution_count": null,
      "metadata": {
        "id": "s2n5zu9S65ob"
      },
      "outputs": [],
      "source": []
    },
    {
      "cell_type": "code",
      "execution_count": null,
      "metadata": {
        "id": "vu9Eb89E65ob"
      },
      "outputs": [],
      "source": []
    },
    {
      "cell_type": "markdown",
      "metadata": {
        "id": "O2B4ooa_65ob"
      },
      "source": [
        "Python também suporta atribuição múltipla, com variáveis e valores separados por `,`"
      ]
    },
    {
      "cell_type": "markdown",
      "metadata": {
        "id": "le-4PJ-n65ob"
      },
      "source": [
        "**Exemplo**\n",
        "\n",
        "```py\n",
        "A, B = 10, 20\n",
        "```"
      ]
    },
    {
      "cell_type": "code",
      "execution_count": null,
      "metadata": {
        "id": "H1xMboi865ob"
      },
      "outputs": [],
      "source": []
    },
    {
      "cell_type": "code",
      "execution_count": null,
      "metadata": {
        "id": "ryNtt0Me65ob"
      },
      "outputs": [],
      "source": []
    },
    {
      "cell_type": "code",
      "execution_count": null,
      "metadata": {
        "id": "6jEYVsFG65ob"
      },
      "outputs": [],
      "source": []
    },
    {
      "cell_type": "markdown",
      "metadata": {
        "id": "DZellLiz65ob"
      },
      "source": [
        "Com isso, pode-se alternar os valores entre variáveis.\n",
        "```py\n",
        "A, B = B, A\n",
        "```"
      ]
    },
    {
      "cell_type": "code",
      "execution_count": null,
      "metadata": {
        "id": "AN2FzJfK65ob"
      },
      "outputs": [],
      "source": []
    },
    {
      "cell_type": "code",
      "execution_count": null,
      "metadata": {
        "id": "ZBLuBPzK65ob"
      },
      "outputs": [],
      "source": []
    },
    {
      "cell_type": "code",
      "execution_count": null,
      "metadata": {
        "id": "yb1acojG65ob"
      },
      "outputs": [],
      "source": []
    },
    {
      "cell_type": "markdown",
      "metadata": {
        "id": "1cIIW7If65ob"
      },
      "source": [
        "#### Aritméticos\n",
        "São aqueles utilizados para a execução de operações matemáticas, adição, multiplicação, etc. São eles:"
      ]
    },
    {
      "cell_type": "markdown",
      "metadata": {
        "id": "E9WdNhWD65oc"
      },
      "source": [
        "|Operador|Função|\n",
        "|----|----------|\n",
        "|`+` | adição |\n",
        "|`-` | subtração |\n",
        "|`*` | multiplicação |\n",
        "|`/` | divisão |\n",
        "|`%` | resto da divisão |\n",
        "|`//`| parte inteira da divisão |\n",
        "|`**`| exponenciação |"
      ]
    },
    {
      "cell_type": "markdown",
      "metadata": {
        "id": "avWGnxCM65oc"
      },
      "source": [
        "**Exemplos**\n",
        "\n",
        "```py\n",
        "5+10  \n",
        "8-4  \n",
        "6*4  \n",
        "10/5  \n",
        "20%11\n",
        "2**5\n",
        "11//3\n",
        "```"
      ]
    },
    {
      "cell_type": "code",
      "execution_count": null,
      "metadata": {
        "id": "_V0T8f8e65oc"
      },
      "outputs": [],
      "source": []
    },
    {
      "cell_type": "code",
      "execution_count": null,
      "metadata": {
        "id": "5u-wBxsg65oc"
      },
      "outputs": [],
      "source": []
    },
    {
      "cell_type": "code",
      "execution_count": null,
      "metadata": {
        "id": "3b1v6Mml65oc"
      },
      "outputs": [],
      "source": []
    },
    {
      "cell_type": "markdown",
      "metadata": {
        "id": "FXZbrwwm65oc"
      },
      "source": [
        "**Observação**  \n",
        "\n",
        "Outro operador existente é o `@`, utilizado para realizar a multiplicação de matrizes. Porém, nenhum tipo básico de Python utiliza este operador. Outras bibliotecas o podem utilizar, como [numpy](https://numpy.org/), p.ex."
      ]
    },
    {
      "cell_type": "markdown",
      "metadata": {
        "id": "_bcCuml-65oc"
      },
      "source": [
        "#### Relacionais\n",
        "São operadores de comparação entre valores. As expressões realizadas com estes operadores retornam um resultado lógico, `True` ou `False`.\n",
        "\n",
        "|Operador|Função|\n",
        "|---|---|\n",
        "|`>`  |maior que|\n",
        "|`<`  |menor que|\n",
        "|`==` |igual|\n",
        "|`!=` |diferente|\n",
        "|`>=` |maior ou igual|\n",
        "|`<=` |menor ou igual|"
      ]
    },
    {
      "cell_type": "markdown",
      "metadata": {
        "id": "3PciM2XM65oc"
      },
      "source": [
        "#### Lógicos\n",
        "\n",
        "|Operador|Função|\n",
        "|--------|------|\n",
        "|`and`|**e** lógico|\n",
        "|`or` |**ou** lógico|\n",
        "|`not`|**não** lógico (negação)|"
      ]
    },
    {
      "cell_type": "markdown",
      "metadata": {
        "id": "HLpfcEaD65oc"
      },
      "source": [
        "#### Associação\n",
        "(*membership*, livre trad.)  \n",
        "Observa se um valor é membro de uma sequência ou conjunto."
      ]
    },
    {
      "cell_type": "markdown",
      "metadata": {
        "id": "HFv_1UE065od"
      },
      "source": [
        "|Operador|Função|\n",
        "|---|---|\n",
        "|`in`    | está contido|\n",
        "|`not in`| não está contido|"
      ]
    },
    {
      "cell_type": "markdown",
      "metadata": {
        "id": "-8ozATrU65od"
      },
      "source": [
        "**Exemplo**\n",
        "\n",
        "```py\n",
        "'a' in 'batata'\n",
        "'a' in 'pudim'\n",
        "'a' not in 'pudim'\n",
        "```"
      ]
    },
    {
      "cell_type": "code",
      "execution_count": null,
      "metadata": {
        "id": "_pmxk4Ci65od"
      },
      "outputs": [],
      "source": []
    },
    {
      "cell_type": "code",
      "execution_count": null,
      "metadata": {
        "id": "Fj_OVCjN65od"
      },
      "outputs": [],
      "source": []
    },
    {
      "cell_type": "code",
      "execution_count": null,
      "metadata": {
        "id": "ndieln-d65od"
      },
      "outputs": [],
      "source": []
    },
    {
      "cell_type": "markdown",
      "metadata": {
        "id": "A8Qetah665os"
      },
      "source": [
        "#### Identidade\n",
        "Os operadores de identidade servem para identificar se os parâmetros passados correspondem ao mesmo, e não apenas os mesmos valores."
      ]
    },
    {
      "cell_type": "markdown",
      "metadata": {
        "id": "HkOyv9RI65os"
      },
      "source": [
        "|Operador|Função|\n",
        "|---|---|\n",
        "|`is`|verificação de identidade|"
      ]
    },
    {
      "cell_type": "markdown",
      "metadata": {
        "id": "nB4FIUUU65os"
      },
      "source": [
        "**Exemplo**\n",
        "\n",
        "```py\n",
        "x = 5.0\n",
        "y = 5.0\n",
        "z = x\n",
        "\n",
        "x == y\n",
        "x is y\n",
        "x == z\n",
        "x is z\n",
        "\n",
        "```"
      ]
    },
    {
      "cell_type": "code",
      "execution_count": null,
      "metadata": {
        "id": "dVw4sQjU65os"
      },
      "outputs": [],
      "source": []
    },
    {
      "cell_type": "code",
      "execution_count": null,
      "metadata": {
        "id": "hRIMyVz965os"
      },
      "outputs": [],
      "source": []
    },
    {
      "cell_type": "code",
      "execution_count": null,
      "metadata": {
        "id": "7gkaBJBf65ot"
      },
      "outputs": [],
      "source": []
    },
    {
      "cell_type": "code",
      "execution_count": null,
      "metadata": {
        "id": "AXe-_DmG65ot"
      },
      "outputs": [],
      "source": []
    },
    {
      "cell_type": "code",
      "execution_count": null,
      "metadata": {
        "id": "EEJq_wAE65ot"
      },
      "outputs": [],
      "source": []
    },
    {
      "cell_type": "markdown",
      "metadata": {
        "id": "TuTbCke665ot"
      },
      "source": [
        "#### Bit a bit\n",
        "Os opereradores binários são aqueles que operam sobre os valores em nível de bit"
      ]
    },
    {
      "cell_type": "markdown",
      "metadata": {
        "id": "LwykEZf365ot"
      },
      "source": [
        "|Operador|Função|\n",
        "|---|---|\n",
        "|`&`|**e** lógico|\n",
        "|`\\|`|**ou** lógico|\n",
        "|`~`|**não** lógico|\n",
        "|`^`|**xor** lógico (**ou exclusivo**)|\n",
        "|`>>`|deslocamento à direita|\n",
        "|`<<`|deslocamento à esquerda|\n"
      ]
    },
    {
      "cell_type": "markdown",
      "metadata": {
        "id": "3gA5HO-q65ot"
      },
      "source": [
        "**Exemplo**\n",
        "\n",
        "```py\n",
        "A = 10 #(1010 em binário)\n",
        "B = 4  #(0100 em binário)\n",
        "C = 5  #(0101 em binário)\n",
        "A & B\n",
        "A | B\n",
        "~A\n",
        "A ^ B\n",
        "B ^ C\n",
        "C << 1\n",
        "C >> 1\n",
        "```"
      ]
    },
    {
      "cell_type": "code",
      "execution_count": null,
      "metadata": {
        "id": "ai-fm_2h65ot"
      },
      "outputs": [],
      "source": []
    },
    {
      "cell_type": "code",
      "execution_count": null,
      "metadata": {
        "id": "P79n7Do465ot"
      },
      "outputs": [],
      "source": []
    },
    {
      "cell_type": "code",
      "execution_count": null,
      "metadata": {
        "id": "PIgLk3g265ot"
      },
      "outputs": [],
      "source": []
    },
    {
      "cell_type": "code",
      "execution_count": null,
      "metadata": {
        "id": "P3fBHxZR65ot"
      },
      "outputs": [],
      "source": []
    },
    {
      "cell_type": "code",
      "execution_count": null,
      "metadata": {
        "id": "NSvkuf8f65ot"
      },
      "outputs": [],
      "source": []
    },
    {
      "cell_type": "code",
      "execution_count": null,
      "metadata": {
        "id": "YN_Iq67B65ot"
      },
      "outputs": [],
      "source": []
    },
    {
      "cell_type": "code",
      "execution_count": null,
      "metadata": {
        "id": "Vn2L4R1265ot"
      },
      "outputs": [],
      "source": []
    },
    {
      "cell_type": "code",
      "execution_count": null,
      "metadata": {
        "id": "B4KlctiP65ot"
      },
      "outputs": [],
      "source": []
    },
    {
      "cell_type": "markdown",
      "metadata": {
        "id": "u6JXdU3J65ot"
      },
      "source": [
        "#### Agrupamento\n",
        "Os operadores de agrupamento servem para identificar expressões ou valores que devem ser reconhecidos como sendo um grupo."
      ]
    },
    {
      "cell_type": "markdown",
      "metadata": {
        "id": "L68eoKGM65ou"
      },
      "source": [
        "|Operadores|Função|\n",
        "|---|---|\n",
        "|`(`, `)`|agrupamento de expressões|\n",
        "|`[`, `]`|listas|\n",
        "|`{`, `}`|conjuntos|\n",
        "|`{`, `}`|cicionários|\n",
        "|`(`, `)`|tuplas|"
      ]
    },
    {
      "cell_type": "markdown",
      "metadata": {
        "id": "MgrH1_ae65ou"
      },
      "source": [
        "**Exemplo**\n",
        "\n",
        "```py\n",
        "2+3*4\n",
        "(2+3)*4\n",
        "```"
      ]
    },
    {
      "cell_type": "code",
      "execution_count": null,
      "metadata": {
        "id": "FKrrYale65ou"
      },
      "outputs": [],
      "source": []
    },
    {
      "cell_type": "code",
      "execution_count": null,
      "metadata": {
        "id": "y013HSb865ou"
      },
      "outputs": [],
      "source": []
    },
    {
      "cell_type": "markdown",
      "metadata": {
        "id": "nsAK6KW-65ou"
      },
      "source": [
        "## Operadores compostos\n",
        "É possível combinar alguns operadores, que realizam a operação utilizando os parâmetros passados ao operador, e em seguida realiza uma atribuição utilizando a variável à esquerda dos operadores."
      ]
    },
    {
      "cell_type": "markdown",
      "metadata": {
        "id": "Knbbyw0u65ou"
      },
      "source": [
        "|Operador|Função|\n",
        "|---|---|\n",
        "|`+=`| adição e atribuição|\n",
        "|`-=`| subtração e atribuição|\n",
        "|`*=`| multiplicação e atribuição|\n",
        "|`/=`| divisão e atribuição|\n",
        "|`//=`| divisão inteira e atribuição|\n",
        "|`%=`| módulo e atribuição|\n",
        "|`**=`| potência e atribuição|\n",
        "|`&=`|**e** lógico e atribuição|\n",
        "|`\\|=`|**ou** lógico e atribuição|\n",
        "|`^=`|**xor** lógico (**ou exclusivo**) e atribuição|\n",
        "|`>>=`|deslocamento à direita e atribuição|\n",
        "|`<<=`|deslocamento à esquerda e atribuição|\n"
      ]
    },
    {
      "cell_type": "markdown",
      "metadata": {
        "id": "2bCKqkc865ou"
      },
      "source": [
        "**Exemplo**\n",
        "\n",
        "```py\n",
        "X = 5\n",
        "X **=2\n",
        "print(X)\n",
        "```"
      ]
    },
    {
      "cell_type": "code",
      "execution_count": null,
      "metadata": {
        "id": "zaNs-VEJ65ou"
      },
      "outputs": [],
      "source": []
    },
    {
      "cell_type": "markdown",
      "metadata": {
        "id": "oiwcilJu65ou"
      },
      "source": [
        "```py\n",
        "X = 4\n",
        "X <<= 2\n",
        "print(X)\n",
        "```"
      ]
    },
    {
      "cell_type": "code",
      "execution_count": null,
      "metadata": {
        "id": "3UW3xiCO65ou"
      },
      "outputs": [],
      "source": []
    },
    {
      "cell_type": "markdown",
      "metadata": {
        "id": "WygcgJ1065ou"
      },
      "source": [
        "## Prioridade entre operadores\n",
        "As prioridades definem quais operadores serão executados primeiro. Caso possuam a mesma prioridade, a expressão será executada da esquerda para a direita."
      ]
    },
    {
      "cell_type": "markdown",
      "metadata": {
        "id": "H_dLq9Tt65ou"
      },
      "source": [
        "Organizados da maior para menor prioridade:  \n",
        "\n",
        "|Operadores|\n",
        "|---|\n",
        "|`()`,`[]`,`{}`|\n",
        "|`x[index]`,`x[index:index]`,`x(params)`,`x.attrib`|\n",
        "|`**`|\n",
        "|`+x`,`-x`, `~x`|\n",
        "|`*`,`@`,`/`,`//`,`%`|\n",
        "|`+`,`-`|\n",
        "|`<<`,`>>`|\n",
        "|`&`|\n",
        "|`^`|\n",
        "|`\\|`|\n",
        "|`in`,`not in`,`is`,`is not`,`<`,`<=`,`>=`,`!=`,`==`|\n",
        "|`not x`|\n",
        "|`and`|\n",
        "|`or`|\n",
        "|`if - else`|\n",
        "|`lambda`|\n",
        "|`=`|\n",
        "\n",
        "Fonte: [PYTHON SOFTWARE FOUNDATION. Expressions - Python 3 documentation.](https://docs.python.org/3/reference/expressions.html#operator-precedence)"
      ]
    },
    {
      "cell_type": "code",
      "execution_count": null,
      "metadata": {
        "id": "nzVzrTTt65ou"
      },
      "outputs": [],
      "source": []
    },
    {
      "cell_type": "markdown",
      "metadata": {
        "id": "zui1l5fH65ov"
      },
      "source": [
        "## Referências\n",
        "\n",
        "[PYTHON SOFTWARE FOUNDATION. Expressions - Python 3 documentation.](https://docs.python.org/3/reference/expressions.html)  \n"
      ]
    },
    {
      "cell_type": "markdown",
      "metadata": {
        "id": "gWu5cGfW65ov"
      },
      "source": [
        "  "
      ]
    }
  ],
  "metadata": {
    "kernelspec": {
      "display_name": "Python 3 (ipykernel)",
      "language": "python",
      "name": "python3"
    },
    "language_info": {
      "codemirror_mode": {
        "name": "ipython",
        "version": 3
      },
      "file_extension": ".py",
      "mimetype": "text/x-python",
      "name": "python",
      "nbconvert_exporter": "python",
      "pygments_lexer": "ipython3",
      "version": "3.9.15"
    },
    "colab": {
      "provenance": [],
      "include_colab_link": true
    }
  },
  "nbformat": 4,
  "nbformat_minor": 0
}