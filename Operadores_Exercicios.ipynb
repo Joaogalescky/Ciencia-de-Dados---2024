{
  "cells": [
    {
      "cell_type": "markdown",
      "metadata": {
        "id": "view-in-github",
        "colab_type": "text"
      },
      "source": [
        "<a href=\"https://colab.research.google.com/github/Joaogalescky/Ciencia-de-Dados---2024/blob/main/Operadores_Exercicios.ipynb\" target=\"_parent\"><img src=\"https://colab.research.google.com/assets/colab-badge.svg\" alt=\"Open In Colab\"/></a>"
      ]
    },
    {
      "cell_type": "markdown",
      "metadata": {
        "id": "U0k2apvM7bLo"
      },
      "source": [
        "# Exercícios"
      ]
    },
    {
      "cell_type": "markdown",
      "metadata": {
        "id": "mmDXpov17bLr"
      },
      "source": [
        "- Faça um programa que pergunta um número ao usuário, e em seguida mostra o antecessor e o sucessor desse número.  \n",
        "(Adaptado de CARVALHO, 2007)."
      ]
    },
    {
      "cell_type": "code",
      "execution_count": null,
      "metadata": {
        "id": "Yfs25UJx7bLr"
      },
      "outputs": [],
      "source": [
        "num = input('Digite um número: ') #Recebe a entrada do usuário. A entrada sempre é uma cadeia de caracteres (string)\n",
        "num = int(num) #Converte o valor para inteiro\n",
        "print('Valor:', num) #mostra o número\n",
        "print('Antecessor:', num-1) #mostra o antecessor do número\n",
        "print('Sucessor:', num+1) #mostra o sucessor do número"
      ]
    },
    {
      "cell_type": "markdown",
      "metadata": {
        "id": "UQJyl9gC7bLs"
      },
      "source": [
        "- Faça um programa que pergunta o nome do usuário, e em seguida mostra a frase \"Boa tarde\" seguida do nome do usuário."
      ]
    },
    {
      "cell_type": "code",
      "execution_count": 1,
      "metadata": {
        "id": "kbRlK7EU7bLs",
        "colab": {
          "base_uri": "https://localhost:8080/"
        },
        "outputId": "178854cb-1c34-4cd0-8d30-c27cb9453764"
      },
      "outputs": [
        {
          "output_type": "stream",
          "name": "stdout",
          "text": [
            "Olá! Digite o seu nome de usuário: João\n",
            "Olá João\n"
          ]
        }
      ],
      "source": [
        "entrada = input('Olá! Digite o seu nome de usuário: ')\n",
        "print('Olá ' + entrada)"
      ]
    },
    {
      "cell_type": "markdown",
      "metadata": {
        "id": "pJi9MJdz7bLs"
      },
      "source": [
        "- Pergunte um número ao usuário, e mostre o valor desse número ao cubo."
      ]
    },
    {
      "cell_type": "code",
      "execution_count": null,
      "metadata": {
        "id": "6U1H5vax7bLt"
      },
      "outputs": [],
      "source": []
    },
    {
      "cell_type": "markdown",
      "metadata": {
        "id": "z5pta2Wp7bLt"
      },
      "source": [
        "- Pergunte três valores ao usuário, que corresponde às horas, minutos e segundos do horário atual. Calcule quantos segundos se passaram desde 00:00 horas.  \n",
        "(Adaptado de MENEZES 2019, pg. 72)"
      ]
    },
    {
      "cell_type": "code",
      "execution_count": null,
      "metadata": {
        "id": "ib8EE2oh7bLt",
        "outputId": "3d3109d3-81d0-418a-a6f2-7814990915ab",
        "colab": {
          "base_uri": "https://localhost:8080/"
        }
      },
      "outputs": [
        {
          "output_type": "stream",
          "name": "stdout",
          "text": [
            "Horas:2\n",
            "Minutos:30\n",
            "Segundos:25\n",
            "Se passaram  9025 segundos desde meia-noite\n"
          ]
        }
      ],
      "source": [
        "h = int(input(\"Horas:\"))\n",
        "m = int(input(\"Minutos:\"))\n",
        "s = int(input(\"Segundos:\"))\n",
        "\n",
        "print(\"Se passaram \", h * 3600 + m * 60 + s, \"segundos desde meia-noite\")"
      ]
    },
    {
      "cell_type": "markdown",
      "metadata": {
        "id": "pzyor9gT7bLt"
      },
      "source": [
        "- Pergunte um número ao usuário, e em seguida mostre a raiz quadrada e a raiz cúbica desse número."
      ]
    },
    {
      "cell_type": "code",
      "execution_count": null,
      "metadata": {
        "id": "mbmJHmiD7bLt"
      },
      "outputs": [],
      "source": []
    },
    {
      "cell_type": "markdown",
      "metadata": {
        "id": "dvAUG_h27bLt"
      },
      "source": [
        "- Escreva um programa que pergunte a quantidade de km percorridos por um carro alugado pelo usuário, assim como a quantidade de dias pelos quais o carro foi alugado. Calcule o preço a pagar, sabendo que o carro custa R\\\\$ 60,00 por dia e R\\\\$ 0,15 por km rodado.  \n",
        "(Fonte: MENEZES 2019, pg. 72)"
      ]
    },
    {
      "cell_type": "code",
      "execution_count": null,
      "metadata": {
        "id": "jTJ-SSM57bLt"
      },
      "outputs": [],
      "source": []
    },
    {
      "cell_type": "markdown",
      "metadata": {
        "id": "fkPk-VTv7bLt"
      },
      "source": [
        "- Escreva um programa para ler as dimensões de um retângulo, com o tamanho da base ($b$) e da altura ($h$). Calcule o mostre o perímetro ($p$) e área ($a$) desse retângulo.\n",
        "$$p = 2(b+h)$$\n",
        "$$a = bh$$"
      ]
    },
    {
      "cell_type": "code",
      "execution_count": null,
      "metadata": {
        "id": "kEGNKsSI7bLu"
      },
      "outputs": [],
      "source": []
    },
    {
      "cell_type": "markdown",
      "metadata": {
        "id": "qGtTQ27C7bLu"
      },
      "source": [
        "- Pergunte ao usuário o valor do raio ($r$) de um círculo, e em seguida mostre o perímetro ($p$) e a área ($a$) desse círculo.\n",
        "$$p = 2\\pi r$$\n",
        "$$a = \\pi r^2$$"
      ]
    },
    {
      "cell_type": "code",
      "execution_count": null,
      "metadata": {
        "id": "n2rJO03m7bLu"
      },
      "outputs": [],
      "source": []
    },
    {
      "cell_type": "markdown",
      "metadata": {
        "id": "ag8Vj_oS7bLu"
      },
      "source": [
        "- Faça  um  algoritmo  que  leia  três  notas ($N_1$, $N_2$ e $N_3$)  de  um  aluno,  calcule  e  escreva  a  média  final  deste  aluno. Considerar que a média ($M$) é ponderada e que o peso das notas é 2, 3 e 5. Fórmula para o cálculo da média final é:\n",
        "$$M = \\frac{N_1 \\times 2 + N_2 \\times 3 + N_3 \\times 5}{10}$$  \n",
        "(Fonte: CARVALHO, 2007)"
      ]
    },
    {
      "cell_type": "code",
      "execution_count": null,
      "metadata": {
        "id": "gkinVSQS7bLu"
      },
      "outputs": [],
      "source": []
    },
    {
      "cell_type": "markdown",
      "metadata": {
        "id": "ytcnhbNq7bLu"
      },
      "source": [
        "- Faça um programa que solicite o preço de uma mercadoria e o percentual de desconto. Exiba o valor do desconto e o preço a pagar.  \n",
        "(Fonte: MENEZES 2019, pg. 72)"
      ]
    },
    {
      "cell_type": "code",
      "execution_count": null,
      "metadata": {
        "id": "lDhumd--7bLu"
      },
      "outputs": [],
      "source": []
    },
    {
      "cell_type": "markdown",
      "metadata": {
        "id": "8jtnqdvj7bLu"
      },
      "source": [
        "- Faça um programa que calcule o aumento de um salário. Ele deve solicitar o valor do salário e a porcentagem de aumento. Exiba o valor do aumento e do novo salário.  \n",
        "(Fonte: MENEZES 2019, pg. 72)"
      ]
    },
    {
      "cell_type": "code",
      "execution_count": null,
      "metadata": {
        "id": "men0ncPa7bLu"
      },
      "outputs": [],
      "source": []
    },
    {
      "cell_type": "markdown",
      "metadata": {
        "id": "OM_HR5507bLv"
      },
      "source": [
        "- Peça ao usuário que informe o valor de um boleto, o percentual de juros cobrado e o número de dias em atraso. O programa deve calcular o valor total a ser pago, utilizando a fórmula\n",
        "$$Total = Valor + Valor \\times \\frac{Juros}{100} \\times Dias $$  \n",
        "(Adaptado de LOPES, 2011)"
      ]
    },
    {
      "cell_type": "code",
      "execution_count": null,
      "metadata": {
        "id": "hZiUrIMn7bLv"
      },
      "outputs": [],
      "source": []
    },
    {
      "cell_type": "markdown",
      "metadata": {
        "id": "cidmGQ977bLv"
      },
      "source": [
        "- Considere que houve uma eleição, na qual três candidatos concorreram ($C_a$, $C_b$ e $C_c$). O usuário deve informar quantos votos cada candidato recebeu e quantidade de votos brancos e nulos. O programa deve calcular e mostrar a quantidade total de eleitores, o percentual de votos que cada candidato recebeu (em relação ao total de votos da eleição, o percentual de votos brancos e o percentual de votos nulos.  \n",
        "(Adaptado de LOPES, 2011)"
      ]
    },
    {
      "cell_type": "code",
      "execution_count": null,
      "metadata": {
        "id": "glHYTQNW7bLv"
      },
      "outputs": [],
      "source": []
    },
    {
      "cell_type": "markdown",
      "metadata": {
        "id": "yxZb5qNS7bLv"
      },
      "source": [
        "- O  custo  de  um  carro  novo  ao  consumidor  é  a  soma  do  custo  de  fábrica  com a  porcentagem  do distribuidor e dos impostos (aplicados ao custo de fábrica). Supondo que o percentual do distribuidor seja  de  28%  e  os  impostos  de  45%,  escrever  um  algoritmo  para  ler o  custo  de  fábrica  de  um  carro, calcular e escrever o custo final ao consumidor.  \n",
        "(Fonte: CARVALHO, 2007)"
      ]
    },
    {
      "cell_type": "code",
      "execution_count": null,
      "metadata": {
        "id": "1WuBwnBt7bLv"
      },
      "outputs": [],
      "source": []
    },
    {
      "cell_type": "markdown",
      "metadata": {
        "id": "DGchODYL7bLv"
      },
      "source": [
        "- Uma revendedora de carros usados paga a seus funcionários vendedores um salário fixo por mês, mais  uma  comissão  também  fixa  para  cada  carro  vendido  e  mais  5% do  valor  das  vendas  por  ele efetuadas. Escrever um algoritmo que leia o número de  carros por  ele vendidos, o valor total de suas vendas, o salário fixo e o valor que ele recebe por carro vendido. Calcule e escreva o salário final do vendedor.  \n",
        "(Fonte: CARVALHO, 2007)."
      ]
    },
    {
      "cell_type": "code",
      "execution_count": null,
      "metadata": {
        "id": "bbLZ1RLE7bLv"
      },
      "outputs": [],
      "source": []
    },
    {
      "cell_type": "markdown",
      "metadata": {
        "id": "FdIDldz87bLv"
      },
      "source": [
        "## Referências\n",
        "MENEZES, N. N. C. Introdução à programação com Python: algoritmos e lógica de programação para iniciantes. 3.ed. São Paulo: Novatec, 2019.  \n",
        "\n",
        "**Outras referências**  \n",
        "\n",
        "[CARVALHO, F.P. Lógica de programação - Algoritmos: Notas de aula. FIT. Taquara, 2007 ](https://fit.faccat.br/~fpereira/apostilas/exerc_resp_alg_mar2007.pdf)  \n",
        "[LOPES, A. Algoritmos: Notas de aula. Mossoró: IFRN, 2011](http://docente.ifrn.edu.br/abrahaolopes/semestre-2012.1/1.2411.1v-fundamentos-de-logica-e-algoritmos/lista-de-exercicios-2-operadores-matematicos/at_download/file)"
      ]
    },
    {
      "cell_type": "markdown",
      "metadata": {
        "id": "jDWbHEs_7bLv"
      },
      "source": [
        "  "
      ]
    }
  ],
  "metadata": {
    "kernelspec": {
      "display_name": "Python 3 (ipykernel)",
      "language": "python",
      "name": "python3"
    },
    "language_info": {
      "codemirror_mode": {
        "name": "ipython",
        "version": 3
      },
      "file_extension": ".py",
      "mimetype": "text/x-python",
      "name": "python",
      "nbconvert_exporter": "python",
      "pygments_lexer": "ipython3",
      "version": "3.9.15"
    },
    "colab": {
      "provenance": [],
      "include_colab_link": true
    }
  },
  "nbformat": 4,
  "nbformat_minor": 0
}