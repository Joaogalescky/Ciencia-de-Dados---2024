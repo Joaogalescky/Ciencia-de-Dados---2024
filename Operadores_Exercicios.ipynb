{
  "cells": [
    {
      "cell_type": "markdown",
      "metadata": {
        "id": "view-in-github",
        "colab_type": "text"
      },
      "source": [
        "<a href=\"https://colab.research.google.com/github/Joaogalescky/Ciencia-de-Dados---2024/blob/main/Operadores_Exercicios.ipynb\" target=\"_parent\"><img src=\"https://colab.research.google.com/assets/colab-badge.svg\" alt=\"Open In Colab\"/></a>"
      ]
    },
    {
      "cell_type": "markdown",
      "metadata": {
        "id": "U0k2apvM7bLo"
      },
      "source": [
        "# Exercícios"
      ]
    },
    {
      "cell_type": "markdown",
      "metadata": {
        "id": "mmDXpov17bLr"
      },
      "source": [
        "- Faça um programa que pergunta um número ao usuário, e em seguida mostra o antecessor e o sucessor desse número.  \n",
        "(Adaptado de CARVALHO, 2007)."
      ]
    },
    {
      "cell_type": "code",
      "execution_count": null,
      "metadata": {
        "id": "Yfs25UJx7bLr"
      },
      "outputs": [],
      "source": [
        "num = input('Digite um número: ') #Recebe a entrada do usuário. A entrada sempre é uma cadeia de caracteres (string)\n",
        "num = int(num) #Converte o valor para inteiro\n",
        "print('Valor:', num) #mostra o número\n",
        "print('Antecessor:', num-1) #mostra o antecessor do número\n",
        "print('Sucessor:', num+1) #mostra o sucessor do número"
      ]
    },
    {
      "cell_type": "markdown",
      "metadata": {
        "id": "UQJyl9gC7bLs"
      },
      "source": [
        "- Faça um programa que pergunta o nome do usuário, e em seguida mostra a frase \"Boa tarde\" seguida do nome do usuário."
      ]
    },
    {
      "cell_type": "code",
      "execution_count": null,
      "metadata": {
        "id": "kbRlK7EU7bLs",
        "colab": {
          "base_uri": "https://localhost:8080/"
        },
        "outputId": "178854cb-1c34-4cd0-8d30-c27cb9453764"
      },
      "outputs": [
        {
          "output_type": "stream",
          "name": "stdout",
          "text": [
            "Olá! Digite o seu nome de usuário: João\n",
            "Olá João\n"
          ]
        }
      ],
      "source": [
        "entrada = input('Olá! Digite o seu nome de usuário: ')\n",
        "print('Olá ' + entrada)"
      ]
    },
    {
      "cell_type": "markdown",
      "metadata": {
        "id": "pJi9MJdz7bLs"
      },
      "source": [
        "- Pergunte um número ao usuário, e mostre o valor desse número ao cubo."
      ]
    },
    {
      "cell_type": "code",
      "execution_count": 2,
      "metadata": {
        "id": "6U1H5vax7bLt",
        "outputId": "4824643b-dffb-4c90-e104-4c9a79851351",
        "colab": {
          "base_uri": "https://localhost:8080/"
        }
      },
      "outputs": [
        {
          "output_type": "stream",
          "name": "stdout",
          "text": [
            "Digite um número: 5\n",
            "125\n"
          ]
        }
      ],
      "source": [
        "n1 = int(input('Digite um número: '))\n",
        "print(n1 * n1 * n1)"
      ]
    },
    {
      "cell_type": "markdown",
      "metadata": {
        "id": "z5pta2Wp7bLt"
      },
      "source": [
        "- Pergunte três valores ao usuário, que corresponde às horas, minutos e segundos do horário atual. Calcule quantos segundos se passaram desde 00:00 horas.  \n",
        "(Adaptado de MENEZES 2019, pg. 72)"
      ]
    },
    {
      "cell_type": "code",
      "execution_count": null,
      "metadata": {
        "id": "ib8EE2oh7bLt",
        "outputId": "3d3109d3-81d0-418a-a6f2-7814990915ab",
        "colab": {
          "base_uri": "https://localhost:8080/"
        }
      },
      "outputs": [
        {
          "output_type": "stream",
          "name": "stdout",
          "text": [
            "Horas:2\n",
            "Minutos:30\n",
            "Segundos:25\n",
            "Se passaram  9025 segundos desde meia-noite\n"
          ]
        }
      ],
      "source": [
        "h = int(input(\"Horas:\"))\n",
        "m = int(input(\"Minutos:\"))\n",
        "s = int(input(\"Segundos:\"))\n",
        "\n",
        "print(\"Se passaram \", h * 3600 + m * 60 + s, \"segundos desde meia-noite\")"
      ]
    },
    {
      "cell_type": "markdown",
      "metadata": {
        "id": "pzyor9gT7bLt"
      },
      "source": [
        "- Pergunte um número ao usuário, e em seguida mostre a raiz quadrada e a raiz cúbica desse número."
      ]
    },
    {
      "cell_type": "code",
      "execution_count": 11,
      "metadata": {
        "id": "mbmJHmiD7bLt",
        "outputId": "4e999525-2ece-4b5f-c98d-25ff7cc8fb1b",
        "colab": {
          "base_uri": "https://localhost:8080/"
        }
      },
      "outputs": [
        {
          "output_type": "stream",
          "name": "stdout",
          "text": [
            "Digite um número: 125\n",
            "A raiz quadrada de 125 é 11\n",
            "A raiz cúbica de 125 é 5\n"
          ]
        }
      ],
      "source": [
        "n1 = int(input('Digite um número: '))\n",
        "raizQuadrada = int(round(n1 ** (1/2)))\n",
        "raizCubica = int(round(n1 ** (1/3)))\n",
        "print(f'A raiz quadrada de {n1} é {raizQuadrada}\\nA raiz cúbica de {n1} é {raizCubica}')"
      ]
    },
    {
      "cell_type": "markdown",
      "metadata": {
        "id": "dvAUG_h27bLt"
      },
      "source": [
        "- Escreva um programa que pergunte a quantidade de km percorridos por um carro alugado pelo usuário, assim como a quantidade de dias pelos quais o carro foi alugado. Calcule o preço a pagar, sabendo que o carro custa R\\\\$ 60,00 por dia e R\\\\$ 0,15 por km rodado.  \n",
        "(Fonte: MENEZES 2019, pg. 72)"
      ]
    },
    {
      "cell_type": "code",
      "execution_count": 16,
      "metadata": {
        "id": "jTJ-SSM57bLt",
        "outputId": "63b4204a-e360-4721-eaa9-7d5ae36c448d",
        "colab": {
          "base_uri": "https://localhost:8080/"
        }
      },
      "outputs": [
        {
          "output_type": "stream",
          "name": "stdout",
          "text": [
            "Digite a kilometragem percorrida: 65\n",
            "Digite a quantidade de dias que o veículo foi alugado: 20\n",
            "Preço a pagar: 1209.75\n"
          ]
        }
      ],
      "source": [
        "km = float(input('Digite a kilometragem percorrida: '))\n",
        "dias = int(input('Digite a quantidade de dias que o veículo foi alugado: '))\n",
        "calcKm = float(km * 0.15)\n",
        "calcDias = float(dias * 60.00)\n",
        "soma = calcKm + calcDias\n",
        "print(f'Preço a pagar: {soma}')"
      ]
    },
    {
      "cell_type": "markdown",
      "metadata": {
        "id": "fkPk-VTv7bLt"
      },
      "source": [
        "- Escreva um programa para ler as dimensões de um retângulo, com o tamanho da base ($b$) e da altura ($h$). Calcule o mostre o perímetro ($p$) e área ($a$) desse retângulo.\n",
        "$$p = 2(b+h)$$\n",
        "$$a = bh$$"
      ]
    },
    {
      "cell_type": "code",
      "execution_count": 18,
      "metadata": {
        "id": "kEGNKsSI7bLu",
        "outputId": "f0033d64-25ae-415e-9b48-a8ef3118157b",
        "colab": {
          "base_uri": "https://localhost:8080/"
        }
      },
      "outputs": [
        {
          "output_type": "stream",
          "name": "stdout",
          "text": [
            "Digite o valor da altura: 5\n",
            "Digite o valor da base: 5\n",
            "A área é 25.0\n",
            "O perimetro é 20.0\n"
          ]
        }
      ],
      "source": [
        "altura = float(input('Digite o valor da altura: '))\n",
        "base = float(input('Digite o valor da base: '))\n",
        "calcArea = altura * base\n",
        "calcPerimetro = 2 * (base + altura)\n",
        "print(f'A área é {calcArea}\\nO perimetro é {calcPerimetro}')"
      ]
    },
    {
      "cell_type": "markdown",
      "metadata": {
        "id": "qGtTQ27C7bLu"
      },
      "source": [
        "- Pergunte ao usuário o valor do raio ($r$) de um círculo, e em seguida mostre o perímetro ($p$) e a área ($a$) desse círculo.\n",
        "$$p = 2\\pi r$$\n",
        "$$a = \\pi r^2$$"
      ]
    },
    {
      "cell_type": "code",
      "execution_count": 24,
      "metadata": {
        "id": "n2rJO03m7bLu",
        "outputId": "8d182c84-9332-44b2-e9db-c6ea3fe84e36",
        "colab": {
          "base_uri": "https://localhost:8080/"
        }
      },
      "outputs": [
        {
          "output_type": "stream",
          "name": "stdout",
          "text": [
            "Digite o valor do raio do círculo: 5\n",
            "O valor do perimetro é 31.0\n",
            "O valor da area é 79.0\n"
          ]
        }
      ],
      "source": [
        "import math\n",
        "\n",
        "raio = float(input('Digite o valor do raio do círculo: '))\n",
        "calcPerimetro = float (round(2 * math.pi * raio))\n",
        "calcArea = float (round(math.pi * (raio ** 2)))\n",
        "print(f'O valor do perimetro é {calcPerimetro}\\nO valor da area é {calcArea}')"
      ]
    },
    {
      "cell_type": "markdown",
      "metadata": {
        "id": "ag8Vj_oS7bLu"
      },
      "source": [
        "- Faça  um  algoritmo  que  leia  três  notas ($N_1$, $N_2$ e $N_3$)  de  um  aluno,  calcule  e  escreva  a  média  final  deste  aluno. Considerar que a média ($M$) é ponderada e que o peso das notas é 2, 3 e 5. Fórmula para o cálculo da média final é:\n",
        "$$M = \\frac{N_1 \\times 2 + N_2 \\times 3 + N_3 \\times 5}{10}$$  \n",
        "(Fonte: CARVALHO, 2007)"
      ]
    },
    {
      "cell_type": "code",
      "execution_count": 26,
      "metadata": {
        "id": "gkinVSQS7bLu",
        "outputId": "bacc9fcb-8de7-43ed-9568-7dc2bdec5eff",
        "colab": {
          "base_uri": "https://localhost:8080/"
        }
      },
      "outputs": [
        {
          "output_type": "stream",
          "name": "stdout",
          "text": [
            "Digite o valor da primeira nota: 45\n",
            "Digite o valor da segunda nota: 60\n",
            "Digite o valor da terceira nota: 50\n",
            "A média é 52.0\n"
          ]
        }
      ],
      "source": [
        "n1 = (int(input('Digite o valor da primeira nota: ')))\n",
        "n2 = (int(input('Digite o valor da segunda nota: ')))\n",
        "n3 = (int(input('Digite o valor da terceira nota: ')))\n",
        "\n",
        "media = (n1 * 2 + n2 * 3 + n3 * 5) / 10\n",
        "print(f'A média é {media}')"
      ]
    },
    {
      "cell_type": "markdown",
      "metadata": {
        "id": "ytcnhbNq7bLu"
      },
      "source": [
        "- Faça um programa que solicite o preço de uma mercadoria e o percentual de desconto. Exiba o valor do desconto e o preço a pagar.  \n",
        "(Fonte: MENEZES 2019, pg. 72)"
      ]
    },
    {
      "cell_type": "code",
      "execution_count": 30,
      "metadata": {
        "id": "lDhumd--7bLu",
        "outputId": "b70ee223-f283-4fa2-9eb0-0ba0392a7534",
        "colab": {
          "base_uri": "https://localhost:8080/"
        }
      },
      "outputs": [
        {
          "output_type": "stream",
          "name": "stdout",
          "text": [
            "Digite o preço da mercadoria: 250\n",
            "Digite o percentual de desconto: 15\n",
            "O valor do desconto é 37.5\n",
            "O preço da mercadoria ficou por R$ 212.5 reais\n"
          ]
        }
      ],
      "source": [
        "preco = int(input('Digite o preço da mercadoria: '))\n",
        "desconto = int(input('Digite o percentual de desconto: '))\n",
        "\n",
        "desconto = (desconto / 100) * preco\n",
        "preco = preco - desconto\n",
        "\n",
        "print(f'O valor do desconto é {desconto}\\nO preço da mercadoria ficou por R$ {preco} reais')"
      ]
    },
    {
      "cell_type": "markdown",
      "metadata": {
        "id": "8jtnqdvj7bLu"
      },
      "source": [
        "- Faça um programa que calcule o aumento de um salário. Ele deve solicitar o valor do salário e a porcentagem de aumento. Exiba o valor do aumento e do novo salário.  \n",
        "(Fonte: MENEZES 2019, pg. 72)"
      ]
    },
    {
      "cell_type": "code",
      "execution_count": 31,
      "metadata": {
        "id": "men0ncPa7bLu",
        "outputId": "1fd5097d-b59c-41f7-a483-1f05be1e97b4",
        "colab": {
          "base_uri": "https://localhost:8080/"
        }
      },
      "outputs": [
        {
          "output_type": "stream",
          "name": "stdout",
          "text": [
            "Digite o valor atual do salário: 1350\n",
            "Digite o valor da porcentagem de aumento: 15\n",
            "O valor do aumento do salario foi 202.5\n",
            "O valor do novo salario foi de R$ 1552.5\n"
          ]
        }
      ],
      "source": [
        "salario = float(input('Digite o valor atual do salário: '))\n",
        "aumento = int(input('Digite o valor da porcentagem de aumento: '))\n",
        "\n",
        "aumento = ((salario / 100) * aumento)\n",
        "salario = aumento + salario\n",
        "\n",
        "print(f'O valor do aumento do salario foi {aumento}\\nO valor do novo salario foi de R$ {salario}')"
      ]
    },
    {
      "cell_type": "markdown",
      "metadata": {
        "id": "OM_HR5507bLv"
      },
      "source": [
        "- Peça ao usuário que informe o valor de um boleto, o percentual de juros cobrado e o número de dias em atraso. O programa deve calcular o valor total a ser pago, utilizando a fórmula\n",
        "$$Total = Valor + Valor \\times \\frac{Juros}{100} \\times Dias $$  \n",
        "(Adaptado de LOPES, 2011)"
      ]
    },
    {
      "cell_type": "code",
      "execution_count": 32,
      "metadata": {
        "id": "hZiUrIMn7bLv",
        "outputId": "26085b05-be3d-479b-e899-55e3492ec657",
        "colab": {
          "base_uri": "https://localhost:8080/"
        }
      },
      "outputs": [
        {
          "output_type": "stream",
          "name": "stdout",
          "text": [
            "Digite o valor do boleto R$: 75\n",
            "Digite o valor do percentual de juros cobrado: 1\n",
            "Digite o número de dias em atraso: 12\n",
            "O valor total a ser pago é R$ 84.0\n"
          ]
        }
      ],
      "source": [
        "boleto = float(input('Digite o valor do boleto R$: '))\n",
        "juros = float(input('Digite o valor do percentual de juros cobrado: '))\n",
        "dias = int(input('Digite o número de dias em atraso: '))\n",
        "\n",
        "boleto = boleto + boleto * (juros/100) * dias\n",
        "print(f'O valor total a ser pago é R$ {boleto}')"
      ]
    },
    {
      "cell_type": "markdown",
      "metadata": {
        "id": "cidmGQ977bLv"
      },
      "source": [
        "- Considere que houve uma eleição, na qual três candidatos concorreram ($C_a$, $C_b$ e $C_c$). O usuário deve informar quantos votos cada candidato recebeu e quantidade de votos brancos e nulos. O programa deve calcular e mostrar a quantidade total de eleitores, o percentual de votos que cada candidato recebeu (em relação ao total de votos da eleição, o percentual de votos brancos e o percentual de votos nulos.  \n",
        "(Adaptado de LOPES, 2011)"
      ]
    },
    {
      "cell_type": "code",
      "execution_count": 42,
      "metadata": {
        "id": "glHYTQNW7bLv",
        "outputId": "32b63d94-e47b-4949-d055-5ee2038b4dab",
        "colab": {
          "base_uri": "https://localhost:8080/"
        }
      },
      "outputs": [
        {
          "output_type": "stream",
          "name": "stdout",
          "text": [
            "Digite o número de votos do candidato A: 65\n",
            "Digite o número de votos do candidato B: 60\n",
            "Digite o número de votos do candidato C: 54\n",
            "Digite o número de votos brancos: 20\n",
            "Digite o número de votos nulos: 12\n",
            "Total de eleitores: 211\n",
            "Votos do candidato A: 65, (31 %)\n",
            "Votos do candidato B: 60, (28 %)\n",
            "Votos do candidato C: 54, (26 %)\n",
            "Votos brancos: 20, (9 %)\n",
            "Votos nulos: 12, (6 %)\n"
          ]
        }
      ],
      "source": [
        "a = int(input('Digite o número de votos do candidato A: '))\n",
        "b = int(input('Digite o número de votos do candidato B: '))\n",
        "c = int(input('Digite o número de votos do candidato C: '))\n",
        "brancos = int(input('Digite o número de votos brancos: '))\n",
        "nulos = int(input('Digite o número de votos nulos: '))\n",
        "\n",
        "totalEleitores = a + b + c + brancos + nulos\n",
        "percA = round((a / totalEleitores) * 100)\n",
        "percB = round((b / totalEleitores) * 100)\n",
        "percC = round((c / totalEleitores) * 100)\n",
        "percBrancos = round((brancos / totalEleitores) * 100)\n",
        "percNulos = round((nulos / totalEleitores) * 100)\n",
        "\n",
        "print(f'Total de eleitores: {totalEleitores}')\n",
        "print(f'Votos do candidato A: {a}, ({percA} %)')\n",
        "print(f'Votos do candidato B: {b}, ({percB} %)')\n",
        "print(f'Votos do candidato C: {c}, ({percC} %)')\n",
        "print(f'Votos brancos: {brancos}, ({percBrancos} %)')\n",
        "print(f'Votos nulos: {nulos}, ({percNulos} %)')"
      ]
    },
    {
      "cell_type": "markdown",
      "metadata": {
        "id": "yxZb5qNS7bLv"
      },
      "source": [
        "- O  custo  de  um  carro  novo  ao  consumidor  é  a  soma  do  custo  de  fábrica  com a  porcentagem  do distribuidor e dos impostos (aplicados ao custo de fábrica). Supondo que o percentual do distribuidor seja  de  28%  e  os  impostos  de  45%,  escrever  um  algoritmo  para  ler o  custo  de  fábrica  de  um  carro, calcular e escrever o custo final ao consumidor.  \n",
        "(Fonte: CARVALHO, 2007)"
      ]
    },
    {
      "cell_type": "code",
      "execution_count": 43,
      "metadata": {
        "id": "1WuBwnBt7bLv",
        "outputId": "16d74c4c-c6d3-4572-de13-006de9196f71",
        "colab": {
          "base_uri": "https://localhost:8080/"
        }
      },
      "outputs": [
        {
          "output_type": "stream",
          "name": "stdout",
          "text": [
            "Digite o custo de fábrica do carro: 35000\n",
            "O custo final do carro é R$ 60550.0\n"
          ]
        }
      ],
      "source": [
        "custoFabrica = float(input('Digite o custo de fábrica do carro: '))\n",
        "\n",
        "percentualDistribuidor = 28\n",
        "percentualImpostos = 45\n",
        "\n",
        "custoDistribuidor = (custoFabrica * percentualDistribuidor) / 100\n",
        "custoImpostos = (custoFabrica * percentualImpostos) / 100\n",
        "\n",
        "final = float(round(custoFabrica + custoDistribuidor + custoImpostos))\n",
        "\n",
        "print('O custo final do carro é R$', final)"
      ]
    },
    {
      "cell_type": "markdown",
      "metadata": {
        "id": "DGchODYL7bLv"
      },
      "source": [
        "- Uma revendedora de carros usados paga a seus funcionários vendedores um salário fixo por mês, mais  uma  comissão  também  fixa  para  cada  carro  vendido  e  mais  5% do  valor  das  vendas  por  ele efetuadas. Escrever um algoritmo que leia o número de  carros por  ele vendidos, o valor total de suas vendas, o salário fixo e o valor que ele recebe por carro vendido. Calcule e escreva o salário final do vendedor.  \n",
        "(Fonte: CARVALHO, 2007)."
      ]
    },
    {
      "cell_type": "code",
      "execution_count": 44,
      "metadata": {
        "id": "bbLZ1RLE7bLv",
        "outputId": "afc6734b-a9ab-45c5-c048-324985e60c55",
        "colab": {
          "base_uri": "https://localhost:8080/"
        }
      },
      "outputs": [
        {
          "output_type": "stream",
          "name": "stdout",
          "text": [
            "Digite o número de carros vendidos: 12\n",
            "Digite o valor total das vendas: 120000\n",
            "Digite o salário fixo do vendedor: 2300\n",
            "Digite o valor da comissão por carro vendido: 5\n",
            "O salário final do vendedor é R$ 80300.0\n"
          ]
        }
      ],
      "source": [
        "nCarros = int(input('Digite o número de carros vendidos: '))\n",
        "totalVendas = float(input('Digite o valor total das vendas: '))\n",
        "salarioFixo = float(input('Digite o salário fixo do vendedor: '))\n",
        "comissaoCarro = float(input('Digite o valor da comissão por carro vendido: '))\n",
        "\n",
        "percVendas = 5\n",
        "comissaoCarro = (totalVendas * percVendas) / 100\n",
        "\n",
        "salarioFinal = salarioFixo + (nCarros * comissaoCarro) + comissaoCarro\n",
        "\n",
        "print('O salário final do vendedor é R$', salarioFinal)\n"
      ]
    },
    {
      "cell_type": "markdown",
      "metadata": {
        "id": "FdIDldz87bLv"
      },
      "source": [
        "## Referências\n",
        "MENEZES, N. N. C. Introdução à programação com Python: algoritmos e lógica de programação para iniciantes. 3.ed. São Paulo: Novatec, 2019.  \n",
        "\n",
        "**Outras referências**  \n",
        "\n",
        "[CARVALHO, F.P. Lógica de programação - Algoritmos: Notas de aula. FIT. Taquara, 2007 ](https://fit.faccat.br/~fpereira/apostilas/exerc_resp_alg_mar2007.pdf)  \n",
        "[LOPES, A. Algoritmos: Notas de aula. Mossoró: IFRN, 2011](http://docente.ifrn.edu.br/abrahaolopes/semestre-2012.1/1.2411.1v-fundamentos-de-logica-e-algoritmos/lista-de-exercicios-2-operadores-matematicos/at_download/file)"
      ]
    },
    {
      "cell_type": "markdown",
      "metadata": {
        "id": "jDWbHEs_7bLv"
      },
      "source": [
        "  "
      ]
    }
  ],
  "metadata": {
    "kernelspec": {
      "display_name": "Python 3 (ipykernel)",
      "language": "python",
      "name": "python3"
    },
    "language_info": {
      "codemirror_mode": {
        "name": "ipython",
        "version": 3
      },
      "file_extension": ".py",
      "mimetype": "text/x-python",
      "name": "python",
      "nbconvert_exporter": "python",
      "pygments_lexer": "ipython3",
      "version": "3.9.15"
    },
    "colab": {
      "provenance": [],
      "include_colab_link": true
    }
  },
  "nbformat": 4,
  "nbformat_minor": 0
}