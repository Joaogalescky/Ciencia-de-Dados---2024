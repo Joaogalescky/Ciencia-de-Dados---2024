{
  "cells": [
    {
      "cell_type": "markdown",
      "metadata": {
        "id": "view-in-github",
        "colab_type": "text"
      },
      "source": [
        "<a href=\"https://colab.research.google.com/github/Joaogalescky/Ciencia-de-Dados---2024/blob/main/Tipos_de_variaveis.ipynb\" target=\"_parent\"><img src=\"https://colab.research.google.com/assets/colab-badge.svg\" alt=\"Open In Colab\"/></a>"
      ]
    },
    {
      "cell_type": "markdown",
      "metadata": {
        "id": "YNCYZU6o7Hrb"
      },
      "source": [
        "# Tipos de variáveis\n",
        "\n",
        "Em Python, o tipo de uma variável é definido no momento de sua atribuição. Para observarmos o tipo de uma variável, utilizamos a função `type()`\n",
        "\n",
        "**Exemplo**  \n",
        "```python\n",
        "a = 10\n",
        "type(a)\n",
        "```"
      ]
    },
    {
      "cell_type": "code",
      "execution_count": null,
      "metadata": {
        "id": "gnoIP0Ce7Hre"
      },
      "outputs": [],
      "source": []
    },
    {
      "cell_type": "markdown",
      "metadata": {
        "id": "XQdSylfp7Hre"
      },
      "source": [
        "Existem diversos tipos de dados presentes nativamente em Python.\n",
        "\n",
        "## `int` e `float`\n",
        "\n",
        "\n",
        "### Exercício\n",
        "Observe o tipo das seguintes variáveis\n",
        "```python\n",
        "inteiro=10\n",
        "type(inteiro)\n",
        "\n",
        "real=3.5\n",
        "type(real)\n",
        "```"
      ]
    },
    {
      "cell_type": "code",
      "execution_count": null,
      "metadata": {
        "id": "FTVaL1Bi7Hrf"
      },
      "outputs": [],
      "source": []
    },
    {
      "cell_type": "markdown",
      "metadata": {
        "id": "AQFUN3V97Hrf"
      },
      "source": [
        "Os tipos de dados `int` e `float` permitem que sejam realizados operações matemáticas sobre eles, como adição, subtração e divisão. Ambos os tipos permitem o armazenamento de números positivos e negativos, porém o tipo `float` opera utilizando *ponto flutuante*, ou seja, permite que números reais sejam armazenados.\n",
        "\n",
        "A diferença na definição da variável se ela será um `int` ou `float`, é dado pelo uso do `.`, que separa as casas decimais."
      ]
    },
    {
      "cell_type": "code",
      "execution_count": null,
      "metadata": {
        "id": "3nO8bRVH7Hrf"
      },
      "outputs": [],
      "source": []
    },
    {
      "cell_type": "markdown",
      "metadata": {
        "id": "-nrDQeAO7Hrf"
      },
      "source": [
        "### Arredondamento\n",
        "\n",
        "Para arredondar valores `float`, pode-se utilizar a função `round()`.  \n",
        "\n",
        "**Sintaxe**  \n",
        "```python\n",
        "round(valor, num_casas)\n",
        "```\n",
        "onde:\n",
        "- `valor`: valor a ser arredondado\n",
        "- `num_casas`: número de casas decimais a ser utilizado (parâmetro opcional)\n",
        "\n",
        "**Exemplo**  \n",
        "```python\n",
        "round(2.5) #2 (int)\n",
        "round(2.5, 2) #2.5 (float)\n",
        "round(2.5, 0) #2.0 (float)\n",
        "round(5.00002, 3) #5.0 (float)\n",
        "```\n",
        "\n",
        "### Apresentando um número fixo de casas decimais\n",
        "Para que seja possível apresentar um número definido de casas decimais independente do arredondamente, pode-se utilizar a saída formatada de uma *string*.\n",
        "\n",
        "**Exemplo**  \n",
        "Para apresentar o valor 5.0, com duas casas decimais:\n",
        "\n",
        "```python\n",
        "val = 5.0\n",
        "print(f'{val:.2f}') #Saída: 5.00\n",
        "```\n",
        "\n",
        "Observe que:\n",
        "- o `f` antes das aspas indica que a *string* será formatada.\n",
        "- as `{}` indicam que aquele conteúdo será substituído por um valor.\n",
        "- `:`: separador entre a variável e as informações de formatação.\n",
        "- `.2`: número de casas decimais. Neste caso, duas.\n",
        "- `f` : indica que é um float."
      ]
    },
    {
      "cell_type": "code",
      "execution_count": null,
      "metadata": {
        "id": "Kg9e-r5S7Hrf"
      },
      "outputs": [],
      "source": []
    },
    {
      "cell_type": "markdown",
      "metadata": {
        "id": "di6A-TJi7Hrf"
      },
      "source": [
        "**Atividade**\n",
        "- Qual é a diferença entre a função `round()` e a saída utilizando *string* formatada?"
      ]
    },
    {
      "cell_type": "code",
      "execution_count": null,
      "metadata": {
        "id": "XiuITDR-7Hrg"
      },
      "outputs": [],
      "source": []
    },
    {
      "cell_type": "markdown",
      "metadata": {
        "id": "yG_T6hpJ7Hrg"
      },
      "source": [
        "## `bool`\n",
        "\n",
        "O tipo de dado `bool` permite armazenar um valor *booleano*, ou seja, verdadeiro (*True*) ou falso (*False*). Este tipo de variável permite apenas estes dois valores.\n",
        "\n",
        "**Atenção**  \n",
        ">Os valores **True** e **False** possuem letra inicial maiúscula.\n",
        "\n",
        "**Exemplo**  \n",
        "Considere que existe uma variável que registra se uma porta e uma janela estão abertas ou fechadas. Em seguida, observe o tipo de dado dessas variáveis.\n",
        "```python\n",
        "portaAberta = True\n",
        "type(portaAberta)\n",
        "\n",
        "janelaAberta = False\n",
        "type(janelaAberta)\n",
        "```\n"
      ]
    },
    {
      "cell_type": "code",
      "execution_count": null,
      "metadata": {
        "id": "bx_I2dni7Hrg"
      },
      "outputs": [],
      "source": []
    },
    {
      "cell_type": "markdown",
      "metadata": {
        "id": "t9K03c_f7Hrg"
      },
      "source": [
        "## `str`\n",
        "\n",
        "O tipol de dado `str` é utilizado para representar uma sequência de caracteres, ou *string*.\n",
        "\n",
        "Para que o interpretador Python reconheça que o dado é uma *string*, deve-se colocar a sequência de caracteres entre aspas (`'`) .\n",
        "\n",
        "**Exemplo**  \n",
        "Considere variáveis que armazenam o país e o estado. Em seguida, observe o tipo da variável.\n",
        "```python\n",
        "pais='Brasil'\n",
        "type(pais)\n",
        "\n",
        "estado='Santa Catarina'\n",
        "type(estado)\n",
        "```\n",
        "\n",
        "**Anotação**\n",
        ">Em python, uma *string* também pode ser delimitada utilizando aspas duplas (`\"`), e seu funcionamento ocorrerá da mesma forma. Porém, é uma convenção entre desenvolvedores a utilização das aspas simples, como utilizado no exemplo."
      ]
    },
    {
      "cell_type": "code",
      "execution_count": null,
      "metadata": {
        "id": "0E1ipjTT7Hrg"
      },
      "outputs": [],
      "source": []
    },
    {
      "cell_type": "markdown",
      "metadata": {
        "id": "GZP8yJ257Hrg"
      },
      "source": [
        "## Conversões de tipos de dados\n",
        "Para converter um tipo de dado a outro pode-se utilizar funções que possuem o mesmo nome do tipo de dado.\n",
        "```python\n",
        "int()\n",
        "float()\n",
        "str()\n",
        "bool()\n",
        "```"
      ]
    },
    {
      "cell_type": "markdown",
      "metadata": {
        "id": "hRUZdJLv7Hrh"
      },
      "source": [
        "**Atividade**  \n",
        "\n",
        "Observe o conteúdo e tipo de dado de cada uma das variáveis utilizadas abaixo.\n",
        "```python\n",
        "ni = 4\n",
        "nf = float(ni)\n",
        "ns = str(ni)\n",
        "```\n",
        "O quê ocorreu com os tipos de dados?"
      ]
    },
    {
      "cell_type": "code",
      "execution_count": null,
      "metadata": {
        "id": "3Q4uEcGO7Hrh"
      },
      "outputs": [],
      "source": []
    },
    {
      "cell_type": "code",
      "execution_count": null,
      "metadata": {
        "id": "jfbQOSHY7Hrh"
      },
      "outputs": [],
      "source": []
    },
    {
      "cell_type": "code",
      "execution_count": null,
      "metadata": {
        "id": "WIQG8DXE7Hri"
      },
      "outputs": [],
      "source": []
    },
    {
      "cell_type": "code",
      "execution_count": null,
      "metadata": {
        "id": "cETxM2dp7Hri"
      },
      "outputs": [],
      "source": []
    },
    {
      "cell_type": "code",
      "execution_count": null,
      "metadata": {
        "id": "0Z0-YScQ7Hri"
      },
      "outputs": [],
      "source": []
    },
    {
      "cell_type": "markdown",
      "metadata": {
        "id": "F0c5l-6_7Hri"
      },
      "source": [
        "**Atividade**  \n",
        "\n",
        "Observe o conteúdo e tipo de dado de cada uma das variáveis utilizadas abaixo.\n",
        "```python\n",
        "nf = 4.7\n",
        "ni = int(nf)\n",
        "ns = str(nf)\n",
        "```\n",
        "O quê ocorreu com os tipos de dados?"
      ]
    },
    {
      "cell_type": "code",
      "execution_count": null,
      "metadata": {
        "id": "8pKgIjf57Hri"
      },
      "outputs": [],
      "source": []
    },
    {
      "cell_type": "code",
      "execution_count": null,
      "metadata": {
        "id": "dGNA38dv7Hri"
      },
      "outputs": [],
      "source": []
    },
    {
      "cell_type": "code",
      "execution_count": null,
      "metadata": {
        "id": "zkfpUlHH7Hri"
      },
      "outputs": [],
      "source": []
    },
    {
      "cell_type": "code",
      "execution_count": null,
      "metadata": {
        "id": "5_m2tSaE7Hri"
      },
      "outputs": [],
      "source": []
    },
    {
      "cell_type": "markdown",
      "metadata": {
        "id": "1G_KFGAC7Hri"
      },
      "source": [
        "**Atividade**  \n",
        "\n",
        "Observe o conteúdo e tipo de dado de cada uma das variáveis utilizadas abaixo.\n",
        "```python\n",
        "ns = '4.7'\n",
        "ni = float(ns)\n",
        "ni = int(ns)\n",
        "```\n",
        "O quê ocorreu com os tipos de dados?"
      ]
    },
    {
      "cell_type": "code",
      "execution_count": null,
      "metadata": {
        "id": "fHJOpPR_7Hrj"
      },
      "outputs": [],
      "source": []
    },
    {
      "cell_type": "code",
      "execution_count": null,
      "metadata": {
        "id": "Xa8aNDtv7Hrj"
      },
      "outputs": [],
      "source": []
    },
    {
      "cell_type": "code",
      "execution_count": null,
      "metadata": {
        "id": "e-6SV7no7Hrj"
      },
      "outputs": [],
      "source": []
    },
    {
      "cell_type": "code",
      "execution_count": null,
      "metadata": {
        "id": "RYgvh_xE7Hrj"
      },
      "outputs": [],
      "source": []
    },
    {
      "cell_type": "markdown",
      "metadata": {
        "id": "rQEdvbff7Hrj"
      },
      "source": [
        "**Atividade**  \n",
        "\n",
        "Observe o conteúdo e tipo de dado de cada uma das variáveis utilizadas abaixo.\n",
        "```py\n",
        "nb = True\n",
        "ns = str(nb)\n",
        "nf = float(nb)\n",
        "ni = int(nb)\n",
        "```\n",
        "O quê ocorreu com os tipos de dados?"
      ]
    },
    {
      "cell_type": "code",
      "execution_count": null,
      "metadata": {
        "id": "cI7oIXBb7Hrj"
      },
      "outputs": [],
      "source": []
    },
    {
      "cell_type": "code",
      "execution_count": null,
      "metadata": {
        "id": "9Q82-oPC7Hrj"
      },
      "outputs": [],
      "source": []
    },
    {
      "cell_type": "code",
      "execution_count": null,
      "metadata": {
        "id": "QV7l2pds7Hrj"
      },
      "outputs": [],
      "source": []
    },
    {
      "cell_type": "markdown",
      "metadata": {
        "id": "GXlI-jA77Hrj"
      },
      "source": [
        "**Atividade**  \n",
        "- Realize um programa que calcula a soma de três valores digitados pelo usuário em uma mesma linha, com os valores separados por espaços.  \n",
        "    - **Entrada**\n",
        "        - 2 3 5\n",
        "    - **Saída**\n",
        "        - 10\n",
        "        \n",
        "    - Dica: Utilize o método `.split()` do tipo de dado `string`."
      ]
    },
    {
      "cell_type": "code",
      "execution_count": null,
      "metadata": {
        "id": "t94kpS5S7Hrj"
      },
      "outputs": [],
      "source": []
    },
    {
      "cell_type": "code",
      "execution_count": null,
      "metadata": {
        "id": "GLzFQJEm7Hrq"
      },
      "outputs": [],
      "source": []
    }
  ],
  "metadata": {
    "kernelspec": {
      "display_name": "Python 3 (ipykernel)",
      "language": "python",
      "name": "python3"
    },
    "language_info": {
      "codemirror_mode": {
        "name": "ipython",
        "version": 3
      },
      "file_extension": ".py",
      "mimetype": "text/x-python",
      "name": "python",
      "nbconvert_exporter": "python",
      "pygments_lexer": "ipython3",
      "version": "3.9.15"
    },
    "colab": {
      "provenance": [],
      "include_colab_link": true
    }
  },
  "nbformat": 4,
  "nbformat_minor": 0
}