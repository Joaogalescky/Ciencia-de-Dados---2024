{
  "cells": [
    {
      "cell_type": "markdown",
      "metadata": {
        "id": "view-in-github",
        "colab_type": "text"
      },
      "source": [
        "<a href=\"https://colab.research.google.com/github/Joaogalescky/Ciencia-de-Dados---2024/blob/main/While.ipynb\" target=\"_parent\"><img src=\"https://colab.research.google.com/assets/colab-badge.svg\" alt=\"Open In Colab\"/></a>"
      ]
    },
    {
      "cell_type": "markdown",
      "metadata": {
        "id": "5Mru_WZlBRgz"
      },
      "source": [
        "# While"
      ]
    },
    {
      "cell_type": "markdown",
      "metadata": {
        "id": "ApiMy3T5BRie"
      },
      "source": [
        "O `while` é uma estrutura de repetição, que consiste em repetir um bloco **enquanto** determinada condição for verdadeira."
      ]
    },
    {
      "cell_type": "markdown",
      "metadata": {
        "id": "ddd4gqktBRig"
      },
      "source": [
        "**Exemplo**\n",
        "\n",
        "*Enquanto* `x < 5`, mostre `x`.\n",
        "```python\n",
        "x=0\n",
        "while x<5:\n",
        "    print(x)\n",
        "    x = x+1\n",
        "```\n",
        "**Atividade**\n",
        "\n",
        "- Execute o exemplo"
      ]
    },
    {
      "cell_type": "code",
      "execution_count": null,
      "metadata": {
        "id": "fcluZJE4BRil",
        "colab": {
          "base_uri": "https://localhost:8080/"
        },
        "outputId": "671e300d-07d0-4b94-d4d1-9e6d23e946f9"
      },
      "outputs": [
        {
          "output_type": "stream",
          "name": "stdout",
          "text": [
            "0\n",
            "1\n",
            "2\n",
            "3\n",
            "4\n"
          ]
        }
      ],
      "source": [
        "x=0\n",
        "while x<5:\n",
        "    print(x)\n",
        "    x = x+1"
      ]
    },
    {
      "cell_type": "markdown",
      "metadata": {
        "id": "6tiZEBtrBRin"
      },
      "source": [
        "**Sintaxe**\n",
        "\n",
        "```python\n",
        "while <condição>:\n",
        "    <código>\n",
        "```\n",
        "onde:\n",
        "- `<condição>` corresponde ao teste que será executado **antes** de entrar em cada iteração.\n",
        "- `<código>` corresponde ao bloco de código que será executado caso a condição seja verdadeira."
      ]
    },
    {
      "cell_type": "markdown",
      "metadata": {
        "id": "7njirArpBRiq"
      },
      "source": [
        "No `while` não é necessário conhecer todos os valores antes de iniciar a execução, visto que para entrar na bloco da repetição basta apenas que a condição testada tenha resultado verdadeiro."
      ]
    },
    {
      "cell_type": "markdown",
      "metadata": {
        "id": "b50LdsLbBRir"
      },
      "source": [
        "**Exemplo**\n",
        "\n",
        "*Enquanto* `x < 5`, mostre `x`.\n",
        "```python\n",
        "x=0\n",
        "while x<5:\n",
        "    print(x)\n",
        "    x = x+1\n",
        "```\n",
        "No `while`, sempre é necessário o controle da condição. Observe:\n",
        "- Antes do `while` iniciar, o valor de `x` é definido para $0$.\n",
        "- Dentro do bloco existe uma *atualização* do valor testado na condição."
      ]
    },
    {
      "cell_type": "markdown",
      "metadata": {
        "id": "rKCC31UyBRis"
      },
      "source": [
        "**Exemplo**\n",
        "\n",
        "Observe a situação em que a variável da condição não é atualizada:\n",
        "```python\n",
        "x=0\n",
        "while x<5:\n",
        "    print(x)\n",
        "```\n",
        "A estrutura se repetirá indefinidamente, visto o valor de `x` não é modificado e a condição sempre será verdadeira. A saída na tela será uma sequência de zeros infinita."
      ]
    },
    {
      "cell_type": "markdown",
      "metadata": {
        "id": "v1x5tq5tBRit"
      },
      "source": [
        "**Exercícios**\n",
        "\n",
        "1. Peça ao usuário que digite vários números inteiros positivos, parando quando um número negativo for digitado. Ao final, mostre a soma de todos os números digitados.\n",
        "1. Peça ao usuário que digite vários números inteiros positivos, parando quando um número negativo for digitado. Ao final, mostre a média de todos os números digitados.\n",
        "1. Desenvolva um programa que pergunta números ao usuário, parando apenas quando a soma de todos os números digitados for maior que $50$."
      ]
    },
    {
      "cell_type": "code",
      "execution_count": null,
      "metadata": {
        "id": "vSBMjeyIBRiu"
      },
      "outputs": [],
      "source": [
        "soma = 0\n",
        "while True:\n",
        "  valor = int(input('Digite um número inteiro positivo (negativo para parar): '))\n",
        "  if valor < 0:\n",
        "    break\n",
        "  soma += valor\n",
        "\n",
        "print(f'A soma dos números digitados é: {soma}')"
      ]
    },
    {
      "cell_type": "code",
      "execution_count": null,
      "metadata": {
        "id": "6xeWsLK9BRiu"
      },
      "outputs": [],
      "source": [
        "soma = 0\n",
        "contador = 0\n",
        "while True:\n",
        "  valor = int(input('Digite um número inteiro positivo (negativo para parar): '))\n",
        "  if valor < 0:\n",
        "    break\n",
        "  soma += valor\n",
        "  contador += 1\n",
        "\n",
        "if contador > 0:\n",
        "  media = soma / contador\n",
        "  print(f'A média dos números digitados é: {media}')\n",
        "else:\n",
        "  print('Nenhum número foi digitado.')"
      ]
    },
    {
      "cell_type": "code",
      "execution_count": null,
      "metadata": {
        "id": "A4fgyzlPBRiw"
      },
      "outputs": [],
      "source": [
        "soma = 0\n",
        "while soma <= 50:\n",
        "  valor = int(input('Digite um número inteiro: '))\n",
        "  soma += valor\n",
        "\n",
        "print(f'A soma dos números digitados é: {soma}')"
      ]
    },
    {
      "cell_type": "markdown",
      "metadata": {
        "id": "-n7pTDzeBRiw"
      },
      "source": [
        "## Break"
      ]
    },
    {
      "cell_type": "markdown",
      "metadata": {
        "id": "0Izc2iweBRix"
      },
      "source": [
        "O `break` possibilita a saída de um `while` sem que a condição seja atendida."
      ]
    },
    {
      "cell_type": "markdown",
      "metadata": {
        "id": "2dG_pIRIBRix"
      },
      "source": [
        "**Exemplo**\n",
        "\n",
        "```python\n",
        "x=0\n",
        "while x<10:\n",
        "    print(x)\n",
        "    if x==5:\n",
        "        break\n",
        "    x=x+1\n",
        "```\n",
        "\n",
        "**Atividade**\n",
        "\n",
        "- Execute o exemplo acima"
      ]
    },
    {
      "cell_type": "code",
      "execution_count": null,
      "metadata": {
        "id": "vmHU6lA4BRiy",
        "colab": {
          "base_uri": "https://localhost:8080/"
        },
        "outputId": "ef6f08c2-fb1a-49d0-8e9e-eeef93afdda3"
      },
      "outputs": [
        {
          "output_type": "stream",
          "name": "stdout",
          "text": [
            "0\n",
            "1\n",
            "2\n",
            "3\n",
            "4\n",
            "5\n"
          ]
        }
      ],
      "source": [
        "x = 0\n",
        "while x < 10:\n",
        "    print(x)\n",
        "    if x == 5:\n",
        "        break\n",
        "    x = x + 1"
      ]
    },
    {
      "cell_type": "markdown",
      "metadata": {
        "id": "PXxcs7xaBRj3"
      },
      "source": [
        "**Exemplo**\n",
        "\n",
        "- Peça ao usuário que digite números pares, e saia do programa caso ele digite um número ímpar.\n",
        "```python\n",
        "par = True\n",
        "while par:\n",
        "    num = int(input('Digite um número par'))\n",
        "    if num%2 == 1:\n",
        "        print('Número ímpar digitado')\n",
        "        par = False\n",
        "```  \n",
        "\n",
        "**Atividade**\n",
        "\n",
        "- Execute o exemplo"
      ]
    },
    {
      "cell_type": "code",
      "execution_count": null,
      "metadata": {
        "id": "FRM_ljaLBRj7",
        "colab": {
          "base_uri": "https://localhost:8080/"
        },
        "outputId": "b0776a32-f15f-4432-8e41-8f76882d2c8a"
      },
      "outputs": [
        {
          "output_type": "stream",
          "name": "stdout",
          "text": [
            "Digite um número par2\n",
            "Digite um número par4\n",
            "Digite um número par7\n",
            "Número ímpar digitado\n"
          ]
        }
      ],
      "source": [
        "par = True\n",
        "while par:\n",
        "  num = int(input('Digite um número par'))\n",
        "  if num % 2 == 1:\n",
        "      print('Número ímpar digitado')\n",
        "      par = False"
      ]
    },
    {
      "cell_type": "markdown",
      "metadata": {
        "id": "SaetGtiZBRj8"
      },
      "source": [
        "**Exemplo**\n",
        "\n",
        "- Peça ao usuário que digite números pares, e saia do programa caso ele digite um número ímpar, utilizando `break`:\n",
        "```python\n",
        "while True:\n",
        "    num = int(input('Digite um número par'))\n",
        "    if num%2 == 1:\n",
        "        print('Número ímpar digitado')\n",
        "        break\n",
        "```\n",
        "\n",
        "**Atividade**\n",
        "\n",
        "- Execute o exemplo"
      ]
    },
    {
      "cell_type": "code",
      "execution_count": null,
      "metadata": {
        "id": "3cMwHVDnBRj8",
        "colab": {
          "base_uri": "https://localhost:8080/"
        },
        "outputId": "2535c70c-6a7f-41de-cb0e-a96c907d1061"
      },
      "outputs": [
        {
          "output_type": "stream",
          "name": "stdout",
          "text": [
            "Digite um número par2\n",
            "Digite um número par5\n",
            "Número ímpar digitado\n"
          ]
        }
      ],
      "source": [
        "while True:\n",
        "  num = int(input('Digite um número par'))\n",
        "  if num % 2 == 1:\n",
        "      print('Número ímpar digitado')\n",
        "      break"
      ]
    },
    {
      "cell_type": "markdown",
      "metadata": {
        "id": "475ECMFmBRj9"
      },
      "source": [
        "**Exercício**\n",
        "- [Beecrowd 2334 - Patinhos](https://www.beecrowd.com.br/judge/pt/problems/view/2334)\n",
        "- [Beecrowd 1159 - Soma de Pares Consecutivos](https://www.beecrowd.com.br/judge/pt/problems/view/1159)\n",
        "- [Beecrowd 1101 - Sequência de Números e Soma](https://www.beecrowd.com.br/judge/pt/problems/view/1101)\n"
      ]
    },
    {
      "cell_type": "markdown",
      "metadata": {
        "id": "TupDMTkyBRj9"
      },
      "source": [
        "## Continue"
      ]
    },
    {
      "cell_type": "markdown",
      "metadata": {
        "id": "csfCTva6BRj9"
      },
      "source": [
        "O `continue` possibilita que o `while` avance para a próxima iteração."
      ]
    },
    {
      "cell_type": "markdown",
      "metadata": {
        "id": "_TRpWrQSBRj-"
      },
      "source": [
        "**Exemplo**\n",
        "- Mostre a sequência de números de 1 a 50, menos aqueles que são divisíveis por 2, 3, 5, 7, 11 ou 12.\n",
        "- Testando todas as condições utilizando `if`s aninhados:\n",
        "```python\n",
        "x=1\n",
        "while x<=50:\n",
        "    if x%2 !=0:\n",
        "        if x%3 != 0:\n",
        "            if x%5 != 0:\n",
        "                if x%7 != 0:\n",
        "                    if x%11 != 0:\n",
        "                        if x%12 != 0:\n",
        "                            print(x) #Só executa se todas as condições forem verdadeiras\n",
        "    x=x+1\n",
        "```"
      ]
    },
    {
      "cell_type": "code",
      "execution_count": 1,
      "metadata": {
        "id": "ZZGJNTnABRj-",
        "colab": {
          "base_uri": "https://localhost:8080/"
        },
        "outputId": "c0dab57b-6f3f-4d1c-d815-cd6d7a623833"
      },
      "outputs": [
        {
          "output_type": "stream",
          "name": "stdout",
          "text": [
            "1\n",
            "13\n",
            "17\n",
            "19\n",
            "23\n",
            "29\n",
            "31\n",
            "37\n",
            "41\n",
            "43\n",
            "47\n"
          ]
        }
      ],
      "source": [
        "x = 1\n",
        "while x <= 50:\n",
        "  if x % 2 != 0:\n",
        "    if x % 3 != 0:\n",
        "      if x % 5 != 0:\n",
        "        if x % 7 != 0:\n",
        "          if x % 11 != 0:\n",
        "            if x % 12 != 0:\n",
        "              print(x) #Só executa se todas as condições forem verdadeiras\n",
        "  x = x + 1"
      ]
    },
    {
      "cell_type": "markdown",
      "metadata": {
        "id": "9nRDjJ-ZBRj-"
      },
      "source": [
        "- Testando todas as condições em um único `if`:\n",
        "```python\n",
        "x=0\n",
        "while x<50:\n",
        "    x=x+1\n",
        "    if x%2 !=0 and x%3 != 0 and x!=5 != 0 and x%7 != 0 and x%11 != 0 and x%12 != 0 :\n",
        "        print(x)\n",
        "```"
      ]
    },
    {
      "cell_type": "code",
      "execution_count": 2,
      "metadata": {
        "id": "ny5H98XSBRj-",
        "colab": {
          "base_uri": "https://localhost:8080/"
        },
        "outputId": "8ecd0e18-2da6-49cc-ed41-636ce5224f08"
      },
      "outputs": [
        {
          "output_type": "stream",
          "name": "stdout",
          "text": [
            "1\n",
            "13\n",
            "17\n",
            "19\n",
            "23\n",
            "25\n",
            "29\n",
            "31\n",
            "37\n",
            "41\n",
            "43\n",
            "47\n"
          ]
        }
      ],
      "source": [
        "x = 0\n",
        "while x < 50:\n",
        "  x = x + 1\n",
        "  if x % 2 != 0 and x % 3 != 0 and x != 5 != 0 and x % 7 != 0 and x % 11 != 0 and x %12 != 0:\n",
        "    print(x)"
      ]
    },
    {
      "cell_type": "markdown",
      "metadata": {
        "id": "3I6mMyGlBRj_"
      },
      "source": [
        "- Utilizando `continue`:\n",
        "```python\n",
        "x=0\n",
        "while x<50:\n",
        "    x=x+1\n",
        "    if x%2 ==0:\n",
        "        continue\n",
        "    if x%3 == 0:\n",
        "        continue\n",
        "    if x%5 == 0:\n",
        "        continue\n",
        "    if x%7 == 0:\n",
        "        continue\n",
        "    if x%11 == 0:\n",
        "        continue\n",
        "    if x%12 == 0:\n",
        "        continue\n",
        "    print(x) #Só executará se todas as condições anteriores não forem atendidas\n",
        "```\n",
        "Observe que se uma das condições forem verdadeiras, as próximas não serão testadas."
      ]
    },
    {
      "cell_type": "code",
      "execution_count": 6,
      "metadata": {
        "id": "igWt47suBRj_",
        "colab": {
          "base_uri": "https://localhost:8080/"
        },
        "outputId": "009d137b-53b9-431b-dd5a-56530cef4a3e"
      },
      "outputs": [
        {
          "output_type": "stream",
          "name": "stdout",
          "text": [
            "1\n",
            "13\n",
            "17\n",
            "19\n",
            "23\n",
            "29\n",
            "31\n",
            "37\n",
            "41\n",
            "43\n",
            "47\n"
          ]
        }
      ],
      "source": [
        "x = 0\n",
        "while x < 50:\n",
        "  x = x + 1\n",
        "  if x % 2 == 0:\n",
        "    continue\n",
        "  if x % 3 == 0:\n",
        "    continue\n",
        "  if x % 5 == 0:\n",
        "    continue\n",
        "  if x % 7 == 0:\n",
        "    continue\n",
        "  if x % 11 == 0:\n",
        "    continue\n",
        "  if x % 12 == 0:\n",
        "    continue\n",
        "  print(x) #Só executará se todas as condições anteriores não forem atendidas"
      ]
    },
    {
      "cell_type": "markdown",
      "metadata": {
        "id": "y4DtTD9oBRj_"
      },
      "source": [
        "## Erros comuns"
      ]
    },
    {
      "cell_type": "markdown",
      "metadata": {
        "id": "PT0Efs4_BRkA"
      },
      "source": [
        "### *loop* infinito\n",
        "A condição de parada nunca é atendida.\n",
        "\n",
        "**Exemplo**\n",
        "\n",
        "```python\n",
        "x=0\n",
        "while x<10:\n",
        "    print(x)\n",
        "```\n",
        "\n",
        "**Exemplo**\n",
        "\n",
        "```python\n",
        "x=0\n",
        "while x<10:\n",
        "    print(x)\n",
        "x=x+1\n",
        "```"
      ]
    },
    {
      "cell_type": "markdown",
      "metadata": {
        "id": "cwPtjvDbBRkA"
      },
      "source": [
        "### Sintaxe incorreta\n",
        "Erros na codificação.\n",
        "\n",
        "**Exemplo**\n",
        "\n",
        "```python\n",
        "x=0\n",
        "while x<10\n",
        "    print(x)\n",
        "    x=x+1\n",
        "```\n",
        "\n",
        "**Exemplo**\n",
        "\n",
        "```python\n",
        "x=0\n",
        "while x<10:\n",
        "print(x)\n",
        "x=x+1\n",
        "```"
      ]
    },
    {
      "cell_type": "markdown",
      "metadata": {
        "id": "SG8cNSBQBRkB"
      },
      "source": [
        "**Exercícios**\n",
        "\n",
        "1. Calcule o valor do fatorial de determinado número.\n",
        "1. Calcule se um número é primo\n",
        "1. Desenvolva um menu fictício, com pelo menos 3 opções de funcionalidades que o usuário pode escolher utilizando valores. Além destas, uma das opções é o valor $0$ para sair do menu."
      ]
    },
    {
      "cell_type": "code",
      "execution_count": 9,
      "metadata": {
        "id": "mBg5HNjrBRkB",
        "colab": {
          "base_uri": "https://localhost:8080/"
        },
        "outputId": "b6e9aade-b600-4d4e-a377-d1b2550e6421"
      },
      "outputs": [
        {
          "output_type": "stream",
          "name": "stdout",
          "text": [
            "Digite um número inteiro positivo: 5\n",
            "O fatorial de 5 é 120\n"
          ]
        }
      ],
      "source": [
        "def fatorial(n):\n",
        "  fat = 1\n",
        "  for i in range(1, n + 1):\n",
        "    fat = fat * i\n",
        "  return fat\n",
        "\n",
        "num = int(input('Digite um número inteiro positivo: '))\n",
        "\n",
        "fat = fatorial(num)\n",
        "\n",
        "print(f'O fatorial de {num} é {fat}')"
      ]
    },
    {
      "cell_type": "code",
      "execution_count": 11,
      "metadata": {
        "id": "4Ex6iPcPBRkC",
        "colab": {
          "base_uri": "https://localhost:8080/"
        },
        "outputId": "693bcb27-516c-4d0e-c9d5-4dde7e59a832"
      },
      "outputs": [
        {
          "output_type": "stream",
          "name": "stdout",
          "text": [
            "Digite um número inteiro positivo: 5\n",
            "5 é um número primo.\n"
          ]
        }
      ],
      "source": [
        "def primo(n):\n",
        "  if n <= 1:\n",
        "    return False\n",
        "  for i in range(2, int(n ** 0.5) + 1):\n",
        "    if n % i == 0:\n",
        "      return False\n",
        "  return True\n",
        "\n",
        "num = int(input('Digite um número inteiro positivo: '))\n",
        "\n",
        "eh_primo = primo(num)\n",
        "\n",
        "if eh_primo:\n",
        "  print(f'{num} é um número primo.')\n",
        "else:\n",
        "  print(f'{num} não é um número primo.')"
      ]
    },
    {
      "cell_type": "code",
      "source": [
        "while True:\n",
        "  print('Menu:')\n",
        "  print('1 - Opção 1')\n",
        "  print('2 - Opção 2')\n",
        "  print('3 - Opção 3')\n",
        "  print('0 - Sair')\n",
        "\n",
        "  escolha = int(input('Digite o número da opção desejada: '))\n",
        "\n",
        "  if escolha == 1:\n",
        "    print('Opção 1 escolihada - :D')\n",
        "  elif escolha == 2:\n",
        "    print('Opção 2 escolihada - :X')\n",
        "  elif escolha == 3:\n",
        "    print('Opção 3 escolihada - :8')\n",
        "  elif escolha == 0:\n",
        "    print('Opção 0 escolihada - :3')\n",
        "    break\n",
        "  else:\n",
        "    print('Opção inválida. Digite novamente.')"
      ],
      "metadata": {
        "colab": {
          "base_uri": "https://localhost:8080/"
        },
        "id": "GjVBwpZhBUVC",
        "outputId": "44075325-6d7d-4b90-de99-baa97a1b4f85"
      },
      "execution_count": 8,
      "outputs": [
        {
          "output_type": "stream",
          "name": "stdout",
          "text": [
            "Menu:\n",
            "1 - Opção 1\n",
            "2 - Opção 2\n",
            "3 - Opção 3\n",
            "0 - Sair\n",
            "Digite o número da opção desejada: 1\n",
            "Opção 1 escolihada - :D\n",
            "Menu:\n",
            "1 - Opção 1\n",
            "2 - Opção 2\n",
            "3 - Opção 3\n",
            "0 - Sair\n",
            "Digite o número da opção desejada: 2\n",
            "Opção 2 escolihada - :X\n",
            "Menu:\n",
            "1 - Opção 1\n",
            "2 - Opção 2\n",
            "3 - Opção 3\n",
            "0 - Sair\n",
            "Digite o número da opção desejada: 3\n",
            "Opção 3 escolihada - :8\n",
            "Menu:\n",
            "1 - Opção 1\n",
            "2 - Opção 2\n",
            "3 - Opção 3\n",
            "0 - Sair\n",
            "Digite o número da opção desejada: 4\n",
            "Opção inválida. Digite novamente.\n",
            "Menu:\n",
            "1 - Opção 1\n",
            "2 - Opção 2\n",
            "3 - Opção 3\n",
            "0 - Sair\n",
            "Digite o número da opção desejada: 0\n",
            "Opção 0 escolihada - :3\n"
          ]
        }
      ]
    },
    {
      "cell_type": "markdown",
      "metadata": {
        "id": "Q9190jmABRkC"
      },
      "source": [
        "## Referências\n",
        "\n",
        "[FORBELLONE, A. L. V.; EBERSPÄCHER, H. F. Lógica de programação a construção de algoritmos e estruturas de dados. 3. ed. -. São Paulo: Prentice Hall, 2005. ISBN 9788576050247.](https://plataforma.bvirtual.com.br/Leitor/Publicacao/323/pdf/11?code=DUT9ceW6cevP76Zo+EZuhLshlFiipf6bm1qH+Er9IE2FR2aabpwRBUFHWBQY+ppEDI1u1phvX3Bo9xII7UTG/g==)  \n",
        "\n",
        "[ASCENCIO, A. F. G.; CAMPOS, E. A. V. Fundamentos da programação de computadores algoritmos, Pascal e C/C++. São Paulo: Prentice Hall, 2002. ISBN 9788587918369.](https://plataforma.bvirtual.com.br/Leitor/Publicacao/474/pdf/17?code=5aKNgQDVA1oGkIID/Mxq/5biXE3mV+4408hOmSg69vmeXo0W9VHrtyzrwyezUND1EQo7jhOxxg2X7UCNFBYZHg==)  \n",
        "\n",
        "MATTHES, E. Curso intensivo de Python: uma introdução à prática e baseada em projetos à programação. São Paulo: Novatec, 2015.  \n",
        "\n",
        "MENEZES, N. N. C. Introdução à programação com Python: algoritmos e lógica de programação para iniciantes. 3.ed. São Paulo: Novatec, 2019.  \n",
        "\n",
        "\n",
        "\n",
        "### Outros materiais\n",
        "\n",
        "[Python. WhileLoop - Python Wiki.](https://wiki.python.org/moin/WhileLoop)  \n"
      ]
    },
    {
      "cell_type": "markdown",
      "metadata": {
        "id": "G76T6etJBRkF"
      },
      "source": []
    }
  ],
  "metadata": {
    "kernelspec": {
      "display_name": "Python 3 (ipykernel)",
      "language": "python",
      "name": "python3"
    },
    "language_info": {
      "codemirror_mode": {
        "name": "ipython",
        "version": 3
      },
      "file_extension": ".py",
      "mimetype": "text/x-python",
      "name": "python",
      "nbconvert_exporter": "python",
      "pygments_lexer": "ipython3",
      "version": "3.9.15"
    },
    "colab": {
      "provenance": [],
      "include_colab_link": true
    }
  },
  "nbformat": 4,
  "nbformat_minor": 0
}