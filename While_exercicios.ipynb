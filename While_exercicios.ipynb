{
  "cells": [
    {
      "cell_type": "markdown",
      "metadata": {
        "id": "view-in-github",
        "colab_type": "text"
      },
      "source": [
        "<a href=\"https://colab.research.google.com/github/Joaogalescky/Ciencia-de-Dados---2024/blob/main/While_exercicios.ipynb\" target=\"_parent\"><img src=\"https://colab.research.google.com/assets/colab-badge.svg\" alt=\"Open In Colab\"/></a>"
      ]
    },
    {
      "cell_type": "markdown",
      "metadata": {
        "id": "GUKa7si5BQxi"
      },
      "source": [
        "# Exercícios"
      ]
    },
    {
      "cell_type": "markdown",
      "metadata": {
        "id": "v-spZh43BQxs"
      },
      "source": [
        "**Exercício**\n",
        "\n",
        "Pergunte um número $x$ ao usuário, e então mostre todos os números de $1$ a $100$ que são divisíveis por $x$."
      ]
    },
    {
      "cell_type": "code",
      "execution_count": null,
      "metadata": {
        "id": "mx-N7fNCBQxu"
      },
      "outputs": [],
      "source": [
        "n = int(input('Digite um número: '))\n",
        "i = 1\n",
        "while i <= 100:\n",
        "  if i / n == 0:\n",
        "    print(i)\n",
        "    i = i + 1"
      ]
    },
    {
      "cell_type": "markdown",
      "metadata": {
        "id": "eBFwtHTXBQxv"
      },
      "source": [
        "**Exercício**\n",
        "\n",
        "Qual é a saída do trecho de código abaixo?  \n",
        "Primeiro responda apenas observando o código, e só então execute.\n",
        "\n",
        "```py\n",
        "x=3\n",
        "i=0\n",
        "while i < x:\n",
        "    print('-')\n",
        "    i=i+1\n",
        "```\n",
        "\n"
      ]
    },
    {
      "cell_type": "code",
      "execution_count": null,
      "metadata": {
        "id": "q61AZnA1BQxw",
        "colab": {
          "base_uri": "https://localhost:8080/"
        },
        "outputId": "b288bcf2-416c-4caf-847a-fa857ca48ddd"
      },
      "outputs": [
        {
          "output_type": "stream",
          "name": "stdout",
          "text": [
            "-\n",
            "-\n",
            "-\n"
          ]
        }
      ],
      "source": [
        "x = 3\n",
        "i = 0\n",
        "while i < x:\n",
        "    print('-')\n",
        "    i = i + 1"
      ]
    },
    {
      "cell_type": "markdown",
      "metadata": {
        "id": "pEvowGyABQxx"
      },
      "source": [
        "**Exercício**\n",
        "\n",
        "Qual é a saída do trecho de código abaixo? Primeiro responda apenas observando o código, e só então execute.\n",
        "\n",
        "```py\n",
        "x=3\n",
        "i=5\n",
        "while i < x:\n",
        "    print('-')\n",
        "    i=i+1\n",
        "```\n",
        "\n"
      ]
    },
    {
      "cell_type": "code",
      "execution_count": 8,
      "metadata": {
        "id": "2d7KUFn8BQxx"
      },
      "outputs": [],
      "source": [
        "x = 3\n",
        "i = 5\n",
        "while i < x:\n",
        "    print('-')\n",
        "    i = i + 1"
      ]
    },
    {
      "cell_type": "markdown",
      "metadata": {
        "id": "Ow9XJG4jBQxz"
      },
      "source": [
        "**Exercício**\n",
        "\n",
        "\n",
        "Pergunte um número $n$ ao usuário, e mostre de maneira ordenada todos os valores $r=x^x$, de forma que $0<r<n$.\n",
        "\n",
        "**Exemplo**\n",
        "\n",
        "Para `n=50`:\n",
        "```\n",
        "1\n",
        "4\n",
        "27\n",
        "```\n",
        "Observe que:\n",
        "\n",
        "$1^1=1$\n",
        "\n",
        "$2^2=4$\n",
        "\n",
        "$3^3=27$\n",
        "\n",
        "$4^4=256$"
      ]
    },
    {
      "cell_type": "code",
      "execution_count": 9,
      "metadata": {
        "id": "NPYTxHH2BQx1",
        "colab": {
          "base_uri": "https://localhost:8080/"
        },
        "outputId": "1f6e9f9e-2c12-45d5-d348-f14b402be782"
      },
      "outputs": [
        {
          "output_type": "stream",
          "name": "stdout",
          "text": [
            "Digite um número: 5\n",
            "1\n",
            "4\n"
          ]
        }
      ],
      "source": [
        "n = int(input('Digite um número: '))\n",
        "i = 1\n",
        "while i * i < n:\n",
        "  print(i * i)\n",
        "  i = i + 1"
      ]
    },
    {
      "cell_type": "markdown",
      "metadata": {
        "id": "Pafta_soBQx1"
      },
      "source": [
        "**Exercício**\n",
        "\n",
        "Peça ao usuário que digite números, parando quando o número $0$ for digitado. Ao final, mostre o maior e o menor número digitados."
      ]
    },
    {
      "cell_type": "code",
      "execution_count": 7,
      "metadata": {
        "id": "4Ofb-eZqBQx4",
        "colab": {
          "base_uri": "https://localhost:8080/"
        },
        "outputId": "7143874d-b60f-4b73-c2f7-ac03cafb6545"
      },
      "outputs": [
        {
          "output_type": "stream",
          "name": "stdout",
          "text": [
            "Digite um número, pare quando for \"0\":5\n",
            "Digite um número, pare quando for \"0\":8\n",
            "Digite um número, pare quando for \"0\":10\n",
            "Digite um número, pare quando for \"0\":24\n",
            "Digite um número, pare quando for \"0\":85\n",
            "Digite um número, pare quando for \"0\":0\n",
            "O maior número digitado foi 85 e o menor foi 5\n"
          ]
        }
      ],
      "source": [
        "n = int(input('Digite um número, pare quando for \"0\":' ))\n",
        "menor = n\n",
        "maior = n\n",
        "\n",
        "while n != 0:\n",
        "  if n < menor and n != 0:\n",
        "    menor = n\n",
        "  elif n > maior:\n",
        "    maior = n\n",
        "  n = int(input('Digite um número, pare quando for \"0\":' ))\n",
        "print(f'O maior número digitado foi {maior} e o menor foi {menor}')"
      ]
    },
    {
      "cell_type": "markdown",
      "metadata": {
        "id": "HukEe0PtBQx4"
      },
      "source": [
        "**Exercício**\n",
        "\n",
        "Peça ao usuário que digite $n$ valores, que correspondem às idade de pessoas. Com isso, motre a quantidade de pessoas de acordo com sua faixa etária. A leitura de idades deve ser parada quando for digitada uma idade negativa. As faixas etárias são:\n",
        "\n",
        "|Faixa etária| idade|\n",
        "|---|---|\n",
        "|Bebê|[0,2[|\n",
        "|Criança|[2,11[|\n",
        "|Adolescente|[11,18[|\n",
        "|Jovem|[18-21[|\n",
        "|Adulto|[21-60[|\n",
        "|Melhor idade|>=60|"
      ]
    },
    {
      "cell_type": "code",
      "execution_count": 10,
      "metadata": {
        "id": "O3NbNsJABQx5",
        "colab": {
          "base_uri": "https://localhost:8080/"
        },
        "outputId": "17f86d60-5ffb-422e-be37-ea32e96fa155"
      },
      "outputs": [
        {
          "output_type": "stream",
          "name": "stdout",
          "text": [
            "Digite uma idade, pare quando for negativa: 21\n",
            "Digite uma idade, pare quando for negativa: 35\n",
            "Digite uma idade, pare quando for negativa: 45\n",
            "Digite uma idade, pare quando for negativa: 20\n",
            "Digite uma idade, pare quando for negativa: 15\n",
            "Digite uma idade, pare quando for negativa: 18\n",
            "Digite uma idade, pare quando for negativa: 65\n",
            "Digite uma idade, pare quando for negativa: 78\n",
            "Digite uma idade, pare quando for negativa: -1\n",
            "Bebês: 0\n",
            "Crianças: 0\n",
            "Adolescentes: 1\n",
            "Jovens: 2\n",
            "Adultos: 3\n",
            "Melhor idade: 2\n"
          ]
        }
      ],
      "source": [
        "idades = []\n",
        "idade = int(input('Digite uma idade, pare quando for negativa: '))\n",
        "\n",
        "while idade >= 0:\n",
        "  idades.append(idade)\n",
        "  idade = int(input('Digite uma idade, pare quando for negativa: '))\n",
        "\n",
        "bebes = []\n",
        "criancas = []\n",
        "adolescentes = []\n",
        "jovens = []\n",
        "adultos = []\n",
        "melhor_idade = []\n",
        "\n",
        "for idade in idades:\n",
        "  if idade < 2:\n",
        "    bebes.append(idade)\n",
        "  elif idade < 11:\n",
        "    criancas.append(idade)\n",
        "  elif idade < 18:\n",
        "    adolescentes.append(idade)\n",
        "  elif idade < 21:\n",
        "    jovens.append(idade)\n",
        "  elif idade < 60:\n",
        "    adultos.append(idade)\n",
        "  else:\n",
        "    melhor_idade.append(idade)\n",
        "\n",
        "print(f'Bebês: {len(bebes)}')\n",
        "print(f'Crianças: {len(criancas)}')\n",
        "print(f'Adolescentes: {len(adolescentes)}')\n",
        "print(f'Jovens: {len(jovens)}')\n",
        "print(f'Adultos: {len(adultos)}')\n",
        "print(f'Melhor idade: {len(melhor_idade)}')"
      ]
    },
    {
      "cell_type": "markdown",
      "metadata": {
        "id": "soOEyb49BQx5"
      },
      "source": [
        "**Exercício**\n",
        "\n",
        "Dado um número $n$, inteiro e positivo, dizemos que $n$ é perfeito se $n$ for igual à soma de seus divisores positivos e diferentes de $n$. Desenvolva um algoritmo que mostra os primeiros 4 números perfeitos.\n",
        "\n",
        "**Exemplo:**\n",
        "\n",
        "$6$ é perfeito, pois $6=3+2+1$."
      ]
    },
    {
      "cell_type": "code",
      "execution_count": 12,
      "metadata": {
        "id": "nC38aX7zBQx5",
        "colab": {
          "base_uri": "https://localhost:8080/"
        },
        "outputId": "8434c263-6add-49cb-a7a6-ec98e40a2b6c"
      },
      "outputs": [
        {
          "output_type": "stream",
          "name": "stdout",
          "text": [
            "6\n",
            "28\n",
            "496\n",
            "8128\n"
          ]
        }
      ],
      "source": [
        "n = 1\n",
        "count = 0\n",
        "while count < 4:\n",
        "    soma = 0\n",
        "    i = 1\n",
        "    while i < n:\n",
        "        if n % i == 0:\n",
        "            soma += i\n",
        "        i += 1\n",
        "    if soma == n:\n",
        "        print(n)\n",
        "        count += 1\n",
        "    n += 1"
      ]
    },
    {
      "cell_type": "markdown",
      "metadata": {
        "id": "qdO3ytvVBQx6"
      },
      "source": [
        "**Exercício**\n",
        "\n",
        "Um determinado material radiativo perde metade da sua massa a cada $50$ segundos. Dada a massa inicial, em gramas, fazer um programa que calcule o tempo necessário para que essa massa se torne menor que $0,5$ gramas. O programa deve apresentar como resultado a massa inicial, a massa final e o tempo (mostrado em horas, minutos e segundos, no formato `hh:mm:ss`).\n",
        "\n",
        "Fonte: Exercício adaptado de (SANTIAGO, K)."
      ]
    },
    {
      "cell_type": "code",
      "execution_count": 18,
      "metadata": {
        "id": "AgK9xNKaBQx8",
        "colab": {
          "base_uri": "https://localhost:8080/"
        },
        "outputId": "2e0681e9-d88d-4819-e90a-0dacd096f4d2"
      },
      "outputs": [
        {
          "output_type": "stream",
          "name": "stdout",
          "text": [
            "Digite a massa inicial em gramas: 20500\n",
            "Massa inicial: 0.31 gramas\n",
            "Massa final: 0.50 gramas\n",
            "Tempo: 00:13:20\n"
          ]
        }
      ],
      "source": [
        "massaInicial = float(input('Digite a massa inicial em gramas: '))\n",
        "massaFinal = 0.5\n",
        "tempo = 0\n",
        "\n",
        "while massaInicial > massaFinal:\n",
        "  massaInicial /= 2\n",
        "  tempo += 50\n",
        "\n",
        "horas = tempo // 3600\n",
        "minutos = (tempo % 3600) // 60\n",
        "segundos = tempo % 60\n",
        "tempoFormatado = f'{horas:02d}:{minutos:02d}:{segundos:02d}'\n",
        "\n",
        "print(f'Massa inicial: {massaInicial:.2f} gramas')\n",
        "print(f'Massa final: {massaFinal:.2f} gramas')\n",
        "print(f'Tempo: {tempoFormatado}')"
      ]
    },
    {
      "cell_type": "markdown",
      "metadata": {
        "id": "YExij4R0BQx9"
      },
      "source": [
        "**Exercício**\n",
        "\n",
        "Faça um programa que calcula se um número é ou não primo."
      ]
    },
    {
      "cell_type": "code",
      "execution_count": 19,
      "metadata": {
        "id": "eXG9Hmu7BQx9",
        "colab": {
          "base_uri": "https://localhost:8080/"
        },
        "outputId": "83e37107-a3b1-483a-be3e-55e1905bca17"
      },
      "outputs": [
        {
          "output_type": "stream",
          "name": "stdout",
          "text": [
            "Digite um número inteiro: 45\n",
            "45 não é um número primo.\n"
          ]
        }
      ],
      "source": [
        "n = int(input(\"Digite um número inteiro: \"))\n",
        "i = 2\n",
        "primo = True\n",
        "\n",
        "while i < n and primo:\n",
        "    if n % i == 0:\n",
        "        primo = False\n",
        "    i += 1\n",
        "\n",
        "if primo:\n",
        "    print(f\"{n} é um número primo.\")\n",
        "else:\n",
        "    print(f\"{n} não é um número primo.\")"
      ]
    },
    {
      "cell_type": "markdown",
      "metadata": {
        "id": "sM02HhhCBQx9"
      },
      "source": [
        "**Exercício**\n",
        "\n",
        "Pergunte um número $n$ ao usuário, e mostre os primeiros $n$ números primos, iniciando pelo número $2$."
      ]
    },
    {
      "cell_type": "code",
      "source": [
        "n = int(input('Digite um número: '))\n",
        "i = 2\n",
        "contador = 0\n",
        "while contador < n:\n",
        "    ehPrimo = True\n",
        "    for j in range(2, i):\n",
        "        if i % j == 0:\n",
        "            ehPrimo = False\n",
        "            break\n",
        "    if ehPrimo:\n",
        "        print(i)\n",
        "        contador += 1\n",
        "    i += 1"
      ],
      "metadata": {
        "colab": {
          "base_uri": "https://localhost:8080/"
        },
        "id": "ZyfiymvVGaQ6",
        "outputId": "82695a5b-2ff3-42a7-ffa3-4064c66d32b7"
      },
      "execution_count": 16,
      "outputs": [
        {
          "output_type": "stream",
          "name": "stdout",
          "text": [
            "Digite um número: 5\n",
            "2\n",
            "3\n",
            "5\n",
            "7\n",
            "11\n"
          ]
        }
      ]
    },
    {
      "cell_type": "markdown",
      "metadata": {
        "id": "r1cF0oFiBQx-"
      },
      "source": [
        "**Exercício**\n",
        "\n",
        "Pergunte um número $k$ ao usuário, e mostre os 20 próximos números primos seguintes à $k$."
      ]
    },
    {
      "cell_type": "code",
      "execution_count": 13,
      "metadata": {
        "id": "Qm3mH4wPBQx-",
        "colab": {
          "base_uri": "https://localhost:8080/"
        },
        "outputId": "11566fb0-6977-4de7-e53b-326fce2af180"
      },
      "outputs": [
        {
          "output_type": "stream",
          "name": "stdout",
          "text": [
            "Digite um número: 5\n",
            "7\n",
            "11\n",
            "13\n",
            "17\n",
            "19\n",
            "23\n",
            "29\n",
            "31\n",
            "37\n",
            "41\n",
            "43\n",
            "47\n",
            "53\n",
            "59\n",
            "61\n",
            "67\n",
            "71\n",
            "73\n",
            "79\n",
            "83\n"
          ]
        }
      ],
      "source": [
        "k = int(input('Digite um número: '))\n",
        "contador = 0\n",
        "while contador < 20:\n",
        "  k += 1\n",
        "  ehPrimo = True\n",
        "  for i in range(2, int(k ** 0.5) + 1):\n",
        "    if k % i == 0:\n",
        "      ehPrimo = False\n",
        "      break\n",
        "  if ehPrimo:\n",
        "    print(k)\n",
        "    contador += 1"
      ]
    },
    {
      "cell_type": "markdown",
      "metadata": {
        "id": "Ppt5C1JtBQx_"
      },
      "source": [
        "# Referências\n",
        "\n",
        "[SANTIAGO, K. Exercícios Resolvidos em Linguagem C](https://www.kelvinsantiago.com.br/exercicios-resolvidos-em-linguagem-c-lista-c/)"
      ]
    },
    {
      "cell_type": "markdown",
      "metadata": {
        "id": "ssG_SHl_BQx_"
      },
      "source": []
    }
  ],
  "metadata": {
    "kernelspec": {
      "display_name": "Python 3 (ipykernel)",
      "language": "python",
      "name": "python3"
    },
    "language_info": {
      "codemirror_mode": {
        "name": "ipython",
        "version": 3
      },
      "file_extension": ".py",
      "mimetype": "text/x-python",
      "name": "python",
      "nbconvert_exporter": "python",
      "pygments_lexer": "ipython3",
      "version": "3.9.15"
    },
    "colab": {
      "provenance": [],
      "include_colab_link": true
    }
  },
  "nbformat": 4,
  "nbformat_minor": 0
}